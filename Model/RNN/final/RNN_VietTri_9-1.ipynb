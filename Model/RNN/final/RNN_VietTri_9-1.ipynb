{
 "cells": [
  {
   "cell_type": "markdown",
   "metadata": {
    "id": "ND7p1gUtWOHS"
   },
   "source": [
    "https://machinelearningmastery.com/understanding-simple-recurrent-neural-networks-in-keras/"
   ]
  },
  {
   "cell_type": "code",
   "execution_count": 1,
   "metadata": {
    "executionInfo": {
     "elapsed": 4315,
     "status": "ok",
     "timestamp": 1717294616217,
     "user": {
      "displayName": "PHÚC TRẦN HOÀNG",
      "userId": "13892609718634505180"
     },
     "user_tz": -420
    },
    "id": "FMDKda-XIUAK"
   },
   "outputs": [],
   "source": [
    "# 1. Import thư viện cần thiết\n",
    "import numpy as np\n",
    "import pandas as pd\n",
    "import matplotlib.pyplot as plt\n",
    "from sklearn.preprocessing import MinMaxScaler\n",
    "from keras.models import Sequential\n",
    "from keras.layers import Dense, SimpleRNN"
   ]
  },
  {
   "cell_type": "code",
   "execution_count": 2,
   "metadata": {
    "executionInfo": {
     "elapsed": 16,
     "status": "ok",
     "timestamp": 1717294616217,
     "user": {
      "displayName": "PHÚC TRẦN HOÀNG",
      "userId": "13892609718634505180"
     },
     "user_tz": -420
    },
    "id": "aRm9GQ8KJJ5N"
   },
   "outputs": [],
   "source": [
    "# 2. Đọc file csv và gắng index với giá Close\n",
    "df = pd.read_csv('viettri_quality.csv')\n",
    "df1=df.reset_index()['pm25']"
   ]
  },
  {
   "cell_type": "code",
   "execution_count": 3,
   "metadata": {
    "colab": {
     "base_uri": "https://localhost:8080/"
    },
    "executionInfo": {
     "elapsed": 15,
     "status": "ok",
     "timestamp": 1717294616218,
     "user": {
      "displayName": "PHÚC TRẦN HOÀNG",
      "userId": "13892609718634505180"
     },
     "user_tz": -420
    },
    "id": "3Bq_mKrsYiOO",
    "outputId": "345d6951-1ade-499c-a6b0-48f453208807"
   },
   "outputs": [
    {
     "data": {
      "text/plain": [
       "(1920,)"
      ]
     },
     "execution_count": 3,
     "metadata": {},
     "output_type": "execute_result"
    }
   ],
   "source": [
    "df1.shape"
   ]
  },
  {
   "cell_type": "code",
   "execution_count": 4,
   "metadata": {
    "executionInfo": {
     "elapsed": 10,
     "status": "ok",
     "timestamp": 1717294616218,
     "user": {
      "displayName": "PHÚC TRẦN HOÀNG",
      "userId": "13892609718634505180"
     },
     "user_tz": -420
    },
    "id": "RdVpDho2JgL5"
   },
   "outputs": [],
   "source": [
    "# 3. Scaler data\n",
    "scaler=MinMaxScaler(feature_range=(0,1))\n",
    "df1=scaler.fit_transform(np.array(df1).reshape(-1,1))"
   ]
  },
  {
   "cell_type": "code",
   "execution_count": 5,
   "metadata": {
    "executionInfo": {
     "elapsed": 9,
     "status": "ok",
     "timestamp": 1717294616218,
     "user": {
      "displayName": "PHÚC TRẦN HOÀNG",
      "userId": "13892609718634505180"
     },
     "user_tz": -420
    },
    "id": "B5JXpenzJoR3"
   },
   "outputs": [],
   "source": [
    "# 4. Chia train test\n",
    "train_size = int(0.9 * len(df1))\n",
    "test_size = len(df1) - train_size\n",
    "\n",
    "train_data = df1[:train_size]\n",
    "test_data = df1[train_size:train_size+test_size]\n"
   ]
  },
  {
   "cell_type": "code",
   "execution_count": 6,
   "metadata": {
    "colab": {
     "base_uri": "https://localhost:8080/"
    },
    "executionInfo": {
     "elapsed": 8,
     "status": "ok",
     "timestamp": 1717294616218,
     "user": {
      "displayName": "PHÚC TRẦN HOÀNG",
      "userId": "13892609718634505180"
     },
     "user_tz": -420
    },
    "id": "qflFkXQGg8q0",
    "outputId": "d783b7b7-a830-49bf-fdf1-ef88030019a7"
   },
   "outputs": [
    {
     "name": "stdout",
     "output_type": "stream",
     "text": [
      "1728\n",
      "192\n"
     ]
    }
   ],
   "source": [
    "print(train_size)\n",
    "print(test_size)"
   ]
  },
  {
   "cell_type": "code",
   "execution_count": 7,
   "metadata": {
    "colab": {
     "base_uri": "https://localhost:8080/"
    },
    "executionInfo": {
     "elapsed": 6,
     "status": "ok",
     "timestamp": 1717294616218,
     "user": {
      "displayName": "PHÚC TRẦN HOÀNG",
      "userId": "13892609718634505180"
     },
     "user_tz": -420
    },
    "id": "hXzWz8YXHym9",
    "outputId": "4314b97e-983e-45af-825d-d1be6371860f"
   },
   "outputs": [
    {
     "name": "stdout",
     "output_type": "stream",
     "text": [
      "(1728, 1)\n",
      "(192, 1)\n"
     ]
    }
   ],
   "source": [
    "print(train_data.shape)\n",
    "print(test_data.shape)\n"
   ]
  },
  {
   "cell_type": "code",
   "execution_count": 8,
   "metadata": {
    "executionInfo": {
     "elapsed": 17,
     "status": "ok",
     "timestamp": 1717294616938,
     "user": {
      "displayName": "PHÚC TRẦN HOÀNG",
      "userId": "13892609718634505180"
     },
     "user_tz": -420
    },
    "id": "yJfmuBORLSfC"
   },
   "outputs": [],
   "source": [
    "# 5. Hàm Create Dataset\n",
    "import numpy\n",
    "# convert an array of values into a dataset matrix\n",
    "def create_dataset(dataset, time_step=1):\n",
    "\tdataX, dataY = [], []\n",
    "\tfor i in range(len(dataset)-time_step-1):\n",
    "\t\ta = dataset[i:(i+time_step), 0]   ###i=0, X=0,1,2,3-----99   Y=100\n",
    "\t\tdataX.append(a)\n",
    "\t\tdataY.append(dataset[i + time_step, 0])\n",
    "\treturn numpy.array(dataX), numpy.array(dataY)"
   ]
  },
  {
   "cell_type": "code",
   "execution_count": 9,
   "metadata": {
    "executionInfo": {
     "elapsed": 16,
     "status": "ok",
     "timestamp": 1717294616938,
     "user": {
      "displayName": "PHÚC TRẦN HOÀNG",
      "userId": "13892609718634505180"
     },
     "user_tz": -420
    },
    "id": "e81cKq03LXFB"
   },
   "outputs": [],
   "source": [
    "#6. Reshape into X=t,t+1,t+2..t+99 and Y=t+100\n",
    "\n",
    "time_step = 100\n",
    "X_train, y_train = create_dataset(train_data, time_step)\n",
    "X_test, ytest = create_dataset(test_data, time_step)"
   ]
  },
  {
   "cell_type": "code",
   "execution_count": 10,
   "metadata": {
    "colab": {
     "base_uri": "https://localhost:8080/"
    },
    "executionInfo": {
     "elapsed": 14,
     "status": "ok",
     "timestamp": 1717294616938,
     "user": {
      "displayName": "PHÚC TRẦN HOÀNG",
      "userId": "13892609718634505180"
     },
     "user_tz": -420
    },
    "id": "l3EA_b_tIYqJ",
    "outputId": "ee4d6080-d349-424f-9ece-b2b3a1e05b57"
   },
   "outputs": [
    {
     "name": "stdout",
     "output_type": "stream",
     "text": [
      "(1627, 100)\n",
      "(1627,)\n",
      "(91, 100)\n",
      "(91,)\n"
     ]
    }
   ],
   "source": [
    "print(X_train.shape)\n",
    "print(y_train.shape)\n",
    "print(X_test.shape)\n",
    "print(ytest.shape)\n"
   ]
  },
  {
   "cell_type": "code",
   "execution_count": 11,
   "metadata": {
    "executionInfo": {
     "elapsed": 11,
     "status": "ok",
     "timestamp": 1717294616939,
     "user": {
      "displayName": "PHÚC TRẦN HOÀNG",
      "userId": "13892609718634505180"
     },
     "user_tz": -420
    },
    "id": "RdBVfku7O2qb"
   },
   "outputs": [],
   "source": [
    "# 7. Reshape input to be [samples, time steps, features] which is required for LSTM\n",
    "X_train =X_train.reshape(X_train.shape[0],X_train.shape[1] , 1)\n",
    "X_test = X_test.reshape(X_test.shape[0],X_test.shape[1] , 1)\n"
   ]
  },
  {
   "cell_type": "code",
   "execution_count": 12,
   "metadata": {
    "colab": {
     "base_uri": "https://localhost:8080/"
    },
    "executionInfo": {
     "elapsed": 11,
     "status": "ok",
     "timestamp": 1717294616939,
     "user": {
      "displayName": "PHÚC TRẦN HOÀNG",
      "userId": "13892609718634505180"
     },
     "user_tz": -420
    },
    "id": "Pgc-xQnfYf7v",
    "outputId": "b5af943a-0d93-4821-bc12-cf7d97a30dd5"
   },
   "outputs": [
    {
     "name": "stdout",
     "output_type": "stream",
     "text": [
      "(1627, 100, 1)\n",
      "(91, 100, 1)\n"
     ]
    }
   ],
   "source": [
    "print(X_train.shape)\n",
    "print(X_test.shape)"
   ]
  },
  {
   "cell_type": "code",
   "execution_count": 13,
   "metadata": {
    "executionInfo": {
     "elapsed": 9,
     "status": "ok",
     "timestamp": 1717294616939,
     "user": {
      "displayName": "PHÚC TRẦN HOÀNG",
      "userId": "13892609718634505180"
     },
     "user_tz": -420
    },
    "id": "sSfxrE7BO9vX"
   },
   "outputs": [
    {
     "name": "stderr",
     "output_type": "stream",
     "text": [
      "D:\\anaconda\\Lib\\site-packages\\keras\\src\\layers\\rnn\\rnn.py:204: UserWarning: Do not pass an `input_shape`/`input_dim` argument to a layer. When using Sequential models, prefer using an `Input(shape)` object as the first layer in the model instead.\n",
      "  super().__init__(**kwargs)\n"
     ]
    }
   ],
   "source": [
    "# 8. Define LSTM Model\n",
    "\n",
    "model = Sequential()\n",
    "model.add(SimpleRNN(50, input_shape=(time_step, 1)))\n",
    "model.add(Dense(1))\n",
    "model.compile(loss='mean_squared_error',optimizer='adam')"
   ]
  },
  {
   "cell_type": "code",
   "execution_count": 14,
   "metadata": {
    "colab": {
     "base_uri": "https://localhost:8080/"
    },
    "executionInfo": {
     "elapsed": 84875,
     "status": "ok",
     "timestamp": 1717294701806,
     "user": {
      "displayName": "PHÚC TRẦN HOÀNG",
      "userId": "13892609718634505180"
     },
     "user_tz": -420
    },
    "id": "zgfeujZSPEKr",
    "outputId": "70745ab8-4032-463c-94b0-5f84bcea04f7"
   },
   "outputs": [
    {
     "name": "stdout",
     "output_type": "stream",
     "text": [
      "Epoch 1/100\n",
      "\u001b[1m26/26\u001b[0m \u001b[32m━━━━━━━━━━━━━━━━━━━━\u001b[0m\u001b[37m\u001b[0m \u001b[1m13s\u001b[0m 134ms/step - loss: 0.0585 - val_loss: 0.0130\n",
      "Epoch 2/100\n",
      "\u001b[1m26/26\u001b[0m \u001b[32m━━━━━━━━━━━━━━━━━━━━\u001b[0m\u001b[37m\u001b[0m \u001b[1m3s\u001b[0m 54ms/step - loss: 0.0240 - val_loss: 0.0099\n",
      "Epoch 3/100\n",
      "\u001b[1m26/26\u001b[0m \u001b[32m━━━━━━━━━━━━━━━━━━━━\u001b[0m\u001b[37m\u001b[0m \u001b[1m3s\u001b[0m 63ms/step - loss: 0.0209 - val_loss: 0.0096\n",
      "Epoch 4/100\n",
      "\u001b[1m26/26\u001b[0m \u001b[32m━━━━━━━━━━━━━━━━━━━━\u001b[0m\u001b[37m\u001b[0m \u001b[1m2s\u001b[0m 47ms/step - loss: 0.0213 - val_loss: 0.0098\n",
      "Epoch 5/100\n",
      "\u001b[1m26/26\u001b[0m \u001b[32m━━━━━━━━━━━━━━━━━━━━\u001b[0m\u001b[37m\u001b[0m \u001b[1m2s\u001b[0m 61ms/step - loss: 0.0198 - val_loss: 0.0097\n",
      "Epoch 6/100\n",
      "\u001b[1m26/26\u001b[0m \u001b[32m━━━━━━━━━━━━━━━━━━━━\u001b[0m\u001b[37m\u001b[0m \u001b[1m1s\u001b[0m 37ms/step - loss: 0.0193 - val_loss: 0.0096\n",
      "Epoch 7/100\n",
      "\u001b[1m26/26\u001b[0m \u001b[32m━━━━━━━━━━━━━━━━━━━━\u001b[0m\u001b[37m\u001b[0m \u001b[1m2s\u001b[0m 64ms/step - loss: 0.0196 - val_loss: 0.0097\n",
      "Epoch 8/100\n",
      "\u001b[1m26/26\u001b[0m \u001b[32m━━━━━━━━━━━━━━━━━━━━\u001b[0m\u001b[37m\u001b[0m \u001b[1m2s\u001b[0m 48ms/step - loss: 0.0189 - val_loss: 0.0100\n",
      "Epoch 9/100\n",
      "\u001b[1m26/26\u001b[0m \u001b[32m━━━━━━━━━━━━━━━━━━━━\u001b[0m\u001b[37m\u001b[0m \u001b[1m2s\u001b[0m 48ms/step - loss: 0.0192 - val_loss: 0.0114\n",
      "Epoch 10/100\n",
      "\u001b[1m26/26\u001b[0m \u001b[32m━━━━━━━━━━━━━━━━━━━━\u001b[0m\u001b[37m\u001b[0m \u001b[1m3s\u001b[0m 66ms/step - loss: 0.0187 - val_loss: 0.0095\n",
      "Epoch 11/100\n",
      "\u001b[1m26/26\u001b[0m \u001b[32m━━━━━━━━━━━━━━━━━━━━\u001b[0m\u001b[37m\u001b[0m \u001b[1m2s\u001b[0m 57ms/step - loss: 0.0207 - val_loss: 0.0095\n",
      "Epoch 12/100\n",
      "\u001b[1m26/26\u001b[0m \u001b[32m━━━━━━━━━━━━━━━━━━━━\u001b[0m\u001b[37m\u001b[0m \u001b[1m3s\u001b[0m 53ms/step - loss: 0.0192 - val_loss: 0.0094\n",
      "Epoch 13/100\n",
      "\u001b[1m26/26\u001b[0m \u001b[32m━━━━━━━━━━━━━━━━━━━━\u001b[0m\u001b[37m\u001b[0m \u001b[1m3s\u001b[0m 59ms/step - loss: 0.0196 - val_loss: 0.0104\n",
      "Epoch 14/100\n",
      "\u001b[1m26/26\u001b[0m \u001b[32m━━━━━━━━━━━━━━━━━━━━\u001b[0m\u001b[37m\u001b[0m \u001b[1m3s\u001b[0m 67ms/step - loss: 0.0206 - val_loss: 0.0095\n",
      "Epoch 15/100\n",
      "\u001b[1m26/26\u001b[0m \u001b[32m━━━━━━━━━━━━━━━━━━━━\u001b[0m\u001b[37m\u001b[0m \u001b[1m1s\u001b[0m 47ms/step - loss: 0.0195 - val_loss: 0.0095\n",
      "Epoch 16/100\n",
      "\u001b[1m26/26\u001b[0m \u001b[32m━━━━━━━━━━━━━━━━━━━━\u001b[0m\u001b[37m\u001b[0m \u001b[1m2s\u001b[0m 58ms/step - loss: 0.0190 - val_loss: 0.0094\n",
      "Epoch 17/100\n",
      "\u001b[1m26/26\u001b[0m \u001b[32m━━━━━━━━━━━━━━━━━━━━\u001b[0m\u001b[37m\u001b[0m \u001b[1m3s\u001b[0m 51ms/step - loss: 0.0191 - val_loss: 0.0093\n",
      "Epoch 18/100\n",
      "\u001b[1m26/26\u001b[0m \u001b[32m━━━━━━━━━━━━━━━━━━━━\u001b[0m\u001b[37m\u001b[0m \u001b[1m2s\u001b[0m 53ms/step - loss: 0.0183 - val_loss: 0.0099\n",
      "Epoch 19/100\n",
      "\u001b[1m26/26\u001b[0m \u001b[32m━━━━━━━━━━━━━━━━━━━━\u001b[0m\u001b[37m\u001b[0m \u001b[1m2s\u001b[0m 58ms/step - loss: 0.0199 - val_loss: 0.0098\n",
      "Epoch 20/100\n",
      "\u001b[1m26/26\u001b[0m \u001b[32m━━━━━━━━━━━━━━━━━━━━\u001b[0m\u001b[37m\u001b[0m \u001b[1m3s\u001b[0m 58ms/step - loss: 0.0195 - val_loss: 0.0098\n",
      "Epoch 21/100\n",
      "\u001b[1m26/26\u001b[0m \u001b[32m━━━━━━━━━━━━━━━━━━━━\u001b[0m\u001b[37m\u001b[0m \u001b[1m2s\u001b[0m 52ms/step - loss: 0.0190 - val_loss: 0.0097\n",
      "Epoch 22/100\n",
      "\u001b[1m26/26\u001b[0m \u001b[32m━━━━━━━━━━━━━━━━━━━━\u001b[0m\u001b[37m\u001b[0m \u001b[1m2s\u001b[0m 65ms/step - loss: 0.0207 - val_loss: 0.0099\n",
      "Epoch 23/100\n",
      "\u001b[1m26/26\u001b[0m \u001b[32m━━━━━━━━━━━━━━━━━━━━\u001b[0m\u001b[37m\u001b[0m \u001b[1m2s\u001b[0m 38ms/step - loss: 0.0200 - val_loss: 0.0100\n",
      "Epoch 24/100\n",
      "\u001b[1m26/26\u001b[0m \u001b[32m━━━━━━━━━━━━━━━━━━━━\u001b[0m\u001b[37m\u001b[0m \u001b[1m2s\u001b[0m 57ms/step - loss: 0.0192 - val_loss: 0.0100\n",
      "Epoch 25/100\n",
      "\u001b[1m26/26\u001b[0m \u001b[32m━━━━━━━━━━━━━━━━━━━━\u001b[0m\u001b[37m\u001b[0m \u001b[1m2s\u001b[0m 78ms/step - loss: 0.0202 - val_loss: 0.0103\n",
      "Epoch 26/100\n",
      "\u001b[1m26/26\u001b[0m \u001b[32m━━━━━━━━━━━━━━━━━━━━\u001b[0m\u001b[37m\u001b[0m \u001b[1m2s\u001b[0m 48ms/step - loss: 0.0191 - val_loss: 0.0097\n",
      "Epoch 27/100\n",
      "\u001b[1m26/26\u001b[0m \u001b[32m━━━━━━━━━━━━━━━━━━━━\u001b[0m\u001b[37m\u001b[0m \u001b[1m2s\u001b[0m 46ms/step - loss: 0.0195 - val_loss: 0.0103\n",
      "Epoch 28/100\n",
      "\u001b[1m26/26\u001b[0m \u001b[32m━━━━━━━━━━━━━━━━━━━━\u001b[0m\u001b[37m\u001b[0m \u001b[1m2s\u001b[0m 54ms/step - loss: 0.0194 - val_loss: 0.0107\n",
      "Epoch 29/100\n",
      "\u001b[1m26/26\u001b[0m \u001b[32m━━━━━━━━━━━━━━━━━━━━\u001b[0m\u001b[37m\u001b[0m \u001b[1m3s\u001b[0m 59ms/step - loss: 0.0191 - val_loss: 0.0101\n",
      "Epoch 30/100\n",
      "\u001b[1m26/26\u001b[0m \u001b[32m━━━━━━━━━━━━━━━━━━━━\u001b[0m\u001b[37m\u001b[0m \u001b[1m3s\u001b[0m 81ms/step - loss: 0.0187 - val_loss: 0.0098\n",
      "Epoch 31/100\n",
      "\u001b[1m26/26\u001b[0m \u001b[32m━━━━━━━━━━━━━━━━━━━━\u001b[0m\u001b[37m\u001b[0m \u001b[1m2s\u001b[0m 38ms/step - loss: 0.0185 - val_loss: 0.0102\n",
      "Epoch 32/100\n",
      "\u001b[1m26/26\u001b[0m \u001b[32m━━━━━━━━━━━━━━━━━━━━\u001b[0m\u001b[37m\u001b[0m \u001b[1m2s\u001b[0m 70ms/step - loss: 0.0179 - val_loss: 0.0102\n",
      "Epoch 33/100\n",
      "\u001b[1m26/26\u001b[0m \u001b[32m━━━━━━━━━━━━━━━━━━━━\u001b[0m\u001b[37m\u001b[0m \u001b[1m2s\u001b[0m 64ms/step - loss: 0.0180 - val_loss: 0.0102\n",
      "Epoch 34/100\n",
      "\u001b[1m26/26\u001b[0m \u001b[32m━━━━━━━━━━━━━━━━━━━━\u001b[0m\u001b[37m\u001b[0m \u001b[1m3s\u001b[0m 67ms/step - loss: 0.0175 - val_loss: 0.0108\n",
      "Epoch 35/100\n",
      "\u001b[1m26/26\u001b[0m \u001b[32m━━━━━━━━━━━━━━━━━━━━\u001b[0m\u001b[37m\u001b[0m \u001b[1m1s\u001b[0m 38ms/step - loss: 0.0198 - val_loss: 0.0100\n",
      "Epoch 36/100\n",
      "\u001b[1m26/26\u001b[0m \u001b[32m━━━━━━━━━━━━━━━━━━━━\u001b[0m\u001b[37m\u001b[0m \u001b[1m2s\u001b[0m 64ms/step - loss: 0.0185 - val_loss: 0.0102\n",
      "Epoch 37/100\n",
      "\u001b[1m26/26\u001b[0m \u001b[32m━━━━━━━━━━━━━━━━━━━━\u001b[0m\u001b[37m\u001b[0m \u001b[1m3s\u001b[0m 61ms/step - loss: 0.0183 - val_loss: 0.0099\n",
      "Epoch 38/100\n",
      "\u001b[1m26/26\u001b[0m \u001b[32m━━━━━━━━━━━━━━━━━━━━\u001b[0m\u001b[37m\u001b[0m \u001b[1m3s\u001b[0m 67ms/step - loss: 0.0192 - val_loss: 0.0105\n",
      "Epoch 39/100\n",
      "\u001b[1m26/26\u001b[0m \u001b[32m━━━━━━━━━━━━━━━━━━━━\u001b[0m\u001b[37m\u001b[0m \u001b[1m3s\u001b[0m 73ms/step - loss: 0.0208 - val_loss: 0.0105\n",
      "Epoch 40/100\n",
      "\u001b[1m26/26\u001b[0m \u001b[32m━━━━━━━━━━━━━━━━━━━━\u001b[0m\u001b[37m\u001b[0m \u001b[1m2s\u001b[0m 48ms/step - loss: 0.0192 - val_loss: 0.0108\n",
      "Epoch 41/100\n",
      "\u001b[1m26/26\u001b[0m \u001b[32m━━━━━━━━━━━━━━━━━━━━\u001b[0m\u001b[37m\u001b[0m \u001b[1m2s\u001b[0m 51ms/step - loss: 0.0191 - val_loss: 0.0103\n",
      "Epoch 42/100\n",
      "\u001b[1m26/26\u001b[0m \u001b[32m━━━━━━━━━━━━━━━━━━━━\u001b[0m\u001b[37m\u001b[0m \u001b[1m2s\u001b[0m 59ms/step - loss: 0.0178 - val_loss: 0.0104\n",
      "Epoch 43/100\n",
      "\u001b[1m26/26\u001b[0m \u001b[32m━━━━━━━━━━━━━━━━━━━━\u001b[0m\u001b[37m\u001b[0m \u001b[1m4s\u001b[0m 90ms/step - loss: 0.0179 - val_loss: 0.0104\n",
      "Epoch 44/100\n",
      "\u001b[1m26/26\u001b[0m \u001b[32m━━━━━━━━━━━━━━━━━━━━\u001b[0m\u001b[37m\u001b[0m \u001b[1m2s\u001b[0m 58ms/step - loss: 0.0182 - val_loss: 0.0106\n",
      "Epoch 45/100\n",
      "\u001b[1m26/26\u001b[0m \u001b[32m━━━━━━━━━━━━━━━━━━━━\u001b[0m\u001b[37m\u001b[0m \u001b[1m2s\u001b[0m 49ms/step - loss: 0.0202 - val_loss: 0.0110\n",
      "Epoch 46/100\n",
      "\u001b[1m26/26\u001b[0m \u001b[32m━━━━━━━━━━━━━━━━━━━━\u001b[0m\u001b[37m\u001b[0m \u001b[1m2s\u001b[0m 55ms/step - loss: 0.0191 - val_loss: 0.0101\n",
      "Epoch 47/100\n",
      "\u001b[1m26/26\u001b[0m \u001b[32m━━━━━━━━━━━━━━━━━━━━\u001b[0m\u001b[37m\u001b[0m \u001b[1m2s\u001b[0m 58ms/step - loss: 0.0196 - val_loss: 0.0103\n",
      "Epoch 48/100\n",
      "\u001b[1m26/26\u001b[0m \u001b[32m━━━━━━━━━━━━━━━━━━━━\u001b[0m\u001b[37m\u001b[0m \u001b[1m3s\u001b[0m 61ms/step - loss: 0.0178 - val_loss: 0.0103\n",
      "Epoch 49/100\n",
      "\u001b[1m26/26\u001b[0m \u001b[32m━━━━━━━━━━━━━━━━━━━━\u001b[0m\u001b[37m\u001b[0m \u001b[1m2s\u001b[0m 66ms/step - loss: 0.0175 - val_loss: 0.0102\n",
      "Epoch 50/100\n",
      "\u001b[1m26/26\u001b[0m \u001b[32m━━━━━━━━━━━━━━━━━━━━\u001b[0m\u001b[37m\u001b[0m \u001b[1m3s\u001b[0m 54ms/step - loss: 0.0179 - val_loss: 0.0107\n",
      "Epoch 51/100\n",
      "\u001b[1m26/26\u001b[0m \u001b[32m━━━━━━━━━━━━━━━━━━━━\u001b[0m\u001b[37m\u001b[0m \u001b[1m1s\u001b[0m 41ms/step - loss: 0.0179 - val_loss: 0.0100\n",
      "Epoch 52/100\n",
      "\u001b[1m26/26\u001b[0m \u001b[32m━━━━━━━━━━━━━━━━━━━━\u001b[0m\u001b[37m\u001b[0m \u001b[1m2s\u001b[0m 48ms/step - loss: 0.0191 - val_loss: 0.0104\n",
      "Epoch 53/100\n",
      "\u001b[1m26/26\u001b[0m \u001b[32m━━━━━━━━━━━━━━━━━━━━\u001b[0m\u001b[37m\u001b[0m \u001b[1m1s\u001b[0m 45ms/step - loss: 0.0174 - val_loss: 0.0104\n",
      "Epoch 54/100\n",
      "\u001b[1m26/26\u001b[0m \u001b[32m━━━━━━━━━━━━━━━━━━━━\u001b[0m\u001b[37m\u001b[0m \u001b[1m2s\u001b[0m 53ms/step - loss: 0.0189 - val_loss: 0.0101\n",
      "Epoch 55/100\n",
      "\u001b[1m26/26\u001b[0m \u001b[32m━━━━━━━━━━━━━━━━━━━━\u001b[0m\u001b[37m\u001b[0m \u001b[1m1s\u001b[0m 47ms/step - loss: 0.0183 - val_loss: 0.0103\n",
      "Epoch 56/100\n",
      "\u001b[1m26/26\u001b[0m \u001b[32m━━━━━━━━━━━━━━━━━━━━\u001b[0m\u001b[37m\u001b[0m \u001b[1m1s\u001b[0m 40ms/step - loss: 0.0175 - val_loss: 0.0108\n",
      "Epoch 57/100\n",
      "\u001b[1m26/26\u001b[0m \u001b[32m━━━━━━━━━━━━━━━━━━━━\u001b[0m\u001b[37m\u001b[0m \u001b[1m3s\u001b[0m 78ms/step - loss: 0.0183 - val_loss: 0.0109\n",
      "Epoch 58/100\n",
      "\u001b[1m26/26\u001b[0m \u001b[32m━━━━━━━━━━━━━━━━━━━━\u001b[0m\u001b[37m\u001b[0m \u001b[1m2s\u001b[0m 48ms/step - loss: 0.0196 - val_loss: 0.0107\n",
      "Epoch 59/100\n",
      "\u001b[1m26/26\u001b[0m \u001b[32m━━━━━━━━━━━━━━━━━━━━\u001b[0m\u001b[37m\u001b[0m \u001b[1m1s\u001b[0m 46ms/step - loss: 0.0191 - val_loss: 0.0113\n",
      "Epoch 60/100\n",
      "\u001b[1m26/26\u001b[0m \u001b[32m━━━━━━━━━━━━━━━━━━━━\u001b[0m\u001b[37m\u001b[0m \u001b[1m1s\u001b[0m 25ms/step - loss: 0.0181 - val_loss: 0.0105\n",
      "Epoch 61/100\n",
      "\u001b[1m26/26\u001b[0m \u001b[32m━━━━━━━━━━━━━━━━━━━━\u001b[0m\u001b[37m\u001b[0m \u001b[1m1s\u001b[0m 49ms/step - loss: 0.0195 - val_loss: 0.0110\n",
      "Epoch 62/100\n",
      "\u001b[1m26/26\u001b[0m \u001b[32m━━━━━━━━━━━━━━━━━━━━\u001b[0m\u001b[37m\u001b[0m \u001b[1m2s\u001b[0m 54ms/step - loss: 0.0187 - val_loss: 0.0098\n",
      "Epoch 63/100\n",
      "\u001b[1m26/26\u001b[0m \u001b[32m━━━━━━━━━━━━━━━━━━━━\u001b[0m\u001b[37m\u001b[0m \u001b[1m3s\u001b[0m 51ms/step - loss: 0.0174 - val_loss: 0.0106\n",
      "Epoch 64/100\n",
      "\u001b[1m26/26\u001b[0m \u001b[32m━━━━━━━━━━━━━━━━━━━━\u001b[0m\u001b[37m\u001b[0m \u001b[1m2s\u001b[0m 36ms/step - loss: 0.0175 - val_loss: 0.0115\n",
      "Epoch 65/100\n",
      "\u001b[1m26/26\u001b[0m \u001b[32m━━━━━━━━━━━━━━━━━━━━\u001b[0m\u001b[37m\u001b[0m \u001b[1m2s\u001b[0m 58ms/step - loss: 0.0189 - val_loss: 0.0115\n",
      "Epoch 66/100\n",
      "\u001b[1m26/26\u001b[0m \u001b[32m━━━━━━━━━━━━━━━━━━━━\u001b[0m\u001b[37m\u001b[0m \u001b[1m3s\u001b[0m 71ms/step - loss: 0.0192 - val_loss: 0.0100\n",
      "Epoch 67/100\n",
      "\u001b[1m26/26\u001b[0m \u001b[32m━━━━━━━━━━━━━━━━━━━━\u001b[0m\u001b[37m\u001b[0m \u001b[1m3s\u001b[0m 57ms/step - loss: 0.0183 - val_loss: 0.0110\n",
      "Epoch 68/100\n",
      "\u001b[1m26/26\u001b[0m \u001b[32m━━━━━━━━━━━━━━━━━━━━\u001b[0m\u001b[37m\u001b[0m \u001b[1m2s\u001b[0m 67ms/step - loss: 0.0184 - val_loss: 0.0105\n",
      "Epoch 69/100\n",
      "\u001b[1m26/26\u001b[0m \u001b[32m━━━━━━━━━━━━━━━━━━━━\u001b[0m\u001b[37m\u001b[0m \u001b[1m3s\u001b[0m 68ms/step - loss: 0.0187 - val_loss: 0.0105\n",
      "Epoch 70/100\n",
      "\u001b[1m26/26\u001b[0m \u001b[32m━━━━━━━━━━━━━━━━━━━━\u001b[0m\u001b[37m\u001b[0m \u001b[1m1s\u001b[0m 37ms/step - loss: 0.0180 - val_loss: 0.0113\n",
      "Epoch 71/100\n",
      "\u001b[1m26/26\u001b[0m \u001b[32m━━━━━━━━━━━━━━━━━━━━\u001b[0m\u001b[37m\u001b[0m \u001b[1m2s\u001b[0m 61ms/step - loss: 0.0182 - val_loss: 0.0105\n",
      "Epoch 72/100\n",
      "\u001b[1m26/26\u001b[0m \u001b[32m━━━━━━━━━━━━━━━━━━━━\u001b[0m\u001b[37m\u001b[0m \u001b[1m2s\u001b[0m 57ms/step - loss: 0.0181 - val_loss: 0.0114\n",
      "Epoch 73/100\n",
      "\u001b[1m26/26\u001b[0m \u001b[32m━━━━━━━━━━━━━━━━━━━━\u001b[0m\u001b[37m\u001b[0m \u001b[1m1s\u001b[0m 35ms/step - loss: 0.0177 - val_loss: 0.0111\n",
      "Epoch 74/100\n",
      "\u001b[1m26/26\u001b[0m \u001b[32m━━━━━━━━━━━━━━━━━━━━\u001b[0m\u001b[37m\u001b[0m \u001b[1m2s\u001b[0m 46ms/step - loss: 0.0160 - val_loss: 0.0099\n",
      "Epoch 75/100\n",
      "\u001b[1m26/26\u001b[0m \u001b[32m━━━━━━━━━━━━━━━━━━━━\u001b[0m\u001b[37m\u001b[0m \u001b[1m1s\u001b[0m 44ms/step - loss: 0.0177 - val_loss: 0.0117\n",
      "Epoch 76/100\n",
      "\u001b[1m26/26\u001b[0m \u001b[32m━━━━━━━━━━━━━━━━━━━━\u001b[0m\u001b[37m\u001b[0m \u001b[1m1s\u001b[0m 27ms/step - loss: 0.0174 - val_loss: 0.0107\n",
      "Epoch 77/100\n",
      "\u001b[1m26/26\u001b[0m \u001b[32m━━━━━━━━━━━━━━━━━━━━\u001b[0m\u001b[37m\u001b[0m \u001b[1m2s\u001b[0m 46ms/step - loss: 0.0165 - val_loss: 0.0115\n",
      "Epoch 78/100\n",
      "\u001b[1m26/26\u001b[0m \u001b[32m━━━━━━━━━━━━━━━━━━━━\u001b[0m\u001b[37m\u001b[0m \u001b[1m1s\u001b[0m 37ms/step - loss: 0.0157 - val_loss: 0.0112\n",
      "Epoch 79/100\n",
      "\u001b[1m26/26\u001b[0m \u001b[32m━━━━━━━━━━━━━━━━━━━━\u001b[0m\u001b[37m\u001b[0m \u001b[1m1s\u001b[0m 32ms/step - loss: 0.0169 - val_loss: 0.0115\n",
      "Epoch 80/100\n",
      "\u001b[1m26/26\u001b[0m \u001b[32m━━━━━━━━━━━━━━━━━━━━\u001b[0m\u001b[37m\u001b[0m \u001b[1m2s\u001b[0m 53ms/step - loss: 0.0172 - val_loss: 0.0125\n",
      "Epoch 81/100\n",
      "\u001b[1m26/26\u001b[0m \u001b[32m━━━━━━━━━━━━━━━━━━━━\u001b[0m\u001b[37m\u001b[0m \u001b[1m1s\u001b[0m 44ms/step - loss: 0.0174 - val_loss: 0.0107\n",
      "Epoch 82/100\n",
      "\u001b[1m26/26\u001b[0m \u001b[32m━━━━━━━━━━━━━━━━━━━━\u001b[0m\u001b[37m\u001b[0m \u001b[1m1s\u001b[0m 49ms/step - loss: 0.0171 - val_loss: 0.0113\n",
      "Epoch 83/100\n",
      "\u001b[1m26/26\u001b[0m \u001b[32m━━━━━━━━━━━━━━━━━━━━\u001b[0m\u001b[37m\u001b[0m \u001b[1m1s\u001b[0m 43ms/step - loss: 0.0172 - val_loss: 0.0123\n",
      "Epoch 84/100\n",
      "\u001b[1m26/26\u001b[0m \u001b[32m━━━━━━━━━━━━━━━━━━━━\u001b[0m\u001b[37m\u001b[0m \u001b[1m2s\u001b[0m 49ms/step - loss: 0.0168 - val_loss: 0.0104\n",
      "Epoch 85/100\n",
      "\u001b[1m26/26\u001b[0m \u001b[32m━━━━━━━━━━━━━━━━━━━━\u001b[0m\u001b[37m\u001b[0m \u001b[1m1s\u001b[0m 46ms/step - loss: 0.0180 - val_loss: 0.0109\n",
      "Epoch 86/100\n",
      "\u001b[1m26/26\u001b[0m \u001b[32m━━━━━━━━━━━━━━━━━━━━\u001b[0m\u001b[37m\u001b[0m \u001b[1m1s\u001b[0m 36ms/step - loss: 0.0166 - val_loss: 0.0107\n",
      "Epoch 87/100\n",
      "\u001b[1m26/26\u001b[0m \u001b[32m━━━━━━━━━━━━━━━━━━━━\u001b[0m\u001b[37m\u001b[0m \u001b[1m2s\u001b[0m 55ms/step - loss: 0.0160 - val_loss: 0.0109\n",
      "Epoch 88/100\n",
      "\u001b[1m26/26\u001b[0m \u001b[32m━━━━━━━━━━━━━━━━━━━━\u001b[0m\u001b[37m\u001b[0m \u001b[1m2s\u001b[0m 52ms/step - loss: 0.0163 - val_loss: 0.0102\n",
      "Epoch 89/100\n",
      "\u001b[1m26/26\u001b[0m \u001b[32m━━━━━━━━━━━━━━━━━━━━\u001b[0m\u001b[37m\u001b[0m \u001b[1m2s\u001b[0m 53ms/step - loss: 0.0176 - val_loss: 0.0127\n",
      "Epoch 90/100\n",
      "\u001b[1m26/26\u001b[0m \u001b[32m━━━━━━━━━━━━━━━━━━━━\u001b[0m\u001b[37m\u001b[0m \u001b[1m1s\u001b[0m 38ms/step - loss: 0.0171 - val_loss: 0.0119\n",
      "Epoch 91/100\n",
      "\u001b[1m26/26\u001b[0m \u001b[32m━━━━━━━━━━━━━━━━━━━━\u001b[0m\u001b[37m\u001b[0m \u001b[1m1s\u001b[0m 30ms/step - loss: 0.0162 - val_loss: 0.0120\n",
      "Epoch 92/100\n",
      "\u001b[1m26/26\u001b[0m \u001b[32m━━━━━━━━━━━━━━━━━━━━\u001b[0m\u001b[37m\u001b[0m \u001b[1m1s\u001b[0m 29ms/step - loss: 0.0147 - val_loss: 0.0106\n",
      "Epoch 93/100\n",
      "\u001b[1m26/26\u001b[0m \u001b[32m━━━━━━━━━━━━━━━━━━━━\u001b[0m\u001b[37m\u001b[0m \u001b[1m1s\u001b[0m 30ms/step - loss: 0.0158 - val_loss: 0.0101\n",
      "Epoch 94/100\n",
      "\u001b[1m26/26\u001b[0m \u001b[32m━━━━━━━━━━━━━━━━━━━━\u001b[0m\u001b[37m\u001b[0m \u001b[1m2s\u001b[0m 37ms/step - loss: 0.0157 - val_loss: 0.0137\n",
      "Epoch 95/100\n",
      "\u001b[1m26/26\u001b[0m \u001b[32m━━━━━━━━━━━━━━━━━━━━\u001b[0m\u001b[37m\u001b[0m \u001b[1m1s\u001b[0m 31ms/step - loss: 0.0173 - val_loss: 0.0107\n",
      "Epoch 96/100\n",
      "\u001b[1m26/26\u001b[0m \u001b[32m━━━━━━━━━━━━━━━━━━━━\u001b[0m\u001b[37m\u001b[0m \u001b[1m2s\u001b[0m 36ms/step - loss: 0.0153 - val_loss: 0.0133\n",
      "Epoch 97/100\n",
      "\u001b[1m26/26\u001b[0m \u001b[32m━━━━━━━━━━━━━━━━━━━━\u001b[0m\u001b[37m\u001b[0m \u001b[1m1s\u001b[0m 32ms/step - loss: 0.0153 - val_loss: 0.0145\n",
      "Epoch 98/100\n",
      "\u001b[1m26/26\u001b[0m \u001b[32m━━━━━━━━━━━━━━━━━━━━\u001b[0m\u001b[37m\u001b[0m \u001b[1m2s\u001b[0m 39ms/step - loss: 0.0171 - val_loss: 0.0100\n",
      "Epoch 99/100\n",
      "\u001b[1m26/26\u001b[0m \u001b[32m━━━━━━━━━━━━━━━━━━━━\u001b[0m\u001b[37m\u001b[0m \u001b[1m1s\u001b[0m 31ms/step - loss: 0.0155 - val_loss: 0.0109\n",
      "Epoch 100/100\n",
      "\u001b[1m26/26\u001b[0m \u001b[32m━━━━━━━━━━━━━━━━━━━━\u001b[0m\u001b[37m\u001b[0m \u001b[1m1s\u001b[0m 22ms/step - loss: 0.0165 - val_loss: 0.0095\n"
     ]
    },
    {
     "data": {
      "text/plain": [
       "<keras.src.callbacks.history.History at 0x1f05bc88c90>"
      ]
     },
     "execution_count": 14,
     "metadata": {},
     "output_type": "execute_result"
    }
   ],
   "source": [
    "# 9. Fit mô hình với dữ liệu train\n",
    "model.fit(X_train,y_train,validation_data=(X_test,ytest),epochs=100,batch_size=64,verbose=1)"
   ]
  },
  {
   "cell_type": "code",
   "execution_count": 15,
   "metadata": {
    "colab": {
     "base_uri": "https://localhost:8080/"
    },
    "executionInfo": {
     "elapsed": 712,
     "status": "ok",
     "timestamp": 1717294702492,
     "user": {
      "displayName": "PHÚC TRẦN HOÀNG",
      "userId": "13892609718634505180"
     },
     "user_tz": -420
    },
    "id": "Rxx_KQSkQpBG",
    "outputId": "1ee58724-10c7-4eda-91e0-b17dfb250939"
   },
   "outputs": [
    {
     "name": "stdout",
     "output_type": "stream",
     "text": [
      "\u001b[1m51/51\u001b[0m \u001b[32m━━━━━━━━━━━━━━━━━━━━\u001b[0m\u001b[37m\u001b[0m \u001b[1m1s\u001b[0m 11ms/step\n",
      "\u001b[1m6/6\u001b[0m \u001b[32m━━━━━━━━━━━━━━━━━━━━\u001b[0m\u001b[37m\u001b[0m \u001b[1m0s\u001b[0m 2ms/step  \n"
     ]
    }
   ],
   "source": [
    "# 10. Dự báo dữ liệu test,\n",
    "train_predict=model.predict(X_train)\n",
    "y_pred=model.predict(test_data.reshape(test_data.shape[0],test_data.shape[1] , 1))\n"
   ]
  },
  {
   "cell_type": "code",
   "execution_count": 16,
   "metadata": {
    "executionInfo": {
     "elapsed": 13,
     "status": "ok",
     "timestamp": 1717294702492,
     "user": {
      "displayName": "PHÚC TRẦN HOÀNG",
      "userId": "13892609718634505180"
     },
     "user_tz": -420
    },
    "id": "5rwTN10LQ7rj"
   },
   "outputs": [],
   "source": [
    "# 11. Chuẩn hóa dữ liệu y_pred, y_pred_val\n",
    "train_predict=scaler.inverse_transform(train_predict)\n",
    "y_pred=scaler.inverse_transform(y_pred)\n"
   ]
  },
  {
   "cell_type": "code",
   "execution_count": 17,
   "metadata": {
    "colab": {
     "base_uri": "https://localhost:8080/"
    },
    "executionInfo": {
     "elapsed": 12,
     "status": "ok",
     "timestamp": 1717294702492,
     "user": {
      "displayName": "PHÚC TRẦN HOÀNG",
      "userId": "13892609718634505180"
     },
     "user_tz": -420
    },
    "id": "v5tdcE24RVpR",
    "outputId": "050f2ca7-83ff-4ad7-e315-a34652abaa77"
   },
   "outputs": [
    {
     "name": "stdout",
     "output_type": "stream",
     "text": [
      "Testing RMSE: 15.49459005333107\n",
      "Testing MAPE: 60.12016059073865\n",
      "Testing MAE: 12.55626862247785\n"
     ]
    }
   ],
   "source": [
    "ytest=scaler.inverse_transform(test_data)\n",
    "# 12. Đánh giá độ chính xác thuật toán bằng RMSE\n",
    "test_rmse = np.sqrt(np.mean((y_pred - ytest)**2))\n",
    "print('Testing RMSE:', test_rmse)\n",
    "\n",
    "# Đánh giá độ chính xác thuật toán bằng MAPE\n",
    "test_mape = np.mean(np.abs(ytest - y_pred)/np.abs(ytest))*100\n",
    "\n",
    "print('Testing MAPE:', test_mape)\n",
    "\n",
    "# Đánh giá độ chính xác thuật toán bằng MAE\n",
    "test_mae = np.mean(abs(y_pred - ytest))\n",
    "print('Testing MAE:', test_mae)"
   ]
  },
  {
   "cell_type": "code",
   "execution_count": 18,
   "metadata": {
    "colab": {
     "base_uri": "https://localhost:8080/"
    },
    "executionInfo": {
     "elapsed": 11,
     "status": "ok",
     "timestamp": 1717294702492,
     "user": {
      "displayName": "PHÚC TRẦN HOÀNG",
      "userId": "13892609718634505180"
     },
     "user_tz": -420
    },
    "id": "sQvF9ToMosVp",
    "outputId": "9963f8e2-db59-401e-8d45-2f301985b73e"
   },
   "outputs": [
    {
     "data": {
      "text/plain": [
       "(1, 132)"
      ]
     },
     "execution_count": 18,
     "metadata": {},
     "output_type": "execute_result"
    }
   ],
   "source": [
    "x_input=test_data[60:].reshape(1,-1)\n",
    "x_input.shape"
   ]
  },
  {
   "cell_type": "code",
   "execution_count": 19,
   "metadata": {
    "colab": {
     "base_uri": "https://localhost:8080/"
    },
    "executionInfo": {
     "elapsed": 2956,
     "status": "ok",
     "timestamp": 1717294705440,
     "user": {
      "displayName": "PHÚC TRẦN HOÀNG",
      "userId": "13892609718634505180"
     },
     "user_tz": -420
    },
    "id": "izQZ1iQyYl6N",
    "outputId": "5d4e2f08-04bd-4252-9828-87a7dce9c3ad"
   },
   "outputs": [
    {
     "name": "stdout",
     "output_type": "stream",
     "text": [
      "(1, 132)\n",
      "[0.14885347]\n",
      "133\n",
      "1 day input [0.         0.29378531 0.29943503 0.32768362 0.35028249 0.24858757\n",
      " 0.28248588 0.38418079 0.21468927 0.17514124 0.25988701 0.32768362\n",
      " 0.27683616 0.31638418 0.44067797 0.36158192 0.13559322 0.13559322\n",
      " 0.29378531 0.13559322 0.26553672 0.27118644 0.24293785 0.2259887\n",
      " 0.40677966 0.36158192 0.28248588 0.27683616 0.42372881 0.38983051\n",
      " 0.28813559 0.27683616 0.07909605 0.07909605 0.16949153 0.08474576\n",
      " 0.20338983 0.11864407 0.10734463 0.19774011 0.45762712 0.36723164\n",
      " 0.4519774  0.61581921 0.42937853 0.6440678  0.59887006 0.16949153\n",
      " 0.13559322 0.39548023 0.36723164 0.13559322 0.32768362 0.3559322\n",
      " 0.44067797 0.3559322  0.16384181 0.13559322 0.28813559 0.47457627\n",
      " 0.32768362 0.31638418 0.30508475 0.25988701 0.42372881 0.28813559\n",
      " 0.23728814 0.30508475 0.4180791  0.46327684 0.36158192 0.38983051\n",
      " 0.43502825 0.28813559 0.23728814 0.28248588 0.1299435  0.16949153\n",
      " 0.4180791  0.40112994 0.29943503 0.25988701 0.33898305 0.33333333\n",
      " 0.23163842 0.30508475 0.31638418 0.3220339  0.28248588 0.27683616\n",
      " 0.27118644 0.2259887  0.18644068 0.28248588 0.36723164 0.38418079\n",
      " 0.36158192 0.32768362 0.3220339  0.18079096 0.16949153 0.14689266\n",
      " 0.20338983 0.17514124 0.1299435  0.14689266 0.19774011 0.10169492\n",
      " 0.18079096 0.13559322 0.16949153 0.11299435 0.13559322 0.20903955\n",
      " 0.09039548 0.10734463 0.14689266 0.1299435  0.05649718 0.11864407\n",
      " 0.11864407 0.15254237 0.21468927 0.09039548 0.05649718 0.12429379\n",
      " 0.20903955 0.20903955 0.15254237 0.06214689 0.11299435 0.14885347]\n",
      "1 day output [[0.15228455]]\n",
      "2 day input [0.29378531 0.29943503 0.32768362 0.35028249 0.24858757 0.28248588\n",
      " 0.38418079 0.21468927 0.17514124 0.25988701 0.32768362 0.27683616\n",
      " 0.31638418 0.44067797 0.36158192 0.13559322 0.13559322 0.29378531\n",
      " 0.13559322 0.26553672 0.27118644 0.24293785 0.2259887  0.40677966\n",
      " 0.36158192 0.28248588 0.27683616 0.42372881 0.38983051 0.28813559\n",
      " 0.27683616 0.07909605 0.07909605 0.16949153 0.08474576 0.20338983\n",
      " 0.11864407 0.10734463 0.19774011 0.45762712 0.36723164 0.4519774\n",
      " 0.61581921 0.42937853 0.6440678  0.59887006 0.16949153 0.13559322\n",
      " 0.39548023 0.36723164 0.13559322 0.32768362 0.3559322  0.44067797\n",
      " 0.3559322  0.16384181 0.13559322 0.28813559 0.47457627 0.32768362\n",
      " 0.31638418 0.30508475 0.25988701 0.42372881 0.28813559 0.23728814\n",
      " 0.30508475 0.4180791  0.46327684 0.36158192 0.38983051 0.43502825\n",
      " 0.28813559 0.23728814 0.28248588 0.1299435  0.16949153 0.4180791\n",
      " 0.40112994 0.29943503 0.25988701 0.33898305 0.33333333 0.23163842\n",
      " 0.30508475 0.31638418 0.3220339  0.28248588 0.27683616 0.27118644\n",
      " 0.2259887  0.18644068 0.28248588 0.36723164 0.38418079 0.36158192\n",
      " 0.32768362 0.3220339  0.18079096 0.16949153 0.14689266 0.20338983\n",
      " 0.17514124 0.1299435  0.14689266 0.19774011 0.10169492 0.18079096\n",
      " 0.13559322 0.16949153 0.11299435 0.13559322 0.20903955 0.09039548\n",
      " 0.10734463 0.14689266 0.1299435  0.05649718 0.11864407 0.11864407\n",
      " 0.15254237 0.21468927 0.09039548 0.05649718 0.12429379 0.20903955\n",
      " 0.20903955 0.15254237 0.06214689 0.11299435 0.14885347 0.15228455]\n",
      "2 day output [[0.13357039]]\n",
      "3 day input [0.29943503 0.32768362 0.35028249 0.24858757 0.28248588 0.38418079\n",
      " 0.21468927 0.17514124 0.25988701 0.32768362 0.27683616 0.31638418\n",
      " 0.44067797 0.36158192 0.13559322 0.13559322 0.29378531 0.13559322\n",
      " 0.26553672 0.27118644 0.24293785 0.2259887  0.40677966 0.36158192\n",
      " 0.28248588 0.27683616 0.42372881 0.38983051 0.28813559 0.27683616\n",
      " 0.07909605 0.07909605 0.16949153 0.08474576 0.20338983 0.11864407\n",
      " 0.10734463 0.19774011 0.45762712 0.36723164 0.4519774  0.61581921\n",
      " 0.42937853 0.6440678  0.59887006 0.16949153 0.13559322 0.39548023\n",
      " 0.36723164 0.13559322 0.32768362 0.3559322  0.44067797 0.3559322\n",
      " 0.16384181 0.13559322 0.28813559 0.47457627 0.32768362 0.31638418\n",
      " 0.30508475 0.25988701 0.42372881 0.28813559 0.23728814 0.30508475\n",
      " 0.4180791  0.46327684 0.36158192 0.38983051 0.43502825 0.28813559\n",
      " 0.23728814 0.28248588 0.1299435  0.16949153 0.4180791  0.40112994\n",
      " 0.29943503 0.25988701 0.33898305 0.33333333 0.23163842 0.30508475\n",
      " 0.31638418 0.3220339  0.28248588 0.27683616 0.27118644 0.2259887\n",
      " 0.18644068 0.28248588 0.36723164 0.38418079 0.36158192 0.32768362\n",
      " 0.3220339  0.18079096 0.16949153 0.14689266 0.20338983 0.17514124\n",
      " 0.1299435  0.14689266 0.19774011 0.10169492 0.18079096 0.13559322\n",
      " 0.16949153 0.11299435 0.13559322 0.20903955 0.09039548 0.10734463\n",
      " 0.14689266 0.1299435  0.05649718 0.11864407 0.11864407 0.15254237\n",
      " 0.21468927 0.09039548 0.05649718 0.12429379 0.20903955 0.20903955\n",
      " 0.15254237 0.06214689 0.11299435 0.14885347 0.15228455 0.13357039]\n",
      "3 day output [[0.17690401]]\n",
      "4 day input [0.32768362 0.35028249 0.24858757 0.28248588 0.38418079 0.21468927\n",
      " 0.17514124 0.25988701 0.32768362 0.27683616 0.31638418 0.44067797\n",
      " 0.36158192 0.13559322 0.13559322 0.29378531 0.13559322 0.26553672\n",
      " 0.27118644 0.24293785 0.2259887  0.40677966 0.36158192 0.28248588\n",
      " 0.27683616 0.42372881 0.38983051 0.28813559 0.27683616 0.07909605\n",
      " 0.07909605 0.16949153 0.08474576 0.20338983 0.11864407 0.10734463\n",
      " 0.19774011 0.45762712 0.36723164 0.4519774  0.61581921 0.42937853\n",
      " 0.6440678  0.59887006 0.16949153 0.13559322 0.39548023 0.36723164\n",
      " 0.13559322 0.32768362 0.3559322  0.44067797 0.3559322  0.16384181\n",
      " 0.13559322 0.28813559 0.47457627 0.32768362 0.31638418 0.30508475\n",
      " 0.25988701 0.42372881 0.28813559 0.23728814 0.30508475 0.4180791\n",
      " 0.46327684 0.36158192 0.38983051 0.43502825 0.28813559 0.23728814\n",
      " 0.28248588 0.1299435  0.16949153 0.4180791  0.40112994 0.29943503\n",
      " 0.25988701 0.33898305 0.33333333 0.23163842 0.30508475 0.31638418\n",
      " 0.3220339  0.28248588 0.27683616 0.27118644 0.2259887  0.18644068\n",
      " 0.28248588 0.36723164 0.38418079 0.36158192 0.32768362 0.3220339\n",
      " 0.18079096 0.16949153 0.14689266 0.20338983 0.17514124 0.1299435\n",
      " 0.14689266 0.19774011 0.10169492 0.18079096 0.13559322 0.16949153\n",
      " 0.11299435 0.13559322 0.20903955 0.09039548 0.10734463 0.14689266\n",
      " 0.1299435  0.05649718 0.11864407 0.11864407 0.15254237 0.21468927\n",
      " 0.09039548 0.05649718 0.12429379 0.20903955 0.20903955 0.15254237\n",
      " 0.06214689 0.11299435 0.14885347 0.15228455 0.13357039 0.17690401]\n",
      "4 day output [[0.20395122]]\n",
      "5 day input [0.35028249 0.24858757 0.28248588 0.38418079 0.21468927 0.17514124\n",
      " 0.25988701 0.32768362 0.27683616 0.31638418 0.44067797 0.36158192\n",
      " 0.13559322 0.13559322 0.29378531 0.13559322 0.26553672 0.27118644\n",
      " 0.24293785 0.2259887  0.40677966 0.36158192 0.28248588 0.27683616\n",
      " 0.42372881 0.38983051 0.28813559 0.27683616 0.07909605 0.07909605\n",
      " 0.16949153 0.08474576 0.20338983 0.11864407 0.10734463 0.19774011\n",
      " 0.45762712 0.36723164 0.4519774  0.61581921 0.42937853 0.6440678\n",
      " 0.59887006 0.16949153 0.13559322 0.39548023 0.36723164 0.13559322\n",
      " 0.32768362 0.3559322  0.44067797 0.3559322  0.16384181 0.13559322\n",
      " 0.28813559 0.47457627 0.32768362 0.31638418 0.30508475 0.25988701\n",
      " 0.42372881 0.28813559 0.23728814 0.30508475 0.4180791  0.46327684\n",
      " 0.36158192 0.38983051 0.43502825 0.28813559 0.23728814 0.28248588\n",
      " 0.1299435  0.16949153 0.4180791  0.40112994 0.29943503 0.25988701\n",
      " 0.33898305 0.33333333 0.23163842 0.30508475 0.31638418 0.3220339\n",
      " 0.28248588 0.27683616 0.27118644 0.2259887  0.18644068 0.28248588\n",
      " 0.36723164 0.38418079 0.36158192 0.32768362 0.3220339  0.18079096\n",
      " 0.16949153 0.14689266 0.20338983 0.17514124 0.1299435  0.14689266\n",
      " 0.19774011 0.10169492 0.18079096 0.13559322 0.16949153 0.11299435\n",
      " 0.13559322 0.20903955 0.09039548 0.10734463 0.14689266 0.1299435\n",
      " 0.05649718 0.11864407 0.11864407 0.15254237 0.21468927 0.09039548\n",
      " 0.05649718 0.12429379 0.20903955 0.20903955 0.15254237 0.06214689\n",
      " 0.11299435 0.14885347 0.15228455 0.13357039 0.17690401 0.20395122]\n",
      "5 day output [[0.19004555]]\n",
      "6 day input [0.24858757 0.28248588 0.38418079 0.21468927 0.17514124 0.25988701\n",
      " 0.32768362 0.27683616 0.31638418 0.44067797 0.36158192 0.13559322\n",
      " 0.13559322 0.29378531 0.13559322 0.26553672 0.27118644 0.24293785\n",
      " 0.2259887  0.40677966 0.36158192 0.28248588 0.27683616 0.42372881\n",
      " 0.38983051 0.28813559 0.27683616 0.07909605 0.07909605 0.16949153\n",
      " 0.08474576 0.20338983 0.11864407 0.10734463 0.19774011 0.45762712\n",
      " 0.36723164 0.4519774  0.61581921 0.42937853 0.6440678  0.59887006\n",
      " 0.16949153 0.13559322 0.39548023 0.36723164 0.13559322 0.32768362\n",
      " 0.3559322  0.44067797 0.3559322  0.16384181 0.13559322 0.28813559\n",
      " 0.47457627 0.32768362 0.31638418 0.30508475 0.25988701 0.42372881\n",
      " 0.28813559 0.23728814 0.30508475 0.4180791  0.46327684 0.36158192\n",
      " 0.38983051 0.43502825 0.28813559 0.23728814 0.28248588 0.1299435\n",
      " 0.16949153 0.4180791  0.40112994 0.29943503 0.25988701 0.33898305\n",
      " 0.33333333 0.23163842 0.30508475 0.31638418 0.3220339  0.28248588\n",
      " 0.27683616 0.27118644 0.2259887  0.18644068 0.28248588 0.36723164\n",
      " 0.38418079 0.36158192 0.32768362 0.3220339  0.18079096 0.16949153\n",
      " 0.14689266 0.20338983 0.17514124 0.1299435  0.14689266 0.19774011\n",
      " 0.10169492 0.18079096 0.13559322 0.16949153 0.11299435 0.13559322\n",
      " 0.20903955 0.09039548 0.10734463 0.14689266 0.1299435  0.05649718\n",
      " 0.11864407 0.11864407 0.15254237 0.21468927 0.09039548 0.05649718\n",
      " 0.12429379 0.20903955 0.20903955 0.15254237 0.06214689 0.11299435\n",
      " 0.14885347 0.15228455 0.13357039 0.17690401 0.20395122 0.19004555]\n",
      "6 day output [[0.17711243]]\n",
      "7 day input [0.28248588 0.38418079 0.21468927 0.17514124 0.25988701 0.32768362\n",
      " 0.27683616 0.31638418 0.44067797 0.36158192 0.13559322 0.13559322\n",
      " 0.29378531 0.13559322 0.26553672 0.27118644 0.24293785 0.2259887\n",
      " 0.40677966 0.36158192 0.28248588 0.27683616 0.42372881 0.38983051\n",
      " 0.28813559 0.27683616 0.07909605 0.07909605 0.16949153 0.08474576\n",
      " 0.20338983 0.11864407 0.10734463 0.19774011 0.45762712 0.36723164\n",
      " 0.4519774  0.61581921 0.42937853 0.6440678  0.59887006 0.16949153\n",
      " 0.13559322 0.39548023 0.36723164 0.13559322 0.32768362 0.3559322\n",
      " 0.44067797 0.3559322  0.16384181 0.13559322 0.28813559 0.47457627\n",
      " 0.32768362 0.31638418 0.30508475 0.25988701 0.42372881 0.28813559\n",
      " 0.23728814 0.30508475 0.4180791  0.46327684 0.36158192 0.38983051\n",
      " 0.43502825 0.28813559 0.23728814 0.28248588 0.1299435  0.16949153\n",
      " 0.4180791  0.40112994 0.29943503 0.25988701 0.33898305 0.33333333\n",
      " 0.23163842 0.30508475 0.31638418 0.3220339  0.28248588 0.27683616\n",
      " 0.27118644 0.2259887  0.18644068 0.28248588 0.36723164 0.38418079\n",
      " 0.36158192 0.32768362 0.3220339  0.18079096 0.16949153 0.14689266\n",
      " 0.20338983 0.17514124 0.1299435  0.14689266 0.19774011 0.10169492\n",
      " 0.18079096 0.13559322 0.16949153 0.11299435 0.13559322 0.20903955\n",
      " 0.09039548 0.10734463 0.14689266 0.1299435  0.05649718 0.11864407\n",
      " 0.11864407 0.15254237 0.21468927 0.09039548 0.05649718 0.12429379\n",
      " 0.20903955 0.20903955 0.15254237 0.06214689 0.11299435 0.14885347\n",
      " 0.15228455 0.13357039 0.17690401 0.20395122 0.19004555 0.17711243]\n",
      "7 day output [[0.15985958]]\n",
      "8 day input [0.38418079 0.21468927 0.17514124 0.25988701 0.32768362 0.27683616\n",
      " 0.31638418 0.44067797 0.36158192 0.13559322 0.13559322 0.29378531\n",
      " 0.13559322 0.26553672 0.27118644 0.24293785 0.2259887  0.40677966\n",
      " 0.36158192 0.28248588 0.27683616 0.42372881 0.38983051 0.28813559\n",
      " 0.27683616 0.07909605 0.07909605 0.16949153 0.08474576 0.20338983\n",
      " 0.11864407 0.10734463 0.19774011 0.45762712 0.36723164 0.4519774\n",
      " 0.61581921 0.42937853 0.6440678  0.59887006 0.16949153 0.13559322\n",
      " 0.39548023 0.36723164 0.13559322 0.32768362 0.3559322  0.44067797\n",
      " 0.3559322  0.16384181 0.13559322 0.28813559 0.47457627 0.32768362\n",
      " 0.31638418 0.30508475 0.25988701 0.42372881 0.28813559 0.23728814\n",
      " 0.30508475 0.4180791  0.46327684 0.36158192 0.38983051 0.43502825\n",
      " 0.28813559 0.23728814 0.28248588 0.1299435  0.16949153 0.4180791\n",
      " 0.40112994 0.29943503 0.25988701 0.33898305 0.33333333 0.23163842\n",
      " 0.30508475 0.31638418 0.3220339  0.28248588 0.27683616 0.27118644\n",
      " 0.2259887  0.18644068 0.28248588 0.36723164 0.38418079 0.36158192\n",
      " 0.32768362 0.3220339  0.18079096 0.16949153 0.14689266 0.20338983\n",
      " 0.17514124 0.1299435  0.14689266 0.19774011 0.10169492 0.18079096\n",
      " 0.13559322 0.16949153 0.11299435 0.13559322 0.20903955 0.09039548\n",
      " 0.10734463 0.14689266 0.1299435  0.05649718 0.11864407 0.11864407\n",
      " 0.15254237 0.21468927 0.09039548 0.05649718 0.12429379 0.20903955\n",
      " 0.20903955 0.15254237 0.06214689 0.11299435 0.14885347 0.15228455\n",
      " 0.13357039 0.17690401 0.20395122 0.19004555 0.17711243 0.15985958]\n",
      "8 day output [[0.19671707]]\n",
      "9 day input [0.21468927 0.17514124 0.25988701 0.32768362 0.27683616 0.31638418\n",
      " 0.44067797 0.36158192 0.13559322 0.13559322 0.29378531 0.13559322\n",
      " 0.26553672 0.27118644 0.24293785 0.2259887  0.40677966 0.36158192\n",
      " 0.28248588 0.27683616 0.42372881 0.38983051 0.28813559 0.27683616\n",
      " 0.07909605 0.07909605 0.16949153 0.08474576 0.20338983 0.11864407\n",
      " 0.10734463 0.19774011 0.45762712 0.36723164 0.4519774  0.61581921\n",
      " 0.42937853 0.6440678  0.59887006 0.16949153 0.13559322 0.39548023\n",
      " 0.36723164 0.13559322 0.32768362 0.3559322  0.44067797 0.3559322\n",
      " 0.16384181 0.13559322 0.28813559 0.47457627 0.32768362 0.31638418\n",
      " 0.30508475 0.25988701 0.42372881 0.28813559 0.23728814 0.30508475\n",
      " 0.4180791  0.46327684 0.36158192 0.38983051 0.43502825 0.28813559\n",
      " 0.23728814 0.28248588 0.1299435  0.16949153 0.4180791  0.40112994\n",
      " 0.29943503 0.25988701 0.33898305 0.33333333 0.23163842 0.30508475\n",
      " 0.31638418 0.3220339  0.28248588 0.27683616 0.27118644 0.2259887\n",
      " 0.18644068 0.28248588 0.36723164 0.38418079 0.36158192 0.32768362\n",
      " 0.3220339  0.18079096 0.16949153 0.14689266 0.20338983 0.17514124\n",
      " 0.1299435  0.14689266 0.19774011 0.10169492 0.18079096 0.13559322\n",
      " 0.16949153 0.11299435 0.13559322 0.20903955 0.09039548 0.10734463\n",
      " 0.14689266 0.1299435  0.05649718 0.11864407 0.11864407 0.15254237\n",
      " 0.21468927 0.09039548 0.05649718 0.12429379 0.20903955 0.20903955\n",
      " 0.15254237 0.06214689 0.11299435 0.14885347 0.15228455 0.13357039\n",
      " 0.17690401 0.20395122 0.19004555 0.17711243 0.15985958 0.19671707]\n",
      "9 day output [[0.20378496]]\n",
      "10 day input [0.17514124 0.25988701 0.32768362 0.27683616 0.31638418 0.44067797\n",
      " 0.36158192 0.13559322 0.13559322 0.29378531 0.13559322 0.26553672\n",
      " 0.27118644 0.24293785 0.2259887  0.40677966 0.36158192 0.28248588\n",
      " 0.27683616 0.42372881 0.38983051 0.28813559 0.27683616 0.07909605\n",
      " 0.07909605 0.16949153 0.08474576 0.20338983 0.11864407 0.10734463\n",
      " 0.19774011 0.45762712 0.36723164 0.4519774  0.61581921 0.42937853\n",
      " 0.6440678  0.59887006 0.16949153 0.13559322 0.39548023 0.36723164\n",
      " 0.13559322 0.32768362 0.3559322  0.44067797 0.3559322  0.16384181\n",
      " 0.13559322 0.28813559 0.47457627 0.32768362 0.31638418 0.30508475\n",
      " 0.25988701 0.42372881 0.28813559 0.23728814 0.30508475 0.4180791\n",
      " 0.46327684 0.36158192 0.38983051 0.43502825 0.28813559 0.23728814\n",
      " 0.28248588 0.1299435  0.16949153 0.4180791  0.40112994 0.29943503\n",
      " 0.25988701 0.33898305 0.33333333 0.23163842 0.30508475 0.31638418\n",
      " 0.3220339  0.28248588 0.27683616 0.27118644 0.2259887  0.18644068\n",
      " 0.28248588 0.36723164 0.38418079 0.36158192 0.32768362 0.3220339\n",
      " 0.18079096 0.16949153 0.14689266 0.20338983 0.17514124 0.1299435\n",
      " 0.14689266 0.19774011 0.10169492 0.18079096 0.13559322 0.16949153\n",
      " 0.11299435 0.13559322 0.20903955 0.09039548 0.10734463 0.14689266\n",
      " 0.1299435  0.05649718 0.11864407 0.11864407 0.15254237 0.21468927\n",
      " 0.09039548 0.05649718 0.12429379 0.20903955 0.20903955 0.15254237\n",
      " 0.06214689 0.11299435 0.14885347 0.15228455 0.13357039 0.17690401\n",
      " 0.20395122 0.19004555 0.17711243 0.15985958 0.19671707 0.20378496]\n",
      "10 day output [[0.18971957]]\n",
      "11 day input [0.25988701 0.32768362 0.27683616 0.31638418 0.44067797 0.36158192\n",
      " 0.13559322 0.13559322 0.29378531 0.13559322 0.26553672 0.27118644\n",
      " 0.24293785 0.2259887  0.40677966 0.36158192 0.28248588 0.27683616\n",
      " 0.42372881 0.38983051 0.28813559 0.27683616 0.07909605 0.07909605\n",
      " 0.16949153 0.08474576 0.20338983 0.11864407 0.10734463 0.19774011\n",
      " 0.45762712 0.36723164 0.4519774  0.61581921 0.42937853 0.6440678\n",
      " 0.59887006 0.16949153 0.13559322 0.39548023 0.36723164 0.13559322\n",
      " 0.32768362 0.3559322  0.44067797 0.3559322  0.16384181 0.13559322\n",
      " 0.28813559 0.47457627 0.32768362 0.31638418 0.30508475 0.25988701\n",
      " 0.42372881 0.28813559 0.23728814 0.30508475 0.4180791  0.46327684\n",
      " 0.36158192 0.38983051 0.43502825 0.28813559 0.23728814 0.28248588\n",
      " 0.1299435  0.16949153 0.4180791  0.40112994 0.29943503 0.25988701\n",
      " 0.33898305 0.33333333 0.23163842 0.30508475 0.31638418 0.3220339\n",
      " 0.28248588 0.27683616 0.27118644 0.2259887  0.18644068 0.28248588\n",
      " 0.36723164 0.38418079 0.36158192 0.32768362 0.3220339  0.18079096\n",
      " 0.16949153 0.14689266 0.20338983 0.17514124 0.1299435  0.14689266\n",
      " 0.19774011 0.10169492 0.18079096 0.13559322 0.16949153 0.11299435\n",
      " 0.13559322 0.20903955 0.09039548 0.10734463 0.14689266 0.1299435\n",
      " 0.05649718 0.11864407 0.11864407 0.15254237 0.21468927 0.09039548\n",
      " 0.05649718 0.12429379 0.20903955 0.20903955 0.15254237 0.06214689\n",
      " 0.11299435 0.14885347 0.15228455 0.13357039 0.17690401 0.20395122\n",
      " 0.19004555 0.17711243 0.15985958 0.19671707 0.20378496 0.18971957]\n",
      "11 day output [[0.17430462]]\n",
      "12 day input [0.32768362 0.27683616 0.31638418 0.44067797 0.36158192 0.13559322\n",
      " 0.13559322 0.29378531 0.13559322 0.26553672 0.27118644 0.24293785\n",
      " 0.2259887  0.40677966 0.36158192 0.28248588 0.27683616 0.42372881\n",
      " 0.38983051 0.28813559 0.27683616 0.07909605 0.07909605 0.16949153\n",
      " 0.08474576 0.20338983 0.11864407 0.10734463 0.19774011 0.45762712\n",
      " 0.36723164 0.4519774  0.61581921 0.42937853 0.6440678  0.59887006\n",
      " 0.16949153 0.13559322 0.39548023 0.36723164 0.13559322 0.32768362\n",
      " 0.3559322  0.44067797 0.3559322  0.16384181 0.13559322 0.28813559\n",
      " 0.47457627 0.32768362 0.31638418 0.30508475 0.25988701 0.42372881\n",
      " 0.28813559 0.23728814 0.30508475 0.4180791  0.46327684 0.36158192\n",
      " 0.38983051 0.43502825 0.28813559 0.23728814 0.28248588 0.1299435\n",
      " 0.16949153 0.4180791  0.40112994 0.29943503 0.25988701 0.33898305\n",
      " 0.33333333 0.23163842 0.30508475 0.31638418 0.3220339  0.28248588\n",
      " 0.27683616 0.27118644 0.2259887  0.18644068 0.28248588 0.36723164\n",
      " 0.38418079 0.36158192 0.32768362 0.3220339  0.18079096 0.16949153\n",
      " 0.14689266 0.20338983 0.17514124 0.1299435  0.14689266 0.19774011\n",
      " 0.10169492 0.18079096 0.13559322 0.16949153 0.11299435 0.13559322\n",
      " 0.20903955 0.09039548 0.10734463 0.14689266 0.1299435  0.05649718\n",
      " 0.11864407 0.11864407 0.15254237 0.21468927 0.09039548 0.05649718\n",
      " 0.12429379 0.20903955 0.20903955 0.15254237 0.06214689 0.11299435\n",
      " 0.14885347 0.15228455 0.13357039 0.17690401 0.20395122 0.19004555\n",
      " 0.17711243 0.15985958 0.19671707 0.20378496 0.18971957 0.17430462]\n",
      "12 day output [[0.19849955]]\n",
      "13 day input [0.27683616 0.31638418 0.44067797 0.36158192 0.13559322 0.13559322\n",
      " 0.29378531 0.13559322 0.26553672 0.27118644 0.24293785 0.2259887\n",
      " 0.40677966 0.36158192 0.28248588 0.27683616 0.42372881 0.38983051\n",
      " 0.28813559 0.27683616 0.07909605 0.07909605 0.16949153 0.08474576\n",
      " 0.20338983 0.11864407 0.10734463 0.19774011 0.45762712 0.36723164\n",
      " 0.4519774  0.61581921 0.42937853 0.6440678  0.59887006 0.16949153\n",
      " 0.13559322 0.39548023 0.36723164 0.13559322 0.32768362 0.3559322\n",
      " 0.44067797 0.3559322  0.16384181 0.13559322 0.28813559 0.47457627\n",
      " 0.32768362 0.31638418 0.30508475 0.25988701 0.42372881 0.28813559\n",
      " 0.23728814 0.30508475 0.4180791  0.46327684 0.36158192 0.38983051\n",
      " 0.43502825 0.28813559 0.23728814 0.28248588 0.1299435  0.16949153\n",
      " 0.4180791  0.40112994 0.29943503 0.25988701 0.33898305 0.33333333\n",
      " 0.23163842 0.30508475 0.31638418 0.3220339  0.28248588 0.27683616\n",
      " 0.27118644 0.2259887  0.18644068 0.28248588 0.36723164 0.38418079\n",
      " 0.36158192 0.32768362 0.3220339  0.18079096 0.16949153 0.14689266\n",
      " 0.20338983 0.17514124 0.1299435  0.14689266 0.19774011 0.10169492\n",
      " 0.18079096 0.13559322 0.16949153 0.11299435 0.13559322 0.20903955\n",
      " 0.09039548 0.10734463 0.14689266 0.1299435  0.05649718 0.11864407\n",
      " 0.11864407 0.15254237 0.21468927 0.09039548 0.05649718 0.12429379\n",
      " 0.20903955 0.20903955 0.15254237 0.06214689 0.11299435 0.14885347\n",
      " 0.15228455 0.13357039 0.17690401 0.20395122 0.19004555 0.17711243\n",
      " 0.15985958 0.19671707 0.20378496 0.18971957 0.17430462 0.19849955]\n",
      "13 day output [[0.22205596]]\n",
      "14 day input [0.31638418 0.44067797 0.36158192 0.13559322 0.13559322 0.29378531\n",
      " 0.13559322 0.26553672 0.27118644 0.24293785 0.2259887  0.40677966\n",
      " 0.36158192 0.28248588 0.27683616 0.42372881 0.38983051 0.28813559\n",
      " 0.27683616 0.07909605 0.07909605 0.16949153 0.08474576 0.20338983\n",
      " 0.11864407 0.10734463 0.19774011 0.45762712 0.36723164 0.4519774\n",
      " 0.61581921 0.42937853 0.6440678  0.59887006 0.16949153 0.13559322\n",
      " 0.39548023 0.36723164 0.13559322 0.32768362 0.3559322  0.44067797\n",
      " 0.3559322  0.16384181 0.13559322 0.28813559 0.47457627 0.32768362\n",
      " 0.31638418 0.30508475 0.25988701 0.42372881 0.28813559 0.23728814\n",
      " 0.30508475 0.4180791  0.46327684 0.36158192 0.38983051 0.43502825\n",
      " 0.28813559 0.23728814 0.28248588 0.1299435  0.16949153 0.4180791\n",
      " 0.40112994 0.29943503 0.25988701 0.33898305 0.33333333 0.23163842\n",
      " 0.30508475 0.31638418 0.3220339  0.28248588 0.27683616 0.27118644\n",
      " 0.2259887  0.18644068 0.28248588 0.36723164 0.38418079 0.36158192\n",
      " 0.32768362 0.3220339  0.18079096 0.16949153 0.14689266 0.20338983\n",
      " 0.17514124 0.1299435  0.14689266 0.19774011 0.10169492 0.18079096\n",
      " 0.13559322 0.16949153 0.11299435 0.13559322 0.20903955 0.09039548\n",
      " 0.10734463 0.14689266 0.1299435  0.05649718 0.11864407 0.11864407\n",
      " 0.15254237 0.21468927 0.09039548 0.05649718 0.12429379 0.20903955\n",
      " 0.20903955 0.15254237 0.06214689 0.11299435 0.14885347 0.15228455\n",
      " 0.13357039 0.17690401 0.20395122 0.19004555 0.17711243 0.15985958\n",
      " 0.19671707 0.20378496 0.18971957 0.17430462 0.19849955 0.22205596]\n",
      "14 day output [[0.22320102]]\n",
      "15 day input [0.44067797 0.36158192 0.13559322 0.13559322 0.29378531 0.13559322\n",
      " 0.26553672 0.27118644 0.24293785 0.2259887  0.40677966 0.36158192\n",
      " 0.28248588 0.27683616 0.42372881 0.38983051 0.28813559 0.27683616\n",
      " 0.07909605 0.07909605 0.16949153 0.08474576 0.20338983 0.11864407\n",
      " 0.10734463 0.19774011 0.45762712 0.36723164 0.4519774  0.61581921\n",
      " 0.42937853 0.6440678  0.59887006 0.16949153 0.13559322 0.39548023\n",
      " 0.36723164 0.13559322 0.32768362 0.3559322  0.44067797 0.3559322\n",
      " 0.16384181 0.13559322 0.28813559 0.47457627 0.32768362 0.31638418\n",
      " 0.30508475 0.25988701 0.42372881 0.28813559 0.23728814 0.30508475\n",
      " 0.4180791  0.46327684 0.36158192 0.38983051 0.43502825 0.28813559\n",
      " 0.23728814 0.28248588 0.1299435  0.16949153 0.4180791  0.40112994\n",
      " 0.29943503 0.25988701 0.33898305 0.33333333 0.23163842 0.30508475\n",
      " 0.31638418 0.3220339  0.28248588 0.27683616 0.27118644 0.2259887\n",
      " 0.18644068 0.28248588 0.36723164 0.38418079 0.36158192 0.32768362\n",
      " 0.3220339  0.18079096 0.16949153 0.14689266 0.20338983 0.17514124\n",
      " 0.1299435  0.14689266 0.19774011 0.10169492 0.18079096 0.13559322\n",
      " 0.16949153 0.11299435 0.13559322 0.20903955 0.09039548 0.10734463\n",
      " 0.14689266 0.1299435  0.05649718 0.11864407 0.11864407 0.15254237\n",
      " 0.21468927 0.09039548 0.05649718 0.12429379 0.20903955 0.20903955\n",
      " 0.15254237 0.06214689 0.11299435 0.14885347 0.15228455 0.13357039\n",
      " 0.17690401 0.20395122 0.19004555 0.17711243 0.15985958 0.19671707\n",
      " 0.20378496 0.18971957 0.17430462 0.19849955 0.22205596 0.22320102]\n",
      "15 day output [[0.18516882]]\n",
      "16 day input [0.36158192 0.13559322 0.13559322 0.29378531 0.13559322 0.26553672\n",
      " 0.27118644 0.24293785 0.2259887  0.40677966 0.36158192 0.28248588\n",
      " 0.27683616 0.42372881 0.38983051 0.28813559 0.27683616 0.07909605\n",
      " 0.07909605 0.16949153 0.08474576 0.20338983 0.11864407 0.10734463\n",
      " 0.19774011 0.45762712 0.36723164 0.4519774  0.61581921 0.42937853\n",
      " 0.6440678  0.59887006 0.16949153 0.13559322 0.39548023 0.36723164\n",
      " 0.13559322 0.32768362 0.3559322  0.44067797 0.3559322  0.16384181\n",
      " 0.13559322 0.28813559 0.47457627 0.32768362 0.31638418 0.30508475\n",
      " 0.25988701 0.42372881 0.28813559 0.23728814 0.30508475 0.4180791\n",
      " 0.46327684 0.36158192 0.38983051 0.43502825 0.28813559 0.23728814\n",
      " 0.28248588 0.1299435  0.16949153 0.4180791  0.40112994 0.29943503\n",
      " 0.25988701 0.33898305 0.33333333 0.23163842 0.30508475 0.31638418\n",
      " 0.3220339  0.28248588 0.27683616 0.27118644 0.2259887  0.18644068\n",
      " 0.28248588 0.36723164 0.38418079 0.36158192 0.32768362 0.3220339\n",
      " 0.18079096 0.16949153 0.14689266 0.20338983 0.17514124 0.1299435\n",
      " 0.14689266 0.19774011 0.10169492 0.18079096 0.13559322 0.16949153\n",
      " 0.11299435 0.13559322 0.20903955 0.09039548 0.10734463 0.14689266\n",
      " 0.1299435  0.05649718 0.11864407 0.11864407 0.15254237 0.21468927\n",
      " 0.09039548 0.05649718 0.12429379 0.20903955 0.20903955 0.15254237\n",
      " 0.06214689 0.11299435 0.14885347 0.15228455 0.13357039 0.17690401\n",
      " 0.20395122 0.19004555 0.17711243 0.15985958 0.19671707 0.20378496\n",
      " 0.18971957 0.17430462 0.19849955 0.22205596 0.22320102 0.18516882]\n",
      "16 day output [[0.18022552]]\n",
      "17 day input [0.13559322 0.13559322 0.29378531 0.13559322 0.26553672 0.27118644\n",
      " 0.24293785 0.2259887  0.40677966 0.36158192 0.28248588 0.27683616\n",
      " 0.42372881 0.38983051 0.28813559 0.27683616 0.07909605 0.07909605\n",
      " 0.16949153 0.08474576 0.20338983 0.11864407 0.10734463 0.19774011\n",
      " 0.45762712 0.36723164 0.4519774  0.61581921 0.42937853 0.6440678\n",
      " 0.59887006 0.16949153 0.13559322 0.39548023 0.36723164 0.13559322\n",
      " 0.32768362 0.3559322  0.44067797 0.3559322  0.16384181 0.13559322\n",
      " 0.28813559 0.47457627 0.32768362 0.31638418 0.30508475 0.25988701\n",
      " 0.42372881 0.28813559 0.23728814 0.30508475 0.4180791  0.46327684\n",
      " 0.36158192 0.38983051 0.43502825 0.28813559 0.23728814 0.28248588\n",
      " 0.1299435  0.16949153 0.4180791  0.40112994 0.29943503 0.25988701\n",
      " 0.33898305 0.33333333 0.23163842 0.30508475 0.31638418 0.3220339\n",
      " 0.28248588 0.27683616 0.27118644 0.2259887  0.18644068 0.28248588\n",
      " 0.36723164 0.38418079 0.36158192 0.32768362 0.3220339  0.18079096\n",
      " 0.16949153 0.14689266 0.20338983 0.17514124 0.1299435  0.14689266\n",
      " 0.19774011 0.10169492 0.18079096 0.13559322 0.16949153 0.11299435\n",
      " 0.13559322 0.20903955 0.09039548 0.10734463 0.14689266 0.1299435\n",
      " 0.05649718 0.11864407 0.11864407 0.15254237 0.21468927 0.09039548\n",
      " 0.05649718 0.12429379 0.20903955 0.20903955 0.15254237 0.06214689\n",
      " 0.11299435 0.14885347 0.15228455 0.13357039 0.17690401 0.20395122\n",
      " 0.19004555 0.17711243 0.15985958 0.19671707 0.20378496 0.18971957\n",
      " 0.17430462 0.19849955 0.22205596 0.22320102 0.18516882 0.18022552]\n",
      "17 day output [[0.18801872]]\n",
      "18 day input [0.13559322 0.29378531 0.13559322 0.26553672 0.27118644 0.24293785\n",
      " 0.2259887  0.40677966 0.36158192 0.28248588 0.27683616 0.42372881\n",
      " 0.38983051 0.28813559 0.27683616 0.07909605 0.07909605 0.16949153\n",
      " 0.08474576 0.20338983 0.11864407 0.10734463 0.19774011 0.45762712\n",
      " 0.36723164 0.4519774  0.61581921 0.42937853 0.6440678  0.59887006\n",
      " 0.16949153 0.13559322 0.39548023 0.36723164 0.13559322 0.32768362\n",
      " 0.3559322  0.44067797 0.3559322  0.16384181 0.13559322 0.28813559\n",
      " 0.47457627 0.32768362 0.31638418 0.30508475 0.25988701 0.42372881\n",
      " 0.28813559 0.23728814 0.30508475 0.4180791  0.46327684 0.36158192\n",
      " 0.38983051 0.43502825 0.28813559 0.23728814 0.28248588 0.1299435\n",
      " 0.16949153 0.4180791  0.40112994 0.29943503 0.25988701 0.33898305\n",
      " 0.33333333 0.23163842 0.30508475 0.31638418 0.3220339  0.28248588\n",
      " 0.27683616 0.27118644 0.2259887  0.18644068 0.28248588 0.36723164\n",
      " 0.38418079 0.36158192 0.32768362 0.3220339  0.18079096 0.16949153\n",
      " 0.14689266 0.20338983 0.17514124 0.1299435  0.14689266 0.19774011\n",
      " 0.10169492 0.18079096 0.13559322 0.16949153 0.11299435 0.13559322\n",
      " 0.20903955 0.09039548 0.10734463 0.14689266 0.1299435  0.05649718\n",
      " 0.11864407 0.11864407 0.15254237 0.21468927 0.09039548 0.05649718\n",
      " 0.12429379 0.20903955 0.20903955 0.15254237 0.06214689 0.11299435\n",
      " 0.14885347 0.15228455 0.13357039 0.17690401 0.20395122 0.19004555\n",
      " 0.17711243 0.15985958 0.19671707 0.20378496 0.18971957 0.17430462\n",
      " 0.19849955 0.22205596 0.22320102 0.18516882 0.18022552 0.18801872]\n",
      "18 day output [[0.20606609]]\n",
      "19 day input [0.29378531 0.13559322 0.26553672 0.27118644 0.24293785 0.2259887\n",
      " 0.40677966 0.36158192 0.28248588 0.27683616 0.42372881 0.38983051\n",
      " 0.28813559 0.27683616 0.07909605 0.07909605 0.16949153 0.08474576\n",
      " 0.20338983 0.11864407 0.10734463 0.19774011 0.45762712 0.36723164\n",
      " 0.4519774  0.61581921 0.42937853 0.6440678  0.59887006 0.16949153\n",
      " 0.13559322 0.39548023 0.36723164 0.13559322 0.32768362 0.3559322\n",
      " 0.44067797 0.3559322  0.16384181 0.13559322 0.28813559 0.47457627\n",
      " 0.32768362 0.31638418 0.30508475 0.25988701 0.42372881 0.28813559\n",
      " 0.23728814 0.30508475 0.4180791  0.46327684 0.36158192 0.38983051\n",
      " 0.43502825 0.28813559 0.23728814 0.28248588 0.1299435  0.16949153\n",
      " 0.4180791  0.40112994 0.29943503 0.25988701 0.33898305 0.33333333\n",
      " 0.23163842 0.30508475 0.31638418 0.3220339  0.28248588 0.27683616\n",
      " 0.27118644 0.2259887  0.18644068 0.28248588 0.36723164 0.38418079\n",
      " 0.36158192 0.32768362 0.3220339  0.18079096 0.16949153 0.14689266\n",
      " 0.20338983 0.17514124 0.1299435  0.14689266 0.19774011 0.10169492\n",
      " 0.18079096 0.13559322 0.16949153 0.11299435 0.13559322 0.20903955\n",
      " 0.09039548 0.10734463 0.14689266 0.1299435  0.05649718 0.11864407\n",
      " 0.11864407 0.15254237 0.21468927 0.09039548 0.05649718 0.12429379\n",
      " 0.20903955 0.20903955 0.15254237 0.06214689 0.11299435 0.14885347\n",
      " 0.15228455 0.13357039 0.17690401 0.20395122 0.19004555 0.17711243\n",
      " 0.15985958 0.19671707 0.20378496 0.18971957 0.17430462 0.19849955\n",
      " 0.22205596 0.22320102 0.18516882 0.18022552 0.18801872 0.20606609]\n",
      "19 day output [[0.2377061]]\n",
      "20 day input [0.13559322 0.26553672 0.27118644 0.24293785 0.2259887  0.40677966\n",
      " 0.36158192 0.28248588 0.27683616 0.42372881 0.38983051 0.28813559\n",
      " 0.27683616 0.07909605 0.07909605 0.16949153 0.08474576 0.20338983\n",
      " 0.11864407 0.10734463 0.19774011 0.45762712 0.36723164 0.4519774\n",
      " 0.61581921 0.42937853 0.6440678  0.59887006 0.16949153 0.13559322\n",
      " 0.39548023 0.36723164 0.13559322 0.32768362 0.3559322  0.44067797\n",
      " 0.3559322  0.16384181 0.13559322 0.28813559 0.47457627 0.32768362\n",
      " 0.31638418 0.30508475 0.25988701 0.42372881 0.28813559 0.23728814\n",
      " 0.30508475 0.4180791  0.46327684 0.36158192 0.38983051 0.43502825\n",
      " 0.28813559 0.23728814 0.28248588 0.1299435  0.16949153 0.4180791\n",
      " 0.40112994 0.29943503 0.25988701 0.33898305 0.33333333 0.23163842\n",
      " 0.30508475 0.31638418 0.3220339  0.28248588 0.27683616 0.27118644\n",
      " 0.2259887  0.18644068 0.28248588 0.36723164 0.38418079 0.36158192\n",
      " 0.32768362 0.3220339  0.18079096 0.16949153 0.14689266 0.20338983\n",
      " 0.17514124 0.1299435  0.14689266 0.19774011 0.10169492 0.18079096\n",
      " 0.13559322 0.16949153 0.11299435 0.13559322 0.20903955 0.09039548\n",
      " 0.10734463 0.14689266 0.1299435  0.05649718 0.11864407 0.11864407\n",
      " 0.15254237 0.21468927 0.09039548 0.05649718 0.12429379 0.20903955\n",
      " 0.20903955 0.15254237 0.06214689 0.11299435 0.14885347 0.15228455\n",
      " 0.13357039 0.17690401 0.20395122 0.19004555 0.17711243 0.15985958\n",
      " 0.19671707 0.20378496 0.18971957 0.17430462 0.19849955 0.22205596\n",
      " 0.22320102 0.18516882 0.18022552 0.18801872 0.20606609 0.23770609]\n",
      "20 day output [[0.23009247]]\n",
      "21 day input [0.26553672 0.27118644 0.24293785 0.2259887  0.40677966 0.36158192\n",
      " 0.28248588 0.27683616 0.42372881 0.38983051 0.28813559 0.27683616\n",
      " 0.07909605 0.07909605 0.16949153 0.08474576 0.20338983 0.11864407\n",
      " 0.10734463 0.19774011 0.45762712 0.36723164 0.4519774  0.61581921\n",
      " 0.42937853 0.6440678  0.59887006 0.16949153 0.13559322 0.39548023\n",
      " 0.36723164 0.13559322 0.32768362 0.3559322  0.44067797 0.3559322\n",
      " 0.16384181 0.13559322 0.28813559 0.47457627 0.32768362 0.31638418\n",
      " 0.30508475 0.25988701 0.42372881 0.28813559 0.23728814 0.30508475\n",
      " 0.4180791  0.46327684 0.36158192 0.38983051 0.43502825 0.28813559\n",
      " 0.23728814 0.28248588 0.1299435  0.16949153 0.4180791  0.40112994\n",
      " 0.29943503 0.25988701 0.33898305 0.33333333 0.23163842 0.30508475\n",
      " 0.31638418 0.3220339  0.28248588 0.27683616 0.27118644 0.2259887\n",
      " 0.18644068 0.28248588 0.36723164 0.38418079 0.36158192 0.32768362\n",
      " 0.3220339  0.18079096 0.16949153 0.14689266 0.20338983 0.17514124\n",
      " 0.1299435  0.14689266 0.19774011 0.10169492 0.18079096 0.13559322\n",
      " 0.16949153 0.11299435 0.13559322 0.20903955 0.09039548 0.10734463\n",
      " 0.14689266 0.1299435  0.05649718 0.11864407 0.11864407 0.15254237\n",
      " 0.21468927 0.09039548 0.05649718 0.12429379 0.20903955 0.20903955\n",
      " 0.15254237 0.06214689 0.11299435 0.14885347 0.15228455 0.13357039\n",
      " 0.17690401 0.20395122 0.19004555 0.17711243 0.15985958 0.19671707\n",
      " 0.20378496 0.18971957 0.17430462 0.19849955 0.22205596 0.22320102\n",
      " 0.18516882 0.18022552 0.18801872 0.20606609 0.23770609 0.23009247]\n",
      "21 day output [[0.2188024]]\n",
      "22 day input [0.27118644 0.24293785 0.2259887  0.40677966 0.36158192 0.28248588\n",
      " 0.27683616 0.42372881 0.38983051 0.28813559 0.27683616 0.07909605\n",
      " 0.07909605 0.16949153 0.08474576 0.20338983 0.11864407 0.10734463\n",
      " 0.19774011 0.45762712 0.36723164 0.4519774  0.61581921 0.42937853\n",
      " 0.6440678  0.59887006 0.16949153 0.13559322 0.39548023 0.36723164\n",
      " 0.13559322 0.32768362 0.3559322  0.44067797 0.3559322  0.16384181\n",
      " 0.13559322 0.28813559 0.47457627 0.32768362 0.31638418 0.30508475\n",
      " 0.25988701 0.42372881 0.28813559 0.23728814 0.30508475 0.4180791\n",
      " 0.46327684 0.36158192 0.38983051 0.43502825 0.28813559 0.23728814\n",
      " 0.28248588 0.1299435  0.16949153 0.4180791  0.40112994 0.29943503\n",
      " 0.25988701 0.33898305 0.33333333 0.23163842 0.30508475 0.31638418\n",
      " 0.3220339  0.28248588 0.27683616 0.27118644 0.2259887  0.18644068\n",
      " 0.28248588 0.36723164 0.38418079 0.36158192 0.32768362 0.3220339\n",
      " 0.18079096 0.16949153 0.14689266 0.20338983 0.17514124 0.1299435\n",
      " 0.14689266 0.19774011 0.10169492 0.18079096 0.13559322 0.16949153\n",
      " 0.11299435 0.13559322 0.20903955 0.09039548 0.10734463 0.14689266\n",
      " 0.1299435  0.05649718 0.11864407 0.11864407 0.15254237 0.21468927\n",
      " 0.09039548 0.05649718 0.12429379 0.20903955 0.20903955 0.15254237\n",
      " 0.06214689 0.11299435 0.14885347 0.15228455 0.13357039 0.17690401\n",
      " 0.20395122 0.19004555 0.17711243 0.15985958 0.19671707 0.20378496\n",
      " 0.18971957 0.17430462 0.19849955 0.22205596 0.22320102 0.18516882\n",
      " 0.18022552 0.18801872 0.20606609 0.23770609 0.23009247 0.21880241]\n",
      "22 day output [[0.19572826]]\n",
      "23 day input [0.24293785 0.2259887  0.40677966 0.36158192 0.28248588 0.27683616\n",
      " 0.42372881 0.38983051 0.28813559 0.27683616 0.07909605 0.07909605\n",
      " 0.16949153 0.08474576 0.20338983 0.11864407 0.10734463 0.19774011\n",
      " 0.45762712 0.36723164 0.4519774  0.61581921 0.42937853 0.6440678\n",
      " 0.59887006 0.16949153 0.13559322 0.39548023 0.36723164 0.13559322\n",
      " 0.32768362 0.3559322  0.44067797 0.3559322  0.16384181 0.13559322\n",
      " 0.28813559 0.47457627 0.32768362 0.31638418 0.30508475 0.25988701\n",
      " 0.42372881 0.28813559 0.23728814 0.30508475 0.4180791  0.46327684\n",
      " 0.36158192 0.38983051 0.43502825 0.28813559 0.23728814 0.28248588\n",
      " 0.1299435  0.16949153 0.4180791  0.40112994 0.29943503 0.25988701\n",
      " 0.33898305 0.33333333 0.23163842 0.30508475 0.31638418 0.3220339\n",
      " 0.28248588 0.27683616 0.27118644 0.2259887  0.18644068 0.28248588\n",
      " 0.36723164 0.38418079 0.36158192 0.32768362 0.3220339  0.18079096\n",
      " 0.16949153 0.14689266 0.20338983 0.17514124 0.1299435  0.14689266\n",
      " 0.19774011 0.10169492 0.18079096 0.13559322 0.16949153 0.11299435\n",
      " 0.13559322 0.20903955 0.09039548 0.10734463 0.14689266 0.1299435\n",
      " 0.05649718 0.11864407 0.11864407 0.15254237 0.21468927 0.09039548\n",
      " 0.05649718 0.12429379 0.20903955 0.20903955 0.15254237 0.06214689\n",
      " 0.11299435 0.14885347 0.15228455 0.13357039 0.17690401 0.20395122\n",
      " 0.19004555 0.17711243 0.15985958 0.19671707 0.20378496 0.18971957\n",
      " 0.17430462 0.19849955 0.22205596 0.22320102 0.18516882 0.18022552\n",
      " 0.18801872 0.20606609 0.23770609 0.23009247 0.21880241 0.19572826]\n",
      "23 day output [[0.20654394]]\n",
      "24 day input [0.2259887  0.40677966 0.36158192 0.28248588 0.27683616 0.42372881\n",
      " 0.38983051 0.28813559 0.27683616 0.07909605 0.07909605 0.16949153\n",
      " 0.08474576 0.20338983 0.11864407 0.10734463 0.19774011 0.45762712\n",
      " 0.36723164 0.4519774  0.61581921 0.42937853 0.6440678  0.59887006\n",
      " 0.16949153 0.13559322 0.39548023 0.36723164 0.13559322 0.32768362\n",
      " 0.3559322  0.44067797 0.3559322  0.16384181 0.13559322 0.28813559\n",
      " 0.47457627 0.32768362 0.31638418 0.30508475 0.25988701 0.42372881\n",
      " 0.28813559 0.23728814 0.30508475 0.4180791  0.46327684 0.36158192\n",
      " 0.38983051 0.43502825 0.28813559 0.23728814 0.28248588 0.1299435\n",
      " 0.16949153 0.4180791  0.40112994 0.29943503 0.25988701 0.33898305\n",
      " 0.33333333 0.23163842 0.30508475 0.31638418 0.3220339  0.28248588\n",
      " 0.27683616 0.27118644 0.2259887  0.18644068 0.28248588 0.36723164\n",
      " 0.38418079 0.36158192 0.32768362 0.3220339  0.18079096 0.16949153\n",
      " 0.14689266 0.20338983 0.17514124 0.1299435  0.14689266 0.19774011\n",
      " 0.10169492 0.18079096 0.13559322 0.16949153 0.11299435 0.13559322\n",
      " 0.20903955 0.09039548 0.10734463 0.14689266 0.1299435  0.05649718\n",
      " 0.11864407 0.11864407 0.15254237 0.21468927 0.09039548 0.05649718\n",
      " 0.12429379 0.20903955 0.20903955 0.15254237 0.06214689 0.11299435\n",
      " 0.14885347 0.15228455 0.13357039 0.17690401 0.20395122 0.19004555\n",
      " 0.17711243 0.15985958 0.19671707 0.20378496 0.18971957 0.17430462\n",
      " 0.19849955 0.22205596 0.22320102 0.18516882 0.18022552 0.18801872\n",
      " 0.20606609 0.23770609 0.23009247 0.21880241 0.19572826 0.20654394]\n",
      "24 day output [[0.21510744]]\n",
      "25 day input [0.40677966 0.36158192 0.28248588 0.27683616 0.42372881 0.38983051\n",
      " 0.28813559 0.27683616 0.07909605 0.07909605 0.16949153 0.08474576\n",
      " 0.20338983 0.11864407 0.10734463 0.19774011 0.45762712 0.36723164\n",
      " 0.4519774  0.61581921 0.42937853 0.6440678  0.59887006 0.16949153\n",
      " 0.13559322 0.39548023 0.36723164 0.13559322 0.32768362 0.3559322\n",
      " 0.44067797 0.3559322  0.16384181 0.13559322 0.28813559 0.47457627\n",
      " 0.32768362 0.31638418 0.30508475 0.25988701 0.42372881 0.28813559\n",
      " 0.23728814 0.30508475 0.4180791  0.46327684 0.36158192 0.38983051\n",
      " 0.43502825 0.28813559 0.23728814 0.28248588 0.1299435  0.16949153\n",
      " 0.4180791  0.40112994 0.29943503 0.25988701 0.33898305 0.33333333\n",
      " 0.23163842 0.30508475 0.31638418 0.3220339  0.28248588 0.27683616\n",
      " 0.27118644 0.2259887  0.18644068 0.28248588 0.36723164 0.38418079\n",
      " 0.36158192 0.32768362 0.3220339  0.18079096 0.16949153 0.14689266\n",
      " 0.20338983 0.17514124 0.1299435  0.14689266 0.19774011 0.10169492\n",
      " 0.18079096 0.13559322 0.16949153 0.11299435 0.13559322 0.20903955\n",
      " 0.09039548 0.10734463 0.14689266 0.1299435  0.05649718 0.11864407\n",
      " 0.11864407 0.15254237 0.21468927 0.09039548 0.05649718 0.12429379\n",
      " 0.20903955 0.20903955 0.15254237 0.06214689 0.11299435 0.14885347\n",
      " 0.15228455 0.13357039 0.17690401 0.20395122 0.19004555 0.17711243\n",
      " 0.15985958 0.19671707 0.20378496 0.18971957 0.17430462 0.19849955\n",
      " 0.22205596 0.22320102 0.18516882 0.18022552 0.18801872 0.20606609\n",
      " 0.23770609 0.23009247 0.21880241 0.19572826 0.20654394 0.21510744]\n",
      "25 day output [[0.2122035]]\n",
      "26 day input [0.36158192 0.28248588 0.27683616 0.42372881 0.38983051 0.28813559\n",
      " 0.27683616 0.07909605 0.07909605 0.16949153 0.08474576 0.20338983\n",
      " 0.11864407 0.10734463 0.19774011 0.45762712 0.36723164 0.4519774\n",
      " 0.61581921 0.42937853 0.6440678  0.59887006 0.16949153 0.13559322\n",
      " 0.39548023 0.36723164 0.13559322 0.32768362 0.3559322  0.44067797\n",
      " 0.3559322  0.16384181 0.13559322 0.28813559 0.47457627 0.32768362\n",
      " 0.31638418 0.30508475 0.25988701 0.42372881 0.28813559 0.23728814\n",
      " 0.30508475 0.4180791  0.46327684 0.36158192 0.38983051 0.43502825\n",
      " 0.28813559 0.23728814 0.28248588 0.1299435  0.16949153 0.4180791\n",
      " 0.40112994 0.29943503 0.25988701 0.33898305 0.33333333 0.23163842\n",
      " 0.30508475 0.31638418 0.3220339  0.28248588 0.27683616 0.27118644\n",
      " 0.2259887  0.18644068 0.28248588 0.36723164 0.38418079 0.36158192\n",
      " 0.32768362 0.3220339  0.18079096 0.16949153 0.14689266 0.20338983\n",
      " 0.17514124 0.1299435  0.14689266 0.19774011 0.10169492 0.18079096\n",
      " 0.13559322 0.16949153 0.11299435 0.13559322 0.20903955 0.09039548\n",
      " 0.10734463 0.14689266 0.1299435  0.05649718 0.11864407 0.11864407\n",
      " 0.15254237 0.21468927 0.09039548 0.05649718 0.12429379 0.20903955\n",
      " 0.20903955 0.15254237 0.06214689 0.11299435 0.14885347 0.15228455\n",
      " 0.13357039 0.17690401 0.20395122 0.19004555 0.17711243 0.15985958\n",
      " 0.19671707 0.20378496 0.18971957 0.17430462 0.19849955 0.22205596\n",
      " 0.22320102 0.18516882 0.18022552 0.18801872 0.20606609 0.23770609\n",
      " 0.23009247 0.21880241 0.19572826 0.20654394 0.21510744 0.2122035 ]\n",
      "26 day output [[0.22416736]]\n",
      "27 day input [0.28248588 0.27683616 0.42372881 0.38983051 0.28813559 0.27683616\n",
      " 0.07909605 0.07909605 0.16949153 0.08474576 0.20338983 0.11864407\n",
      " 0.10734463 0.19774011 0.45762712 0.36723164 0.4519774  0.61581921\n",
      " 0.42937853 0.6440678  0.59887006 0.16949153 0.13559322 0.39548023\n",
      " 0.36723164 0.13559322 0.32768362 0.3559322  0.44067797 0.3559322\n",
      " 0.16384181 0.13559322 0.28813559 0.47457627 0.32768362 0.31638418\n",
      " 0.30508475 0.25988701 0.42372881 0.28813559 0.23728814 0.30508475\n",
      " 0.4180791  0.46327684 0.36158192 0.38983051 0.43502825 0.28813559\n",
      " 0.23728814 0.28248588 0.1299435  0.16949153 0.4180791  0.40112994\n",
      " 0.29943503 0.25988701 0.33898305 0.33333333 0.23163842 0.30508475\n",
      " 0.31638418 0.3220339  0.28248588 0.27683616 0.27118644 0.2259887\n",
      " 0.18644068 0.28248588 0.36723164 0.38418079 0.36158192 0.32768362\n",
      " 0.3220339  0.18079096 0.16949153 0.14689266 0.20338983 0.17514124\n",
      " 0.1299435  0.14689266 0.19774011 0.10169492 0.18079096 0.13559322\n",
      " 0.16949153 0.11299435 0.13559322 0.20903955 0.09039548 0.10734463\n",
      " 0.14689266 0.1299435  0.05649718 0.11864407 0.11864407 0.15254237\n",
      " 0.21468927 0.09039548 0.05649718 0.12429379 0.20903955 0.20903955\n",
      " 0.15254237 0.06214689 0.11299435 0.14885347 0.15228455 0.13357039\n",
      " 0.17690401 0.20395122 0.19004555 0.17711243 0.15985958 0.19671707\n",
      " 0.20378496 0.18971957 0.17430462 0.19849955 0.22205596 0.22320102\n",
      " 0.18516882 0.18022552 0.18801872 0.20606609 0.23770609 0.23009247\n",
      " 0.21880241 0.19572826 0.20654394 0.21510744 0.2122035  0.22416736]\n",
      "27 day output [[0.24405897]]\n",
      "28 day input [0.27683616 0.42372881 0.38983051 0.28813559 0.27683616 0.07909605\n",
      " 0.07909605 0.16949153 0.08474576 0.20338983 0.11864407 0.10734463\n",
      " 0.19774011 0.45762712 0.36723164 0.4519774  0.61581921 0.42937853\n",
      " 0.6440678  0.59887006 0.16949153 0.13559322 0.39548023 0.36723164\n",
      " 0.13559322 0.32768362 0.3559322  0.44067797 0.3559322  0.16384181\n",
      " 0.13559322 0.28813559 0.47457627 0.32768362 0.31638418 0.30508475\n",
      " 0.25988701 0.42372881 0.28813559 0.23728814 0.30508475 0.4180791\n",
      " 0.46327684 0.36158192 0.38983051 0.43502825 0.28813559 0.23728814\n",
      " 0.28248588 0.1299435  0.16949153 0.4180791  0.40112994 0.29943503\n",
      " 0.25988701 0.33898305 0.33333333 0.23163842 0.30508475 0.31638418\n",
      " 0.3220339  0.28248588 0.27683616 0.27118644 0.2259887  0.18644068\n",
      " 0.28248588 0.36723164 0.38418079 0.36158192 0.32768362 0.3220339\n",
      " 0.18079096 0.16949153 0.14689266 0.20338983 0.17514124 0.1299435\n",
      " 0.14689266 0.19774011 0.10169492 0.18079096 0.13559322 0.16949153\n",
      " 0.11299435 0.13559322 0.20903955 0.09039548 0.10734463 0.14689266\n",
      " 0.1299435  0.05649718 0.11864407 0.11864407 0.15254237 0.21468927\n",
      " 0.09039548 0.05649718 0.12429379 0.20903955 0.20903955 0.15254237\n",
      " 0.06214689 0.11299435 0.14885347 0.15228455 0.13357039 0.17690401\n",
      " 0.20395122 0.19004555 0.17711243 0.15985958 0.19671707 0.20378496\n",
      " 0.18971957 0.17430462 0.19849955 0.22205596 0.22320102 0.18516882\n",
      " 0.18022552 0.18801872 0.20606609 0.23770609 0.23009247 0.21880241\n",
      " 0.19572826 0.20654394 0.21510744 0.2122035  0.22416736 0.24405897]\n",
      "28 day output [[0.23098505]]\n",
      "29 day input [0.42372881 0.38983051 0.28813559 0.27683616 0.07909605 0.07909605\n",
      " 0.16949153 0.08474576 0.20338983 0.11864407 0.10734463 0.19774011\n",
      " 0.45762712 0.36723164 0.4519774  0.61581921 0.42937853 0.6440678\n",
      " 0.59887006 0.16949153 0.13559322 0.39548023 0.36723164 0.13559322\n",
      " 0.32768362 0.3559322  0.44067797 0.3559322  0.16384181 0.13559322\n",
      " 0.28813559 0.47457627 0.32768362 0.31638418 0.30508475 0.25988701\n",
      " 0.42372881 0.28813559 0.23728814 0.30508475 0.4180791  0.46327684\n",
      " 0.36158192 0.38983051 0.43502825 0.28813559 0.23728814 0.28248588\n",
      " 0.1299435  0.16949153 0.4180791  0.40112994 0.29943503 0.25988701\n",
      " 0.33898305 0.33333333 0.23163842 0.30508475 0.31638418 0.3220339\n",
      " 0.28248588 0.27683616 0.27118644 0.2259887  0.18644068 0.28248588\n",
      " 0.36723164 0.38418079 0.36158192 0.32768362 0.3220339  0.18079096\n",
      " 0.16949153 0.14689266 0.20338983 0.17514124 0.1299435  0.14689266\n",
      " 0.19774011 0.10169492 0.18079096 0.13559322 0.16949153 0.11299435\n",
      " 0.13559322 0.20903955 0.09039548 0.10734463 0.14689266 0.1299435\n",
      " 0.05649718 0.11864407 0.11864407 0.15254237 0.21468927 0.09039548\n",
      " 0.05649718 0.12429379 0.20903955 0.20903955 0.15254237 0.06214689\n",
      " 0.11299435 0.14885347 0.15228455 0.13357039 0.17690401 0.20395122\n",
      " 0.19004555 0.17711243 0.15985958 0.19671707 0.20378496 0.18971957\n",
      " 0.17430462 0.19849955 0.22205596 0.22320102 0.18516882 0.18022552\n",
      " 0.18801872 0.20606609 0.23770609 0.23009247 0.21880241 0.19572826\n",
      " 0.20654394 0.21510744 0.2122035  0.22416736 0.24405897 0.23098505]\n",
      "29 day output [[0.219951]]\n"
     ]
    }
   ],
   "source": [
    "# 13. Dự báo 30 ngày tiếp theo\n",
    "x_input=test_data[60:].reshape(1,-1)\n",
    "print(x_input.shape)\n",
    "\n",
    "temp_input=list(x_input)\n",
    "temp_input=temp_input[0].tolist()\n",
    "\n",
    "from numpy import array\n",
    "\n",
    "lst_output=[]\n",
    "n_steps=132\n",
    "i=0\n",
    "while(i<30):\n",
    "\n",
    "    if(len(temp_input)>132):\n",
    "        #print(temp_input)\n",
    "        x_input=np.array(temp_input[1:])\n",
    "        print(\"{} day input {}\".format(i,x_input))\n",
    "        x_input=x_input.reshape(1,-1)\n",
    "        x_input = x_input.reshape((1, n_steps, 1))\n",
    "        yhat = model.predict(x_input, verbose=0)\n",
    "        print(\"{} day output {}\".format(i,yhat))\n",
    "        temp_input.extend(yhat[0].tolist())\n",
    "        temp_input=temp_input[1:]\n",
    "        lst_output.extend(yhat.tolist())\n",
    "        i=i+1\n",
    "    else:\n",
    "        x_input = x_input.reshape((1, n_steps,1))\n",
    "        yhat = model.predict(x_input, verbose=0)\n",
    "        print(yhat[0])\n",
    "        temp_input.extend(yhat[0].tolist())\n",
    "        print(len(temp_input))\n",
    "        lst_output.extend(yhat.tolist())\n",
    "        i=i+1\n"
   ]
  },
  {
   "cell_type": "code",
   "execution_count": 20,
   "metadata": {
    "colab": {
     "base_uri": "https://localhost:8080/",
     "height": 430
    },
    "executionInfo": {
     "elapsed": 34,
     "status": "ok",
     "timestamp": 1717294705441,
     "user": {
      "displayName": "PHÚC TRẦN HOÀNG",
      "userId": "13892609718634505180"
     },
     "user_tz": -420
    },
    "id": "KSa_mX51a654",
    "outputId": "24c04f3d-afa7-452e-bb42-67c6deb96d59"
   },
   "outputs": [
    {
     "data": {
      "image/png": "[encoded data removed]",
      "text/plain": [
       "<Figure size 640x480 with 1 Axes>"
      ]
     },
     "metadata": {},
     "output_type": "display_data"
    }
   ],
   "source": [
    "# 14.Vẽ hình\n",
    "\n",
    "train_data_index = pd.RangeIndex(start=0, stop=train_size, step=1)\n",
    "plt.plot(scaler.inverse_transform(train_data))\n",
    "\n",
    "test_data_index = pd.RangeIndex(start=train_size, stop=train_size+test_size, step=1)\n",
    "plt.plot(test_data_index,scaler.inverse_transform(test_data))\n",
    "test_data_index = pd.RangeIndex(start=train_size, stop=train_size+test_size, step=1)\n",
    "plt.plot(test_data_index,y_pred)\n",
    "\n",
    "prediect_data_index = pd.RangeIndex(start=len(df1)-1, stop=len(df1)+29, step=1)\n",
    "plt.plot(prediect_data_index,scaler.inverse_transform(lst_output))\n",
    "plt.legend(['Train','Test','Predict','Predict30days'])\n",
    "plt.show()"
   ]
  },
  {
   "cell_type": "code",
   "execution_count": 21,
   "metadata": {
    "colab": {
     "base_uri": "https://localhost:8080/",
     "height": 430
    },
    "executionInfo": {
     "elapsed": 795,
     "status": "ok",
     "timestamp": 1717294706206,
     "user": {
      "displayName": "PHÚC TRẦN HOÀNG",
      "userId": "13892609718634505180"
     },
     "user_tz": -420
    },
    "id": "NX2NiaVGSweP",
    "outputId": "228c9119-f464-4a02-9998-61b19c904b42"
   },
   "outputs": [
    {
     "data": {
      "image/png": "[encoded data removed]",
      "text/plain": [
       "<Figure size 640x480 with 1 Axes>"
      ]
     },
     "metadata": {},
     "output_type": "display_data"
    }
   ],
   "source": [
    "# 14.Vẽ hình\n",
    "# Dự đoán 30 ngày tiếp theo\n",
    "prediect_data_index = pd.RangeIndex(start=len(df1)-1, stop=len(df1)+29, step=1)\n",
    "plt.plot(prediect_data_index,scaler.inverse_transform(lst_output))\n",
    "plt.legend(['Predict30days'])\n",
    "plt.show()"
   ]
  },
  {
   "cell_type": "code",
   "execution_count": 22,
   "metadata": {
    "colab": {
     "base_uri": "https://localhost:8080/"
    },
    "executionInfo": {
     "elapsed": 14,
     "status": "ok",
     "timestamp": 1717294706206,
     "user": {
      "displayName": "PHÚC TRẦN HOÀNG",
      "userId": "13892609718634505180"
     },
     "user_tz": -420
    },
    "id": "BkgnV07USwUl",
    "outputId": "861febfc-bb5c-4d14-a4c1-d4890ec317e0"
   },
   "outputs": [
    {
     "name": "stdout",
     "output_type": "stream",
     "text": [
      "[[27.34706347]\n",
      " [27.95436494]\n",
      " [24.64195867]\n",
      " [32.31200938]\n",
      " [37.09936677]\n",
      " [34.63806243]\n",
      " [32.34890017]\n",
      " [29.29514615]\n",
      " [35.81892113]\n",
      " [37.06993748]\n",
      " [34.58036436]\n",
      " [31.85191764]\n",
      " [36.13441955]\n",
      " [40.30390434]\n",
      " [40.50658081]\n",
      " [33.77488072]\n",
      " [32.89991727]\n",
      " [34.27931421]\n",
      " [37.47369738]\n",
      " [43.07397881]\n",
      " [41.72636646]\n",
      " [39.72802611]\n",
      " [35.64390154]\n",
      " [37.55827691]\n",
      " [39.07401705]\n",
      " [38.56001997]\n",
      " [40.67762305]\n",
      " [44.19843709]\n",
      " [41.88435304]\n",
      " [39.93132767]]\n"
     ]
    }
   ],
   "source": [
    "print(scaler.inverse_transform(lst_output))"
   ]
  }
 ],
 "metadata": {
  "colab": {
   "provenance": []
  },
  "kernelspec": {
   "display_name": "Python 3 (ipykernel)",
   "language": "python",
   "name": "python3"
  },
  "language_info": {
   "codemirror_mode": {
    "name": "ipython",
    "version": 3
   },
   "file_extension": ".py",
   "mimetype": "text/x-python",
   "name": "python",
   "nbconvert_exporter": "python",
   "pygments_lexer": "ipython3",
   "version": "3.11.7"
  }
 },
 "nbformat": 4,
 "nbformat_minor": 4
}
