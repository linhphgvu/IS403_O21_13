{
 "cells": [
  {
   "cell_type": "markdown",
   "metadata": {
    "id": "ND7p1gUtWOHS"
   },
   "source": [
    "https://machinelearningmastery.com/understanding-simple-recurrent-neural-networks-in-keras/"
   ]
  },
  {
   "cell_type": "code",
   "execution_count": 1,
   "metadata": {
    "executionInfo": {
     "elapsed": 4315,
     "status": "ok",
     "timestamp": 1717294616217,
     "user": {
      "displayName": "PHÚC TRẦN HOÀNG",
      "userId": "13892609718634505180"
     },
     "user_tz": -420
    },
    "id": "FMDKda-XIUAK"
   },
   "outputs": [],
   "source": [
    "# 1. Import thư viện cần thiết\n",
    "import numpy as np\n",
    "import pandas as pd\n",
    "import matplotlib.pyplot as plt\n",
    "from sklearn.preprocessing import MinMaxScaler\n",
    "from keras.models import Sequential\n",
    "from keras.layers import Dense, SimpleRNN"
   ]
  },
  {
   "cell_type": "code",
   "execution_count": 2,
   "metadata": {
    "executionInfo": {
     "elapsed": 16,
     "status": "ok",
     "timestamp": 1717294616217,
     "user": {
      "displayName": "PHÚC TRẦN HOÀNG",
      "userId": "13892609718634505180"
     },
     "user_tz": -420
    },
    "id": "aRm9GQ8KJJ5N"
   },
   "outputs": [],
   "source": [
    "# 2. Đọc file csv và gắng index với giá Close\n",
    "df = pd.read_csv('hanoi_quality.csv')\n",
    "df1=df.reset_index()['pm25']"
   ]
  },
  {
   "cell_type": "code",
   "execution_count": 3,
   "metadata": {
    "colab": {
     "base_uri": "https://localhost:8080/"
    },
    "executionInfo": {
     "elapsed": 15,
     "status": "ok",
     "timestamp": 1717294616218,
     "user": {
      "displayName": "PHÚC TRẦN HOÀNG",
      "userId": "13892609718634505180"
     },
     "user_tz": -420
    },
    "id": "3Bq_mKrsYiOO",
    "outputId": "345d6951-1ade-499c-a6b0-48f453208807"
   },
   "outputs": [
    {
     "data": {
      "text/plain": [
       "(1920,)"
      ]
     },
     "execution_count": 3,
     "metadata": {},
     "output_type": "execute_result"
    }
   ],
   "source": [
    "df1.shape"
   ]
  },
  {
   "cell_type": "code",
   "execution_count": 4,
   "metadata": {
    "executionInfo": {
     "elapsed": 10,
     "status": "ok",
     "timestamp": 1717294616218,
     "user": {
      "displayName": "PHÚC TRẦN HOÀNG",
      "userId": "13892609718634505180"
     },
     "user_tz": -420
    },
    "id": "RdVpDho2JgL5"
   },
   "outputs": [],
   "source": [
    "# 3. Scaler data\n",
    "scaler=MinMaxScaler(feature_range=(0,1))\n",
    "df1=scaler.fit_transform(np.array(df1).reshape(-1,1))"
   ]
  },
  {
   "cell_type": "code",
   "execution_count": 5,
   "metadata": {
    "executionInfo": {
     "elapsed": 9,
     "status": "ok",
     "timestamp": 1717294616218,
     "user": {
      "displayName": "PHÚC TRẦN HOÀNG",
      "userId": "13892609718634505180"
     },
     "user_tz": -420
    },
    "id": "B5JXpenzJoR3"
   },
   "outputs": [],
   "source": [
    "# 4. Chia train test\n",
    "train_size = int(0.9 * len(df1))\n",
    "test_size = len(df1) - train_size\n",
    "\n",
    "train_data = df1[:train_size]\n",
    "test_data = df1[train_size:train_size+test_size]\n"
   ]
  },
  {
   "cell_type": "code",
   "execution_count": 6,
   "metadata": {
    "colab": {
     "base_uri": "https://localhost:8080/"
    },
    "executionInfo": {
     "elapsed": 8,
     "status": "ok",
     "timestamp": 1717294616218,
     "user": {
      "displayName": "PHÚC TRẦN HOÀNG",
      "userId": "13892609718634505180"
     },
     "user_tz": -420
    },
    "id": "qflFkXQGg8q0",
    "outputId": "d783b7b7-a830-49bf-fdf1-ef88030019a7"
   },
   "outputs": [
    {
     "name": "stdout",
     "output_type": "stream",
     "text": [
      "1728\n",
      "192\n"
     ]
    }
   ],
   "source": [
    "print(train_size)\n",
    "print(test_size)"
   ]
  },
  {
   "cell_type": "code",
   "execution_count": 7,
   "metadata": {
    "colab": {
     "base_uri": "https://localhost:8080/"
    },
    "executionInfo": {
     "elapsed": 6,
     "status": "ok",
     "timestamp": 1717294616218,
     "user": {
      "displayName": "PHÚC TRẦN HOÀNG",
      "userId": "13892609718634505180"
     },
     "user_tz": -420
    },
    "id": "hXzWz8YXHym9",
    "outputId": "4314b97e-983e-45af-825d-d1be6371860f"
   },
   "outputs": [
    {
     "name": "stdout",
     "output_type": "stream",
     "text": [
      "(1728, 1)\n",
      "(192, 1)\n"
     ]
    }
   ],
   "source": [
    "print(train_data.shape)\n",
    "print(test_data.shape)\n"
   ]
  },
  {
   "cell_type": "code",
   "execution_count": 8,
   "metadata": {
    "executionInfo": {
     "elapsed": 17,
     "status": "ok",
     "timestamp": 1717294616938,
     "user": {
      "displayName": "PHÚC TRẦN HOÀNG",
      "userId": "13892609718634505180"
     },
     "user_tz": -420
    },
    "id": "yJfmuBORLSfC"
   },
   "outputs": [],
   "source": [
    "# 5. Hàm Create Dataset\n",
    "import numpy\n",
    "# convert an array of values into a dataset matrix\n",
    "def create_dataset(dataset, time_step=1):\n",
    "\tdataX, dataY = [], []\n",
    "\tfor i in range(len(dataset)-time_step-1):\n",
    "\t\ta = dataset[i:(i+time_step), 0]   ###i=0, X=0,1,2,3-----99   Y=100\n",
    "\t\tdataX.append(a)\n",
    "\t\tdataY.append(dataset[i + time_step, 0])\n",
    "\treturn numpy.array(dataX), numpy.array(dataY)"
   ]
  },
  {
   "cell_type": "code",
   "execution_count": 9,
   "metadata": {
    "executionInfo": {
     "elapsed": 16,
     "status": "ok",
     "timestamp": 1717294616938,
     "user": {
      "displayName": "PHÚC TRẦN HOÀNG",
      "userId": "13892609718634505180"
     },
     "user_tz": -420
    },
    "id": "e81cKq03LXFB"
   },
   "outputs": [],
   "source": [
    "#6. Reshape into X=t,t+1,t+2..t+99 and Y=t+100\n",
    "\n",
    "time_step = 100\n",
    "X_train, y_train = create_dataset(train_data, time_step)\n",
    "X_test, ytest = create_dataset(test_data, time_step)"
   ]
  },
  {
   "cell_type": "code",
   "execution_count": 10,
   "metadata": {
    "colab": {
     "base_uri": "https://localhost:8080/"
    },
    "executionInfo": {
     "elapsed": 14,
     "status": "ok",
     "timestamp": 1717294616938,
     "user": {
      "displayName": "PHÚC TRẦN HOÀNG",
      "userId": "13892609718634505180"
     },
     "user_tz": -420
    },
    "id": "l3EA_b_tIYqJ",
    "outputId": "ee4d6080-d349-424f-9ece-b2b3a1e05b57"
   },
   "outputs": [
    {
     "name": "stdout",
     "output_type": "stream",
     "text": [
      "(1627, 100)\n",
      "(1627,)\n",
      "(91, 100)\n",
      "(91,)\n"
     ]
    }
   ],
   "source": [
    "print(X_train.shape)\n",
    "print(y_train.shape)\n",
    "print(X_test.shape)\n",
    "print(ytest.shape)\n"
   ]
  },
  {
   "cell_type": "code",
   "execution_count": 11,
   "metadata": {
    "executionInfo": {
     "elapsed": 11,
     "status": "ok",
     "timestamp": 1717294616939,
     "user": {
      "displayName": "PHÚC TRẦN HOÀNG",
      "userId": "13892609718634505180"
     },
     "user_tz": -420
    },
    "id": "RdBVfku7O2qb"
   },
   "outputs": [],
   "source": [
    "# 7. Reshape input to be [samples, time steps, features] which is required for LSTM\n",
    "X_train =X_train.reshape(X_train.shape[0],X_train.shape[1] , 1)\n",
    "X_test = X_test.reshape(X_test.shape[0],X_test.shape[1] , 1)\n"
   ]
  },
  {
   "cell_type": "code",
   "execution_count": 12,
   "metadata": {
    "colab": {
     "base_uri": "https://localhost:8080/"
    },
    "executionInfo": {
     "elapsed": 11,
     "status": "ok",
     "timestamp": 1717294616939,
     "user": {
      "displayName": "PHÚC TRẦN HOÀNG",
      "userId": "13892609718634505180"
     },
     "user_tz": -420
    },
    "id": "Pgc-xQnfYf7v",
    "outputId": "b5af943a-0d93-4821-bc12-cf7d97a30dd5"
   },
   "outputs": [
    {
     "name": "stdout",
     "output_type": "stream",
     "text": [
      "(1627, 100, 1)\n",
      "(91, 100, 1)\n"
     ]
    }
   ],
   "source": [
    "print(X_train.shape)\n",
    "print(X_test.shape)"
   ]
  },
  {
   "cell_type": "code",
   "execution_count": 13,
   "metadata": {
    "executionInfo": {
     "elapsed": 9,
     "status": "ok",
     "timestamp": 1717294616939,
     "user": {
      "displayName": "PHÚC TRẦN HOÀNG",
      "userId": "13892609718634505180"
     },
     "user_tz": -420
    },
    "id": "sSfxrE7BO9vX"
   },
   "outputs": [
    {
     "name": "stderr",
     "output_type": "stream",
     "text": [
      "D:\\anaconda\\Lib\\site-packages\\keras\\src\\layers\\rnn\\rnn.py:204: UserWarning: Do not pass an `input_shape`/`input_dim` argument to a layer. When using Sequential models, prefer using an `Input(shape)` object as the first layer in the model instead.\n",
      "  super().__init__(**kwargs)\n"
     ]
    }
   ],
   "source": [
    "# 8. Define LSTM Model\n",
    "\n",
    "model = Sequential()\n",
    "model.add(SimpleRNN(50, input_shape=(time_step, 1)))\n",
    "model.add(Dense(1))\n",
    "model.compile(loss='mean_squared_error',optimizer='adam')"
   ]
  },
  {
   "cell_type": "code",
   "execution_count": 14,
   "metadata": {
    "colab": {
     "base_uri": "https://localhost:8080/"
    },
    "executionInfo": {
     "elapsed": 84875,
     "status": "ok",
     "timestamp": 1717294701806,
     "user": {
      "displayName": "PHÚC TRẦN HOÀNG",
      "userId": "13892609718634505180"
     },
     "user_tz": -420
    },
    "id": "zgfeujZSPEKr",
    "outputId": "70745ab8-4032-463c-94b0-5f84bcea04f7"
   },
   "outputs": [
    {
     "name": "stdout",
     "output_type": "stream",
     "text": [
      "Epoch 1/100\n",
      "\u001b[1m26/26\u001b[0m \u001b[32m━━━━━━━━━━━━━━━━━━━━\u001b[0m\u001b[37m\u001b[0m \u001b[1m14s\u001b[0m 110ms/step - loss: 0.0748 - val_loss: 0.0367\n",
      "Epoch 2/100\n",
      "\u001b[1m26/26\u001b[0m \u001b[32m━━━━━━━━━━━━━━━━━━━━\u001b[0m\u001b[37m\u001b[0m \u001b[1m1s\u001b[0m 38ms/step - loss: 0.0226 - val_loss: 0.0324\n",
      "Epoch 3/100\n",
      "\u001b[1m26/26\u001b[0m \u001b[32m━━━━━━━━━━━━━━━━━━━━\u001b[0m\u001b[37m\u001b[0m \u001b[1m2s\u001b[0m 55ms/step - loss: 0.0187 - val_loss: 0.0278\n",
      "Epoch 4/100\n",
      "\u001b[1m26/26\u001b[0m \u001b[32m━━━━━━━━━━━━━━━━━━━━\u001b[0m\u001b[37m\u001b[0m \u001b[1m2s\u001b[0m 41ms/step - loss: 0.0167 - val_loss: 0.0276\n",
      "Epoch 5/100\n",
      "\u001b[1m26/26\u001b[0m \u001b[32m━━━━━━━━━━━━━━━━━━━━\u001b[0m\u001b[37m\u001b[0m \u001b[1m1s\u001b[0m 38ms/step - loss: 0.0171 - val_loss: 0.0266\n",
      "Epoch 6/100\n",
      "\u001b[1m26/26\u001b[0m \u001b[32m━━━━━━━━━━━━━━━━━━━━\u001b[0m\u001b[37m\u001b[0m \u001b[1m1s\u001b[0m 35ms/step - loss: 0.0139 - val_loss: 0.0263\n",
      "Epoch 7/100\n",
      "\u001b[1m26/26\u001b[0m \u001b[32m━━━━━━━━━━━━━━━━━━━━\u001b[0m\u001b[37m\u001b[0m \u001b[1m2s\u001b[0m 45ms/step - loss: 0.0150 - val_loss: 0.0271\n",
      "Epoch 8/100\n",
      "\u001b[1m26/26\u001b[0m \u001b[32m━━━━━━━━━━━━━━━━━━━━\u001b[0m\u001b[37m\u001b[0m \u001b[1m2s\u001b[0m 53ms/step - loss: 0.0133 - val_loss: 0.0271\n",
      "Epoch 9/100\n",
      "\u001b[1m26/26\u001b[0m \u001b[32m━━━━━━━━━━━━━━━━━━━━\u001b[0m\u001b[37m\u001b[0m \u001b[1m1s\u001b[0m 45ms/step - loss: 0.0139 - val_loss: 0.0277\n",
      "Epoch 10/100\n",
      "\u001b[1m26/26\u001b[0m \u001b[32m━━━━━━━━━━━━━━━━━━━━\u001b[0m\u001b[37m\u001b[0m \u001b[1m2s\u001b[0m 54ms/step - loss: 0.0119 - val_loss: 0.0288\n",
      "Epoch 11/100\n",
      "\u001b[1m26/26\u001b[0m \u001b[32m━━━━━━━━━━━━━━━━━━━━\u001b[0m\u001b[37m\u001b[0m \u001b[1m2s\u001b[0m 38ms/step - loss: 0.0127 - val_loss: 0.0288\n",
      "Epoch 12/100\n",
      "\u001b[1m26/26\u001b[0m \u001b[32m━━━━━━━━━━━━━━━━━━━━\u001b[0m\u001b[37m\u001b[0m \u001b[1m2s\u001b[0m 37ms/step - loss: 0.0125 - val_loss: 0.0291\n",
      "Epoch 13/100\n",
      "\u001b[1m26/26\u001b[0m \u001b[32m━━━━━━━━━━━━━━━━━━━━\u001b[0m\u001b[37m\u001b[0m \u001b[1m1s\u001b[0m 26ms/step - loss: 0.0121 - val_loss: 0.0291\n",
      "Epoch 14/100\n",
      "\u001b[1m26/26\u001b[0m \u001b[32m━━━━━━━━━━━━━━━━━━━━\u001b[0m\u001b[37m\u001b[0m \u001b[1m1s\u001b[0m 36ms/step - loss: 0.0130 - val_loss: 0.0297\n",
      "Epoch 15/100\n",
      "\u001b[1m26/26\u001b[0m \u001b[32m━━━━━━━━━━━━━━━━━━━━\u001b[0m\u001b[37m\u001b[0m \u001b[1m1s\u001b[0m 34ms/step - loss: 0.0130 - val_loss: 0.0304\n",
      "Epoch 16/100\n",
      "\u001b[1m26/26\u001b[0m \u001b[32m━━━━━━━━━━━━━━━━━━━━\u001b[0m\u001b[37m\u001b[0m \u001b[1m2s\u001b[0m 58ms/step - loss: 0.0118 - val_loss: 0.0300\n",
      "Epoch 17/100\n",
      "\u001b[1m26/26\u001b[0m \u001b[32m━━━━━━━━━━━━━━━━━━━━\u001b[0m\u001b[37m\u001b[0m \u001b[1m2s\u001b[0m 42ms/step - loss: 0.0130 - val_loss: 0.0306\n",
      "Epoch 18/100\n",
      "\u001b[1m26/26\u001b[0m \u001b[32m━━━━━━━━━━━━━━━━━━━━\u001b[0m\u001b[37m\u001b[0m \u001b[1m2s\u001b[0m 63ms/step - loss: 0.0121 - val_loss: 0.0306\n",
      "Epoch 19/100\n",
      "\u001b[1m26/26\u001b[0m \u001b[32m━━━━━━━━━━━━━━━━━━━━\u001b[0m\u001b[37m\u001b[0m \u001b[1m2s\u001b[0m 31ms/step - loss: 0.0137 - val_loss: 0.0305\n",
      "Epoch 20/100\n",
      "\u001b[1m26/26\u001b[0m \u001b[32m━━━━━━━━━━━━━━━━━━━━\u001b[0m\u001b[37m\u001b[0m \u001b[1m1s\u001b[0m 25ms/step - loss: 0.0129 - val_loss: 0.0301\n",
      "Epoch 21/100\n",
      "\u001b[1m26/26\u001b[0m \u001b[32m━━━━━━━━━━━━━━━━━━━━\u001b[0m\u001b[37m\u001b[0m \u001b[1m2s\u001b[0m 32ms/step - loss: 0.0119 - val_loss: 0.0304\n",
      "Epoch 22/100\n",
      "\u001b[1m26/26\u001b[0m \u001b[32m━━━━━━━━━━━━━━━━━━━━\u001b[0m\u001b[37m\u001b[0m \u001b[1m1s\u001b[0m 27ms/step - loss: 0.0121 - val_loss: 0.0306\n",
      "Epoch 23/100\n",
      "\u001b[1m26/26\u001b[0m \u001b[32m━━━━━━━━━━━━━━━━━━━━\u001b[0m\u001b[37m\u001b[0m \u001b[1m1s\u001b[0m 21ms/step - loss: 0.0130 - val_loss: 0.0308\n",
      "Epoch 24/100\n",
      "\u001b[1m26/26\u001b[0m \u001b[32m━━━━━━━━━━━━━━━━━━━━\u001b[0m\u001b[37m\u001b[0m \u001b[1m1s\u001b[0m 36ms/step - loss: 0.0117 - val_loss: 0.0305\n",
      "Epoch 25/100\n",
      "\u001b[1m26/26\u001b[0m \u001b[32m━━━━━━━━━━━━━━━━━━━━\u001b[0m\u001b[37m\u001b[0m \u001b[1m1s\u001b[0m 27ms/step - loss: 0.0123 - val_loss: 0.0310\n",
      "Epoch 26/100\n",
      "\u001b[1m26/26\u001b[0m \u001b[32m━━━━━━━━━━━━━━━━━━━━\u001b[0m\u001b[37m\u001b[0m \u001b[1m1s\u001b[0m 30ms/step - loss: 0.0123 - val_loss: 0.0304\n",
      "Epoch 27/100\n",
      "\u001b[1m26/26\u001b[0m \u001b[32m━━━━━━━━━━━━━━━━━━━━\u001b[0m\u001b[37m\u001b[0m \u001b[1m1s\u001b[0m 29ms/step - loss: 0.0130 - val_loss: 0.0308\n",
      "Epoch 28/100\n",
      "\u001b[1m26/26\u001b[0m \u001b[32m━━━━━━━━━━━━━━━━━━━━\u001b[0m\u001b[37m\u001b[0m \u001b[1m1s\u001b[0m 27ms/step - loss: 0.0130 - val_loss: 0.0317\n",
      "Epoch 29/100\n",
      "\u001b[1m26/26\u001b[0m \u001b[32m━━━━━━━━━━━━━━━━━━━━\u001b[0m\u001b[37m\u001b[0m \u001b[1m1s\u001b[0m 26ms/step - loss: 0.0122 - val_loss: 0.0309\n",
      "Epoch 30/100\n",
      "\u001b[1m26/26\u001b[0m \u001b[32m━━━━━━━━━━━━━━━━━━━━\u001b[0m\u001b[37m\u001b[0m \u001b[1m1s\u001b[0m 25ms/step - loss: 0.0122 - val_loss: 0.0306\n",
      "Epoch 31/100\n",
      "\u001b[1m26/26\u001b[0m \u001b[32m━━━━━━━━━━━━━━━━━━━━\u001b[0m\u001b[37m\u001b[0m \u001b[1m1s\u001b[0m 23ms/step - loss: 0.0132 - val_loss: 0.0311\n",
      "Epoch 32/100\n",
      "\u001b[1m26/26\u001b[0m \u001b[32m━━━━━━━━━━━━━━━━━━━━\u001b[0m\u001b[37m\u001b[0m \u001b[1m1s\u001b[0m 27ms/step - loss: 0.0118 - val_loss: 0.0307\n",
      "Epoch 33/100\n",
      "\u001b[1m26/26\u001b[0m \u001b[32m━━━━━━━━━━━━━━━━━━━━\u001b[0m\u001b[37m\u001b[0m \u001b[1m1s\u001b[0m 30ms/step - loss: 0.0132 - val_loss: 0.0314\n",
      "Epoch 34/100\n",
      "\u001b[1m26/26\u001b[0m \u001b[32m━━━━━━━━━━━━━━━━━━━━\u001b[0m\u001b[37m\u001b[0m \u001b[1m2s\u001b[0m 37ms/step - loss: 0.0121 - val_loss: 0.0322\n",
      "Epoch 35/100\n",
      "\u001b[1m26/26\u001b[0m \u001b[32m━━━━━━━━━━━━━━━━━━━━\u001b[0m\u001b[37m\u001b[0m \u001b[1m2s\u001b[0m 41ms/step - loss: 0.0129 - val_loss: 0.0315\n",
      "Epoch 36/100\n",
      "\u001b[1m26/26\u001b[0m \u001b[32m━━━━━━━━━━━━━━━━━━━━\u001b[0m\u001b[37m\u001b[0m \u001b[1m1s\u001b[0m 33ms/step - loss: 0.0127 - val_loss: 0.0313\n",
      "Epoch 37/100\n",
      "\u001b[1m26/26\u001b[0m \u001b[32m━━━━━━━━━━━━━━━━━━━━\u001b[0m\u001b[37m\u001b[0m \u001b[1m2s\u001b[0m 51ms/step - loss: 0.0127 - val_loss: 0.0317\n",
      "Epoch 38/100\n",
      "\u001b[1m26/26\u001b[0m \u001b[32m━━━━━━━━━━━━━━━━━━━━\u001b[0m\u001b[37m\u001b[0m \u001b[1m1s\u001b[0m 49ms/step - loss: 0.0121 - val_loss: 0.0314\n",
      "Epoch 39/100\n",
      "\u001b[1m26/26\u001b[0m \u001b[32m━━━━━━━━━━━━━━━━━━━━\u001b[0m\u001b[37m\u001b[0m \u001b[1m1s\u001b[0m 35ms/step - loss: 0.0130 - val_loss: 0.0316\n",
      "Epoch 40/100\n",
      "\u001b[1m26/26\u001b[0m \u001b[32m━━━━━━━━━━━━━━━━━━━━\u001b[0m\u001b[37m\u001b[0m \u001b[1m1s\u001b[0m 38ms/step - loss: 0.0132 - val_loss: 0.0309\n",
      "Epoch 41/100\n",
      "\u001b[1m26/26\u001b[0m \u001b[32m━━━━━━━━━━━━━━━━━━━━\u001b[0m\u001b[37m\u001b[0m \u001b[1m2s\u001b[0m 53ms/step - loss: 0.0121 - val_loss: 0.0317\n",
      "Epoch 42/100\n",
      "\u001b[1m26/26\u001b[0m \u001b[32m━━━━━━━━━━━━━━━━━━━━\u001b[0m\u001b[37m\u001b[0m \u001b[1m2s\u001b[0m 37ms/step - loss: 0.0118 - val_loss: 0.0311\n",
      "Epoch 43/100\n",
      "\u001b[1m26/26\u001b[0m \u001b[32m━━━━━━━━━━━━━━━━━━━━\u001b[0m\u001b[37m\u001b[0m \u001b[1m1s\u001b[0m 36ms/step - loss: 0.0123 - val_loss: 0.0308\n",
      "Epoch 44/100\n",
      "\u001b[1m26/26\u001b[0m \u001b[32m━━━━━━━━━━━━━━━━━━━━\u001b[0m\u001b[37m\u001b[0m \u001b[1m1s\u001b[0m 26ms/step - loss: 0.0132 - val_loss: 0.0318\n",
      "Epoch 45/100\n",
      "\u001b[1m26/26\u001b[0m \u001b[32m━━━━━━━━━━━━━━━━━━━━\u001b[0m\u001b[37m\u001b[0m \u001b[1m2s\u001b[0m 32ms/step - loss: 0.0117 - val_loss: 0.0310\n",
      "Epoch 46/100\n",
      "\u001b[1m26/26\u001b[0m \u001b[32m━━━━━━━━━━━━━━━━━━━━\u001b[0m\u001b[37m\u001b[0m \u001b[1m2s\u001b[0m 43ms/step - loss: 0.0112 - val_loss: 0.0313\n",
      "Epoch 47/100\n",
      "\u001b[1m26/26\u001b[0m \u001b[32m━━━━━━━━━━━━━━━━━━━━\u001b[0m\u001b[37m\u001b[0m \u001b[1m1s\u001b[0m 38ms/step - loss: 0.0124 - val_loss: 0.0311\n",
      "Epoch 48/100\n",
      "\u001b[1m26/26\u001b[0m \u001b[32m━━━━━━━━━━━━━━━━━━━━\u001b[0m\u001b[37m\u001b[0m \u001b[1m2s\u001b[0m 48ms/step - loss: 0.0132 - val_loss: 0.0310\n",
      "Epoch 49/100\n",
      "\u001b[1m26/26\u001b[0m \u001b[32m━━━━━━━━━━━━━━━━━━━━\u001b[0m\u001b[37m\u001b[0m \u001b[1m1s\u001b[0m 34ms/step - loss: 0.0117 - val_loss: 0.0314\n",
      "Epoch 50/100\n",
      "\u001b[1m26/26\u001b[0m \u001b[32m━━━━━━━━━━━━━━━━━━━━\u001b[0m\u001b[37m\u001b[0m \u001b[1m1s\u001b[0m 44ms/step - loss: 0.0125 - val_loss: 0.0310\n",
      "Epoch 51/100\n",
      "\u001b[1m26/26\u001b[0m \u001b[32m━━━━━━━━━━━━━━━━━━━━\u001b[0m\u001b[37m\u001b[0m \u001b[1m1s\u001b[0m 33ms/step - loss: 0.0124 - val_loss: 0.0307\n",
      "Epoch 52/100\n",
      "\u001b[1m26/26\u001b[0m \u001b[32m━━━━━━━━━━━━━━━━━━━━\u001b[0m\u001b[37m\u001b[0m \u001b[1m1s\u001b[0m 27ms/step - loss: 0.0125 - val_loss: 0.0324\n",
      "Epoch 53/100\n",
      "\u001b[1m26/26\u001b[0m \u001b[32m━━━━━━━━━━━━━━━━━━━━\u001b[0m\u001b[37m\u001b[0m \u001b[1m1s\u001b[0m 27ms/step - loss: 0.0136 - val_loss: 0.0314\n",
      "Epoch 54/100\n",
      "\u001b[1m26/26\u001b[0m \u001b[32m━━━━━━━━━━━━━━━━━━━━\u001b[0m\u001b[37m\u001b[0m \u001b[1m2s\u001b[0m 48ms/step - loss: 0.0114 - val_loss: 0.0311\n",
      "Epoch 55/100\n",
      "\u001b[1m26/26\u001b[0m \u001b[32m━━━━━━━━━━━━━━━━━━━━\u001b[0m\u001b[37m\u001b[0m \u001b[1m1s\u001b[0m 14ms/step - loss: 0.0122 - val_loss: 0.0308\n",
      "Epoch 56/100\n",
      "\u001b[1m26/26\u001b[0m \u001b[32m━━━━━━━━━━━━━━━━━━━━\u001b[0m\u001b[37m\u001b[0m \u001b[1m1s\u001b[0m 19ms/step - loss: 0.0119 - val_loss: 0.0314\n",
      "Epoch 57/100\n",
      "\u001b[1m26/26\u001b[0m \u001b[32m━━━━━━━━━━━━━━━━━━━━\u001b[0m\u001b[37m\u001b[0m \u001b[1m0s\u001b[0m 16ms/step - loss: 0.0115 - val_loss: 0.0316\n",
      "Epoch 58/100\n",
      "\u001b[1m26/26\u001b[0m \u001b[32m━━━━━━━━━━━━━━━━━━━━\u001b[0m\u001b[37m\u001b[0m \u001b[1m1s\u001b[0m 22ms/step - loss: 0.0124 - val_loss: 0.0319\n",
      "Epoch 59/100\n",
      "\u001b[1m26/26\u001b[0m \u001b[32m━━━━━━━━━━━━━━━━━━━━\u001b[0m\u001b[37m\u001b[0m \u001b[1m1s\u001b[0m 18ms/step - loss: 0.0133 - val_loss: 0.0322\n",
      "Epoch 60/100\n",
      "\u001b[1m26/26\u001b[0m \u001b[32m━━━━━━━━━━━━━━━━━━━━\u001b[0m\u001b[37m\u001b[0m \u001b[1m0s\u001b[0m 17ms/step - loss: 0.0121 - val_loss: 0.0320\n",
      "Epoch 61/100\n",
      "\u001b[1m26/26\u001b[0m \u001b[32m━━━━━━━━━━━━━━━━━━━━\u001b[0m\u001b[37m\u001b[0m \u001b[1m1s\u001b[0m 25ms/step - loss: 0.0120 - val_loss: 0.0314\n",
      "Epoch 62/100\n",
      "\u001b[1m26/26\u001b[0m \u001b[32m━━━━━━━━━━━━━━━━━━━━\u001b[0m\u001b[37m\u001b[0m \u001b[1m1s\u001b[0m 25ms/step - loss: 0.0120 - val_loss: 0.0311\n",
      "Epoch 63/100\n",
      "\u001b[1m26/26\u001b[0m \u001b[32m━━━━━━━━━━━━━━━━━━━━\u001b[0m\u001b[37m\u001b[0m \u001b[1m1s\u001b[0m 46ms/step - loss: 0.0120 - val_loss: 0.0323\n",
      "Epoch 64/100\n",
      "\u001b[1m26/26\u001b[0m \u001b[32m━━━━━━━━━━━━━━━━━━━━\u001b[0m\u001b[37m\u001b[0m \u001b[1m1s\u001b[0m 28ms/step - loss: 0.0135 - val_loss: 0.0307\n",
      "Epoch 65/100\n",
      "\u001b[1m26/26\u001b[0m \u001b[32m━━━━━━━━━━━━━━━━━━━━\u001b[0m\u001b[37m\u001b[0m \u001b[1m1s\u001b[0m 34ms/step - loss: 0.0125 - val_loss: 0.0317\n",
      "Epoch 66/100\n",
      "\u001b[1m26/26\u001b[0m \u001b[32m━━━━━━━━━━━━━━━━━━━━\u001b[0m\u001b[37m\u001b[0m \u001b[1m1s\u001b[0m 27ms/step - loss: 0.0124 - val_loss: 0.0313\n",
      "Epoch 67/100\n",
      "\u001b[1m26/26\u001b[0m \u001b[32m━━━━━━━━━━━━━━━━━━━━\u001b[0m\u001b[37m\u001b[0m \u001b[1m2s\u001b[0m 35ms/step - loss: 0.0114 - val_loss: 0.0314\n",
      "Epoch 68/100\n",
      "\u001b[1m26/26\u001b[0m \u001b[32m━━━━━━━━━━━━━━━━━━━━\u001b[0m\u001b[37m\u001b[0m \u001b[1m1s\u001b[0m 30ms/step - loss: 0.0116 - val_loss: 0.0315\n",
      "Epoch 69/100\n",
      "\u001b[1m26/26\u001b[0m \u001b[32m━━━━━━━━━━━━━━━━━━━━\u001b[0m\u001b[37m\u001b[0m \u001b[1m1s\u001b[0m 31ms/step - loss: 0.0111 - val_loss: 0.0313\n",
      "Epoch 70/100\n",
      "\u001b[1m26/26\u001b[0m \u001b[32m━━━━━━━━━━━━━━━━━━━━\u001b[0m\u001b[37m\u001b[0m \u001b[1m1s\u001b[0m 22ms/step - loss: 0.0128 - val_loss: 0.0329\n",
      "Epoch 71/100\n",
      "\u001b[1m26/26\u001b[0m \u001b[32m━━━━━━━━━━━━━━━━━━━━\u001b[0m\u001b[37m\u001b[0m \u001b[1m1s\u001b[0m 23ms/step - loss: 0.0121 - val_loss: 0.0313\n",
      "Epoch 72/100\n",
      "\u001b[1m26/26\u001b[0m \u001b[32m━━━━━━━━━━━━━━━━━━━━\u001b[0m\u001b[37m\u001b[0m \u001b[1m1s\u001b[0m 24ms/step - loss: 0.0130 - val_loss: 0.0321\n",
      "Epoch 73/100\n",
      "\u001b[1m26/26\u001b[0m \u001b[32m━━━━━━━━━━━━━━━━━━━━\u001b[0m\u001b[37m\u001b[0m \u001b[1m1s\u001b[0m 21ms/step - loss: 0.0125 - val_loss: 0.0321\n",
      "Epoch 74/100\n",
      "\u001b[1m26/26\u001b[0m \u001b[32m━━━━━━━━━━━━━━━━━━━━\u001b[0m\u001b[37m\u001b[0m \u001b[1m1s\u001b[0m 34ms/step - loss: 0.0122 - val_loss: 0.0320\n",
      "Epoch 75/100\n",
      "\u001b[1m26/26\u001b[0m \u001b[32m━━━━━━━━━━━━━━━━━━━━\u001b[0m\u001b[37m\u001b[0m \u001b[1m1s\u001b[0m 29ms/step - loss: 0.0122 - val_loss: 0.0308\n",
      "Epoch 76/100\n",
      "\u001b[1m26/26\u001b[0m \u001b[32m━━━━━━━━━━━━━━━━━━━━\u001b[0m\u001b[37m\u001b[0m \u001b[1m1s\u001b[0m 34ms/step - loss: 0.0118 - val_loss: 0.0328\n",
      "Epoch 77/100\n",
      "\u001b[1m26/26\u001b[0m \u001b[32m━━━━━━━━━━━━━━━━━━━━\u001b[0m\u001b[37m\u001b[0m \u001b[1m1s\u001b[0m 24ms/step - loss: 0.0111 - val_loss: 0.0332\n",
      "Epoch 78/100\n",
      "\u001b[1m26/26\u001b[0m \u001b[32m━━━━━━━━━━━━━━━━━━━━\u001b[0m\u001b[37m\u001b[0m \u001b[1m1s\u001b[0m 31ms/step - loss: 0.0114 - val_loss: 0.0337\n",
      "Epoch 79/100\n",
      "\u001b[1m26/26\u001b[0m \u001b[32m━━━━━━━━━━━━━━━━━━━━\u001b[0m\u001b[37m\u001b[0m \u001b[1m1s\u001b[0m 33ms/step - loss: 0.0123 - val_loss: 0.0311\n",
      "Epoch 80/100\n",
      "\u001b[1m26/26\u001b[0m \u001b[32m━━━━━━━━━━━━━━━━━━━━\u001b[0m\u001b[37m\u001b[0m \u001b[1m1s\u001b[0m 26ms/step - loss: 0.0113 - val_loss: 0.0317\n",
      "Epoch 81/100\n",
      "\u001b[1m26/26\u001b[0m \u001b[32m━━━━━━━━━━━━━━━━━━━━\u001b[0m\u001b[37m\u001b[0m \u001b[1m2s\u001b[0m 57ms/step - loss: 0.0124 - val_loss: 0.0333\n",
      "Epoch 82/100\n",
      "\u001b[1m26/26\u001b[0m \u001b[32m━━━━━━━━━━━━━━━━━━━━\u001b[0m\u001b[37m\u001b[0m \u001b[1m1s\u001b[0m 34ms/step - loss: 0.0120 - val_loss: 0.0323\n",
      "Epoch 83/100\n",
      "\u001b[1m26/26\u001b[0m \u001b[32m━━━━━━━━━━━━━━━━━━━━\u001b[0m\u001b[37m\u001b[0m \u001b[1m1s\u001b[0m 28ms/step - loss: 0.0115 - val_loss: 0.0335\n",
      "Epoch 84/100\n",
      "\u001b[1m26/26\u001b[0m \u001b[32m━━━━━━━━━━━━━━━━━━━━\u001b[0m\u001b[37m\u001b[0m \u001b[1m1s\u001b[0m 28ms/step - loss: 0.0112 - val_loss: 0.0315\n",
      "Epoch 85/100\n",
      "\u001b[1m26/26\u001b[0m \u001b[32m━━━━━━━━━━━━━━━━━━━━\u001b[0m\u001b[37m\u001b[0m \u001b[1m1s\u001b[0m 35ms/step - loss: 0.0111 - val_loss: 0.0328\n",
      "Epoch 86/100\n",
      "\u001b[1m26/26\u001b[0m \u001b[32m━━━━━━━━━━━━━━━━━━━━\u001b[0m\u001b[37m\u001b[0m \u001b[1m1s\u001b[0m 29ms/step - loss: 0.0125 - val_loss: 0.0341\n",
      "Epoch 87/100\n",
      "\u001b[1m26/26\u001b[0m \u001b[32m━━━━━━━━━━━━━━━━━━━━\u001b[0m\u001b[37m\u001b[0m \u001b[1m1s\u001b[0m 34ms/step - loss: 0.0108 - val_loss: 0.0352\n",
      "Epoch 88/100\n",
      "\u001b[1m26/26\u001b[0m \u001b[32m━━━━━━━━━━━━━━━━━━━━\u001b[0m\u001b[37m\u001b[0m \u001b[1m1s\u001b[0m 33ms/step - loss: 0.0119 - val_loss: 0.0358\n",
      "Epoch 89/100\n",
      "\u001b[1m26/26\u001b[0m \u001b[32m━━━━━━━━━━━━━━━━━━━━\u001b[0m\u001b[37m\u001b[0m \u001b[1m2s\u001b[0m 40ms/step - loss: 0.0113 - val_loss: 0.0337\n",
      "Epoch 90/100\n",
      "\u001b[1m26/26\u001b[0m \u001b[32m━━━━━━━━━━━━━━━━━━━━\u001b[0m\u001b[37m\u001b[0m \u001b[1m1s\u001b[0m 42ms/step - loss: 0.0118 - val_loss: 0.0342\n",
      "Epoch 91/100\n",
      "\u001b[1m26/26\u001b[0m \u001b[32m━━━━━━━━━━━━━━━━━━━━\u001b[0m\u001b[37m\u001b[0m \u001b[1m1s\u001b[0m 37ms/step - loss: 0.0114 - val_loss: 0.0331\n",
      "Epoch 92/100\n",
      "\u001b[1m26/26\u001b[0m \u001b[32m━━━━━━━━━━━━━━━━━━━━\u001b[0m\u001b[37m\u001b[0m \u001b[1m1s\u001b[0m 32ms/step - loss: 0.0113 - val_loss: 0.0353\n",
      "Epoch 93/100\n",
      "\u001b[1m26/26\u001b[0m \u001b[32m━━━━━━━━━━━━━━━━━━━━\u001b[0m\u001b[37m\u001b[0m \u001b[1m1s\u001b[0m 40ms/step - loss: 0.0107 - val_loss: 0.0317\n",
      "Epoch 94/100\n",
      "\u001b[1m26/26\u001b[0m \u001b[32m━━━━━━━━━━━━━━━━━━━━\u001b[0m\u001b[37m\u001b[0m \u001b[1m1s\u001b[0m 22ms/step - loss: 0.0117 - val_loss: 0.0309\n",
      "Epoch 95/100\n",
      "\u001b[1m26/26\u001b[0m \u001b[32m━━━━━━━━━━━━━━━━━━━━\u001b[0m\u001b[37m\u001b[0m \u001b[1m1s\u001b[0m 28ms/step - loss: 0.0114 - val_loss: 0.0362\n",
      "Epoch 96/100\n",
      "\u001b[1m26/26\u001b[0m \u001b[32m━━━━━━━━━━━━━━━━━━━━\u001b[0m\u001b[37m\u001b[0m \u001b[1m1s\u001b[0m 26ms/step - loss: 0.0106 - val_loss: 0.0313\n",
      "Epoch 97/100\n",
      "\u001b[1m26/26\u001b[0m \u001b[32m━━━━━━━━━━━━━━━━━━━━\u001b[0m\u001b[37m\u001b[0m \u001b[1m1s\u001b[0m 24ms/step - loss: 0.0105 - val_loss: 0.0348\n",
      "Epoch 98/100\n",
      "\u001b[1m26/26\u001b[0m \u001b[32m━━━━━━━━━━━━━━━━━━━━\u001b[0m\u001b[37m\u001b[0m \u001b[1m1s\u001b[0m 28ms/step - loss: 0.0104 - val_loss: 0.0358\n",
      "Epoch 99/100\n",
      "\u001b[1m26/26\u001b[0m \u001b[32m━━━━━━━━━━━━━━━━━━━━\u001b[0m\u001b[37m\u001b[0m \u001b[1m1s\u001b[0m 26ms/step - loss: 0.0114 - val_loss: 0.0320\n",
      "Epoch 100/100\n",
      "\u001b[1m26/26\u001b[0m \u001b[32m━━━━━━━━━━━━━━━━━━━━\u001b[0m\u001b[37m\u001b[0m \u001b[1m2s\u001b[0m 33ms/step - loss: 0.0104 - val_loss: 0.0390\n"
     ]
    },
    {
     "data": {
      "text/plain": [
       "<keras.src.callbacks.history.History at 0x244911f9410>"
      ]
     },
     "execution_count": 14,
     "metadata": {},
     "output_type": "execute_result"
    }
   ],
   "source": [
    "# 9. Fit mô hình với dữ liệu train\n",
    "model.fit(X_train,y_train,validation_data=(X_test,ytest),epochs=100,batch_size=64,verbose=1)"
   ]
  },
  {
   "cell_type": "code",
   "execution_count": 15,
   "metadata": {
    "colab": {
     "base_uri": "https://localhost:8080/"
    },
    "executionInfo": {
     "elapsed": 712,
     "status": "ok",
     "timestamp": 1717294702492,
     "user": {
      "displayName": "PHÚC TRẦN HOÀNG",
      "userId": "13892609718634505180"
     },
     "user_tz": -420
    },
    "id": "Rxx_KQSkQpBG",
    "outputId": "1ee58724-10c7-4eda-91e0-b17dfb250939"
   },
   "outputs": [
    {
     "name": "stdout",
     "output_type": "stream",
     "text": [
      "\u001b[1m51/51\u001b[0m \u001b[32m━━━━━━━━━━━━━━━━━━━━\u001b[0m\u001b[37m\u001b[0m \u001b[1m2s\u001b[0m 17ms/step\n",
      "\u001b[1m6/6\u001b[0m \u001b[32m━━━━━━━━━━━━━━━━━━━━\u001b[0m\u001b[37m\u001b[0m \u001b[1m1s\u001b[0m 3ms/step  \n"
     ]
    }
   ],
   "source": [
    "# 10. Dự báo dữ liệu test,\n",
    "train_predict=model.predict(X_train)\n",
    "y_pred=model.predict(test_data.reshape(test_data.shape[0],test_data.shape[1] , 1))\n"
   ]
  },
  {
   "cell_type": "code",
   "execution_count": 16,
   "metadata": {
    "executionInfo": {
     "elapsed": 13,
     "status": "ok",
     "timestamp": 1717294702492,
     "user": {
      "displayName": "PHÚC TRẦN HOÀNG",
      "userId": "13892609718634505180"
     },
     "user_tz": -420
    },
    "id": "5rwTN10LQ7rj"
   },
   "outputs": [],
   "source": [
    "# 11. Chuẩn hóa dữ liệu y_pred, y_pred_val\n",
    "train_predict=scaler.inverse_transform(train_predict)\n",
    "y_pred=scaler.inverse_transform(y_pred)\n"
   ]
  },
  {
   "cell_type": "code",
   "execution_count": 17,
   "metadata": {
    "colab": {
     "base_uri": "https://localhost:8080/"
    },
    "executionInfo": {
     "elapsed": 12,
     "status": "ok",
     "timestamp": 1717294702492,
     "user": {
      "displayName": "PHÚC TRẦN HOÀNG",
      "userId": "13892609718634505180"
     },
     "user_tz": -420
    },
    "id": "v5tdcE24RVpR",
    "outputId": "050f2ca7-83ff-4ad7-e315-a34652abaa77"
   },
   "outputs": [
    {
     "name": "stdout",
     "output_type": "stream",
     "text": [
      "Testing RMSE: 9.29791680129863\n",
      "Testing MAPE: 16.263467663675954\n",
      "Testing MAE: 7.4323611358801545\n"
     ]
    }
   ],
   "source": [
    "ytest=scaler.inverse_transform(test_data)\n",
    "# 12. Đánh giá độ chính xác thuật toán bằng RMSE\n",
    "test_rmse = np.sqrt(np.mean((y_pred - ytest)**2))\n",
    "print('Testing RMSE:', test_rmse)\n",
    "\n",
    "# Đánh giá độ chính xác thuật toán bằng MAPE\n",
    "test_mape = np.mean(np.abs(ytest - y_pred)/np.abs(ytest))*100\n",
    "\n",
    "print('Testing MAPE:', test_mape)\n",
    "\n",
    "# Đánh giá độ chính xác thuật toán bằng MAE\n",
    "test_mae = np.mean(abs(y_pred - ytest))\n",
    "print('Testing MAE:', test_mae)"
   ]
  },
  {
   "cell_type": "code",
   "execution_count": 18,
   "metadata": {
    "colab": {
     "base_uri": "https://localhost:8080/"
    },
    "executionInfo": {
     "elapsed": 11,
     "status": "ok",
     "timestamp": 1717294702492,
     "user": {
      "displayName": "PHÚC TRẦN HOÀNG",
      "userId": "13892609718634505180"
     },
     "user_tz": -420
    },
    "id": "sQvF9ToMosVp",
    "outputId": "9963f8e2-db59-401e-8d45-2f301985b73e"
   },
   "outputs": [
    {
     "data": {
      "text/plain": [
       "(1, 132)"
      ]
     },
     "execution_count": 18,
     "metadata": {},
     "output_type": "execute_result"
    }
   ],
   "source": [
    "x_input=test_data[60:].reshape(1,-1)\n",
    "x_input.shape"
   ]
  },
  {
   "cell_type": "code",
   "execution_count": 19,
   "metadata": {
    "colab": {
     "base_uri": "https://localhost:8080/"
    },
    "executionInfo": {
     "elapsed": 2956,
     "status": "ok",
     "timestamp": 1717294705440,
     "user": {
      "displayName": "PHÚC TRẦN HOÀNG",
      "userId": "13892609718634505180"
     },
     "user_tz": -420
    },
    "id": "izQZ1iQyYl6N",
    "outputId": "5d4e2f08-04bd-4252-9828-87a7dce9c3ad"
   },
   "outputs": [
    {
     "name": "stdout",
     "output_type": "stream",
     "text": [
      "(1, 132)\n",
      "[0.41111058]\n",
      "133\n",
      "1 day input [0.51627907 0.31162791 0.40930233 0.53023256 0.51162791 0.40465116\n",
      " 0.53488372 0.73488372 0.80465116 0.78139535 0.66511628 0.28837209\n",
      " 0.26976744 0.29767442 0.35813953 0.34418605 0.26511628 0.29302326\n",
      " 0.65116279 0.41395349 0.51627907 0.28372093 0.26511628 0.37209302\n",
      " 0.53953488 0.40465116 0.30697674 0.25581395 0.33953488 0.35348837\n",
      " 0.31627907 0.4372093  0.16744186 0.16744186 0.27906977 0.20930233\n",
      " 0.39069767 0.24651163 0.20465116 0.38139535 0.58139535 0.66511628\n",
      " 0.90697674 0.76744186 0.6        0.78139535 0.70697674 0.29302326\n",
      " 0.33488372 0.67906977 0.53953488 0.37674419 0.49767442 0.33023256\n",
      " 0.3627907  0.30697674 0.29302326 0.4        0.59534884 0.51162791\n",
      " 0.34418605 0.3255814  0.3255814  0.33023256 0.42325581 0.40465116\n",
      " 0.4744186  0.46976744 0.49767442 0.53953488 0.46976744 0.51162791\n",
      " 0.45581395 0.31162791 0.28372093 0.29302326 0.2        0.35813953\n",
      " 0.45116279 0.39069767 0.3255814  0.24651163 0.28837209 0.10232558\n",
      " 0.74418605 0.11162791 0.13953488 0.4372093  0.53023256 0.31162791\n",
      " 0.3255814  0.         0.62325581 0.47906977 0.52093023 0.54883721\n",
      " 0.14883721 0.51627907 0.32093023 0.18139535 0.0744186  0.27906977\n",
      " 0.63255814 0.09302326 0.48372093 0.40465116 0.29302326 0.2372093\n",
      " 0.35348837 0.26511628 0.24186047 0.2        0.37209302 0.26976744\n",
      " 0.40465116 0.3627907  0.21395349 0.20930233 0.27906977 0.41395349\n",
      " 0.40465116 0.41860465 0.45116279 0.17209302 0.13023256 0.26511628\n",
      " 0.38604651 0.26046512 0.20930233 0.21395349 0.44651163 0.41111058]\n",
      "1 day output [[0.39151937]]\n",
      "2 day input [0.31162791 0.40930233 0.53023256 0.51162791 0.40465116 0.53488372\n",
      " 0.73488372 0.80465116 0.78139535 0.66511628 0.28837209 0.26976744\n",
      " 0.29767442 0.35813953 0.34418605 0.26511628 0.29302326 0.65116279\n",
      " 0.41395349 0.51627907 0.28372093 0.26511628 0.37209302 0.53953488\n",
      " 0.40465116 0.30697674 0.25581395 0.33953488 0.35348837 0.31627907\n",
      " 0.4372093  0.16744186 0.16744186 0.27906977 0.20930233 0.39069767\n",
      " 0.24651163 0.20465116 0.38139535 0.58139535 0.66511628 0.90697674\n",
      " 0.76744186 0.6        0.78139535 0.70697674 0.29302326 0.33488372\n",
      " 0.67906977 0.53953488 0.37674419 0.49767442 0.33023256 0.3627907\n",
      " 0.30697674 0.29302326 0.4        0.59534884 0.51162791 0.34418605\n",
      " 0.3255814  0.3255814  0.33023256 0.42325581 0.40465116 0.4744186\n",
      " 0.46976744 0.49767442 0.53953488 0.46976744 0.51162791 0.45581395\n",
      " 0.31162791 0.28372093 0.29302326 0.2        0.35813953 0.45116279\n",
      " 0.39069767 0.3255814  0.24651163 0.28837209 0.10232558 0.74418605\n",
      " 0.11162791 0.13953488 0.4372093  0.53023256 0.31162791 0.3255814\n",
      " 0.         0.62325581 0.47906977 0.52093023 0.54883721 0.14883721\n",
      " 0.51627907 0.32093023 0.18139535 0.0744186  0.27906977 0.63255814\n",
      " 0.09302326 0.48372093 0.40465116 0.29302326 0.2372093  0.35348837\n",
      " 0.26511628 0.24186047 0.2        0.37209302 0.26976744 0.40465116\n",
      " 0.3627907  0.21395349 0.20930233 0.27906977 0.41395349 0.40465116\n",
      " 0.41860465 0.45116279 0.17209302 0.13023256 0.26511628 0.38604651\n",
      " 0.26046512 0.20930233 0.21395349 0.44651163 0.41111058 0.39151937]\n",
      "2 day output [[0.30652192]]\n",
      "3 day input [0.40930233 0.53023256 0.51162791 0.40465116 0.53488372 0.73488372\n",
      " 0.80465116 0.78139535 0.66511628 0.28837209 0.26976744 0.29767442\n",
      " 0.35813953 0.34418605 0.26511628 0.29302326 0.65116279 0.41395349\n",
      " 0.51627907 0.28372093 0.26511628 0.37209302 0.53953488 0.40465116\n",
      " 0.30697674 0.25581395 0.33953488 0.35348837 0.31627907 0.4372093\n",
      " 0.16744186 0.16744186 0.27906977 0.20930233 0.39069767 0.24651163\n",
      " 0.20465116 0.38139535 0.58139535 0.66511628 0.90697674 0.76744186\n",
      " 0.6        0.78139535 0.70697674 0.29302326 0.33488372 0.67906977\n",
      " 0.53953488 0.37674419 0.49767442 0.33023256 0.3627907  0.30697674\n",
      " 0.29302326 0.4        0.59534884 0.51162791 0.34418605 0.3255814\n",
      " 0.3255814  0.33023256 0.42325581 0.40465116 0.4744186  0.46976744\n",
      " 0.49767442 0.53953488 0.46976744 0.51162791 0.45581395 0.31162791\n",
      " 0.28372093 0.29302326 0.2        0.35813953 0.45116279 0.39069767\n",
      " 0.3255814  0.24651163 0.28837209 0.10232558 0.74418605 0.11162791\n",
      " 0.13953488 0.4372093  0.53023256 0.31162791 0.3255814  0.\n",
      " 0.62325581 0.47906977 0.52093023 0.54883721 0.14883721 0.51627907\n",
      " 0.32093023 0.18139535 0.0744186  0.27906977 0.63255814 0.09302326\n",
      " 0.48372093 0.40465116 0.29302326 0.2372093  0.35348837 0.26511628\n",
      " 0.24186047 0.2        0.37209302 0.26976744 0.40465116 0.3627907\n",
      " 0.21395349 0.20930233 0.27906977 0.41395349 0.40465116 0.41860465\n",
      " 0.45116279 0.17209302 0.13023256 0.26511628 0.38604651 0.26046512\n",
      " 0.20930233 0.21395349 0.44651163 0.41111058 0.39151937 0.30652192]\n",
      "3 day output [[0.36208826]]\n",
      "4 day input [0.53023256 0.51162791 0.40465116 0.53488372 0.73488372 0.80465116\n",
      " 0.78139535 0.66511628 0.28837209 0.26976744 0.29767442 0.35813953\n",
      " 0.34418605 0.26511628 0.29302326 0.65116279 0.41395349 0.51627907\n",
      " 0.28372093 0.26511628 0.37209302 0.53953488 0.40465116 0.30697674\n",
      " 0.25581395 0.33953488 0.35348837 0.31627907 0.4372093  0.16744186\n",
      " 0.16744186 0.27906977 0.20930233 0.39069767 0.24651163 0.20465116\n",
      " 0.38139535 0.58139535 0.66511628 0.90697674 0.76744186 0.6\n",
      " 0.78139535 0.70697674 0.29302326 0.33488372 0.67906977 0.53953488\n",
      " 0.37674419 0.49767442 0.33023256 0.3627907  0.30697674 0.29302326\n",
      " 0.4        0.59534884 0.51162791 0.34418605 0.3255814  0.3255814\n",
      " 0.33023256 0.42325581 0.40465116 0.4744186  0.46976744 0.49767442\n",
      " 0.53953488 0.46976744 0.51162791 0.45581395 0.31162791 0.28372093\n",
      " 0.29302326 0.2        0.35813953 0.45116279 0.39069767 0.3255814\n",
      " 0.24651163 0.28837209 0.10232558 0.74418605 0.11162791 0.13953488\n",
      " 0.4372093  0.53023256 0.31162791 0.3255814  0.         0.62325581\n",
      " 0.47906977 0.52093023 0.54883721 0.14883721 0.51627907 0.32093023\n",
      " 0.18139535 0.0744186  0.27906977 0.63255814 0.09302326 0.48372093\n",
      " 0.40465116 0.29302326 0.2372093  0.35348837 0.26511628 0.24186047\n",
      " 0.2        0.37209302 0.26976744 0.40465116 0.3627907  0.21395349\n",
      " 0.20930233 0.27906977 0.41395349 0.40465116 0.41860465 0.45116279\n",
      " 0.17209302 0.13023256 0.26511628 0.38604651 0.26046512 0.20930233\n",
      " 0.21395349 0.44651163 0.41111058 0.39151937 0.30652192 0.36208826]\n",
      "4 day output [[0.2843087]]\n",
      "5 day input [0.51162791 0.40465116 0.53488372 0.73488372 0.80465116 0.78139535\n",
      " 0.66511628 0.28837209 0.26976744 0.29767442 0.35813953 0.34418605\n",
      " 0.26511628 0.29302326 0.65116279 0.41395349 0.51627907 0.28372093\n",
      " 0.26511628 0.37209302 0.53953488 0.40465116 0.30697674 0.25581395\n",
      " 0.33953488 0.35348837 0.31627907 0.4372093  0.16744186 0.16744186\n",
      " 0.27906977 0.20930233 0.39069767 0.24651163 0.20465116 0.38139535\n",
      " 0.58139535 0.66511628 0.90697674 0.76744186 0.6        0.78139535\n",
      " 0.70697674 0.29302326 0.33488372 0.67906977 0.53953488 0.37674419\n",
      " 0.49767442 0.33023256 0.3627907  0.30697674 0.29302326 0.4\n",
      " 0.59534884 0.51162791 0.34418605 0.3255814  0.3255814  0.33023256\n",
      " 0.42325581 0.40465116 0.4744186  0.46976744 0.49767442 0.53953488\n",
      " 0.46976744 0.51162791 0.45581395 0.31162791 0.28372093 0.29302326\n",
      " 0.2        0.35813953 0.45116279 0.39069767 0.3255814  0.24651163\n",
      " 0.28837209 0.10232558 0.74418605 0.11162791 0.13953488 0.4372093\n",
      " 0.53023256 0.31162791 0.3255814  0.         0.62325581 0.47906977\n",
      " 0.52093023 0.54883721 0.14883721 0.51627907 0.32093023 0.18139535\n",
      " 0.0744186  0.27906977 0.63255814 0.09302326 0.48372093 0.40465116\n",
      " 0.29302326 0.2372093  0.35348837 0.26511628 0.24186047 0.2\n",
      " 0.37209302 0.26976744 0.40465116 0.3627907  0.21395349 0.20930233\n",
      " 0.27906977 0.41395349 0.40465116 0.41860465 0.45116279 0.17209302\n",
      " 0.13023256 0.26511628 0.38604651 0.26046512 0.20930233 0.21395349\n",
      " 0.44651163 0.41111058 0.39151937 0.30652192 0.36208826 0.2843087 ]\n",
      "5 day output [[0.24972218]]\n",
      "6 day input [0.40465116 0.53488372 0.73488372 0.80465116 0.78139535 0.66511628\n",
      " 0.28837209 0.26976744 0.29767442 0.35813953 0.34418605 0.26511628\n",
      " 0.29302326 0.65116279 0.41395349 0.51627907 0.28372093 0.26511628\n",
      " 0.37209302 0.53953488 0.40465116 0.30697674 0.25581395 0.33953488\n",
      " 0.35348837 0.31627907 0.4372093  0.16744186 0.16744186 0.27906977\n",
      " 0.20930233 0.39069767 0.24651163 0.20465116 0.38139535 0.58139535\n",
      " 0.66511628 0.90697674 0.76744186 0.6        0.78139535 0.70697674\n",
      " 0.29302326 0.33488372 0.67906977 0.53953488 0.37674419 0.49767442\n",
      " 0.33023256 0.3627907  0.30697674 0.29302326 0.4        0.59534884\n",
      " 0.51162791 0.34418605 0.3255814  0.3255814  0.33023256 0.42325581\n",
      " 0.40465116 0.4744186  0.46976744 0.49767442 0.53953488 0.46976744\n",
      " 0.51162791 0.45581395 0.31162791 0.28372093 0.29302326 0.2\n",
      " 0.35813953 0.45116279 0.39069767 0.3255814  0.24651163 0.28837209\n",
      " 0.10232558 0.74418605 0.11162791 0.13953488 0.4372093  0.53023256\n",
      " 0.31162791 0.3255814  0.         0.62325581 0.47906977 0.52093023\n",
      " 0.54883721 0.14883721 0.51627907 0.32093023 0.18139535 0.0744186\n",
      " 0.27906977 0.63255814 0.09302326 0.48372093 0.40465116 0.29302326\n",
      " 0.2372093  0.35348837 0.26511628 0.24186047 0.2        0.37209302\n",
      " 0.26976744 0.40465116 0.3627907  0.21395349 0.20930233 0.27906977\n",
      " 0.41395349 0.40465116 0.41860465 0.45116279 0.17209302 0.13023256\n",
      " 0.26511628 0.38604651 0.26046512 0.20930233 0.21395349 0.44651163\n",
      " 0.41111058 0.39151937 0.30652192 0.36208826 0.2843087  0.24972218]\n",
      "6 day output [[0.27435207]]\n",
      "7 day input [0.53488372 0.73488372 0.80465116 0.78139535 0.66511628 0.28837209\n",
      " 0.26976744 0.29767442 0.35813953 0.34418605 0.26511628 0.29302326\n",
      " 0.65116279 0.41395349 0.51627907 0.28372093 0.26511628 0.37209302\n",
      " 0.53953488 0.40465116 0.30697674 0.25581395 0.33953488 0.35348837\n",
      " 0.31627907 0.4372093  0.16744186 0.16744186 0.27906977 0.20930233\n",
      " 0.39069767 0.24651163 0.20465116 0.38139535 0.58139535 0.66511628\n",
      " 0.90697674 0.76744186 0.6        0.78139535 0.70697674 0.29302326\n",
      " 0.33488372 0.67906977 0.53953488 0.37674419 0.49767442 0.33023256\n",
      " 0.3627907  0.30697674 0.29302326 0.4        0.59534884 0.51162791\n",
      " 0.34418605 0.3255814  0.3255814  0.33023256 0.42325581 0.40465116\n",
      " 0.4744186  0.46976744 0.49767442 0.53953488 0.46976744 0.51162791\n",
      " 0.45581395 0.31162791 0.28372093 0.29302326 0.2        0.35813953\n",
      " 0.45116279 0.39069767 0.3255814  0.24651163 0.28837209 0.10232558\n",
      " 0.74418605 0.11162791 0.13953488 0.4372093  0.53023256 0.31162791\n",
      " 0.3255814  0.         0.62325581 0.47906977 0.52093023 0.54883721\n",
      " 0.14883721 0.51627907 0.32093023 0.18139535 0.0744186  0.27906977\n",
      " 0.63255814 0.09302326 0.48372093 0.40465116 0.29302326 0.2372093\n",
      " 0.35348837 0.26511628 0.24186047 0.2        0.37209302 0.26976744\n",
      " 0.40465116 0.3627907  0.21395349 0.20930233 0.27906977 0.41395349\n",
      " 0.40465116 0.41860465 0.45116279 0.17209302 0.13023256 0.26511628\n",
      " 0.38604651 0.26046512 0.20930233 0.21395349 0.44651163 0.41111058\n",
      " 0.39151937 0.30652192 0.36208826 0.2843087  0.24972218 0.27435207]\n",
      "7 day output [[0.25689998]]\n",
      "8 day input [0.73488372 0.80465116 0.78139535 0.66511628 0.28837209 0.26976744\n",
      " 0.29767442 0.35813953 0.34418605 0.26511628 0.29302326 0.65116279\n",
      " 0.41395349 0.51627907 0.28372093 0.26511628 0.37209302 0.53953488\n",
      " 0.40465116 0.30697674 0.25581395 0.33953488 0.35348837 0.31627907\n",
      " 0.4372093  0.16744186 0.16744186 0.27906977 0.20930233 0.39069767\n",
      " 0.24651163 0.20465116 0.38139535 0.58139535 0.66511628 0.90697674\n",
      " 0.76744186 0.6        0.78139535 0.70697674 0.29302326 0.33488372\n",
      " 0.67906977 0.53953488 0.37674419 0.49767442 0.33023256 0.3627907\n",
      " 0.30697674 0.29302326 0.4        0.59534884 0.51162791 0.34418605\n",
      " 0.3255814  0.3255814  0.33023256 0.42325581 0.40465116 0.4744186\n",
      " 0.46976744 0.49767442 0.53953488 0.46976744 0.51162791 0.45581395\n",
      " 0.31162791 0.28372093 0.29302326 0.2        0.35813953 0.45116279\n",
      " 0.39069767 0.3255814  0.24651163 0.28837209 0.10232558 0.74418605\n",
      " 0.11162791 0.13953488 0.4372093  0.53023256 0.31162791 0.3255814\n",
      " 0.         0.62325581 0.47906977 0.52093023 0.54883721 0.14883721\n",
      " 0.51627907 0.32093023 0.18139535 0.0744186  0.27906977 0.63255814\n",
      " 0.09302326 0.48372093 0.40465116 0.29302326 0.2372093  0.35348837\n",
      " 0.26511628 0.24186047 0.2        0.37209302 0.26976744 0.40465116\n",
      " 0.3627907  0.21395349 0.20930233 0.27906977 0.41395349 0.40465116\n",
      " 0.41860465 0.45116279 0.17209302 0.13023256 0.26511628 0.38604651\n",
      " 0.26046512 0.20930233 0.21395349 0.44651163 0.41111058 0.39151937\n",
      " 0.30652192 0.36208826 0.2843087  0.24972218 0.27435207 0.25689998]\n",
      "8 day output [[0.2946913]]\n",
      "9 day input [0.80465116 0.78139535 0.66511628 0.28837209 0.26976744 0.29767442\n",
      " 0.35813953 0.34418605 0.26511628 0.29302326 0.65116279 0.41395349\n",
      " 0.51627907 0.28372093 0.26511628 0.37209302 0.53953488 0.40465116\n",
      " 0.30697674 0.25581395 0.33953488 0.35348837 0.31627907 0.4372093\n",
      " 0.16744186 0.16744186 0.27906977 0.20930233 0.39069767 0.24651163\n",
      " 0.20465116 0.38139535 0.58139535 0.66511628 0.90697674 0.76744186\n",
      " 0.6        0.78139535 0.70697674 0.29302326 0.33488372 0.67906977\n",
      " 0.53953488 0.37674419 0.49767442 0.33023256 0.3627907  0.30697674\n",
      " 0.29302326 0.4        0.59534884 0.51162791 0.34418605 0.3255814\n",
      " 0.3255814  0.33023256 0.42325581 0.40465116 0.4744186  0.46976744\n",
      " 0.49767442 0.53953488 0.46976744 0.51162791 0.45581395 0.31162791\n",
      " 0.28372093 0.29302326 0.2        0.35813953 0.45116279 0.39069767\n",
      " 0.3255814  0.24651163 0.28837209 0.10232558 0.74418605 0.11162791\n",
      " 0.13953488 0.4372093  0.53023256 0.31162791 0.3255814  0.\n",
      " 0.62325581 0.47906977 0.52093023 0.54883721 0.14883721 0.51627907\n",
      " 0.32093023 0.18139535 0.0744186  0.27906977 0.63255814 0.09302326\n",
      " 0.48372093 0.40465116 0.29302326 0.2372093  0.35348837 0.26511628\n",
      " 0.24186047 0.2        0.37209302 0.26976744 0.40465116 0.3627907\n",
      " 0.21395349 0.20930233 0.27906977 0.41395349 0.40465116 0.41860465\n",
      " 0.45116279 0.17209302 0.13023256 0.26511628 0.38604651 0.26046512\n",
      " 0.20930233 0.21395349 0.44651163 0.41111058 0.39151937 0.30652192\n",
      " 0.36208826 0.2843087  0.24972218 0.27435207 0.25689998 0.29469129]\n",
      "9 day output [[0.36194637]]\n",
      "10 day input [0.78139535 0.66511628 0.28837209 0.26976744 0.29767442 0.35813953\n",
      " 0.34418605 0.26511628 0.29302326 0.65116279 0.41395349 0.51627907\n",
      " 0.28372093 0.26511628 0.37209302 0.53953488 0.40465116 0.30697674\n",
      " 0.25581395 0.33953488 0.35348837 0.31627907 0.4372093  0.16744186\n",
      " 0.16744186 0.27906977 0.20930233 0.39069767 0.24651163 0.20465116\n",
      " 0.38139535 0.58139535 0.66511628 0.90697674 0.76744186 0.6\n",
      " 0.78139535 0.70697674 0.29302326 0.33488372 0.67906977 0.53953488\n",
      " 0.37674419 0.49767442 0.33023256 0.3627907  0.30697674 0.29302326\n",
      " 0.4        0.59534884 0.51162791 0.34418605 0.3255814  0.3255814\n",
      " 0.33023256 0.42325581 0.40465116 0.4744186  0.46976744 0.49767442\n",
      " 0.53953488 0.46976744 0.51162791 0.45581395 0.31162791 0.28372093\n",
      " 0.29302326 0.2        0.35813953 0.45116279 0.39069767 0.3255814\n",
      " 0.24651163 0.28837209 0.10232558 0.74418605 0.11162791 0.13953488\n",
      " 0.4372093  0.53023256 0.31162791 0.3255814  0.         0.62325581\n",
      " 0.47906977 0.52093023 0.54883721 0.14883721 0.51627907 0.32093023\n",
      " 0.18139535 0.0744186  0.27906977 0.63255814 0.09302326 0.48372093\n",
      " 0.40465116 0.29302326 0.2372093  0.35348837 0.26511628 0.24186047\n",
      " 0.2        0.37209302 0.26976744 0.40465116 0.3627907  0.21395349\n",
      " 0.20930233 0.27906977 0.41395349 0.40465116 0.41860465 0.45116279\n",
      " 0.17209302 0.13023256 0.26511628 0.38604651 0.26046512 0.20930233\n",
      " 0.21395349 0.44651163 0.41111058 0.39151937 0.30652192 0.36208826\n",
      " 0.2843087  0.24972218 0.27435207 0.25689998 0.29469129 0.36194637]\n",
      "10 day output [[0.31710884]]\n",
      "11 day input [0.66511628 0.28837209 0.26976744 0.29767442 0.35813953 0.34418605\n",
      " 0.26511628 0.29302326 0.65116279 0.41395349 0.51627907 0.28372093\n",
      " 0.26511628 0.37209302 0.53953488 0.40465116 0.30697674 0.25581395\n",
      " 0.33953488 0.35348837 0.31627907 0.4372093  0.16744186 0.16744186\n",
      " 0.27906977 0.20930233 0.39069767 0.24651163 0.20465116 0.38139535\n",
      " 0.58139535 0.66511628 0.90697674 0.76744186 0.6        0.78139535\n",
      " 0.70697674 0.29302326 0.33488372 0.67906977 0.53953488 0.37674419\n",
      " 0.49767442 0.33023256 0.3627907  0.30697674 0.29302326 0.4\n",
      " 0.59534884 0.51162791 0.34418605 0.3255814  0.3255814  0.33023256\n",
      " 0.42325581 0.40465116 0.4744186  0.46976744 0.49767442 0.53953488\n",
      " 0.46976744 0.51162791 0.45581395 0.31162791 0.28372093 0.29302326\n",
      " 0.2        0.35813953 0.45116279 0.39069767 0.3255814  0.24651163\n",
      " 0.28837209 0.10232558 0.74418605 0.11162791 0.13953488 0.4372093\n",
      " 0.53023256 0.31162791 0.3255814  0.         0.62325581 0.47906977\n",
      " 0.52093023 0.54883721 0.14883721 0.51627907 0.32093023 0.18139535\n",
      " 0.0744186  0.27906977 0.63255814 0.09302326 0.48372093 0.40465116\n",
      " 0.29302326 0.2372093  0.35348837 0.26511628 0.24186047 0.2\n",
      " 0.37209302 0.26976744 0.40465116 0.3627907  0.21395349 0.20930233\n",
      " 0.27906977 0.41395349 0.40465116 0.41860465 0.45116279 0.17209302\n",
      " 0.13023256 0.26511628 0.38604651 0.26046512 0.20930233 0.21395349\n",
      " 0.44651163 0.41111058 0.39151937 0.30652192 0.36208826 0.2843087\n",
      " 0.24972218 0.27435207 0.25689998 0.29469129 0.36194637 0.31710884]\n",
      "11 day output [[0.3206894]]\n",
      "12 day input [0.28837209 0.26976744 0.29767442 0.35813953 0.34418605 0.26511628\n",
      " 0.29302326 0.65116279 0.41395349 0.51627907 0.28372093 0.26511628\n",
      " 0.37209302 0.53953488 0.40465116 0.30697674 0.25581395 0.33953488\n",
      " 0.35348837 0.31627907 0.4372093  0.16744186 0.16744186 0.27906977\n",
      " 0.20930233 0.39069767 0.24651163 0.20465116 0.38139535 0.58139535\n",
      " 0.66511628 0.90697674 0.76744186 0.6        0.78139535 0.70697674\n",
      " 0.29302326 0.33488372 0.67906977 0.53953488 0.37674419 0.49767442\n",
      " 0.33023256 0.3627907  0.30697674 0.29302326 0.4        0.59534884\n",
      " 0.51162791 0.34418605 0.3255814  0.3255814  0.33023256 0.42325581\n",
      " 0.40465116 0.4744186  0.46976744 0.49767442 0.53953488 0.46976744\n",
      " 0.51162791 0.45581395 0.31162791 0.28372093 0.29302326 0.2\n",
      " 0.35813953 0.45116279 0.39069767 0.3255814  0.24651163 0.28837209\n",
      " 0.10232558 0.74418605 0.11162791 0.13953488 0.4372093  0.53023256\n",
      " 0.31162791 0.3255814  0.         0.62325581 0.47906977 0.52093023\n",
      " 0.54883721 0.14883721 0.51627907 0.32093023 0.18139535 0.0744186\n",
      " 0.27906977 0.63255814 0.09302326 0.48372093 0.40465116 0.29302326\n",
      " 0.2372093  0.35348837 0.26511628 0.24186047 0.2        0.37209302\n",
      " 0.26976744 0.40465116 0.3627907  0.21395349 0.20930233 0.27906977\n",
      " 0.41395349 0.40465116 0.41860465 0.45116279 0.17209302 0.13023256\n",
      " 0.26511628 0.38604651 0.26046512 0.20930233 0.21395349 0.44651163\n",
      " 0.41111058 0.39151937 0.30652192 0.36208826 0.2843087  0.24972218\n",
      " 0.27435207 0.25689998 0.29469129 0.36194637 0.31710884 0.32068941]\n",
      "12 day output [[0.28416514]]\n",
      "13 day input [0.26976744 0.29767442 0.35813953 0.34418605 0.26511628 0.29302326\n",
      " 0.65116279 0.41395349 0.51627907 0.28372093 0.26511628 0.37209302\n",
      " 0.53953488 0.40465116 0.30697674 0.25581395 0.33953488 0.35348837\n",
      " 0.31627907 0.4372093  0.16744186 0.16744186 0.27906977 0.20930233\n",
      " 0.39069767 0.24651163 0.20465116 0.38139535 0.58139535 0.66511628\n",
      " 0.90697674 0.76744186 0.6        0.78139535 0.70697674 0.29302326\n",
      " 0.33488372 0.67906977 0.53953488 0.37674419 0.49767442 0.33023256\n",
      " 0.3627907  0.30697674 0.29302326 0.4        0.59534884 0.51162791\n",
      " 0.34418605 0.3255814  0.3255814  0.33023256 0.42325581 0.40465116\n",
      " 0.4744186  0.46976744 0.49767442 0.53953488 0.46976744 0.51162791\n",
      " 0.45581395 0.31162791 0.28372093 0.29302326 0.2        0.35813953\n",
      " 0.45116279 0.39069767 0.3255814  0.24651163 0.28837209 0.10232558\n",
      " 0.74418605 0.11162791 0.13953488 0.4372093  0.53023256 0.31162791\n",
      " 0.3255814  0.         0.62325581 0.47906977 0.52093023 0.54883721\n",
      " 0.14883721 0.51627907 0.32093023 0.18139535 0.0744186  0.27906977\n",
      " 0.63255814 0.09302326 0.48372093 0.40465116 0.29302326 0.2372093\n",
      " 0.35348837 0.26511628 0.24186047 0.2        0.37209302 0.26976744\n",
      " 0.40465116 0.3627907  0.21395349 0.20930233 0.27906977 0.41395349\n",
      " 0.40465116 0.41860465 0.45116279 0.17209302 0.13023256 0.26511628\n",
      " 0.38604651 0.26046512 0.20930233 0.21395349 0.44651163 0.41111058\n",
      " 0.39151937 0.30652192 0.36208826 0.2843087  0.24972218 0.27435207\n",
      " 0.25689998 0.29469129 0.36194637 0.31710884 0.32068941 0.28416514]\n",
      "13 day output [[0.31683144]]\n",
      "14 day input [0.29767442 0.35813953 0.34418605 0.26511628 0.29302326 0.65116279\n",
      " 0.41395349 0.51627907 0.28372093 0.26511628 0.37209302 0.53953488\n",
      " 0.40465116 0.30697674 0.25581395 0.33953488 0.35348837 0.31627907\n",
      " 0.4372093  0.16744186 0.16744186 0.27906977 0.20930233 0.39069767\n",
      " 0.24651163 0.20465116 0.38139535 0.58139535 0.66511628 0.90697674\n",
      " 0.76744186 0.6        0.78139535 0.70697674 0.29302326 0.33488372\n",
      " 0.67906977 0.53953488 0.37674419 0.49767442 0.33023256 0.3627907\n",
      " 0.30697674 0.29302326 0.4        0.59534884 0.51162791 0.34418605\n",
      " 0.3255814  0.3255814  0.33023256 0.42325581 0.40465116 0.4744186\n",
      " 0.46976744 0.49767442 0.53953488 0.46976744 0.51162791 0.45581395\n",
      " 0.31162791 0.28372093 0.29302326 0.2        0.35813953 0.45116279\n",
      " 0.39069767 0.3255814  0.24651163 0.28837209 0.10232558 0.74418605\n",
      " 0.11162791 0.13953488 0.4372093  0.53023256 0.31162791 0.3255814\n",
      " 0.         0.62325581 0.47906977 0.52093023 0.54883721 0.14883721\n",
      " 0.51627907 0.32093023 0.18139535 0.0744186  0.27906977 0.63255814\n",
      " 0.09302326 0.48372093 0.40465116 0.29302326 0.2372093  0.35348837\n",
      " 0.26511628 0.24186047 0.2        0.37209302 0.26976744 0.40465116\n",
      " 0.3627907  0.21395349 0.20930233 0.27906977 0.41395349 0.40465116\n",
      " 0.41860465 0.45116279 0.17209302 0.13023256 0.26511628 0.38604651\n",
      " 0.26046512 0.20930233 0.21395349 0.44651163 0.41111058 0.39151937\n",
      " 0.30652192 0.36208826 0.2843087  0.24972218 0.27435207 0.25689998\n",
      " 0.29469129 0.36194637 0.31710884 0.32068941 0.28416514 0.31683144]\n",
      "14 day output [[0.2753306]]\n",
      "15 day input [0.35813953 0.34418605 0.26511628 0.29302326 0.65116279 0.41395349\n",
      " 0.51627907 0.28372093 0.26511628 0.37209302 0.53953488 0.40465116\n",
      " 0.30697674 0.25581395 0.33953488 0.35348837 0.31627907 0.4372093\n",
      " 0.16744186 0.16744186 0.27906977 0.20930233 0.39069767 0.24651163\n",
      " 0.20465116 0.38139535 0.58139535 0.66511628 0.90697674 0.76744186\n",
      " 0.6        0.78139535 0.70697674 0.29302326 0.33488372 0.67906977\n",
      " 0.53953488 0.37674419 0.49767442 0.33023256 0.3627907  0.30697674\n",
      " 0.29302326 0.4        0.59534884 0.51162791 0.34418605 0.3255814\n",
      " 0.3255814  0.33023256 0.42325581 0.40465116 0.4744186  0.46976744\n",
      " 0.49767442 0.53953488 0.46976744 0.51162791 0.45581395 0.31162791\n",
      " 0.28372093 0.29302326 0.2        0.35813953 0.45116279 0.39069767\n",
      " 0.3255814  0.24651163 0.28837209 0.10232558 0.74418605 0.11162791\n",
      " 0.13953488 0.4372093  0.53023256 0.31162791 0.3255814  0.\n",
      " 0.62325581 0.47906977 0.52093023 0.54883721 0.14883721 0.51627907\n",
      " 0.32093023 0.18139535 0.0744186  0.27906977 0.63255814 0.09302326\n",
      " 0.48372093 0.40465116 0.29302326 0.2372093  0.35348837 0.26511628\n",
      " 0.24186047 0.2        0.37209302 0.26976744 0.40465116 0.3627907\n",
      " 0.21395349 0.20930233 0.27906977 0.41395349 0.40465116 0.41860465\n",
      " 0.45116279 0.17209302 0.13023256 0.26511628 0.38604651 0.26046512\n",
      " 0.20930233 0.21395349 0.44651163 0.41111058 0.39151937 0.30652192\n",
      " 0.36208826 0.2843087  0.24972218 0.27435207 0.25689998 0.29469129\n",
      " 0.36194637 0.31710884 0.32068941 0.28416514 0.31683144 0.2753306 ]\n",
      "15 day output [[0.29188603]]\n",
      "16 day input [0.34418605 0.26511628 0.29302326 0.65116279 0.41395349 0.51627907\n",
      " 0.28372093 0.26511628 0.37209302 0.53953488 0.40465116 0.30697674\n",
      " 0.25581395 0.33953488 0.35348837 0.31627907 0.4372093  0.16744186\n",
      " 0.16744186 0.27906977 0.20930233 0.39069767 0.24651163 0.20465116\n",
      " 0.38139535 0.58139535 0.66511628 0.90697674 0.76744186 0.6\n",
      " 0.78139535 0.70697674 0.29302326 0.33488372 0.67906977 0.53953488\n",
      " 0.37674419 0.49767442 0.33023256 0.3627907  0.30697674 0.29302326\n",
      " 0.4        0.59534884 0.51162791 0.34418605 0.3255814  0.3255814\n",
      " 0.33023256 0.42325581 0.40465116 0.4744186  0.46976744 0.49767442\n",
      " 0.53953488 0.46976744 0.51162791 0.45581395 0.31162791 0.28372093\n",
      " 0.29302326 0.2        0.35813953 0.45116279 0.39069767 0.3255814\n",
      " 0.24651163 0.28837209 0.10232558 0.74418605 0.11162791 0.13953488\n",
      " 0.4372093  0.53023256 0.31162791 0.3255814  0.         0.62325581\n",
      " 0.47906977 0.52093023 0.54883721 0.14883721 0.51627907 0.32093023\n",
      " 0.18139535 0.0744186  0.27906977 0.63255814 0.09302326 0.48372093\n",
      " 0.40465116 0.29302326 0.2372093  0.35348837 0.26511628 0.24186047\n",
      " 0.2        0.37209302 0.26976744 0.40465116 0.3627907  0.21395349\n",
      " 0.20930233 0.27906977 0.41395349 0.40465116 0.41860465 0.45116279\n",
      " 0.17209302 0.13023256 0.26511628 0.38604651 0.26046512 0.20930233\n",
      " 0.21395349 0.44651163 0.41111058 0.39151937 0.30652192 0.36208826\n",
      " 0.2843087  0.24972218 0.27435207 0.25689998 0.29469129 0.36194637\n",
      " 0.31710884 0.32068941 0.28416514 0.31683144 0.2753306  0.29188603]\n",
      "16 day output [[0.2733572]]\n",
      "17 day input [0.26511628 0.29302326 0.65116279 0.41395349 0.51627907 0.28372093\n",
      " 0.26511628 0.37209302 0.53953488 0.40465116 0.30697674 0.25581395\n",
      " 0.33953488 0.35348837 0.31627907 0.4372093  0.16744186 0.16744186\n",
      " 0.27906977 0.20930233 0.39069767 0.24651163 0.20465116 0.38139535\n",
      " 0.58139535 0.66511628 0.90697674 0.76744186 0.6        0.78139535\n",
      " 0.70697674 0.29302326 0.33488372 0.67906977 0.53953488 0.37674419\n",
      " 0.49767442 0.33023256 0.3627907  0.30697674 0.29302326 0.4\n",
      " 0.59534884 0.51162791 0.34418605 0.3255814  0.3255814  0.33023256\n",
      " 0.42325581 0.40465116 0.4744186  0.46976744 0.49767442 0.53953488\n",
      " 0.46976744 0.51162791 0.45581395 0.31162791 0.28372093 0.29302326\n",
      " 0.2        0.35813953 0.45116279 0.39069767 0.3255814  0.24651163\n",
      " 0.28837209 0.10232558 0.74418605 0.11162791 0.13953488 0.4372093\n",
      " 0.53023256 0.31162791 0.3255814  0.         0.62325581 0.47906977\n",
      " 0.52093023 0.54883721 0.14883721 0.51627907 0.32093023 0.18139535\n",
      " 0.0744186  0.27906977 0.63255814 0.09302326 0.48372093 0.40465116\n",
      " 0.29302326 0.2372093  0.35348837 0.26511628 0.24186047 0.2\n",
      " 0.37209302 0.26976744 0.40465116 0.3627907  0.21395349 0.20930233\n",
      " 0.27906977 0.41395349 0.40465116 0.41860465 0.45116279 0.17209302\n",
      " 0.13023256 0.26511628 0.38604651 0.26046512 0.20930233 0.21395349\n",
      " 0.44651163 0.41111058 0.39151937 0.30652192 0.36208826 0.2843087\n",
      " 0.24972218 0.27435207 0.25689998 0.29469129 0.36194637 0.31710884\n",
      " 0.32068941 0.28416514 0.31683144 0.2753306  0.29188603 0.27335721]\n",
      "17 day output [[0.20125431]]\n",
      "18 day input [0.29302326 0.65116279 0.41395349 0.51627907 0.28372093 0.26511628\n",
      " 0.37209302 0.53953488 0.40465116 0.30697674 0.25581395 0.33953488\n",
      " 0.35348837 0.31627907 0.4372093  0.16744186 0.16744186 0.27906977\n",
      " 0.20930233 0.39069767 0.24651163 0.20465116 0.38139535 0.58139535\n",
      " 0.66511628 0.90697674 0.76744186 0.6        0.78139535 0.70697674\n",
      " 0.29302326 0.33488372 0.67906977 0.53953488 0.37674419 0.49767442\n",
      " 0.33023256 0.3627907  0.30697674 0.29302326 0.4        0.59534884\n",
      " 0.51162791 0.34418605 0.3255814  0.3255814  0.33023256 0.42325581\n",
      " 0.40465116 0.4744186  0.46976744 0.49767442 0.53953488 0.46976744\n",
      " 0.51162791 0.45581395 0.31162791 0.28372093 0.29302326 0.2\n",
      " 0.35813953 0.45116279 0.39069767 0.3255814  0.24651163 0.28837209\n",
      " 0.10232558 0.74418605 0.11162791 0.13953488 0.4372093  0.53023256\n",
      " 0.31162791 0.3255814  0.         0.62325581 0.47906977 0.52093023\n",
      " 0.54883721 0.14883721 0.51627907 0.32093023 0.18139535 0.0744186\n",
      " 0.27906977 0.63255814 0.09302326 0.48372093 0.40465116 0.29302326\n",
      " 0.2372093  0.35348837 0.26511628 0.24186047 0.2        0.37209302\n",
      " 0.26976744 0.40465116 0.3627907  0.21395349 0.20930233 0.27906977\n",
      " 0.41395349 0.40465116 0.41860465 0.45116279 0.17209302 0.13023256\n",
      " 0.26511628 0.38604651 0.26046512 0.20930233 0.21395349 0.44651163\n",
      " 0.41111058 0.39151937 0.30652192 0.36208826 0.2843087  0.24972218\n",
      " 0.27435207 0.25689998 0.29469129 0.36194637 0.31710884 0.32068941\n",
      " 0.28416514 0.31683144 0.2753306  0.29188603 0.27335721 0.20125431]\n",
      "18 day output [[0.27015895]]\n",
      "19 day input [0.65116279 0.41395349 0.51627907 0.28372093 0.26511628 0.37209302\n",
      " 0.53953488 0.40465116 0.30697674 0.25581395 0.33953488 0.35348837\n",
      " 0.31627907 0.4372093  0.16744186 0.16744186 0.27906977 0.20930233\n",
      " 0.39069767 0.24651163 0.20465116 0.38139535 0.58139535 0.66511628\n",
      " 0.90697674 0.76744186 0.6        0.78139535 0.70697674 0.29302326\n",
      " 0.33488372 0.67906977 0.53953488 0.37674419 0.49767442 0.33023256\n",
      " 0.3627907  0.30697674 0.29302326 0.4        0.59534884 0.51162791\n",
      " 0.34418605 0.3255814  0.3255814  0.33023256 0.42325581 0.40465116\n",
      " 0.4744186  0.46976744 0.49767442 0.53953488 0.46976744 0.51162791\n",
      " 0.45581395 0.31162791 0.28372093 0.29302326 0.2        0.35813953\n",
      " 0.45116279 0.39069767 0.3255814  0.24651163 0.28837209 0.10232558\n",
      " 0.74418605 0.11162791 0.13953488 0.4372093  0.53023256 0.31162791\n",
      " 0.3255814  0.         0.62325581 0.47906977 0.52093023 0.54883721\n",
      " 0.14883721 0.51627907 0.32093023 0.18139535 0.0744186  0.27906977\n",
      " 0.63255814 0.09302326 0.48372093 0.40465116 0.29302326 0.2372093\n",
      " 0.35348837 0.26511628 0.24186047 0.2        0.37209302 0.26976744\n",
      " 0.40465116 0.3627907  0.21395349 0.20930233 0.27906977 0.41395349\n",
      " 0.40465116 0.41860465 0.45116279 0.17209302 0.13023256 0.26511628\n",
      " 0.38604651 0.26046512 0.20930233 0.21395349 0.44651163 0.41111058\n",
      " 0.39151937 0.30652192 0.36208826 0.2843087  0.24972218 0.27435207\n",
      " 0.25689998 0.29469129 0.36194637 0.31710884 0.32068941 0.28416514\n",
      " 0.31683144 0.2753306  0.29188603 0.27335721 0.20125431 0.27015895]\n",
      "19 day output [[0.24348168]]\n",
      "20 day input [0.41395349 0.51627907 0.28372093 0.26511628 0.37209302 0.53953488\n",
      " 0.40465116 0.30697674 0.25581395 0.33953488 0.35348837 0.31627907\n",
      " 0.4372093  0.16744186 0.16744186 0.27906977 0.20930233 0.39069767\n",
      " 0.24651163 0.20465116 0.38139535 0.58139535 0.66511628 0.90697674\n",
      " 0.76744186 0.6        0.78139535 0.70697674 0.29302326 0.33488372\n",
      " 0.67906977 0.53953488 0.37674419 0.49767442 0.33023256 0.3627907\n",
      " 0.30697674 0.29302326 0.4        0.59534884 0.51162791 0.34418605\n",
      " 0.3255814  0.3255814  0.33023256 0.42325581 0.40465116 0.4744186\n",
      " 0.46976744 0.49767442 0.53953488 0.46976744 0.51162791 0.45581395\n",
      " 0.31162791 0.28372093 0.29302326 0.2        0.35813953 0.45116279\n",
      " 0.39069767 0.3255814  0.24651163 0.28837209 0.10232558 0.74418605\n",
      " 0.11162791 0.13953488 0.4372093  0.53023256 0.31162791 0.3255814\n",
      " 0.         0.62325581 0.47906977 0.52093023 0.54883721 0.14883721\n",
      " 0.51627907 0.32093023 0.18139535 0.0744186  0.27906977 0.63255814\n",
      " 0.09302326 0.48372093 0.40465116 0.29302326 0.2372093  0.35348837\n",
      " 0.26511628 0.24186047 0.2        0.37209302 0.26976744 0.40465116\n",
      " 0.3627907  0.21395349 0.20930233 0.27906977 0.41395349 0.40465116\n",
      " 0.41860465 0.45116279 0.17209302 0.13023256 0.26511628 0.38604651\n",
      " 0.26046512 0.20930233 0.21395349 0.44651163 0.41111058 0.39151937\n",
      " 0.30652192 0.36208826 0.2843087  0.24972218 0.27435207 0.25689998\n",
      " 0.29469129 0.36194637 0.31710884 0.32068941 0.28416514 0.31683144\n",
      " 0.2753306  0.29188603 0.27335721 0.20125431 0.27015895 0.24348168]\n",
      "20 day output [[0.2909287]]\n",
      "21 day input [0.51627907 0.28372093 0.26511628 0.37209302 0.53953488 0.40465116\n",
      " 0.30697674 0.25581395 0.33953488 0.35348837 0.31627907 0.4372093\n",
      " 0.16744186 0.16744186 0.27906977 0.20930233 0.39069767 0.24651163\n",
      " 0.20465116 0.38139535 0.58139535 0.66511628 0.90697674 0.76744186\n",
      " 0.6        0.78139535 0.70697674 0.29302326 0.33488372 0.67906977\n",
      " 0.53953488 0.37674419 0.49767442 0.33023256 0.3627907  0.30697674\n",
      " 0.29302326 0.4        0.59534884 0.51162791 0.34418605 0.3255814\n",
      " 0.3255814  0.33023256 0.42325581 0.40465116 0.4744186  0.46976744\n",
      " 0.49767442 0.53953488 0.46976744 0.51162791 0.45581395 0.31162791\n",
      " 0.28372093 0.29302326 0.2        0.35813953 0.45116279 0.39069767\n",
      " 0.3255814  0.24651163 0.28837209 0.10232558 0.74418605 0.11162791\n",
      " 0.13953488 0.4372093  0.53023256 0.31162791 0.3255814  0.\n",
      " 0.62325581 0.47906977 0.52093023 0.54883721 0.14883721 0.51627907\n",
      " 0.32093023 0.18139535 0.0744186  0.27906977 0.63255814 0.09302326\n",
      " 0.48372093 0.40465116 0.29302326 0.2372093  0.35348837 0.26511628\n",
      " 0.24186047 0.2        0.37209302 0.26976744 0.40465116 0.3627907\n",
      " 0.21395349 0.20930233 0.27906977 0.41395349 0.40465116 0.41860465\n",
      " 0.45116279 0.17209302 0.13023256 0.26511628 0.38604651 0.26046512\n",
      " 0.20930233 0.21395349 0.44651163 0.41111058 0.39151937 0.30652192\n",
      " 0.36208826 0.2843087  0.24972218 0.27435207 0.25689998 0.29469129\n",
      " 0.36194637 0.31710884 0.32068941 0.28416514 0.31683144 0.2753306\n",
      " 0.29188603 0.27335721 0.20125431 0.27015895 0.24348168 0.29092869]\n",
      "21 day output [[0.26714072]]\n",
      "22 day input [0.28372093 0.26511628 0.37209302 0.53953488 0.40465116 0.30697674\n",
      " 0.25581395 0.33953488 0.35348837 0.31627907 0.4372093  0.16744186\n",
      " 0.16744186 0.27906977 0.20930233 0.39069767 0.24651163 0.20465116\n",
      " 0.38139535 0.58139535 0.66511628 0.90697674 0.76744186 0.6\n",
      " 0.78139535 0.70697674 0.29302326 0.33488372 0.67906977 0.53953488\n",
      " 0.37674419 0.49767442 0.33023256 0.3627907  0.30697674 0.29302326\n",
      " 0.4        0.59534884 0.51162791 0.34418605 0.3255814  0.3255814\n",
      " 0.33023256 0.42325581 0.40465116 0.4744186  0.46976744 0.49767442\n",
      " 0.53953488 0.46976744 0.51162791 0.45581395 0.31162791 0.28372093\n",
      " 0.29302326 0.2        0.35813953 0.45116279 0.39069767 0.3255814\n",
      " 0.24651163 0.28837209 0.10232558 0.74418605 0.11162791 0.13953488\n",
      " 0.4372093  0.53023256 0.31162791 0.3255814  0.         0.62325581\n",
      " 0.47906977 0.52093023 0.54883721 0.14883721 0.51627907 0.32093023\n",
      " 0.18139535 0.0744186  0.27906977 0.63255814 0.09302326 0.48372093\n",
      " 0.40465116 0.29302326 0.2372093  0.35348837 0.26511628 0.24186047\n",
      " 0.2        0.37209302 0.26976744 0.40465116 0.3627907  0.21395349\n",
      " 0.20930233 0.27906977 0.41395349 0.40465116 0.41860465 0.45116279\n",
      " 0.17209302 0.13023256 0.26511628 0.38604651 0.26046512 0.20930233\n",
      " 0.21395349 0.44651163 0.41111058 0.39151937 0.30652192 0.36208826\n",
      " 0.2843087  0.24972218 0.27435207 0.25689998 0.29469129 0.36194637\n",
      " 0.31710884 0.32068941 0.28416514 0.31683144 0.2753306  0.29188603\n",
      " 0.27335721 0.20125431 0.27015895 0.24348168 0.29092869 0.26714072]\n",
      "22 day output [[0.2804834]]\n",
      "23 day input [0.26511628 0.37209302 0.53953488 0.40465116 0.30697674 0.25581395\n",
      " 0.33953488 0.35348837 0.31627907 0.4372093  0.16744186 0.16744186\n",
      " 0.27906977 0.20930233 0.39069767 0.24651163 0.20465116 0.38139535\n",
      " 0.58139535 0.66511628 0.90697674 0.76744186 0.6        0.78139535\n",
      " 0.70697674 0.29302326 0.33488372 0.67906977 0.53953488 0.37674419\n",
      " 0.49767442 0.33023256 0.3627907  0.30697674 0.29302326 0.4\n",
      " 0.59534884 0.51162791 0.34418605 0.3255814  0.3255814  0.33023256\n",
      " 0.42325581 0.40465116 0.4744186  0.46976744 0.49767442 0.53953488\n",
      " 0.46976744 0.51162791 0.45581395 0.31162791 0.28372093 0.29302326\n",
      " 0.2        0.35813953 0.45116279 0.39069767 0.3255814  0.24651163\n",
      " 0.28837209 0.10232558 0.74418605 0.11162791 0.13953488 0.4372093\n",
      " 0.53023256 0.31162791 0.3255814  0.         0.62325581 0.47906977\n",
      " 0.52093023 0.54883721 0.14883721 0.51627907 0.32093023 0.18139535\n",
      " 0.0744186  0.27906977 0.63255814 0.09302326 0.48372093 0.40465116\n",
      " 0.29302326 0.2372093  0.35348837 0.26511628 0.24186047 0.2\n",
      " 0.37209302 0.26976744 0.40465116 0.3627907  0.21395349 0.20930233\n",
      " 0.27906977 0.41395349 0.40465116 0.41860465 0.45116279 0.17209302\n",
      " 0.13023256 0.26511628 0.38604651 0.26046512 0.20930233 0.21395349\n",
      " 0.44651163 0.41111058 0.39151937 0.30652192 0.36208826 0.2843087\n",
      " 0.24972218 0.27435207 0.25689998 0.29469129 0.36194637 0.31710884\n",
      " 0.32068941 0.28416514 0.31683144 0.2753306  0.29188603 0.27335721\n",
      " 0.20125431 0.27015895 0.24348168 0.29092869 0.26714072 0.28048339]\n",
      "23 day output [[0.30028784]]\n",
      "24 day input [0.37209302 0.53953488 0.40465116 0.30697674 0.25581395 0.33953488\n",
      " 0.35348837 0.31627907 0.4372093  0.16744186 0.16744186 0.27906977\n",
      " 0.20930233 0.39069767 0.24651163 0.20465116 0.38139535 0.58139535\n",
      " 0.66511628 0.90697674 0.76744186 0.6        0.78139535 0.70697674\n",
      " 0.29302326 0.33488372 0.67906977 0.53953488 0.37674419 0.49767442\n",
      " 0.33023256 0.3627907  0.30697674 0.29302326 0.4        0.59534884\n",
      " 0.51162791 0.34418605 0.3255814  0.3255814  0.33023256 0.42325581\n",
      " 0.40465116 0.4744186  0.46976744 0.49767442 0.53953488 0.46976744\n",
      " 0.51162791 0.45581395 0.31162791 0.28372093 0.29302326 0.2\n",
      " 0.35813953 0.45116279 0.39069767 0.3255814  0.24651163 0.28837209\n",
      " 0.10232558 0.74418605 0.11162791 0.13953488 0.4372093  0.53023256\n",
      " 0.31162791 0.3255814  0.         0.62325581 0.47906977 0.52093023\n",
      " 0.54883721 0.14883721 0.51627907 0.32093023 0.18139535 0.0744186\n",
      " 0.27906977 0.63255814 0.09302326 0.48372093 0.40465116 0.29302326\n",
      " 0.2372093  0.35348837 0.26511628 0.24186047 0.2        0.37209302\n",
      " 0.26976744 0.40465116 0.3627907  0.21395349 0.20930233 0.27906977\n",
      " 0.41395349 0.40465116 0.41860465 0.45116279 0.17209302 0.13023256\n",
      " 0.26511628 0.38604651 0.26046512 0.20930233 0.21395349 0.44651163\n",
      " 0.41111058 0.39151937 0.30652192 0.36208826 0.2843087  0.24972218\n",
      " 0.27435207 0.25689998 0.29469129 0.36194637 0.31710884 0.32068941\n",
      " 0.28416514 0.31683144 0.2753306  0.29188603 0.27335721 0.20125431\n",
      " 0.27015895 0.24348168 0.29092869 0.26714072 0.28048339 0.30028784]\n",
      "24 day output [[0.2139873]]\n",
      "25 day input [0.53953488 0.40465116 0.30697674 0.25581395 0.33953488 0.35348837\n",
      " 0.31627907 0.4372093  0.16744186 0.16744186 0.27906977 0.20930233\n",
      " 0.39069767 0.24651163 0.20465116 0.38139535 0.58139535 0.66511628\n",
      " 0.90697674 0.76744186 0.6        0.78139535 0.70697674 0.29302326\n",
      " 0.33488372 0.67906977 0.53953488 0.37674419 0.49767442 0.33023256\n",
      " 0.3627907  0.30697674 0.29302326 0.4        0.59534884 0.51162791\n",
      " 0.34418605 0.3255814  0.3255814  0.33023256 0.42325581 0.40465116\n",
      " 0.4744186  0.46976744 0.49767442 0.53953488 0.46976744 0.51162791\n",
      " 0.45581395 0.31162791 0.28372093 0.29302326 0.2        0.35813953\n",
      " 0.45116279 0.39069767 0.3255814  0.24651163 0.28837209 0.10232558\n",
      " 0.74418605 0.11162791 0.13953488 0.4372093  0.53023256 0.31162791\n",
      " 0.3255814  0.         0.62325581 0.47906977 0.52093023 0.54883721\n",
      " 0.14883721 0.51627907 0.32093023 0.18139535 0.0744186  0.27906977\n",
      " 0.63255814 0.09302326 0.48372093 0.40465116 0.29302326 0.2372093\n",
      " 0.35348837 0.26511628 0.24186047 0.2        0.37209302 0.26976744\n",
      " 0.40465116 0.3627907  0.21395349 0.20930233 0.27906977 0.41395349\n",
      " 0.40465116 0.41860465 0.45116279 0.17209302 0.13023256 0.26511628\n",
      " 0.38604651 0.26046512 0.20930233 0.21395349 0.44651163 0.41111058\n",
      " 0.39151937 0.30652192 0.36208826 0.2843087  0.24972218 0.27435207\n",
      " 0.25689998 0.29469129 0.36194637 0.31710884 0.32068941 0.28416514\n",
      " 0.31683144 0.2753306  0.29188603 0.27335721 0.20125431 0.27015895\n",
      " 0.24348168 0.29092869 0.26714072 0.28048339 0.30028784 0.21398731]\n",
      "25 day output [[0.23875815]]\n",
      "26 day input [0.40465116 0.30697674 0.25581395 0.33953488 0.35348837 0.31627907\n",
      " 0.4372093  0.16744186 0.16744186 0.27906977 0.20930233 0.39069767\n",
      " 0.24651163 0.20465116 0.38139535 0.58139535 0.66511628 0.90697674\n",
      " 0.76744186 0.6        0.78139535 0.70697674 0.29302326 0.33488372\n",
      " 0.67906977 0.53953488 0.37674419 0.49767442 0.33023256 0.3627907\n",
      " 0.30697674 0.29302326 0.4        0.59534884 0.51162791 0.34418605\n",
      " 0.3255814  0.3255814  0.33023256 0.42325581 0.40465116 0.4744186\n",
      " 0.46976744 0.49767442 0.53953488 0.46976744 0.51162791 0.45581395\n",
      " 0.31162791 0.28372093 0.29302326 0.2        0.35813953 0.45116279\n",
      " 0.39069767 0.3255814  0.24651163 0.28837209 0.10232558 0.74418605\n",
      " 0.11162791 0.13953488 0.4372093  0.53023256 0.31162791 0.3255814\n",
      " 0.         0.62325581 0.47906977 0.52093023 0.54883721 0.14883721\n",
      " 0.51627907 0.32093023 0.18139535 0.0744186  0.27906977 0.63255814\n",
      " 0.09302326 0.48372093 0.40465116 0.29302326 0.2372093  0.35348837\n",
      " 0.26511628 0.24186047 0.2        0.37209302 0.26976744 0.40465116\n",
      " 0.3627907  0.21395349 0.20930233 0.27906977 0.41395349 0.40465116\n",
      " 0.41860465 0.45116279 0.17209302 0.13023256 0.26511628 0.38604651\n",
      " 0.26046512 0.20930233 0.21395349 0.44651163 0.41111058 0.39151937\n",
      " 0.30652192 0.36208826 0.2843087  0.24972218 0.27435207 0.25689998\n",
      " 0.29469129 0.36194637 0.31710884 0.32068941 0.28416514 0.31683144\n",
      " 0.2753306  0.29188603 0.27335721 0.20125431 0.27015895 0.24348168\n",
      " 0.29092869 0.26714072 0.28048339 0.30028784 0.21398731 0.23875815]\n",
      "26 day output [[0.28749263]]\n",
      "27 day input [0.30697674 0.25581395 0.33953488 0.35348837 0.31627907 0.4372093\n",
      " 0.16744186 0.16744186 0.27906977 0.20930233 0.39069767 0.24651163\n",
      " 0.20465116 0.38139535 0.58139535 0.66511628 0.90697674 0.76744186\n",
      " 0.6        0.78139535 0.70697674 0.29302326 0.33488372 0.67906977\n",
      " 0.53953488 0.37674419 0.49767442 0.33023256 0.3627907  0.30697674\n",
      " 0.29302326 0.4        0.59534884 0.51162791 0.34418605 0.3255814\n",
      " 0.3255814  0.33023256 0.42325581 0.40465116 0.4744186  0.46976744\n",
      " 0.49767442 0.53953488 0.46976744 0.51162791 0.45581395 0.31162791\n",
      " 0.28372093 0.29302326 0.2        0.35813953 0.45116279 0.39069767\n",
      " 0.3255814  0.24651163 0.28837209 0.10232558 0.74418605 0.11162791\n",
      " 0.13953488 0.4372093  0.53023256 0.31162791 0.3255814  0.\n",
      " 0.62325581 0.47906977 0.52093023 0.54883721 0.14883721 0.51627907\n",
      " 0.32093023 0.18139535 0.0744186  0.27906977 0.63255814 0.09302326\n",
      " 0.48372093 0.40465116 0.29302326 0.2372093  0.35348837 0.26511628\n",
      " 0.24186047 0.2        0.37209302 0.26976744 0.40465116 0.3627907\n",
      " 0.21395349 0.20930233 0.27906977 0.41395349 0.40465116 0.41860465\n",
      " 0.45116279 0.17209302 0.13023256 0.26511628 0.38604651 0.26046512\n",
      " 0.20930233 0.21395349 0.44651163 0.41111058 0.39151937 0.30652192\n",
      " 0.36208826 0.2843087  0.24972218 0.27435207 0.25689998 0.29469129\n",
      " 0.36194637 0.31710884 0.32068941 0.28416514 0.31683144 0.2753306\n",
      " 0.29188603 0.27335721 0.20125431 0.27015895 0.24348168 0.29092869\n",
      " 0.26714072 0.28048339 0.30028784 0.21398731 0.23875815 0.28749263]\n",
      "27 day output [[0.25605264]]\n",
      "28 day input [0.25581395 0.33953488 0.35348837 0.31627907 0.4372093  0.16744186\n",
      " 0.16744186 0.27906977 0.20930233 0.39069767 0.24651163 0.20465116\n",
      " 0.38139535 0.58139535 0.66511628 0.90697674 0.76744186 0.6\n",
      " 0.78139535 0.70697674 0.29302326 0.33488372 0.67906977 0.53953488\n",
      " 0.37674419 0.49767442 0.33023256 0.3627907  0.30697674 0.29302326\n",
      " 0.4        0.59534884 0.51162791 0.34418605 0.3255814  0.3255814\n",
      " 0.33023256 0.42325581 0.40465116 0.4744186  0.46976744 0.49767442\n",
      " 0.53953488 0.46976744 0.51162791 0.45581395 0.31162791 0.28372093\n",
      " 0.29302326 0.2        0.35813953 0.45116279 0.39069767 0.3255814\n",
      " 0.24651163 0.28837209 0.10232558 0.74418605 0.11162791 0.13953488\n",
      " 0.4372093  0.53023256 0.31162791 0.3255814  0.         0.62325581\n",
      " 0.47906977 0.52093023 0.54883721 0.14883721 0.51627907 0.32093023\n",
      " 0.18139535 0.0744186  0.27906977 0.63255814 0.09302326 0.48372093\n",
      " 0.40465116 0.29302326 0.2372093  0.35348837 0.26511628 0.24186047\n",
      " 0.2        0.37209302 0.26976744 0.40465116 0.3627907  0.21395349\n",
      " 0.20930233 0.27906977 0.41395349 0.40465116 0.41860465 0.45116279\n",
      " 0.17209302 0.13023256 0.26511628 0.38604651 0.26046512 0.20930233\n",
      " 0.21395349 0.44651163 0.41111058 0.39151937 0.30652192 0.36208826\n",
      " 0.2843087  0.24972218 0.27435207 0.25689998 0.29469129 0.36194637\n",
      " 0.31710884 0.32068941 0.28416514 0.31683144 0.2753306  0.29188603\n",
      " 0.27335721 0.20125431 0.27015895 0.24348168 0.29092869 0.26714072\n",
      " 0.28048339 0.30028784 0.21398731 0.23875815 0.28749263 0.25605264]\n",
      "28 day output [[0.27752575]]\n",
      "29 day input [0.33953488 0.35348837 0.31627907 0.4372093  0.16744186 0.16744186\n",
      " 0.27906977 0.20930233 0.39069767 0.24651163 0.20465116 0.38139535\n",
      " 0.58139535 0.66511628 0.90697674 0.76744186 0.6        0.78139535\n",
      " 0.70697674 0.29302326 0.33488372 0.67906977 0.53953488 0.37674419\n",
      " 0.49767442 0.33023256 0.3627907  0.30697674 0.29302326 0.4\n",
      " 0.59534884 0.51162791 0.34418605 0.3255814  0.3255814  0.33023256\n",
      " 0.42325581 0.40465116 0.4744186  0.46976744 0.49767442 0.53953488\n",
      " 0.46976744 0.51162791 0.45581395 0.31162791 0.28372093 0.29302326\n",
      " 0.2        0.35813953 0.45116279 0.39069767 0.3255814  0.24651163\n",
      " 0.28837209 0.10232558 0.74418605 0.11162791 0.13953488 0.4372093\n",
      " 0.53023256 0.31162791 0.3255814  0.         0.62325581 0.47906977\n",
      " 0.52093023 0.54883721 0.14883721 0.51627907 0.32093023 0.18139535\n",
      " 0.0744186  0.27906977 0.63255814 0.09302326 0.48372093 0.40465116\n",
      " 0.29302326 0.2372093  0.35348837 0.26511628 0.24186047 0.2\n",
      " 0.37209302 0.26976744 0.40465116 0.3627907  0.21395349 0.20930233\n",
      " 0.27906977 0.41395349 0.40465116 0.41860465 0.45116279 0.17209302\n",
      " 0.13023256 0.26511628 0.38604651 0.26046512 0.20930233 0.21395349\n",
      " 0.44651163 0.41111058 0.39151937 0.30652192 0.36208826 0.2843087\n",
      " 0.24972218 0.27435207 0.25689998 0.29469129 0.36194637 0.31710884\n",
      " 0.32068941 0.28416514 0.31683144 0.2753306  0.29188603 0.27335721\n",
      " 0.20125431 0.27015895 0.24348168 0.29092869 0.26714072 0.28048339\n",
      " 0.30028784 0.21398731 0.23875815 0.28749263 0.25605264 0.27752575]\n",
      "29 day output [[0.25385478]]\n"
     ]
    }
   ],
   "source": [
    "# 13. Dự báo 30 ngày tiếp theo\n",
    "x_input=test_data[60:].reshape(1,-1)\n",
    "print(x_input.shape)\n",
    "\n",
    "temp_input=list(x_input)\n",
    "temp_input=temp_input[0].tolist()\n",
    "\n",
    "from numpy import array\n",
    "\n",
    "lst_output=[]\n",
    "n_steps=132\n",
    "i=0\n",
    "while(i<30):\n",
    "\n",
    "    if(len(temp_input)>132):\n",
    "        #print(temp_input)\n",
    "        x_input=np.array(temp_input[1:])\n",
    "        print(\"{} day input {}\".format(i,x_input))\n",
    "        x_input=x_input.reshape(1,-1)\n",
    "        x_input = x_input.reshape((1, n_steps, 1))\n",
    "        yhat = model.predict(x_input, verbose=0)\n",
    "        print(\"{} day output {}\".format(i,yhat))\n",
    "        temp_input.extend(yhat[0].tolist())\n",
    "        temp_input=temp_input[1:]\n",
    "        lst_output.extend(yhat.tolist())\n",
    "        i=i+1\n",
    "    else:\n",
    "        x_input = x_input.reshape((1, n_steps,1))\n",
    "        yhat = model.predict(x_input, verbose=0)\n",
    "        print(yhat[0])\n",
    "        temp_input.extend(yhat[0].tolist())\n",
    "        print(len(temp_input))\n",
    "        lst_output.extend(yhat.tolist())\n",
    "        i=i+1\n"
   ]
  },
  {
   "cell_type": "code",
   "execution_count": 20,
   "metadata": {
    "colab": {
     "base_uri": "https://localhost:8080/",
     "height": 430
    },
    "executionInfo": {
     "elapsed": 34,
     "status": "ok",
     "timestamp": 1717294705441,
     "user": {
      "displayName": "PHÚC TRẦN HOÀNG",
      "userId": "13892609718634505180"
     },
     "user_tz": -420
    },
    "id": "KSa_mX51a654",
    "outputId": "24c04f3d-afa7-452e-bb42-67c6deb96d59"
   },
   "outputs": [
    {
     "data": {
      "image/png": "[encoded data removed]",
      "text/plain": [
       "<Figure size 640x480 with 1 Axes>"
      ]
     },
     "metadata": {},
     "output_type": "display_data"
    }
   ],
   "source": [
    "# 14.Vẽ hình\n",
    "\n",
    "train_data_index = pd.RangeIndex(start=0, stop=train_size, step=1)\n",
    "plt.plot(scaler.inverse_transform(train_data))\n",
    "\n",
    "test_data_index = pd.RangeIndex(start=train_size, stop=train_size+test_size, step=1)\n",
    "plt.plot(test_data_index,scaler.inverse_transform(test_data))\n",
    "test_data_index = pd.RangeIndex(start=train_size, stop=train_size+test_size, step=1)\n",
    "plt.plot(test_data_index,y_pred)\n",
    "\n",
    "prediect_data_index = pd.RangeIndex(start=len(df1)-1, stop=len(df1)+29, step=1)\n",
    "plt.plot(prediect_data_index,scaler.inverse_transform(lst_output))\n",
    "plt.legend(['Train','Test','Predict','Predict30days'])\n",
    "plt.show()"
   ]
  },
  {
   "cell_type": "code",
   "execution_count": 21,
   "metadata": {
    "colab": {
     "base_uri": "https://localhost:8080/",
     "height": 430
    },
    "executionInfo": {
     "elapsed": 795,
     "status": "ok",
     "timestamp": 1717294706206,
     "user": {
      "displayName": "PHÚC TRẦN HOÀNG",
      "userId": "13892609718634505180"
     },
     "user_tz": -420
    },
    "id": "NX2NiaVGSweP",
    "outputId": "228c9119-f464-4a02-9998-61b19c904b42"
   },
   "outputs": [
    {
     "data": {
      "image/png": "[encoded data removed]",
      "text/plain": [
       "<Figure size 640x480 with 1 Axes>"
      ]
     },
     "metadata": {},
     "output_type": "display_data"
    }
   ],
   "source": [
    "# 14.Vẽ hình\n",
    "# Dự đoán 30 ngày tiếp theo\n",
    "prediect_data_index = pd.RangeIndex(start=len(df1)-1, stop=len(df1)+29, step=1)\n",
    "plt.plot(prediect_data_index,scaler.inverse_transform(lst_output))\n",
    "plt.legend(['Predict30days'])\n",
    "plt.show()"
   ]
  },
  {
   "cell_type": "code",
   "execution_count": 22,
   "metadata": {
    "colab": {
     "base_uri": "https://localhost:8080/"
    },
    "executionInfo": {
     "elapsed": 14,
     "status": "ok",
     "timestamp": 1717294706206,
     "user": {
      "displayName": "PHÚC TRẦN HOÀNG",
      "userId": "13892609718634505180"
     },
     "user_tz": -420
    },
    "id": "BkgnV07USwUl",
    "outputId": "861febfc-bb5c-4d14-a4c1-d4890ec317e0"
   },
   "outputs": [
    {
     "name": "stdout",
     "output_type": "stream",
     "text": [
      "[[90.38877469]\n",
      " [86.17666405]\n",
      " [67.90221331]\n",
      " [79.84897655]\n",
      " [63.12637088]\n",
      " [55.69026929]\n",
      " [60.98569584]\n",
      " [57.23349628]\n",
      " [65.3586283 ]\n",
      " [79.81847045]\n",
      " [70.17840055]\n",
      " [70.94822314]\n",
      " [63.09550595]\n",
      " [70.11875954]\n",
      " [61.19607967]\n",
      " [64.7554968 ]\n",
      " [60.7718007 ]\n",
      " [45.26967627]\n",
      " [60.0841735 ]\n",
      " [54.34856136]\n",
      " [64.5496687 ]\n",
      " [59.43525401]\n",
      " [62.3039299 ]\n",
      " [66.56188619]\n",
      " [48.00727074]\n",
      " [53.33300155]\n",
      " [63.81091607]\n",
      " [57.05131826]\n",
      " [61.66803685]\n",
      " [56.578778  ]]\n"
     ]
    }
   ],
   "source": [
    "print(scaler.inverse_transform(lst_output))"
   ]
  }
 ],
 "metadata": {
  "colab": {
   "provenance": []
  },
  "kernelspec": {
   "display_name": "Python 3 (ipykernel)",
   "language": "python",
   "name": "python3"
  },
  "language_info": {
   "codemirror_mode": {
    "name": "ipython",
    "version": 3
   },
   "file_extension": ".py",
   "mimetype": "text/x-python",
   "name": "python",
   "nbconvert_exporter": "python",
   "pygments_lexer": "ipython3",
   "version": "3.11.7"
  }
 },
 "nbformat": 4,
 "nbformat_minor": 4
}
