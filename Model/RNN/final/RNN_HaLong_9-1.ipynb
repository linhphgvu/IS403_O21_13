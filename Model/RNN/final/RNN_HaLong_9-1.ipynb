{
 "cells": [
  {
   "cell_type": "markdown",
   "metadata": {
    "id": "ND7p1gUtWOHS"
   },
   "source": [
    "https://machinelearningmastery.com/understanding-simple-recurrent-neural-networks-in-keras/"
   ]
  },
  {
   "cell_type": "code",
   "execution_count": 1,
   "metadata": {
    "executionInfo": {
     "elapsed": 4315,
     "status": "ok",
     "timestamp": 1717294616217,
     "user": {
      "displayName": "PHÚC TRẦN HOÀNG",
      "userId": "13892609718634505180"
     },
     "user_tz": -420
    },
    "id": "FMDKda-XIUAK"
   },
   "outputs": [],
   "source": [
    "# 1. Import thư viện cần thiết\n",
    "import numpy as np\n",
    "import pandas as pd\n",
    "import matplotlib.pyplot as plt\n",
    "from sklearn.preprocessing import MinMaxScaler\n",
    "from keras.models import Sequential\n",
    "from keras.layers import Dense, SimpleRNN"
   ]
  },
  {
   "cell_type": "code",
   "execution_count": 2,
   "metadata": {
    "executionInfo": {
     "elapsed": 16,
     "status": "ok",
     "timestamp": 1717294616217,
     "user": {
      "displayName": "PHÚC TRẦN HOÀNG",
      "userId": "13892609718634505180"
     },
     "user_tz": -420
    },
    "id": "aRm9GQ8KJJ5N"
   },
   "outputs": [],
   "source": [
    "# 2. Đọc file csv và gắng index với giá Close\n",
    "df = pd.read_csv('halong_quality.csv')\n",
    "df1=df.reset_index()['pm25']"
   ]
  },
  {
   "cell_type": "code",
   "execution_count": 3,
   "metadata": {
    "colab": {
     "base_uri": "https://localhost:8080/"
    },
    "executionInfo": {
     "elapsed": 15,
     "status": "ok",
     "timestamp": 1717294616218,
     "user": {
      "displayName": "PHÚC TRẦN HOÀNG",
      "userId": "13892609718634505180"
     },
     "user_tz": -420
    },
    "id": "3Bq_mKrsYiOO",
    "outputId": "345d6951-1ade-499c-a6b0-48f453208807"
   },
   "outputs": [
    {
     "data": {
      "text/plain": [
       "(1920,)"
      ]
     },
     "execution_count": 3,
     "metadata": {},
     "output_type": "execute_result"
    }
   ],
   "source": [
    "df1.shape"
   ]
  },
  {
   "cell_type": "code",
   "execution_count": 4,
   "metadata": {
    "executionInfo": {
     "elapsed": 10,
     "status": "ok",
     "timestamp": 1717294616218,
     "user": {
      "displayName": "PHÚC TRẦN HOÀNG",
      "userId": "13892609718634505180"
     },
     "user_tz": -420
    },
    "id": "RdVpDho2JgL5"
   },
   "outputs": [],
   "source": [
    "# 3. Scaler data\n",
    "scaler=MinMaxScaler(feature_range=(0,1))\n",
    "df1=scaler.fit_transform(np.array(df1).reshape(-1,1))"
   ]
  },
  {
   "cell_type": "code",
   "execution_count": 5,
   "metadata": {
    "executionInfo": {
     "elapsed": 9,
     "status": "ok",
     "timestamp": 1717294616218,
     "user": {
      "displayName": "PHÚC TRẦN HOÀNG",
      "userId": "13892609718634505180"
     },
     "user_tz": -420
    },
    "id": "B5JXpenzJoR3"
   },
   "outputs": [],
   "source": [
    "# 4. Chia train test\n",
    "train_size = int(0.9 * len(df1))\n",
    "test_size = len(df1) - train_size\n",
    "\n",
    "train_data = df1[:train_size]\n",
    "test_data = df1[train_size:train_size+test_size]\n"
   ]
  },
  {
   "cell_type": "code",
   "execution_count": 6,
   "metadata": {
    "colab": {
     "base_uri": "https://localhost:8080/"
    },
    "executionInfo": {
     "elapsed": 8,
     "status": "ok",
     "timestamp": 1717294616218,
     "user": {
      "displayName": "PHÚC TRẦN HOÀNG",
      "userId": "13892609718634505180"
     },
     "user_tz": -420
    },
    "id": "qflFkXQGg8q0",
    "outputId": "d783b7b7-a830-49bf-fdf1-ef88030019a7"
   },
   "outputs": [
    {
     "name": "stdout",
     "output_type": "stream",
     "text": [
      "1728\n",
      "192\n"
     ]
    }
   ],
   "source": [
    "print(train_size)\n",
    "print(test_size)"
   ]
  },
  {
   "cell_type": "code",
   "execution_count": 7,
   "metadata": {
    "colab": {
     "base_uri": "https://localhost:8080/"
    },
    "executionInfo": {
     "elapsed": 6,
     "status": "ok",
     "timestamp": 1717294616218,
     "user": {
      "displayName": "PHÚC TRẦN HOÀNG",
      "userId": "13892609718634505180"
     },
     "user_tz": -420
    },
    "id": "hXzWz8YXHym9",
    "outputId": "4314b97e-983e-45af-825d-d1be6371860f"
   },
   "outputs": [
    {
     "name": "stdout",
     "output_type": "stream",
     "text": [
      "(1728, 1)\n",
      "(192, 1)\n"
     ]
    }
   ],
   "source": [
    "print(train_data.shape)\n",
    "print(test_data.shape)\n"
   ]
  },
  {
   "cell_type": "code",
   "execution_count": 8,
   "metadata": {
    "executionInfo": {
     "elapsed": 17,
     "status": "ok",
     "timestamp": 1717294616938,
     "user": {
      "displayName": "PHÚC TRẦN HOÀNG",
      "userId": "13892609718634505180"
     },
     "user_tz": -420
    },
    "id": "yJfmuBORLSfC"
   },
   "outputs": [],
   "source": [
    "# 5. Hàm Create Dataset\n",
    "import numpy\n",
    "# convert an array of values into a dataset matrix\n",
    "def create_dataset(dataset, time_step=1):\n",
    "\tdataX, dataY = [], []\n",
    "\tfor i in range(len(dataset)-time_step-1):\n",
    "\t\ta = dataset[i:(i+time_step), 0]   ###i=0, X=0,1,2,3-----99   Y=100\n",
    "\t\tdataX.append(a)\n",
    "\t\tdataY.append(dataset[i + time_step, 0])\n",
    "\treturn numpy.array(dataX), numpy.array(dataY)"
   ]
  },
  {
   "cell_type": "code",
   "execution_count": 9,
   "metadata": {
    "executionInfo": {
     "elapsed": 16,
     "status": "ok",
     "timestamp": 1717294616938,
     "user": {
      "displayName": "PHÚC TRẦN HOÀNG",
      "userId": "13892609718634505180"
     },
     "user_tz": -420
    },
    "id": "e81cKq03LXFB"
   },
   "outputs": [],
   "source": [
    "#6. Reshape into X=t,t+1,t+2..t+99 and Y=t+100\n",
    "\n",
    "time_step = 100\n",
    "X_train, y_train = create_dataset(train_data, time_step)\n",
    "X_test, ytest = create_dataset(test_data, time_step)"
   ]
  },
  {
   "cell_type": "code",
   "execution_count": 10,
   "metadata": {
    "colab": {
     "base_uri": "https://localhost:8080/"
    },
    "executionInfo": {
     "elapsed": 14,
     "status": "ok",
     "timestamp": 1717294616938,
     "user": {
      "displayName": "PHÚC TRẦN HOÀNG",
      "userId": "13892609718634505180"
     },
     "user_tz": -420
    },
    "id": "l3EA_b_tIYqJ",
    "outputId": "ee4d6080-d349-424f-9ece-b2b3a1e05b57"
   },
   "outputs": [
    {
     "name": "stdout",
     "output_type": "stream",
     "text": [
      "(1627, 100)\n",
      "(1627,)\n",
      "(91, 100)\n",
      "(91,)\n"
     ]
    }
   ],
   "source": [
    "print(X_train.shape)\n",
    "print(y_train.shape)\n",
    "print(X_test.shape)\n",
    "print(ytest.shape)\n"
   ]
  },
  {
   "cell_type": "code",
   "execution_count": 11,
   "metadata": {
    "executionInfo": {
     "elapsed": 11,
     "status": "ok",
     "timestamp": 1717294616939,
     "user": {
      "displayName": "PHÚC TRẦN HOÀNG",
      "userId": "13892609718634505180"
     },
     "user_tz": -420
    },
    "id": "RdBVfku7O2qb"
   },
   "outputs": [],
   "source": [
    "# 7. Reshape input to be [samples, time steps, features] which is required for LSTM\n",
    "X_train =X_train.reshape(X_train.shape[0],X_train.shape[1] , 1)\n",
    "X_test = X_test.reshape(X_test.shape[0],X_test.shape[1] , 1)\n"
   ]
  },
  {
   "cell_type": "code",
   "execution_count": 12,
   "metadata": {
    "colab": {
     "base_uri": "https://localhost:8080/"
    },
    "executionInfo": {
     "elapsed": 11,
     "status": "ok",
     "timestamp": 1717294616939,
     "user": {
      "displayName": "PHÚC TRẦN HOÀNG",
      "userId": "13892609718634505180"
     },
     "user_tz": -420
    },
    "id": "Pgc-xQnfYf7v",
    "outputId": "b5af943a-0d93-4821-bc12-cf7d97a30dd5"
   },
   "outputs": [
    {
     "name": "stdout",
     "output_type": "stream",
     "text": [
      "(1627, 100, 1)\n",
      "(91, 100, 1)\n"
     ]
    }
   ],
   "source": [
    "print(X_train.shape)\n",
    "print(X_test.shape)"
   ]
  },
  {
   "cell_type": "code",
   "execution_count": 13,
   "metadata": {
    "executionInfo": {
     "elapsed": 9,
     "status": "ok",
     "timestamp": 1717294616939,
     "user": {
      "displayName": "PHÚC TRẦN HOÀNG",
      "userId": "13892609718634505180"
     },
     "user_tz": -420
    },
    "id": "sSfxrE7BO9vX"
   },
   "outputs": [
    {
     "name": "stderr",
     "output_type": "stream",
     "text": [
      "D:\\anaconda\\Lib\\site-packages\\keras\\src\\layers\\rnn\\rnn.py:204: UserWarning: Do not pass an `input_shape`/`input_dim` argument to a layer. When using Sequential models, prefer using an `Input(shape)` object as the first layer in the model instead.\n",
      "  super().__init__(**kwargs)\n"
     ]
    }
   ],
   "source": [
    "# 8. Define LSTM Model\n",
    "\n",
    "model = Sequential()\n",
    "model.add(SimpleRNN(50, input_shape=(time_step, 1)))\n",
    "model.add(Dense(1))\n",
    "model.compile(loss='mean_squared_error',optimizer='adam')"
   ]
  },
  {
   "cell_type": "code",
   "execution_count": 14,
   "metadata": {
    "colab": {
     "base_uri": "https://localhost:8080/"
    },
    "executionInfo": {
     "elapsed": 84875,
     "status": "ok",
     "timestamp": 1717294701806,
     "user": {
      "displayName": "PHÚC TRẦN HOÀNG",
      "userId": "13892609718634505180"
     },
     "user_tz": -420
    },
    "id": "zgfeujZSPEKr",
    "outputId": "70745ab8-4032-463c-94b0-5f84bcea04f7"
   },
   "outputs": [
    {
     "name": "stdout",
     "output_type": "stream",
     "text": [
      "Epoch 1/100\n",
      "\u001b[1m26/26\u001b[0m \u001b[32m━━━━━━━━━━━━━━━━━━━━\u001b[0m\u001b[37m\u001b[0m \u001b[1m13s\u001b[0m 114ms/step - loss: 0.0397 - val_loss: 0.0137\n",
      "Epoch 2/100\n",
      "\u001b[1m26/26\u001b[0m \u001b[32m━━━━━━━━━━━━━━━━━━━━\u001b[0m\u001b[37m\u001b[0m \u001b[1m3s\u001b[0m 21ms/step - loss: 0.0173 - val_loss: 0.0135\n",
      "Epoch 3/100\n",
      "\u001b[1m26/26\u001b[0m \u001b[32m━━━━━━━━━━━━━━━━━━━━\u001b[0m\u001b[37m\u001b[0m \u001b[1m1s\u001b[0m 23ms/step - loss: 0.0170 - val_loss: 0.0147\n",
      "Epoch 4/100\n",
      "\u001b[1m26/26\u001b[0m \u001b[32m━━━━━━━━━━━━━━━━━━━━\u001b[0m\u001b[37m\u001b[0m \u001b[1m1s\u001b[0m 22ms/step - loss: 0.0176 - val_loss: 0.0128\n",
      "Epoch 5/100\n",
      "\u001b[1m26/26\u001b[0m \u001b[32m━━━━━━━━━━━━━━━━━━━━\u001b[0m\u001b[37m\u001b[0m \u001b[1m0s\u001b[0m 13ms/step - loss: 0.0166 - val_loss: 0.0136\n",
      "Epoch 6/100\n",
      "\u001b[1m26/26\u001b[0m \u001b[32m━━━━━━━━━━━━━━━━━━━━\u001b[0m\u001b[37m\u001b[0m \u001b[1m1s\u001b[0m 20ms/step - loss: 0.0157 - val_loss: 0.0128\n",
      "Epoch 7/100\n",
      "\u001b[1m26/26\u001b[0m \u001b[32m━━━━━━━━━━━━━━━━━━━━\u001b[0m\u001b[37m\u001b[0m \u001b[1m1s\u001b[0m 27ms/step - loss: 0.0162 - val_loss: 0.0127\n",
      "Epoch 8/100\n",
      "\u001b[1m26/26\u001b[0m \u001b[32m━━━━━━━━━━━━━━━━━━━━\u001b[0m\u001b[37m\u001b[0m \u001b[1m1s\u001b[0m 19ms/step - loss: 0.0153 - val_loss: 0.0127\n",
      "Epoch 9/100\n",
      "\u001b[1m26/26\u001b[0m \u001b[32m━━━━━━━━━━━━━━━━━━━━\u001b[0m\u001b[37m\u001b[0m \u001b[1m0s\u001b[0m 18ms/step - loss: 0.0161 - val_loss: 0.0133\n",
      "Epoch 10/100\n",
      "\u001b[1m26/26\u001b[0m \u001b[32m━━━━━━━━━━━━━━━━━━━━\u001b[0m\u001b[37m\u001b[0m \u001b[1m1s\u001b[0m 27ms/step - loss: 0.0168 - val_loss: 0.0130\n",
      "Epoch 11/100\n",
      "\u001b[1m26/26\u001b[0m \u001b[32m━━━━━━━━━━━━━━━━━━━━\u001b[0m\u001b[37m\u001b[0m \u001b[1m2s\u001b[0m 36ms/step - loss: 0.0181 - val_loss: 0.0131\n",
      "Epoch 12/100\n",
      "\u001b[1m26/26\u001b[0m \u001b[32m━━━━━━━━━━━━━━━━━━━━\u001b[0m\u001b[37m\u001b[0m \u001b[1m2s\u001b[0m 41ms/step - loss: 0.0164 - val_loss: 0.0150\n",
      "Epoch 13/100\n",
      "\u001b[1m26/26\u001b[0m \u001b[32m━━━━━━━━━━━━━━━━━━━━\u001b[0m\u001b[37m\u001b[0m \u001b[1m2s\u001b[0m 45ms/step - loss: 0.0185 - val_loss: 0.0133\n",
      "Epoch 14/100\n",
      "\u001b[1m26/26\u001b[0m \u001b[32m━━━━━━━━━━━━━━━━━━━━\u001b[0m\u001b[37m\u001b[0m \u001b[1m1s\u001b[0m 23ms/step - loss: 0.0164 - val_loss: 0.0126\n",
      "Epoch 15/100\n",
      "\u001b[1m26/26\u001b[0m \u001b[32m━━━━━━━━━━━━━━━━━━━━\u001b[0m\u001b[37m\u001b[0m \u001b[1m1s\u001b[0m 28ms/step - loss: 0.0177 - val_loss: 0.0129\n",
      "Epoch 16/100\n",
      "\u001b[1m26/26\u001b[0m \u001b[32m━━━━━━━━━━━━━━━━━━━━\u001b[0m\u001b[37m\u001b[0m \u001b[1m1s\u001b[0m 23ms/step - loss: 0.0174 - val_loss: 0.0127\n",
      "Epoch 17/100\n",
      "\u001b[1m26/26\u001b[0m \u001b[32m━━━━━━━━━━━━━━━━━━━━\u001b[0m\u001b[37m\u001b[0m \u001b[1m1s\u001b[0m 35ms/step - loss: 0.0171 - val_loss: 0.0126\n",
      "Epoch 18/100\n",
      "\u001b[1m26/26\u001b[0m \u001b[32m━━━━━━━━━━━━━━━━━━━━\u001b[0m\u001b[37m\u001b[0m \u001b[1m1s\u001b[0m 19ms/step - loss: 0.0165 - val_loss: 0.0131\n",
      "Epoch 19/100\n",
      "\u001b[1m26/26\u001b[0m \u001b[32m━━━━━━━━━━━━━━━━━━━━\u001b[0m\u001b[37m\u001b[0m \u001b[1m1s\u001b[0m 31ms/step - loss: 0.0163 - val_loss: 0.0128\n",
      "Epoch 20/100\n",
      "\u001b[1m26/26\u001b[0m \u001b[32m━━━━━━━━━━━━━━━━━━━━\u001b[0m\u001b[37m\u001b[0m \u001b[1m1s\u001b[0m 21ms/step - loss: 0.0161 - val_loss: 0.0130\n",
      "Epoch 21/100\n",
      "\u001b[1m26/26\u001b[0m \u001b[32m━━━━━━━━━━━━━━━━━━━━\u001b[0m\u001b[37m\u001b[0m \u001b[1m1s\u001b[0m 26ms/step - loss: 0.0160 - val_loss: 0.0124\n",
      "Epoch 22/100\n",
      "\u001b[1m26/26\u001b[0m \u001b[32m━━━━━━━━━━━━━━━━━━━━\u001b[0m\u001b[37m\u001b[0m \u001b[1m1s\u001b[0m 26ms/step - loss: 0.0175 - val_loss: 0.0141\n",
      "Epoch 23/100\n",
      "\u001b[1m26/26\u001b[0m \u001b[32m━━━━━━━━━━━━━━━━━━━━\u001b[0m\u001b[37m\u001b[0m \u001b[1m1s\u001b[0m 27ms/step - loss: 0.0160 - val_loss: 0.0125\n",
      "Epoch 24/100\n",
      "\u001b[1m26/26\u001b[0m \u001b[32m━━━━━━━━━━━━━━━━━━━━\u001b[0m\u001b[37m\u001b[0m \u001b[1m1s\u001b[0m 40ms/step - loss: 0.0164 - val_loss: 0.0126\n",
      "Epoch 25/100\n",
      "\u001b[1m26/26\u001b[0m \u001b[32m━━━━━━━━━━━━━━━━━━━━\u001b[0m\u001b[37m\u001b[0m \u001b[1m1s\u001b[0m 32ms/step - loss: 0.0156 - val_loss: 0.0126\n",
      "Epoch 26/100\n",
      "\u001b[1m26/26\u001b[0m \u001b[32m━━━━━━━━━━━━━━━━━━━━\u001b[0m\u001b[37m\u001b[0m \u001b[1m1s\u001b[0m 22ms/step - loss: 0.0169 - val_loss: 0.0137\n",
      "Epoch 27/100\n",
      "\u001b[1m26/26\u001b[0m \u001b[32m━━━━━━━━━━━━━━━━━━━━\u001b[0m\u001b[37m\u001b[0m \u001b[1m2s\u001b[0m 57ms/step - loss: 0.0161 - val_loss: 0.0125\n",
      "Epoch 28/100\n",
      "\u001b[1m26/26\u001b[0m \u001b[32m━━━━━━━━━━━━━━━━━━━━\u001b[0m\u001b[37m\u001b[0m \u001b[1m2s\u001b[0m 59ms/step - loss: 0.0155 - val_loss: 0.0129\n",
      "Epoch 29/100\n",
      "\u001b[1m26/26\u001b[0m \u001b[32m━━━━━━━━━━━━━━━━━━━━\u001b[0m\u001b[37m\u001b[0m \u001b[1m2s\u001b[0m 48ms/step - loss: 0.0160 - val_loss: 0.0130\n",
      "Epoch 30/100\n",
      "\u001b[1m26/26\u001b[0m \u001b[32m━━━━━━━━━━━━━━━━━━━━\u001b[0m\u001b[37m\u001b[0m \u001b[1m1s\u001b[0m 42ms/step - loss: 0.0173 - val_loss: 0.0124\n",
      "Epoch 31/100\n",
      "\u001b[1m26/26\u001b[0m \u001b[32m━━━━━━━━━━━━━━━━━━━━\u001b[0m\u001b[37m\u001b[0m \u001b[1m1s\u001b[0m 21ms/step - loss: 0.0164 - val_loss: 0.0132\n",
      "Epoch 32/100\n",
      "\u001b[1m26/26\u001b[0m \u001b[32m━━━━━━━━━━━━━━━━━━━━\u001b[0m\u001b[37m\u001b[0m \u001b[1m1s\u001b[0m 36ms/step - loss: 0.0160 - val_loss: 0.0126\n",
      "Epoch 33/100\n",
      "\u001b[1m26/26\u001b[0m \u001b[32m━━━━━━━━━━━━━━━━━━━━\u001b[0m\u001b[37m\u001b[0m \u001b[1m1s\u001b[0m 33ms/step - loss: 0.0159 - val_loss: 0.0123\n",
      "Epoch 34/100\n",
      "\u001b[1m26/26\u001b[0m \u001b[32m━━━━━━━━━━━━━━━━━━━━\u001b[0m\u001b[37m\u001b[0m \u001b[1m1s\u001b[0m 33ms/step - loss: 0.0162 - val_loss: 0.0128\n",
      "Epoch 35/100\n",
      "\u001b[1m26/26\u001b[0m \u001b[32m━━━━━━━━━━━━━━━━━━━━\u001b[0m\u001b[37m\u001b[0m \u001b[1m1s\u001b[0m 33ms/step - loss: 0.0153 - val_loss: 0.0129\n",
      "Epoch 36/100\n",
      "\u001b[1m26/26\u001b[0m \u001b[32m━━━━━━━━━━━━━━━━━━━━\u001b[0m\u001b[37m\u001b[0m \u001b[1m2s\u001b[0m 49ms/step - loss: 0.0157 - val_loss: 0.0125\n",
      "Epoch 37/100\n",
      "\u001b[1m26/26\u001b[0m \u001b[32m━━━━━━━━━━━━━━━━━━━━\u001b[0m\u001b[37m\u001b[0m \u001b[1m2s\u001b[0m 45ms/step - loss: 0.0155 - val_loss: 0.0127\n",
      "Epoch 38/100\n",
      "\u001b[1m26/26\u001b[0m \u001b[32m━━━━━━━━━━━━━━━━━━━━\u001b[0m\u001b[37m\u001b[0m \u001b[1m1s\u001b[0m 38ms/step - loss: 0.0165 - val_loss: 0.0127\n",
      "Epoch 39/100\n",
      "\u001b[1m26/26\u001b[0m \u001b[32m━━━━━━━━━━━━━━━━━━━━\u001b[0m\u001b[37m\u001b[0m \u001b[1m1s\u001b[0m 33ms/step - loss: 0.0154 - val_loss: 0.0123\n",
      "Epoch 40/100\n",
      "\u001b[1m26/26\u001b[0m \u001b[32m━━━━━━━━━━━━━━━━━━━━\u001b[0m\u001b[37m\u001b[0m \u001b[1m1s\u001b[0m 26ms/step - loss: 0.0158 - val_loss: 0.0126\n",
      "Epoch 41/100\n",
      "\u001b[1m26/26\u001b[0m \u001b[32m━━━━━━━━━━━━━━━━━━━━\u001b[0m\u001b[37m\u001b[0m \u001b[1m1s\u001b[0m 35ms/step - loss: 0.0163 - val_loss: 0.0131\n",
      "Epoch 42/100\n",
      "\u001b[1m26/26\u001b[0m \u001b[32m━━━━━━━━━━━━━━━━━━━━\u001b[0m\u001b[37m\u001b[0m \u001b[1m1s\u001b[0m 28ms/step - loss: 0.0161 - val_loss: 0.0135\n",
      "Epoch 43/100\n",
      "\u001b[1m26/26\u001b[0m \u001b[32m━━━━━━━━━━━━━━━━━━━━\u001b[0m\u001b[37m\u001b[0m \u001b[1m1s\u001b[0m 30ms/step - loss: 0.0164 - val_loss: 0.0127\n",
      "Epoch 44/100\n",
      "\u001b[1m26/26\u001b[0m \u001b[32m━━━━━━━━━━━━━━━━━━━━\u001b[0m\u001b[37m\u001b[0m \u001b[1m1s\u001b[0m 26ms/step - loss: 0.0160 - val_loss: 0.0131\n",
      "Epoch 45/100\n",
      "\u001b[1m26/26\u001b[0m \u001b[32m━━━━━━━━━━━━━━━━━━━━\u001b[0m\u001b[37m\u001b[0m \u001b[1m1s\u001b[0m 31ms/step - loss: 0.0155 - val_loss: 0.0131\n",
      "Epoch 46/100\n",
      "\u001b[1m26/26\u001b[0m \u001b[32m━━━━━━━━━━━━━━━━━━━━\u001b[0m\u001b[37m\u001b[0m \u001b[1m2s\u001b[0m 33ms/step - loss: 0.0159 - val_loss: 0.0133\n",
      "Epoch 47/100\n",
      "\u001b[1m26/26\u001b[0m \u001b[32m━━━━━━━━━━━━━━━━━━━━\u001b[0m\u001b[37m\u001b[0m \u001b[1m1s\u001b[0m 33ms/step - loss: 0.0161 - val_loss: 0.0129\n",
      "Epoch 48/100\n",
      "\u001b[1m26/26\u001b[0m \u001b[32m━━━━━━━━━━━━━━━━━━━━\u001b[0m\u001b[37m\u001b[0m \u001b[1m1s\u001b[0m 24ms/step - loss: 0.0165 - val_loss: 0.0130\n",
      "Epoch 49/100\n",
      "\u001b[1m26/26\u001b[0m \u001b[32m━━━━━━━━━━━━━━━━━━━━\u001b[0m\u001b[37m\u001b[0m \u001b[1m1s\u001b[0m 21ms/step - loss: 0.0159 - val_loss: 0.0135\n",
      "Epoch 50/100\n",
      "\u001b[1m26/26\u001b[0m \u001b[32m━━━━━━━━━━━━━━━━━━━━\u001b[0m\u001b[37m\u001b[0m \u001b[1m1s\u001b[0m 23ms/step - loss: 0.0165 - val_loss: 0.0127\n",
      "Epoch 51/100\n",
      "\u001b[1m26/26\u001b[0m \u001b[32m━━━━━━━━━━━━━━━━━━━━\u001b[0m\u001b[37m\u001b[0m \u001b[1m1s\u001b[0m 24ms/step - loss: 0.0165 - val_loss: 0.0139\n",
      "Epoch 52/100\n",
      "\u001b[1m26/26\u001b[0m \u001b[32m━━━━━━━━━━━━━━━━━━━━\u001b[0m\u001b[37m\u001b[0m \u001b[1m1s\u001b[0m 25ms/step - loss: 0.0161 - val_loss: 0.0135\n",
      "Epoch 53/100\n",
      "\u001b[1m26/26\u001b[0m \u001b[32m━━━━━━━━━━━━━━━━━━━━\u001b[0m\u001b[37m\u001b[0m \u001b[1m1s\u001b[0m 21ms/step - loss: 0.0159 - val_loss: 0.0137\n",
      "Epoch 54/100\n",
      "\u001b[1m26/26\u001b[0m \u001b[32m━━━━━━━━━━━━━━━━━━━━\u001b[0m\u001b[37m\u001b[0m \u001b[1m1s\u001b[0m 25ms/step - loss: 0.0158 - val_loss: 0.0131\n",
      "Epoch 55/100\n",
      "\u001b[1m26/26\u001b[0m \u001b[32m━━━━━━━━━━━━━━━━━━━━\u001b[0m\u001b[37m\u001b[0m \u001b[1m1s\u001b[0m 21ms/step - loss: 0.0156 - val_loss: 0.0125\n",
      "Epoch 56/100\n",
      "\u001b[1m26/26\u001b[0m \u001b[32m━━━━━━━━━━━━━━━━━━━━\u001b[0m\u001b[37m\u001b[0m \u001b[1m1s\u001b[0m 28ms/step - loss: 0.0150 - val_loss: 0.0132\n",
      "Epoch 57/100\n",
      "\u001b[1m26/26\u001b[0m \u001b[32m━━━━━━━━━━━━━━━━━━━━\u001b[0m\u001b[37m\u001b[0m \u001b[1m1s\u001b[0m 23ms/step - loss: 0.0166 - val_loss: 0.0131\n",
      "Epoch 58/100\n",
      "\u001b[1m26/26\u001b[0m \u001b[32m━━━━━━━━━━━━━━━━━━━━\u001b[0m\u001b[37m\u001b[0m \u001b[1m1s\u001b[0m 20ms/step - loss: 0.0151 - val_loss: 0.0131\n",
      "Epoch 59/100\n",
      "\u001b[1m26/26\u001b[0m \u001b[32m━━━━━━━━━━━━━━━━━━━━\u001b[0m\u001b[37m\u001b[0m \u001b[1m1s\u001b[0m 23ms/step - loss: 0.0151 - val_loss: 0.0138\n",
      "Epoch 60/100\n",
      "\u001b[1m26/26\u001b[0m \u001b[32m━━━━━━━━━━━━━━━━━━━━\u001b[0m\u001b[37m\u001b[0m \u001b[1m1s\u001b[0m 21ms/step - loss: 0.0155 - val_loss: 0.0131\n",
      "Epoch 61/100\n",
      "\u001b[1m26/26\u001b[0m \u001b[32m━━━━━━━━━━━━━━━━━━━━\u001b[0m\u001b[37m\u001b[0m \u001b[1m1s\u001b[0m 29ms/step - loss: 0.0158 - val_loss: 0.0131\n",
      "Epoch 62/100\n",
      "\u001b[1m26/26\u001b[0m \u001b[32m━━━━━━━━━━━━━━━━━━━━\u001b[0m\u001b[37m\u001b[0m \u001b[1m1s\u001b[0m 24ms/step - loss: 0.0163 - val_loss: 0.0131\n",
      "Epoch 63/100\n",
      "\u001b[1m26/26\u001b[0m \u001b[32m━━━━━━━━━━━━━━━━━━━━\u001b[0m\u001b[37m\u001b[0m \u001b[1m1s\u001b[0m 20ms/step - loss: 0.0159 - val_loss: 0.0131\n",
      "Epoch 64/100\n",
      "\u001b[1m26/26\u001b[0m \u001b[32m━━━━━━━━━━━━━━━━━━━━\u001b[0m\u001b[37m\u001b[0m \u001b[1m1s\u001b[0m 23ms/step - loss: 0.0156 - val_loss: 0.0137\n",
      "Epoch 65/100\n",
      "\u001b[1m26/26\u001b[0m \u001b[32m━━━━━━━━━━━━━━━━━━━━\u001b[0m\u001b[37m\u001b[0m \u001b[1m1s\u001b[0m 48ms/step - loss: 0.0160 - val_loss: 0.0140\n",
      "Epoch 66/100\n",
      "\u001b[1m26/26\u001b[0m \u001b[32m━━━━━━━━━━━━━━━━━━━━\u001b[0m\u001b[37m\u001b[0m \u001b[1m1s\u001b[0m 19ms/step - loss: 0.0155 - val_loss: 0.0122\n",
      "Epoch 67/100\n",
      "\u001b[1m26/26\u001b[0m \u001b[32m━━━━━━━━━━━━━━━━━━━━\u001b[0m\u001b[37m\u001b[0m \u001b[1m1s\u001b[0m 20ms/step - loss: 0.0160 - val_loss: 0.0131\n",
      "Epoch 68/100\n",
      "\u001b[1m26/26\u001b[0m \u001b[32m━━━━━━━━━━━━━━━━━━━━\u001b[0m\u001b[37m\u001b[0m \u001b[1m1s\u001b[0m 19ms/step - loss: 0.0166 - val_loss: 0.0139\n",
      "Epoch 69/100\n",
      "\u001b[1m26/26\u001b[0m \u001b[32m━━━━━━━━━━━━━━━━━━━━\u001b[0m\u001b[37m\u001b[0m \u001b[1m1s\u001b[0m 35ms/step - loss: 0.0151 - val_loss: 0.0136\n",
      "Epoch 70/100\n",
      "\u001b[1m26/26\u001b[0m \u001b[32m━━━━━━━━━━━━━━━━━━━━\u001b[0m\u001b[37m\u001b[0m \u001b[1m1s\u001b[0m 21ms/step - loss: 0.0149 - val_loss: 0.0128\n",
      "Epoch 71/100\n",
      "\u001b[1m26/26\u001b[0m \u001b[32m━━━━━━━━━━━━━━━━━━━━\u001b[0m\u001b[37m\u001b[0m \u001b[1m1s\u001b[0m 20ms/step - loss: 0.0164 - val_loss: 0.0135\n",
      "Epoch 72/100\n",
      "\u001b[1m26/26\u001b[0m \u001b[32m━━━━━━━━━━━━━━━━━━━━\u001b[0m\u001b[37m\u001b[0m \u001b[1m1s\u001b[0m 30ms/step - loss: 0.0156 - val_loss: 0.0135\n",
      "Epoch 73/100\n",
      "\u001b[1m26/26\u001b[0m \u001b[32m━━━━━━━━━━━━━━━━━━━━\u001b[0m\u001b[37m\u001b[0m \u001b[1m1s\u001b[0m 37ms/step - loss: 0.0162 - val_loss: 0.0127\n",
      "Epoch 74/100\n",
      "\u001b[1m26/26\u001b[0m \u001b[32m━━━━━━━━━━━━━━━━━━━━\u001b[0m\u001b[37m\u001b[0m \u001b[1m1s\u001b[0m 30ms/step - loss: 0.0156 - val_loss: 0.0124\n",
      "Epoch 75/100\n",
      "\u001b[1m26/26\u001b[0m \u001b[32m━━━━━━━━━━━━━━━━━━━━\u001b[0m\u001b[37m\u001b[0m \u001b[1m1s\u001b[0m 33ms/step - loss: 0.0150 - val_loss: 0.0122\n",
      "Epoch 76/100\n",
      "\u001b[1m26/26\u001b[0m \u001b[32m━━━━━━━━━━━━━━━━━━━━\u001b[0m\u001b[37m\u001b[0m \u001b[1m1s\u001b[0m 19ms/step - loss: 0.0152 - val_loss: 0.0128\n",
      "Epoch 77/100\n",
      "\u001b[1m26/26\u001b[0m \u001b[32m━━━━━━━━━━━━━━━━━━━━\u001b[0m\u001b[37m\u001b[0m \u001b[1m1s\u001b[0m 24ms/step - loss: 0.0158 - val_loss: 0.0127\n",
      "Epoch 78/100\n",
      "\u001b[1m26/26\u001b[0m \u001b[32m━━━━━━━━━━━━━━━━━━━━\u001b[0m\u001b[37m\u001b[0m \u001b[1m1s\u001b[0m 25ms/step - loss: 0.0148 - val_loss: 0.0123\n",
      "Epoch 79/100\n",
      "\u001b[1m26/26\u001b[0m \u001b[32m━━━━━━━━━━━━━━━━━━━━\u001b[0m\u001b[37m\u001b[0m \u001b[1m1s\u001b[0m 36ms/step - loss: 0.0157 - val_loss: 0.0126\n",
      "Epoch 80/100\n",
      "\u001b[1m26/26\u001b[0m \u001b[32m━━━━━━━━━━━━━━━━━━━━\u001b[0m\u001b[37m\u001b[0m \u001b[1m1s\u001b[0m 32ms/step - loss: 0.0163 - val_loss: 0.0134\n",
      "Epoch 81/100\n",
      "\u001b[1m26/26\u001b[0m \u001b[32m━━━━━━━━━━━━━━━━━━━━\u001b[0m\u001b[37m\u001b[0m \u001b[1m1s\u001b[0m 29ms/step - loss: 0.0158 - val_loss: 0.0129\n",
      "Epoch 82/100\n",
      "\u001b[1m26/26\u001b[0m \u001b[32m━━━━━━━━━━━━━━━━━━━━\u001b[0m\u001b[37m\u001b[0m \u001b[1m1s\u001b[0m 25ms/step - loss: 0.0158 - val_loss: 0.0133\n",
      "Epoch 83/100\n",
      "\u001b[1m26/26\u001b[0m \u001b[32m━━━━━━━━━━━━━━━━━━━━\u001b[0m\u001b[37m\u001b[0m \u001b[1m1s\u001b[0m 40ms/step - loss: 0.0158 - val_loss: 0.0138\n",
      "Epoch 84/100\n",
      "\u001b[1m26/26\u001b[0m \u001b[32m━━━━━━━━━━━━━━━━━━━━\u001b[0m\u001b[37m\u001b[0m \u001b[1m1s\u001b[0m 25ms/step - loss: 0.0159 - val_loss: 0.0122\n",
      "Epoch 85/100\n",
      "\u001b[1m26/26\u001b[0m \u001b[32m━━━━━━━━━━━━━━━━━━━━\u001b[0m\u001b[37m\u001b[0m \u001b[1m1s\u001b[0m 22ms/step - loss: 0.0169 - val_loss: 0.0121\n",
      "Epoch 86/100\n",
      "\u001b[1m26/26\u001b[0m \u001b[32m━━━━━━━━━━━━━━━━━━━━\u001b[0m\u001b[37m\u001b[0m \u001b[1m1s\u001b[0m 29ms/step - loss: 0.0165 - val_loss: 0.0124\n",
      "Epoch 87/100\n",
      "\u001b[1m26/26\u001b[0m \u001b[32m━━━━━━━━━━━━━━━━━━━━\u001b[0m\u001b[37m\u001b[0m \u001b[1m1s\u001b[0m 29ms/step - loss: 0.0162 - val_loss: 0.0130\n",
      "Epoch 88/100\n",
      "\u001b[1m26/26\u001b[0m \u001b[32m━━━━━━━━━━━━━━━━━━━━\u001b[0m\u001b[37m\u001b[0m \u001b[1m1s\u001b[0m 27ms/step - loss: 0.0158 - val_loss: 0.0125\n",
      "Epoch 89/100\n",
      "\u001b[1m26/26\u001b[0m \u001b[32m━━━━━━━━━━━━━━━━━━━━\u001b[0m\u001b[37m\u001b[0m \u001b[1m1s\u001b[0m 27ms/step - loss: 0.0165 - val_loss: 0.0128\n",
      "Epoch 90/100\n",
      "\u001b[1m26/26\u001b[0m \u001b[32m━━━━━━━━━━━━━━━━━━━━\u001b[0m\u001b[37m\u001b[0m \u001b[1m2s\u001b[0m 37ms/step - loss: 0.0152 - val_loss: 0.0128\n",
      "Epoch 91/100\n",
      "\u001b[1m26/26\u001b[0m \u001b[32m━━━━━━━━━━━━━━━━━━━━\u001b[0m\u001b[37m\u001b[0m \u001b[1m1s\u001b[0m 25ms/step - loss: 0.0154 - val_loss: 0.0123\n",
      "Epoch 92/100\n",
      "\u001b[1m26/26\u001b[0m \u001b[32m━━━━━━━━━━━━━━━━━━━━\u001b[0m\u001b[37m\u001b[0m \u001b[1m1s\u001b[0m 30ms/step - loss: 0.0156 - val_loss: 0.0135\n",
      "Epoch 93/100\n",
      "\u001b[1m26/26\u001b[0m \u001b[32m━━━━━━━━━━━━━━━━━━━━\u001b[0m\u001b[37m\u001b[0m \u001b[1m1s\u001b[0m 28ms/step - loss: 0.0159 - val_loss: 0.0121\n",
      "Epoch 94/100\n",
      "\u001b[1m26/26\u001b[0m \u001b[32m━━━━━━━━━━━━━━━━━━━━\u001b[0m\u001b[37m\u001b[0m \u001b[1m1s\u001b[0m 42ms/step - loss: 0.0163 - val_loss: 0.0119\n",
      "Epoch 95/100\n",
      "\u001b[1m26/26\u001b[0m \u001b[32m━━━━━━━━━━━━━━━━━━━━\u001b[0m\u001b[37m\u001b[0m \u001b[1m1s\u001b[0m 30ms/step - loss: 0.0158 - val_loss: 0.0124\n",
      "Epoch 96/100\n",
      "\u001b[1m26/26\u001b[0m \u001b[32m━━━━━━━━━━━━━━━━━━━━\u001b[0m\u001b[37m\u001b[0m \u001b[1m1s\u001b[0m 32ms/step - loss: 0.0157 - val_loss: 0.0134\n",
      "Epoch 97/100\n",
      "\u001b[1m26/26\u001b[0m \u001b[32m━━━━━━━━━━━━━━━━━━━━\u001b[0m\u001b[37m\u001b[0m \u001b[1m1s\u001b[0m 40ms/step - loss: 0.0154 - val_loss: 0.0125\n",
      "Epoch 98/100\n",
      "\u001b[1m26/26\u001b[0m \u001b[32m━━━━━━━━━━━━━━━━━━━━\u001b[0m\u001b[37m\u001b[0m \u001b[1m1s\u001b[0m 28ms/step - loss: 0.0150 - val_loss: 0.0125\n",
      "Epoch 99/100\n",
      "\u001b[1m26/26\u001b[0m \u001b[32m━━━━━━━━━━━━━━━━━━━━\u001b[0m\u001b[37m\u001b[0m \u001b[1m1s\u001b[0m 57ms/step - loss: 0.0158 - val_loss: 0.0130\n",
      "Epoch 100/100\n",
      "\u001b[1m26/26\u001b[0m \u001b[32m━━━━━━━━━━━━━━━━━━━━\u001b[0m\u001b[37m\u001b[0m \u001b[1m1s\u001b[0m 35ms/step - loss: 0.0151 - val_loss: 0.0124\n"
     ]
    },
    {
     "data": {
      "text/plain": [
       "<keras.src.callbacks.history.History at 0x1ecb383bed0>"
      ]
     },
     "execution_count": 14,
     "metadata": {},
     "output_type": "execute_result"
    }
   ],
   "source": [
    "# 9. Fit mô hình với dữ liệu train\n",
    "model.fit(X_train,y_train,validation_data=(X_test,ytest),epochs=100,batch_size=64,verbose=1)"
   ]
  },
  {
   "cell_type": "code",
   "execution_count": 15,
   "metadata": {
    "colab": {
     "base_uri": "https://localhost:8080/"
    },
    "executionInfo": {
     "elapsed": 712,
     "status": "ok",
     "timestamp": 1717294702492,
     "user": {
      "displayName": "PHÚC TRẦN HOÀNG",
      "userId": "13892609718634505180"
     },
     "user_tz": -420
    },
    "id": "Rxx_KQSkQpBG",
    "outputId": "1ee58724-10c7-4eda-91e0-b17dfb250939"
   },
   "outputs": [
    {
     "name": "stdout",
     "output_type": "stream",
     "text": [
      "\u001b[1m51/51\u001b[0m \u001b[32m━━━━━━━━━━━━━━━━━━━━\u001b[0m\u001b[37m\u001b[0m \u001b[1m2s\u001b[0m 26ms/step\n",
      "\u001b[1m6/6\u001b[0m \u001b[32m━━━━━━━━━━━━━━━━━━━━\u001b[0m\u001b[37m\u001b[0m \u001b[1m1s\u001b[0m 2ms/step  \n"
     ]
    }
   ],
   "source": [
    "# 10. Dự báo dữ liệu test,\n",
    "train_predict=model.predict(X_train)\n",
    "y_pred=model.predict(test_data.reshape(test_data.shape[0],test_data.shape[1] , 1))\n"
   ]
  },
  {
   "cell_type": "code",
   "execution_count": 16,
   "metadata": {
    "executionInfo": {
     "elapsed": 13,
     "status": "ok",
     "timestamp": 1717294702492,
     "user": {
      "displayName": "PHÚC TRẦN HOÀNG",
      "userId": "13892609718634505180"
     },
     "user_tz": -420
    },
    "id": "5rwTN10LQ7rj"
   },
   "outputs": [],
   "source": [
    "# 11. Chuẩn hóa dữ liệu y_pred, y_pred_val\n",
    "train_predict=scaler.inverse_transform(train_predict)\n",
    "y_pred=scaler.inverse_transform(y_pred)\n"
   ]
  },
  {
   "cell_type": "code",
   "execution_count": 17,
   "metadata": {
    "colab": {
     "base_uri": "https://localhost:8080/"
    },
    "executionInfo": {
     "elapsed": 12,
     "status": "ok",
     "timestamp": 1717294702492,
     "user": {
      "displayName": "PHÚC TRẦN HOÀNG",
      "userId": "13892609718634505180"
     },
     "user_tz": -420
    },
    "id": "v5tdcE24RVpR",
    "outputId": "050f2ca7-83ff-4ad7-e315-a34652abaa77"
   },
   "outputs": [
    {
     "name": "stdout",
     "output_type": "stream",
     "text": [
      "Testing RMSE: 23.475064917002545\n",
      "Testing MAPE: 47.607154268600866\n",
      "Testing MAE: 19.966409633557003\n"
     ]
    }
   ],
   "source": [
    "ytest=scaler.inverse_transform(test_data)\n",
    "# 12. Đánh giá độ chính xác thuật toán bằng RMSE\n",
    "test_rmse = np.sqrt(np.mean((y_pred - ytest)**2))\n",
    "print('Testing RMSE:', test_rmse)\n",
    "\n",
    "# Đánh giá độ chính xác thuật toán bằng MAPE\n",
    "test_mape = np.mean(np.abs(ytest - y_pred)/np.abs(ytest))*100\n",
    "\n",
    "print('Testing MAPE:', test_mape)\n",
    "\n",
    "# Đánh giá độ chính xác thuật toán bằng MAE\n",
    "test_mae = np.mean(abs(y_pred - ytest))\n",
    "print('Testing MAE:', test_mae)"
   ]
  },
  {
   "cell_type": "code",
   "execution_count": 18,
   "metadata": {
    "colab": {
     "base_uri": "https://localhost:8080/"
    },
    "executionInfo": {
     "elapsed": 11,
     "status": "ok",
     "timestamp": 1717294702492,
     "user": {
      "displayName": "PHÚC TRẦN HOÀNG",
      "userId": "13892609718634505180"
     },
     "user_tz": -420
    },
    "id": "sQvF9ToMosVp",
    "outputId": "9963f8e2-db59-401e-8d45-2f301985b73e"
   },
   "outputs": [
    {
     "data": {
      "text/plain": [
       "(1, 132)"
      ]
     },
     "execution_count": 18,
     "metadata": {},
     "output_type": "execute_result"
    }
   ],
   "source": [
    "x_input=test_data[60:].reshape(1,-1)\n",
    "x_input.shape"
   ]
  },
  {
   "cell_type": "code",
   "execution_count": 20,
   "metadata": {
    "colab": {
     "base_uri": "https://localhost:8080/"
    },
    "executionInfo": {
     "elapsed": 2956,
     "status": "ok",
     "timestamp": 1717294705440,
     "user": {
      "displayName": "PHÚC TRẦN HOÀNG",
      "userId": "13892609718634505180"
     },
     "user_tz": -420
    },
    "id": "izQZ1iQyYl6N",
    "outputId": "5d4e2f08-04bd-4252-9828-87a7dce9c3ad"
   },
   "outputs": [
    {
     "name": "stdout",
     "output_type": "stream",
     "text": [
      "(1, 132)\n",
      "[0.27646184]\n",
      "133\n",
      "1 day input [0.33544304 0.         0.32911392 0.35443038 0.36708861 0.34810127\n",
      " 0.27848101 0.25949367 0.         0.13924051 0.15189873 0.4556962\n",
      " 0.20253165 0.25949367 0.13291139 0.25949367 0.29113924 0.23417722\n",
      " 0.32278481 0.13924051 0.29746835 0.37341772 0.26582278 0.00632911\n",
      " 0.14556962 0.01265823 0.24683544 0.12025316 0.31012658 0.2721519\n",
      " 0.06962025 0.         0.42405063 0.1835443  0.24050633 0.12025316\n",
      " 0.21518987 0.37341772 0.         0.16455696 0.38607595 0.36075949\n",
      " 0.25949367 0.32911392 0.32911392 0.26582278 0.         0.42405063\n",
      " 0.3164557  0.2278481  0.01898734 0.2278481  0.40506329 0.38607595\n",
      " 0.07594937 0.27848101 0.24050633 0.20253165 0.01898734 0.25949367\n",
      " 0.         0.29113924 0.26582278 0.21518987 0.32278481 0.35443038\n",
      " 0.25949367 0.24050633 0.20886076 0.20886076 0.20886076 0.20253165\n",
      " 0.20253165 0.25949367 0.28481013 0.24050633 0.12025316 0.17088608\n",
      " 0.21518987 0.20886076 0.2278481  0.1835443  0.19620253 0.1835443\n",
      " 0.17721519 0.19620253 0.15189873 0.2278481  0.29746835 0.25316456\n",
      " 0.13924051 0.21518987 0.20253165 0.31012658 0.48101266 0.49367089\n",
      " 0.32278481 0.26582278 0.27848101 0.2278481  0.35443038 0.32278481\n",
      " 0.10126582 0.46835443 0.37341772 0.29113924 0.32278481 0.25316456\n",
      " 0.34177215 0.36708861 0.20886076 0.20253165 0.20253165 0.15189873\n",
      " 0.26582278 0.13291139 0.3164557  0.24683544 0.17088608 0.17721519\n",
      " 0.22151899 0.17721519 0.39240506 0.13291139 0.06962025 0.55063291\n",
      " 0.37341772 0.26582278 0.22151899 0.0443038  0.20253165 0.27646184]\n",
      "1 day output [[0.28680924]]\n",
      "2 day input [0.         0.32911392 0.35443038 0.36708861 0.34810127 0.27848101\n",
      " 0.25949367 0.         0.13924051 0.15189873 0.4556962  0.20253165\n",
      " 0.25949367 0.13291139 0.25949367 0.29113924 0.23417722 0.32278481\n",
      " 0.13924051 0.29746835 0.37341772 0.26582278 0.00632911 0.14556962\n",
      " 0.01265823 0.24683544 0.12025316 0.31012658 0.2721519  0.06962025\n",
      " 0.         0.42405063 0.1835443  0.24050633 0.12025316 0.21518987\n",
      " 0.37341772 0.         0.16455696 0.38607595 0.36075949 0.25949367\n",
      " 0.32911392 0.32911392 0.26582278 0.         0.42405063 0.3164557\n",
      " 0.2278481  0.01898734 0.2278481  0.40506329 0.38607595 0.07594937\n",
      " 0.27848101 0.24050633 0.20253165 0.01898734 0.25949367 0.\n",
      " 0.29113924 0.26582278 0.21518987 0.32278481 0.35443038 0.25949367\n",
      " 0.24050633 0.20886076 0.20886076 0.20886076 0.20253165 0.20253165\n",
      " 0.25949367 0.28481013 0.24050633 0.12025316 0.17088608 0.21518987\n",
      " 0.20886076 0.2278481  0.1835443  0.19620253 0.1835443  0.17721519\n",
      " 0.19620253 0.15189873 0.2278481  0.29746835 0.25316456 0.13924051\n",
      " 0.21518987 0.20253165 0.31012658 0.48101266 0.49367089 0.32278481\n",
      " 0.26582278 0.27848101 0.2278481  0.35443038 0.32278481 0.10126582\n",
      " 0.46835443 0.37341772 0.29113924 0.32278481 0.25316456 0.34177215\n",
      " 0.36708861 0.20886076 0.20253165 0.20253165 0.15189873 0.26582278\n",
      " 0.13291139 0.3164557  0.24683544 0.17088608 0.17721519 0.22151899\n",
      " 0.17721519 0.39240506 0.13291139 0.06962025 0.55063291 0.37341772\n",
      " 0.26582278 0.22151899 0.0443038  0.20253165 0.27646184 0.28680924]\n",
      "2 day output [[0.28428018]]\n",
      "3 day input [0.32911392 0.35443038 0.36708861 0.34810127 0.27848101 0.25949367\n",
      " 0.         0.13924051 0.15189873 0.4556962  0.20253165 0.25949367\n",
      " 0.13291139 0.25949367 0.29113924 0.23417722 0.32278481 0.13924051\n",
      " 0.29746835 0.37341772 0.26582278 0.00632911 0.14556962 0.01265823\n",
      " 0.24683544 0.12025316 0.31012658 0.2721519  0.06962025 0.\n",
      " 0.42405063 0.1835443  0.24050633 0.12025316 0.21518987 0.37341772\n",
      " 0.         0.16455696 0.38607595 0.36075949 0.25949367 0.32911392\n",
      " 0.32911392 0.26582278 0.         0.42405063 0.3164557  0.2278481\n",
      " 0.01898734 0.2278481  0.40506329 0.38607595 0.07594937 0.27848101\n",
      " 0.24050633 0.20253165 0.01898734 0.25949367 0.         0.29113924\n",
      " 0.26582278 0.21518987 0.32278481 0.35443038 0.25949367 0.24050633\n",
      " 0.20886076 0.20886076 0.20886076 0.20253165 0.20253165 0.25949367\n",
      " 0.28481013 0.24050633 0.12025316 0.17088608 0.21518987 0.20886076\n",
      " 0.2278481  0.1835443  0.19620253 0.1835443  0.17721519 0.19620253\n",
      " 0.15189873 0.2278481  0.29746835 0.25316456 0.13924051 0.21518987\n",
      " 0.20253165 0.31012658 0.48101266 0.49367089 0.32278481 0.26582278\n",
      " 0.27848101 0.2278481  0.35443038 0.32278481 0.10126582 0.46835443\n",
      " 0.37341772 0.29113924 0.32278481 0.25316456 0.34177215 0.36708861\n",
      " 0.20886076 0.20253165 0.20253165 0.15189873 0.26582278 0.13291139\n",
      " 0.3164557  0.24683544 0.17088608 0.17721519 0.22151899 0.17721519\n",
      " 0.39240506 0.13291139 0.06962025 0.55063291 0.37341772 0.26582278\n",
      " 0.22151899 0.0443038  0.20253165 0.27646184 0.28680924 0.28428018]\n",
      "3 day output [[0.30492967]]\n",
      "4 day input [0.35443038 0.36708861 0.34810127 0.27848101 0.25949367 0.\n",
      " 0.13924051 0.15189873 0.4556962  0.20253165 0.25949367 0.13291139\n",
      " 0.25949367 0.29113924 0.23417722 0.32278481 0.13924051 0.29746835\n",
      " 0.37341772 0.26582278 0.00632911 0.14556962 0.01265823 0.24683544\n",
      " 0.12025316 0.31012658 0.2721519  0.06962025 0.         0.42405063\n",
      " 0.1835443  0.24050633 0.12025316 0.21518987 0.37341772 0.\n",
      " 0.16455696 0.38607595 0.36075949 0.25949367 0.32911392 0.32911392\n",
      " 0.26582278 0.         0.42405063 0.3164557  0.2278481  0.01898734\n",
      " 0.2278481  0.40506329 0.38607595 0.07594937 0.27848101 0.24050633\n",
      " 0.20253165 0.01898734 0.25949367 0.         0.29113924 0.26582278\n",
      " 0.21518987 0.32278481 0.35443038 0.25949367 0.24050633 0.20886076\n",
      " 0.20886076 0.20886076 0.20253165 0.20253165 0.25949367 0.28481013\n",
      " 0.24050633 0.12025316 0.17088608 0.21518987 0.20886076 0.2278481\n",
      " 0.1835443  0.19620253 0.1835443  0.17721519 0.19620253 0.15189873\n",
      " 0.2278481  0.29746835 0.25316456 0.13924051 0.21518987 0.20253165\n",
      " 0.31012658 0.48101266 0.49367089 0.32278481 0.26582278 0.27848101\n",
      " 0.2278481  0.35443038 0.32278481 0.10126582 0.46835443 0.37341772\n",
      " 0.29113924 0.32278481 0.25316456 0.34177215 0.36708861 0.20886076\n",
      " 0.20253165 0.20253165 0.15189873 0.26582278 0.13291139 0.3164557\n",
      " 0.24683544 0.17088608 0.17721519 0.22151899 0.17721519 0.39240506\n",
      " 0.13291139 0.06962025 0.55063291 0.37341772 0.26582278 0.22151899\n",
      " 0.0443038  0.20253165 0.27646184 0.28680924 0.28428018 0.30492967]\n",
      "4 day output [[0.2636925]]\n",
      "5 day input [0.36708861 0.34810127 0.27848101 0.25949367 0.         0.13924051\n",
      " 0.15189873 0.4556962  0.20253165 0.25949367 0.13291139 0.25949367\n",
      " 0.29113924 0.23417722 0.32278481 0.13924051 0.29746835 0.37341772\n",
      " 0.26582278 0.00632911 0.14556962 0.01265823 0.24683544 0.12025316\n",
      " 0.31012658 0.2721519  0.06962025 0.         0.42405063 0.1835443\n",
      " 0.24050633 0.12025316 0.21518987 0.37341772 0.         0.16455696\n",
      " 0.38607595 0.36075949 0.25949367 0.32911392 0.32911392 0.26582278\n",
      " 0.         0.42405063 0.3164557  0.2278481  0.01898734 0.2278481\n",
      " 0.40506329 0.38607595 0.07594937 0.27848101 0.24050633 0.20253165\n",
      " 0.01898734 0.25949367 0.         0.29113924 0.26582278 0.21518987\n",
      " 0.32278481 0.35443038 0.25949367 0.24050633 0.20886076 0.20886076\n",
      " 0.20886076 0.20253165 0.20253165 0.25949367 0.28481013 0.24050633\n",
      " 0.12025316 0.17088608 0.21518987 0.20886076 0.2278481  0.1835443\n",
      " 0.19620253 0.1835443  0.17721519 0.19620253 0.15189873 0.2278481\n",
      " 0.29746835 0.25316456 0.13924051 0.21518987 0.20253165 0.31012658\n",
      " 0.48101266 0.49367089 0.32278481 0.26582278 0.27848101 0.2278481\n",
      " 0.35443038 0.32278481 0.10126582 0.46835443 0.37341772 0.29113924\n",
      " 0.32278481 0.25316456 0.34177215 0.36708861 0.20886076 0.20253165\n",
      " 0.20253165 0.15189873 0.26582278 0.13291139 0.3164557  0.24683544\n",
      " 0.17088608 0.17721519 0.22151899 0.17721519 0.39240506 0.13291139\n",
      " 0.06962025 0.55063291 0.37341772 0.26582278 0.22151899 0.0443038\n",
      " 0.20253165 0.27646184 0.28680924 0.28428018 0.30492967 0.2636925 ]\n",
      "5 day output [[0.30927125]]\n",
      "6 day input [0.34810127 0.27848101 0.25949367 0.         0.13924051 0.15189873\n",
      " 0.4556962  0.20253165 0.25949367 0.13291139 0.25949367 0.29113924\n",
      " 0.23417722 0.32278481 0.13924051 0.29746835 0.37341772 0.26582278\n",
      " 0.00632911 0.14556962 0.01265823 0.24683544 0.12025316 0.31012658\n",
      " 0.2721519  0.06962025 0.         0.42405063 0.1835443  0.24050633\n",
      " 0.12025316 0.21518987 0.37341772 0.         0.16455696 0.38607595\n",
      " 0.36075949 0.25949367 0.32911392 0.32911392 0.26582278 0.\n",
      " 0.42405063 0.3164557  0.2278481  0.01898734 0.2278481  0.40506329\n",
      " 0.38607595 0.07594937 0.27848101 0.24050633 0.20253165 0.01898734\n",
      " 0.25949367 0.         0.29113924 0.26582278 0.21518987 0.32278481\n",
      " 0.35443038 0.25949367 0.24050633 0.20886076 0.20886076 0.20886076\n",
      " 0.20253165 0.20253165 0.25949367 0.28481013 0.24050633 0.12025316\n",
      " 0.17088608 0.21518987 0.20886076 0.2278481  0.1835443  0.19620253\n",
      " 0.1835443  0.17721519 0.19620253 0.15189873 0.2278481  0.29746835\n",
      " 0.25316456 0.13924051 0.21518987 0.20253165 0.31012658 0.48101266\n",
      " 0.49367089 0.32278481 0.26582278 0.27848101 0.2278481  0.35443038\n",
      " 0.32278481 0.10126582 0.46835443 0.37341772 0.29113924 0.32278481\n",
      " 0.25316456 0.34177215 0.36708861 0.20886076 0.20253165 0.20253165\n",
      " 0.15189873 0.26582278 0.13291139 0.3164557  0.24683544 0.17088608\n",
      " 0.17721519 0.22151899 0.17721519 0.39240506 0.13291139 0.06962025\n",
      " 0.55063291 0.37341772 0.26582278 0.22151899 0.0443038  0.20253165\n",
      " 0.27646184 0.28680924 0.28428018 0.30492967 0.2636925  0.30927125]\n",
      "6 day output [[0.3205098]]\n",
      "7 day input [0.27848101 0.25949367 0.         0.13924051 0.15189873 0.4556962\n",
      " 0.20253165 0.25949367 0.13291139 0.25949367 0.29113924 0.23417722\n",
      " 0.32278481 0.13924051 0.29746835 0.37341772 0.26582278 0.00632911\n",
      " 0.14556962 0.01265823 0.24683544 0.12025316 0.31012658 0.2721519\n",
      " 0.06962025 0.         0.42405063 0.1835443  0.24050633 0.12025316\n",
      " 0.21518987 0.37341772 0.         0.16455696 0.38607595 0.36075949\n",
      " 0.25949367 0.32911392 0.32911392 0.26582278 0.         0.42405063\n",
      " 0.3164557  0.2278481  0.01898734 0.2278481  0.40506329 0.38607595\n",
      " 0.07594937 0.27848101 0.24050633 0.20253165 0.01898734 0.25949367\n",
      " 0.         0.29113924 0.26582278 0.21518987 0.32278481 0.35443038\n",
      " 0.25949367 0.24050633 0.20886076 0.20886076 0.20886076 0.20253165\n",
      " 0.20253165 0.25949367 0.28481013 0.24050633 0.12025316 0.17088608\n",
      " 0.21518987 0.20886076 0.2278481  0.1835443  0.19620253 0.1835443\n",
      " 0.17721519 0.19620253 0.15189873 0.2278481  0.29746835 0.25316456\n",
      " 0.13924051 0.21518987 0.20253165 0.31012658 0.48101266 0.49367089\n",
      " 0.32278481 0.26582278 0.27848101 0.2278481  0.35443038 0.32278481\n",
      " 0.10126582 0.46835443 0.37341772 0.29113924 0.32278481 0.25316456\n",
      " 0.34177215 0.36708861 0.20886076 0.20253165 0.20253165 0.15189873\n",
      " 0.26582278 0.13291139 0.3164557  0.24683544 0.17088608 0.17721519\n",
      " 0.22151899 0.17721519 0.39240506 0.13291139 0.06962025 0.55063291\n",
      " 0.37341772 0.26582278 0.22151899 0.0443038  0.20253165 0.27646184\n",
      " 0.28680924 0.28428018 0.30492967 0.2636925  0.30927125 0.32050979]\n",
      "7 day output [[0.2663122]]\n",
      "8 day input [0.25949367 0.         0.13924051 0.15189873 0.4556962  0.20253165\n",
      " 0.25949367 0.13291139 0.25949367 0.29113924 0.23417722 0.32278481\n",
      " 0.13924051 0.29746835 0.37341772 0.26582278 0.00632911 0.14556962\n",
      " 0.01265823 0.24683544 0.12025316 0.31012658 0.2721519  0.06962025\n",
      " 0.         0.42405063 0.1835443  0.24050633 0.12025316 0.21518987\n",
      " 0.37341772 0.         0.16455696 0.38607595 0.36075949 0.25949367\n",
      " 0.32911392 0.32911392 0.26582278 0.         0.42405063 0.3164557\n",
      " 0.2278481  0.01898734 0.2278481  0.40506329 0.38607595 0.07594937\n",
      " 0.27848101 0.24050633 0.20253165 0.01898734 0.25949367 0.\n",
      " 0.29113924 0.26582278 0.21518987 0.32278481 0.35443038 0.25949367\n",
      " 0.24050633 0.20886076 0.20886076 0.20886076 0.20253165 0.20253165\n",
      " 0.25949367 0.28481013 0.24050633 0.12025316 0.17088608 0.21518987\n",
      " 0.20886076 0.2278481  0.1835443  0.19620253 0.1835443  0.17721519\n",
      " 0.19620253 0.15189873 0.2278481  0.29746835 0.25316456 0.13924051\n",
      " 0.21518987 0.20253165 0.31012658 0.48101266 0.49367089 0.32278481\n",
      " 0.26582278 0.27848101 0.2278481  0.35443038 0.32278481 0.10126582\n",
      " 0.46835443 0.37341772 0.29113924 0.32278481 0.25316456 0.34177215\n",
      " 0.36708861 0.20886076 0.20253165 0.20253165 0.15189873 0.26582278\n",
      " 0.13291139 0.3164557  0.24683544 0.17088608 0.17721519 0.22151899\n",
      " 0.17721519 0.39240506 0.13291139 0.06962025 0.55063291 0.37341772\n",
      " 0.26582278 0.22151899 0.0443038  0.20253165 0.27646184 0.28680924\n",
      " 0.28428018 0.30492967 0.2636925  0.30927125 0.32050979 0.26631221]\n",
      "8 day output [[0.32260683]]\n",
      "9 day input [0.         0.13924051 0.15189873 0.4556962  0.20253165 0.25949367\n",
      " 0.13291139 0.25949367 0.29113924 0.23417722 0.32278481 0.13924051\n",
      " 0.29746835 0.37341772 0.26582278 0.00632911 0.14556962 0.01265823\n",
      " 0.24683544 0.12025316 0.31012658 0.2721519  0.06962025 0.\n",
      " 0.42405063 0.1835443  0.24050633 0.12025316 0.21518987 0.37341772\n",
      " 0.         0.16455696 0.38607595 0.36075949 0.25949367 0.32911392\n",
      " 0.32911392 0.26582278 0.         0.42405063 0.3164557  0.2278481\n",
      " 0.01898734 0.2278481  0.40506329 0.38607595 0.07594937 0.27848101\n",
      " 0.24050633 0.20253165 0.01898734 0.25949367 0.         0.29113924\n",
      " 0.26582278 0.21518987 0.32278481 0.35443038 0.25949367 0.24050633\n",
      " 0.20886076 0.20886076 0.20886076 0.20253165 0.20253165 0.25949367\n",
      " 0.28481013 0.24050633 0.12025316 0.17088608 0.21518987 0.20886076\n",
      " 0.2278481  0.1835443  0.19620253 0.1835443  0.17721519 0.19620253\n",
      " 0.15189873 0.2278481  0.29746835 0.25316456 0.13924051 0.21518987\n",
      " 0.20253165 0.31012658 0.48101266 0.49367089 0.32278481 0.26582278\n",
      " 0.27848101 0.2278481  0.35443038 0.32278481 0.10126582 0.46835443\n",
      " 0.37341772 0.29113924 0.32278481 0.25316456 0.34177215 0.36708861\n",
      " 0.20886076 0.20253165 0.20253165 0.15189873 0.26582278 0.13291139\n",
      " 0.3164557  0.24683544 0.17088608 0.17721519 0.22151899 0.17721519\n",
      " 0.39240506 0.13291139 0.06962025 0.55063291 0.37341772 0.26582278\n",
      " 0.22151899 0.0443038  0.20253165 0.27646184 0.28680924 0.28428018\n",
      " 0.30492967 0.2636925  0.30927125 0.32050979 0.26631221 0.32260683]\n",
      "9 day output [[0.27445224]]\n",
      "10 day input [0.13924051 0.15189873 0.4556962  0.20253165 0.25949367 0.13291139\n",
      " 0.25949367 0.29113924 0.23417722 0.32278481 0.13924051 0.29746835\n",
      " 0.37341772 0.26582278 0.00632911 0.14556962 0.01265823 0.24683544\n",
      " 0.12025316 0.31012658 0.2721519  0.06962025 0.         0.42405063\n",
      " 0.1835443  0.24050633 0.12025316 0.21518987 0.37341772 0.\n",
      " 0.16455696 0.38607595 0.36075949 0.25949367 0.32911392 0.32911392\n",
      " 0.26582278 0.         0.42405063 0.3164557  0.2278481  0.01898734\n",
      " 0.2278481  0.40506329 0.38607595 0.07594937 0.27848101 0.24050633\n",
      " 0.20253165 0.01898734 0.25949367 0.         0.29113924 0.26582278\n",
      " 0.21518987 0.32278481 0.35443038 0.25949367 0.24050633 0.20886076\n",
      " 0.20886076 0.20886076 0.20253165 0.20253165 0.25949367 0.28481013\n",
      " 0.24050633 0.12025316 0.17088608 0.21518987 0.20886076 0.2278481\n",
      " 0.1835443  0.19620253 0.1835443  0.17721519 0.19620253 0.15189873\n",
      " 0.2278481  0.29746835 0.25316456 0.13924051 0.21518987 0.20253165\n",
      " 0.31012658 0.48101266 0.49367089 0.32278481 0.26582278 0.27848101\n",
      " 0.2278481  0.35443038 0.32278481 0.10126582 0.46835443 0.37341772\n",
      " 0.29113924 0.32278481 0.25316456 0.34177215 0.36708861 0.20886076\n",
      " 0.20253165 0.20253165 0.15189873 0.26582278 0.13291139 0.3164557\n",
      " 0.24683544 0.17088608 0.17721519 0.22151899 0.17721519 0.39240506\n",
      " 0.13291139 0.06962025 0.55063291 0.37341772 0.26582278 0.22151899\n",
      " 0.0443038  0.20253165 0.27646184 0.28680924 0.28428018 0.30492967\n",
      " 0.2636925  0.30927125 0.32050979 0.26631221 0.32260683 0.27445224]\n",
      "10 day output [[0.30800334]]\n",
      "11 day input [0.15189873 0.4556962  0.20253165 0.25949367 0.13291139 0.25949367\n",
      " 0.29113924 0.23417722 0.32278481 0.13924051 0.29746835 0.37341772\n",
      " 0.26582278 0.00632911 0.14556962 0.01265823 0.24683544 0.12025316\n",
      " 0.31012658 0.2721519  0.06962025 0.         0.42405063 0.1835443\n",
      " 0.24050633 0.12025316 0.21518987 0.37341772 0.         0.16455696\n",
      " 0.38607595 0.36075949 0.25949367 0.32911392 0.32911392 0.26582278\n",
      " 0.         0.42405063 0.3164557  0.2278481  0.01898734 0.2278481\n",
      " 0.40506329 0.38607595 0.07594937 0.27848101 0.24050633 0.20253165\n",
      " 0.01898734 0.25949367 0.         0.29113924 0.26582278 0.21518987\n",
      " 0.32278481 0.35443038 0.25949367 0.24050633 0.20886076 0.20886076\n",
      " 0.20886076 0.20253165 0.20253165 0.25949367 0.28481013 0.24050633\n",
      " 0.12025316 0.17088608 0.21518987 0.20886076 0.2278481  0.1835443\n",
      " 0.19620253 0.1835443  0.17721519 0.19620253 0.15189873 0.2278481\n",
      " 0.29746835 0.25316456 0.13924051 0.21518987 0.20253165 0.31012658\n",
      " 0.48101266 0.49367089 0.32278481 0.26582278 0.27848101 0.2278481\n",
      " 0.35443038 0.32278481 0.10126582 0.46835443 0.37341772 0.29113924\n",
      " 0.32278481 0.25316456 0.34177215 0.36708861 0.20886076 0.20253165\n",
      " 0.20253165 0.15189873 0.26582278 0.13291139 0.3164557  0.24683544\n",
      " 0.17088608 0.17721519 0.22151899 0.17721519 0.39240506 0.13291139\n",
      " 0.06962025 0.55063291 0.37341772 0.26582278 0.22151899 0.0443038\n",
      " 0.20253165 0.27646184 0.28680924 0.28428018 0.30492967 0.2636925\n",
      " 0.30927125 0.32050979 0.26631221 0.32260683 0.27445224 0.30800334]\n",
      "11 day output [[0.34857452]]\n",
      "12 day input [0.4556962  0.20253165 0.25949367 0.13291139 0.25949367 0.29113924\n",
      " 0.23417722 0.32278481 0.13924051 0.29746835 0.37341772 0.26582278\n",
      " 0.00632911 0.14556962 0.01265823 0.24683544 0.12025316 0.31012658\n",
      " 0.2721519  0.06962025 0.         0.42405063 0.1835443  0.24050633\n",
      " 0.12025316 0.21518987 0.37341772 0.         0.16455696 0.38607595\n",
      " 0.36075949 0.25949367 0.32911392 0.32911392 0.26582278 0.\n",
      " 0.42405063 0.3164557  0.2278481  0.01898734 0.2278481  0.40506329\n",
      " 0.38607595 0.07594937 0.27848101 0.24050633 0.20253165 0.01898734\n",
      " 0.25949367 0.         0.29113924 0.26582278 0.21518987 0.32278481\n",
      " 0.35443038 0.25949367 0.24050633 0.20886076 0.20886076 0.20886076\n",
      " 0.20253165 0.20253165 0.25949367 0.28481013 0.24050633 0.12025316\n",
      " 0.17088608 0.21518987 0.20886076 0.2278481  0.1835443  0.19620253\n",
      " 0.1835443  0.17721519 0.19620253 0.15189873 0.2278481  0.29746835\n",
      " 0.25316456 0.13924051 0.21518987 0.20253165 0.31012658 0.48101266\n",
      " 0.49367089 0.32278481 0.26582278 0.27848101 0.2278481  0.35443038\n",
      " 0.32278481 0.10126582 0.46835443 0.37341772 0.29113924 0.32278481\n",
      " 0.25316456 0.34177215 0.36708861 0.20886076 0.20253165 0.20253165\n",
      " 0.15189873 0.26582278 0.13291139 0.3164557  0.24683544 0.17088608\n",
      " 0.17721519 0.22151899 0.17721519 0.39240506 0.13291139 0.06962025\n",
      " 0.55063291 0.37341772 0.26582278 0.22151899 0.0443038  0.20253165\n",
      " 0.27646184 0.28680924 0.28428018 0.30492967 0.2636925  0.30927125\n",
      " 0.32050979 0.26631221 0.32260683 0.27445224 0.30800334 0.34857452]\n",
      "12 day output [[0.30646724]]\n",
      "13 day input [0.20253165 0.25949367 0.13291139 0.25949367 0.29113924 0.23417722\n",
      " 0.32278481 0.13924051 0.29746835 0.37341772 0.26582278 0.00632911\n",
      " 0.14556962 0.01265823 0.24683544 0.12025316 0.31012658 0.2721519\n",
      " 0.06962025 0.         0.42405063 0.1835443  0.24050633 0.12025316\n",
      " 0.21518987 0.37341772 0.         0.16455696 0.38607595 0.36075949\n",
      " 0.25949367 0.32911392 0.32911392 0.26582278 0.         0.42405063\n",
      " 0.3164557  0.2278481  0.01898734 0.2278481  0.40506329 0.38607595\n",
      " 0.07594937 0.27848101 0.24050633 0.20253165 0.01898734 0.25949367\n",
      " 0.         0.29113924 0.26582278 0.21518987 0.32278481 0.35443038\n",
      " 0.25949367 0.24050633 0.20886076 0.20886076 0.20886076 0.20253165\n",
      " 0.20253165 0.25949367 0.28481013 0.24050633 0.12025316 0.17088608\n",
      " 0.21518987 0.20886076 0.2278481  0.1835443  0.19620253 0.1835443\n",
      " 0.17721519 0.19620253 0.15189873 0.2278481  0.29746835 0.25316456\n",
      " 0.13924051 0.21518987 0.20253165 0.31012658 0.48101266 0.49367089\n",
      " 0.32278481 0.26582278 0.27848101 0.2278481  0.35443038 0.32278481\n",
      " 0.10126582 0.46835443 0.37341772 0.29113924 0.32278481 0.25316456\n",
      " 0.34177215 0.36708861 0.20886076 0.20253165 0.20253165 0.15189873\n",
      " 0.26582278 0.13291139 0.3164557  0.24683544 0.17088608 0.17721519\n",
      " 0.22151899 0.17721519 0.39240506 0.13291139 0.06962025 0.55063291\n",
      " 0.37341772 0.26582278 0.22151899 0.0443038  0.20253165 0.27646184\n",
      " 0.28680924 0.28428018 0.30492967 0.2636925  0.30927125 0.32050979\n",
      " 0.26631221 0.32260683 0.27445224 0.30800334 0.34857452 0.30646724]\n",
      "13 day output [[0.3154244]]\n",
      "14 day input [0.25949367 0.13291139 0.25949367 0.29113924 0.23417722 0.32278481\n",
      " 0.13924051 0.29746835 0.37341772 0.26582278 0.00632911 0.14556962\n",
      " 0.01265823 0.24683544 0.12025316 0.31012658 0.2721519  0.06962025\n",
      " 0.         0.42405063 0.1835443  0.24050633 0.12025316 0.21518987\n",
      " 0.37341772 0.         0.16455696 0.38607595 0.36075949 0.25949367\n",
      " 0.32911392 0.32911392 0.26582278 0.         0.42405063 0.3164557\n",
      " 0.2278481  0.01898734 0.2278481  0.40506329 0.38607595 0.07594937\n",
      " 0.27848101 0.24050633 0.20253165 0.01898734 0.25949367 0.\n",
      " 0.29113924 0.26582278 0.21518987 0.32278481 0.35443038 0.25949367\n",
      " 0.24050633 0.20886076 0.20886076 0.20886076 0.20253165 0.20253165\n",
      " 0.25949367 0.28481013 0.24050633 0.12025316 0.17088608 0.21518987\n",
      " 0.20886076 0.2278481  0.1835443  0.19620253 0.1835443  0.17721519\n",
      " 0.19620253 0.15189873 0.2278481  0.29746835 0.25316456 0.13924051\n",
      " 0.21518987 0.20253165 0.31012658 0.48101266 0.49367089 0.32278481\n",
      " 0.26582278 0.27848101 0.2278481  0.35443038 0.32278481 0.10126582\n",
      " 0.46835443 0.37341772 0.29113924 0.32278481 0.25316456 0.34177215\n",
      " 0.36708861 0.20886076 0.20253165 0.20253165 0.15189873 0.26582278\n",
      " 0.13291139 0.3164557  0.24683544 0.17088608 0.17721519 0.22151899\n",
      " 0.17721519 0.39240506 0.13291139 0.06962025 0.55063291 0.37341772\n",
      " 0.26582278 0.22151899 0.0443038  0.20253165 0.27646184 0.28680924\n",
      " 0.28428018 0.30492967 0.2636925  0.30927125 0.32050979 0.26631221\n",
      " 0.32260683 0.27445224 0.30800334 0.34857452 0.30646724 0.31542441]\n",
      "14 day output [[0.34757543]]\n",
      "15 day input [0.13291139 0.25949367 0.29113924 0.23417722 0.32278481 0.13924051\n",
      " 0.29746835 0.37341772 0.26582278 0.00632911 0.14556962 0.01265823\n",
      " 0.24683544 0.12025316 0.31012658 0.2721519  0.06962025 0.\n",
      " 0.42405063 0.1835443  0.24050633 0.12025316 0.21518987 0.37341772\n",
      " 0.         0.16455696 0.38607595 0.36075949 0.25949367 0.32911392\n",
      " 0.32911392 0.26582278 0.         0.42405063 0.3164557  0.2278481\n",
      " 0.01898734 0.2278481  0.40506329 0.38607595 0.07594937 0.27848101\n",
      " 0.24050633 0.20253165 0.01898734 0.25949367 0.         0.29113924\n",
      " 0.26582278 0.21518987 0.32278481 0.35443038 0.25949367 0.24050633\n",
      " 0.20886076 0.20886076 0.20886076 0.20253165 0.20253165 0.25949367\n",
      " 0.28481013 0.24050633 0.12025316 0.17088608 0.21518987 0.20886076\n",
      " 0.2278481  0.1835443  0.19620253 0.1835443  0.17721519 0.19620253\n",
      " 0.15189873 0.2278481  0.29746835 0.25316456 0.13924051 0.21518987\n",
      " 0.20253165 0.31012658 0.48101266 0.49367089 0.32278481 0.26582278\n",
      " 0.27848101 0.2278481  0.35443038 0.32278481 0.10126582 0.46835443\n",
      " 0.37341772 0.29113924 0.32278481 0.25316456 0.34177215 0.36708861\n",
      " 0.20886076 0.20253165 0.20253165 0.15189873 0.26582278 0.13291139\n",
      " 0.3164557  0.24683544 0.17088608 0.17721519 0.22151899 0.17721519\n",
      " 0.39240506 0.13291139 0.06962025 0.55063291 0.37341772 0.26582278\n",
      " 0.22151899 0.0443038  0.20253165 0.27646184 0.28680924 0.28428018\n",
      " 0.30492967 0.2636925  0.30927125 0.32050979 0.26631221 0.32260683\n",
      " 0.27445224 0.30800334 0.34857452 0.30646724 0.31542441 0.34757543]\n",
      "15 day output [[0.32002127]]\n",
      "16 day input [0.25949367 0.29113924 0.23417722 0.32278481 0.13924051 0.29746835\n",
      " 0.37341772 0.26582278 0.00632911 0.14556962 0.01265823 0.24683544\n",
      " 0.12025316 0.31012658 0.2721519  0.06962025 0.         0.42405063\n",
      " 0.1835443  0.24050633 0.12025316 0.21518987 0.37341772 0.\n",
      " 0.16455696 0.38607595 0.36075949 0.25949367 0.32911392 0.32911392\n",
      " 0.26582278 0.         0.42405063 0.3164557  0.2278481  0.01898734\n",
      " 0.2278481  0.40506329 0.38607595 0.07594937 0.27848101 0.24050633\n",
      " 0.20253165 0.01898734 0.25949367 0.         0.29113924 0.26582278\n",
      " 0.21518987 0.32278481 0.35443038 0.25949367 0.24050633 0.20886076\n",
      " 0.20886076 0.20886076 0.20253165 0.20253165 0.25949367 0.28481013\n",
      " 0.24050633 0.12025316 0.17088608 0.21518987 0.20886076 0.2278481\n",
      " 0.1835443  0.19620253 0.1835443  0.17721519 0.19620253 0.15189873\n",
      " 0.2278481  0.29746835 0.25316456 0.13924051 0.21518987 0.20253165\n",
      " 0.31012658 0.48101266 0.49367089 0.32278481 0.26582278 0.27848101\n",
      " 0.2278481  0.35443038 0.32278481 0.10126582 0.46835443 0.37341772\n",
      " 0.29113924 0.32278481 0.25316456 0.34177215 0.36708861 0.20886076\n",
      " 0.20253165 0.20253165 0.15189873 0.26582278 0.13291139 0.3164557\n",
      " 0.24683544 0.17088608 0.17721519 0.22151899 0.17721519 0.39240506\n",
      " 0.13291139 0.06962025 0.55063291 0.37341772 0.26582278 0.22151899\n",
      " 0.0443038  0.20253165 0.27646184 0.28680924 0.28428018 0.30492967\n",
      " 0.2636925  0.30927125 0.32050979 0.26631221 0.32260683 0.27445224\n",
      " 0.30800334 0.34857452 0.30646724 0.31542441 0.34757543 0.32002127]\n",
      "16 day output [[0.3514749]]\n",
      "17 day input [0.29113924 0.23417722 0.32278481 0.13924051 0.29746835 0.37341772\n",
      " 0.26582278 0.00632911 0.14556962 0.01265823 0.24683544 0.12025316\n",
      " 0.31012658 0.2721519  0.06962025 0.         0.42405063 0.1835443\n",
      " 0.24050633 0.12025316 0.21518987 0.37341772 0.         0.16455696\n",
      " 0.38607595 0.36075949 0.25949367 0.32911392 0.32911392 0.26582278\n",
      " 0.         0.42405063 0.3164557  0.2278481  0.01898734 0.2278481\n",
      " 0.40506329 0.38607595 0.07594937 0.27848101 0.24050633 0.20253165\n",
      " 0.01898734 0.25949367 0.         0.29113924 0.26582278 0.21518987\n",
      " 0.32278481 0.35443038 0.25949367 0.24050633 0.20886076 0.20886076\n",
      " 0.20886076 0.20253165 0.20253165 0.25949367 0.28481013 0.24050633\n",
      " 0.12025316 0.17088608 0.21518987 0.20886076 0.2278481  0.1835443\n",
      " 0.19620253 0.1835443  0.17721519 0.19620253 0.15189873 0.2278481\n",
      " 0.29746835 0.25316456 0.13924051 0.21518987 0.20253165 0.31012658\n",
      " 0.48101266 0.49367089 0.32278481 0.26582278 0.27848101 0.2278481\n",
      " 0.35443038 0.32278481 0.10126582 0.46835443 0.37341772 0.29113924\n",
      " 0.32278481 0.25316456 0.34177215 0.36708861 0.20886076 0.20253165\n",
      " 0.20253165 0.15189873 0.26582278 0.13291139 0.3164557  0.24683544\n",
      " 0.17088608 0.17721519 0.22151899 0.17721519 0.39240506 0.13291139\n",
      " 0.06962025 0.55063291 0.37341772 0.26582278 0.22151899 0.0443038\n",
      " 0.20253165 0.27646184 0.28680924 0.28428018 0.30492967 0.2636925\n",
      " 0.30927125 0.32050979 0.26631221 0.32260683 0.27445224 0.30800334\n",
      " 0.34857452 0.30646724 0.31542441 0.34757543 0.32002127 0.35147491]\n",
      "17 day output [[0.3109224]]\n",
      "18 day input [0.23417722 0.32278481 0.13924051 0.29746835 0.37341772 0.26582278\n",
      " 0.00632911 0.14556962 0.01265823 0.24683544 0.12025316 0.31012658\n",
      " 0.2721519  0.06962025 0.         0.42405063 0.1835443  0.24050633\n",
      " 0.12025316 0.21518987 0.37341772 0.         0.16455696 0.38607595\n",
      " 0.36075949 0.25949367 0.32911392 0.32911392 0.26582278 0.\n",
      " 0.42405063 0.3164557  0.2278481  0.01898734 0.2278481  0.40506329\n",
      " 0.38607595 0.07594937 0.27848101 0.24050633 0.20253165 0.01898734\n",
      " 0.25949367 0.         0.29113924 0.26582278 0.21518987 0.32278481\n",
      " 0.35443038 0.25949367 0.24050633 0.20886076 0.20886076 0.20886076\n",
      " 0.20253165 0.20253165 0.25949367 0.28481013 0.24050633 0.12025316\n",
      " 0.17088608 0.21518987 0.20886076 0.2278481  0.1835443  0.19620253\n",
      " 0.1835443  0.17721519 0.19620253 0.15189873 0.2278481  0.29746835\n",
      " 0.25316456 0.13924051 0.21518987 0.20253165 0.31012658 0.48101266\n",
      " 0.49367089 0.32278481 0.26582278 0.27848101 0.2278481  0.35443038\n",
      " 0.32278481 0.10126582 0.46835443 0.37341772 0.29113924 0.32278481\n",
      " 0.25316456 0.34177215 0.36708861 0.20886076 0.20253165 0.20253165\n",
      " 0.15189873 0.26582278 0.13291139 0.3164557  0.24683544 0.17088608\n",
      " 0.17721519 0.22151899 0.17721519 0.39240506 0.13291139 0.06962025\n",
      " 0.55063291 0.37341772 0.26582278 0.22151899 0.0443038  0.20253165\n",
      " 0.27646184 0.28680924 0.28428018 0.30492967 0.2636925  0.30927125\n",
      " 0.32050979 0.26631221 0.32260683 0.27445224 0.30800334 0.34857452\n",
      " 0.30646724 0.31542441 0.34757543 0.32002127 0.35147491 0.31092241]\n",
      "18 day output [[0.33489215]]\n",
      "19 day input [0.32278481 0.13924051 0.29746835 0.37341772 0.26582278 0.00632911\n",
      " 0.14556962 0.01265823 0.24683544 0.12025316 0.31012658 0.2721519\n",
      " 0.06962025 0.         0.42405063 0.1835443  0.24050633 0.12025316\n",
      " 0.21518987 0.37341772 0.         0.16455696 0.38607595 0.36075949\n",
      " 0.25949367 0.32911392 0.32911392 0.26582278 0.         0.42405063\n",
      " 0.3164557  0.2278481  0.01898734 0.2278481  0.40506329 0.38607595\n",
      " 0.07594937 0.27848101 0.24050633 0.20253165 0.01898734 0.25949367\n",
      " 0.         0.29113924 0.26582278 0.21518987 0.32278481 0.35443038\n",
      " 0.25949367 0.24050633 0.20886076 0.20886076 0.20886076 0.20253165\n",
      " 0.20253165 0.25949367 0.28481013 0.24050633 0.12025316 0.17088608\n",
      " 0.21518987 0.20886076 0.2278481  0.1835443  0.19620253 0.1835443\n",
      " 0.17721519 0.19620253 0.15189873 0.2278481  0.29746835 0.25316456\n",
      " 0.13924051 0.21518987 0.20253165 0.31012658 0.48101266 0.49367089\n",
      " 0.32278481 0.26582278 0.27848101 0.2278481  0.35443038 0.32278481\n",
      " 0.10126582 0.46835443 0.37341772 0.29113924 0.32278481 0.25316456\n",
      " 0.34177215 0.36708861 0.20886076 0.20253165 0.20253165 0.15189873\n",
      " 0.26582278 0.13291139 0.3164557  0.24683544 0.17088608 0.17721519\n",
      " 0.22151899 0.17721519 0.39240506 0.13291139 0.06962025 0.55063291\n",
      " 0.37341772 0.26582278 0.22151899 0.0443038  0.20253165 0.27646184\n",
      " 0.28680924 0.28428018 0.30492967 0.2636925  0.30927125 0.32050979\n",
      " 0.26631221 0.32260683 0.27445224 0.30800334 0.34857452 0.30646724\n",
      " 0.31542441 0.34757543 0.32002127 0.35147491 0.31092241 0.33489215]\n",
      "19 day output [[0.3422647]]\n",
      "20 day input [0.13924051 0.29746835 0.37341772 0.26582278 0.00632911 0.14556962\n",
      " 0.01265823 0.24683544 0.12025316 0.31012658 0.2721519  0.06962025\n",
      " 0.         0.42405063 0.1835443  0.24050633 0.12025316 0.21518987\n",
      " 0.37341772 0.         0.16455696 0.38607595 0.36075949 0.25949367\n",
      " 0.32911392 0.32911392 0.26582278 0.         0.42405063 0.3164557\n",
      " 0.2278481  0.01898734 0.2278481  0.40506329 0.38607595 0.07594937\n",
      " 0.27848101 0.24050633 0.20253165 0.01898734 0.25949367 0.\n",
      " 0.29113924 0.26582278 0.21518987 0.32278481 0.35443038 0.25949367\n",
      " 0.24050633 0.20886076 0.20886076 0.20886076 0.20253165 0.20253165\n",
      " 0.25949367 0.28481013 0.24050633 0.12025316 0.17088608 0.21518987\n",
      " 0.20886076 0.2278481  0.1835443  0.19620253 0.1835443  0.17721519\n",
      " 0.19620253 0.15189873 0.2278481  0.29746835 0.25316456 0.13924051\n",
      " 0.21518987 0.20253165 0.31012658 0.48101266 0.49367089 0.32278481\n",
      " 0.26582278 0.27848101 0.2278481  0.35443038 0.32278481 0.10126582\n",
      " 0.46835443 0.37341772 0.29113924 0.32278481 0.25316456 0.34177215\n",
      " 0.36708861 0.20886076 0.20253165 0.20253165 0.15189873 0.26582278\n",
      " 0.13291139 0.3164557  0.24683544 0.17088608 0.17721519 0.22151899\n",
      " 0.17721519 0.39240506 0.13291139 0.06962025 0.55063291 0.37341772\n",
      " 0.26582278 0.22151899 0.0443038  0.20253165 0.27646184 0.28680924\n",
      " 0.28428018 0.30492967 0.2636925  0.30927125 0.32050979 0.26631221\n",
      " 0.32260683 0.27445224 0.30800334 0.34857452 0.30646724 0.31542441\n",
      " 0.34757543 0.32002127 0.35147491 0.31092241 0.33489215 0.34226471]\n",
      "20 day output [[0.3046364]]\n",
      "21 day input [0.29746835 0.37341772 0.26582278 0.00632911 0.14556962 0.01265823\n",
      " 0.24683544 0.12025316 0.31012658 0.2721519  0.06962025 0.\n",
      " 0.42405063 0.1835443  0.24050633 0.12025316 0.21518987 0.37341772\n",
      " 0.         0.16455696 0.38607595 0.36075949 0.25949367 0.32911392\n",
      " 0.32911392 0.26582278 0.         0.42405063 0.3164557  0.2278481\n",
      " 0.01898734 0.2278481  0.40506329 0.38607595 0.07594937 0.27848101\n",
      " 0.24050633 0.20253165 0.01898734 0.25949367 0.         0.29113924\n",
      " 0.26582278 0.21518987 0.32278481 0.35443038 0.25949367 0.24050633\n",
      " 0.20886076 0.20886076 0.20886076 0.20253165 0.20253165 0.25949367\n",
      " 0.28481013 0.24050633 0.12025316 0.17088608 0.21518987 0.20886076\n",
      " 0.2278481  0.1835443  0.19620253 0.1835443  0.17721519 0.19620253\n",
      " 0.15189873 0.2278481  0.29746835 0.25316456 0.13924051 0.21518987\n",
      " 0.20253165 0.31012658 0.48101266 0.49367089 0.32278481 0.26582278\n",
      " 0.27848101 0.2278481  0.35443038 0.32278481 0.10126582 0.46835443\n",
      " 0.37341772 0.29113924 0.32278481 0.25316456 0.34177215 0.36708861\n",
      " 0.20886076 0.20253165 0.20253165 0.15189873 0.26582278 0.13291139\n",
      " 0.3164557  0.24683544 0.17088608 0.17721519 0.22151899 0.17721519\n",
      " 0.39240506 0.13291139 0.06962025 0.55063291 0.37341772 0.26582278\n",
      " 0.22151899 0.0443038  0.20253165 0.27646184 0.28680924 0.28428018\n",
      " 0.30492967 0.2636925  0.30927125 0.32050979 0.26631221 0.32260683\n",
      " 0.27445224 0.30800334 0.34857452 0.30646724 0.31542441 0.34757543\n",
      " 0.32002127 0.35147491 0.31092241 0.33489215 0.34226471 0.30463639]\n",
      "21 day output [[0.33919874]]\n",
      "22 day input [0.37341772 0.26582278 0.00632911 0.14556962 0.01265823 0.24683544\n",
      " 0.12025316 0.31012658 0.2721519  0.06962025 0.         0.42405063\n",
      " 0.1835443  0.24050633 0.12025316 0.21518987 0.37341772 0.\n",
      " 0.16455696 0.38607595 0.36075949 0.25949367 0.32911392 0.32911392\n",
      " 0.26582278 0.         0.42405063 0.3164557  0.2278481  0.01898734\n",
      " 0.2278481  0.40506329 0.38607595 0.07594937 0.27848101 0.24050633\n",
      " 0.20253165 0.01898734 0.25949367 0.         0.29113924 0.26582278\n",
      " 0.21518987 0.32278481 0.35443038 0.25949367 0.24050633 0.20886076\n",
      " 0.20886076 0.20886076 0.20253165 0.20253165 0.25949367 0.28481013\n",
      " 0.24050633 0.12025316 0.17088608 0.21518987 0.20886076 0.2278481\n",
      " 0.1835443  0.19620253 0.1835443  0.17721519 0.19620253 0.15189873\n",
      " 0.2278481  0.29746835 0.25316456 0.13924051 0.21518987 0.20253165\n",
      " 0.31012658 0.48101266 0.49367089 0.32278481 0.26582278 0.27848101\n",
      " 0.2278481  0.35443038 0.32278481 0.10126582 0.46835443 0.37341772\n",
      " 0.29113924 0.32278481 0.25316456 0.34177215 0.36708861 0.20886076\n",
      " 0.20253165 0.20253165 0.15189873 0.26582278 0.13291139 0.3164557\n",
      " 0.24683544 0.17088608 0.17721519 0.22151899 0.17721519 0.39240506\n",
      " 0.13291139 0.06962025 0.55063291 0.37341772 0.26582278 0.22151899\n",
      " 0.0443038  0.20253165 0.27646184 0.28680924 0.28428018 0.30492967\n",
      " 0.2636925  0.30927125 0.32050979 0.26631221 0.32260683 0.27445224\n",
      " 0.30800334 0.34857452 0.30646724 0.31542441 0.34757543 0.32002127\n",
      " 0.35147491 0.31092241 0.33489215 0.34226471 0.30463639 0.33919874]\n",
      "22 day output [[0.3223446]]\n",
      "23 day input [0.26582278 0.00632911 0.14556962 0.01265823 0.24683544 0.12025316\n",
      " 0.31012658 0.2721519  0.06962025 0.         0.42405063 0.1835443\n",
      " 0.24050633 0.12025316 0.21518987 0.37341772 0.         0.16455696\n",
      " 0.38607595 0.36075949 0.25949367 0.32911392 0.32911392 0.26582278\n",
      " 0.         0.42405063 0.3164557  0.2278481  0.01898734 0.2278481\n",
      " 0.40506329 0.38607595 0.07594937 0.27848101 0.24050633 0.20253165\n",
      " 0.01898734 0.25949367 0.         0.29113924 0.26582278 0.21518987\n",
      " 0.32278481 0.35443038 0.25949367 0.24050633 0.20886076 0.20886076\n",
      " 0.20886076 0.20253165 0.20253165 0.25949367 0.28481013 0.24050633\n",
      " 0.12025316 0.17088608 0.21518987 0.20886076 0.2278481  0.1835443\n",
      " 0.19620253 0.1835443  0.17721519 0.19620253 0.15189873 0.2278481\n",
      " 0.29746835 0.25316456 0.13924051 0.21518987 0.20253165 0.31012658\n",
      " 0.48101266 0.49367089 0.32278481 0.26582278 0.27848101 0.2278481\n",
      " 0.35443038 0.32278481 0.10126582 0.46835443 0.37341772 0.29113924\n",
      " 0.32278481 0.25316456 0.34177215 0.36708861 0.20886076 0.20253165\n",
      " 0.20253165 0.15189873 0.26582278 0.13291139 0.3164557  0.24683544\n",
      " 0.17088608 0.17721519 0.22151899 0.17721519 0.39240506 0.13291139\n",
      " 0.06962025 0.55063291 0.37341772 0.26582278 0.22151899 0.0443038\n",
      " 0.20253165 0.27646184 0.28680924 0.28428018 0.30492967 0.2636925\n",
      " 0.30927125 0.32050979 0.26631221 0.32260683 0.27445224 0.30800334\n",
      " 0.34857452 0.30646724 0.31542441 0.34757543 0.32002127 0.35147491\n",
      " 0.31092241 0.33489215 0.34226471 0.30463639 0.33919874 0.3223446 ]\n",
      "23 day output [[0.3421227]]\n",
      "24 day input [0.00632911 0.14556962 0.01265823 0.24683544 0.12025316 0.31012658\n",
      " 0.2721519  0.06962025 0.         0.42405063 0.1835443  0.24050633\n",
      " 0.12025316 0.21518987 0.37341772 0.         0.16455696 0.38607595\n",
      " 0.36075949 0.25949367 0.32911392 0.32911392 0.26582278 0.\n",
      " 0.42405063 0.3164557  0.2278481  0.01898734 0.2278481  0.40506329\n",
      " 0.38607595 0.07594937 0.27848101 0.24050633 0.20253165 0.01898734\n",
      " 0.25949367 0.         0.29113924 0.26582278 0.21518987 0.32278481\n",
      " 0.35443038 0.25949367 0.24050633 0.20886076 0.20886076 0.20886076\n",
      " 0.20253165 0.20253165 0.25949367 0.28481013 0.24050633 0.12025316\n",
      " 0.17088608 0.21518987 0.20886076 0.2278481  0.1835443  0.19620253\n",
      " 0.1835443  0.17721519 0.19620253 0.15189873 0.2278481  0.29746835\n",
      " 0.25316456 0.13924051 0.21518987 0.20253165 0.31012658 0.48101266\n",
      " 0.49367089 0.32278481 0.26582278 0.27848101 0.2278481  0.35443038\n",
      " 0.32278481 0.10126582 0.46835443 0.37341772 0.29113924 0.32278481\n",
      " 0.25316456 0.34177215 0.36708861 0.20886076 0.20253165 0.20253165\n",
      " 0.15189873 0.26582278 0.13291139 0.3164557  0.24683544 0.17088608\n",
      " 0.17721519 0.22151899 0.17721519 0.39240506 0.13291139 0.06962025\n",
      " 0.55063291 0.37341772 0.26582278 0.22151899 0.0443038  0.20253165\n",
      " 0.27646184 0.28680924 0.28428018 0.30492967 0.2636925  0.30927125\n",
      " 0.32050979 0.26631221 0.32260683 0.27445224 0.30800334 0.34857452\n",
      " 0.30646724 0.31542441 0.34757543 0.32002127 0.35147491 0.31092241\n",
      " 0.33489215 0.34226471 0.30463639 0.33919874 0.3223446  0.3421227 ]\n",
      "24 day output [[0.3428485]]\n",
      "25 day input [0.14556962 0.01265823 0.24683544 0.12025316 0.31012658 0.2721519\n",
      " 0.06962025 0.         0.42405063 0.1835443  0.24050633 0.12025316\n",
      " 0.21518987 0.37341772 0.         0.16455696 0.38607595 0.36075949\n",
      " 0.25949367 0.32911392 0.32911392 0.26582278 0.         0.42405063\n",
      " 0.3164557  0.2278481  0.01898734 0.2278481  0.40506329 0.38607595\n",
      " 0.07594937 0.27848101 0.24050633 0.20253165 0.01898734 0.25949367\n",
      " 0.         0.29113924 0.26582278 0.21518987 0.32278481 0.35443038\n",
      " 0.25949367 0.24050633 0.20886076 0.20886076 0.20886076 0.20253165\n",
      " 0.20253165 0.25949367 0.28481013 0.24050633 0.12025316 0.17088608\n",
      " 0.21518987 0.20886076 0.2278481  0.1835443  0.19620253 0.1835443\n",
      " 0.17721519 0.19620253 0.15189873 0.2278481  0.29746835 0.25316456\n",
      " 0.13924051 0.21518987 0.20253165 0.31012658 0.48101266 0.49367089\n",
      " 0.32278481 0.26582278 0.27848101 0.2278481  0.35443038 0.32278481\n",
      " 0.10126582 0.46835443 0.37341772 0.29113924 0.32278481 0.25316456\n",
      " 0.34177215 0.36708861 0.20886076 0.20253165 0.20253165 0.15189873\n",
      " 0.26582278 0.13291139 0.3164557  0.24683544 0.17088608 0.17721519\n",
      " 0.22151899 0.17721519 0.39240506 0.13291139 0.06962025 0.55063291\n",
      " 0.37341772 0.26582278 0.22151899 0.0443038  0.20253165 0.27646184\n",
      " 0.28680924 0.28428018 0.30492967 0.2636925  0.30927125 0.32050979\n",
      " 0.26631221 0.32260683 0.27445224 0.30800334 0.34857452 0.30646724\n",
      " 0.31542441 0.34757543 0.32002127 0.35147491 0.31092241 0.33489215\n",
      " 0.34226471 0.30463639 0.33919874 0.3223446  0.3421227  0.34284851]\n",
      "25 day output [[0.33772272]]\n",
      "26 day input [0.01265823 0.24683544 0.12025316 0.31012658 0.2721519  0.06962025\n",
      " 0.         0.42405063 0.1835443  0.24050633 0.12025316 0.21518987\n",
      " 0.37341772 0.         0.16455696 0.38607595 0.36075949 0.25949367\n",
      " 0.32911392 0.32911392 0.26582278 0.         0.42405063 0.3164557\n",
      " 0.2278481  0.01898734 0.2278481  0.40506329 0.38607595 0.07594937\n",
      " 0.27848101 0.24050633 0.20253165 0.01898734 0.25949367 0.\n",
      " 0.29113924 0.26582278 0.21518987 0.32278481 0.35443038 0.25949367\n",
      " 0.24050633 0.20886076 0.20886076 0.20886076 0.20253165 0.20253165\n",
      " 0.25949367 0.28481013 0.24050633 0.12025316 0.17088608 0.21518987\n",
      " 0.20886076 0.2278481  0.1835443  0.19620253 0.1835443  0.17721519\n",
      " 0.19620253 0.15189873 0.2278481  0.29746835 0.25316456 0.13924051\n",
      " 0.21518987 0.20253165 0.31012658 0.48101266 0.49367089 0.32278481\n",
      " 0.26582278 0.27848101 0.2278481  0.35443038 0.32278481 0.10126582\n",
      " 0.46835443 0.37341772 0.29113924 0.32278481 0.25316456 0.34177215\n",
      " 0.36708861 0.20886076 0.20253165 0.20253165 0.15189873 0.26582278\n",
      " 0.13291139 0.3164557  0.24683544 0.17088608 0.17721519 0.22151899\n",
      " 0.17721519 0.39240506 0.13291139 0.06962025 0.55063291 0.37341772\n",
      " 0.26582278 0.22151899 0.0443038  0.20253165 0.27646184 0.28680924\n",
      " 0.28428018 0.30492967 0.2636925  0.30927125 0.32050979 0.26631221\n",
      " 0.32260683 0.27445224 0.30800334 0.34857452 0.30646724 0.31542441\n",
      " 0.34757543 0.32002127 0.35147491 0.31092241 0.33489215 0.34226471\n",
      " 0.30463639 0.33919874 0.3223446  0.3421227  0.34284851 0.33772272]\n",
      "26 day output [[0.34403187]]\n",
      "27 day input [0.24683544 0.12025316 0.31012658 0.2721519  0.06962025 0.\n",
      " 0.42405063 0.1835443  0.24050633 0.12025316 0.21518987 0.37341772\n",
      " 0.         0.16455696 0.38607595 0.36075949 0.25949367 0.32911392\n",
      " 0.32911392 0.26582278 0.         0.42405063 0.3164557  0.2278481\n",
      " 0.01898734 0.2278481  0.40506329 0.38607595 0.07594937 0.27848101\n",
      " 0.24050633 0.20253165 0.01898734 0.25949367 0.         0.29113924\n",
      " 0.26582278 0.21518987 0.32278481 0.35443038 0.25949367 0.24050633\n",
      " 0.20886076 0.20886076 0.20886076 0.20253165 0.20253165 0.25949367\n",
      " 0.28481013 0.24050633 0.12025316 0.17088608 0.21518987 0.20886076\n",
      " 0.2278481  0.1835443  0.19620253 0.1835443  0.17721519 0.19620253\n",
      " 0.15189873 0.2278481  0.29746835 0.25316456 0.13924051 0.21518987\n",
      " 0.20253165 0.31012658 0.48101266 0.49367089 0.32278481 0.26582278\n",
      " 0.27848101 0.2278481  0.35443038 0.32278481 0.10126582 0.46835443\n",
      " 0.37341772 0.29113924 0.32278481 0.25316456 0.34177215 0.36708861\n",
      " 0.20886076 0.20253165 0.20253165 0.15189873 0.26582278 0.13291139\n",
      " 0.3164557  0.24683544 0.17088608 0.17721519 0.22151899 0.17721519\n",
      " 0.39240506 0.13291139 0.06962025 0.55063291 0.37341772 0.26582278\n",
      " 0.22151899 0.0443038  0.20253165 0.27646184 0.28680924 0.28428018\n",
      " 0.30492967 0.2636925  0.30927125 0.32050979 0.26631221 0.32260683\n",
      " 0.27445224 0.30800334 0.34857452 0.30646724 0.31542441 0.34757543\n",
      " 0.32002127 0.35147491 0.31092241 0.33489215 0.34226471 0.30463639\n",
      " 0.33919874 0.3223446  0.3421227  0.34284851 0.33772272 0.34403187]\n",
      "27 day output [[0.32977843]]\n",
      "28 day input [0.12025316 0.31012658 0.2721519  0.06962025 0.         0.42405063\n",
      " 0.1835443  0.24050633 0.12025316 0.21518987 0.37341772 0.\n",
      " 0.16455696 0.38607595 0.36075949 0.25949367 0.32911392 0.32911392\n",
      " 0.26582278 0.         0.42405063 0.3164557  0.2278481  0.01898734\n",
      " 0.2278481  0.40506329 0.38607595 0.07594937 0.27848101 0.24050633\n",
      " 0.20253165 0.01898734 0.25949367 0.         0.29113924 0.26582278\n",
      " 0.21518987 0.32278481 0.35443038 0.25949367 0.24050633 0.20886076\n",
      " 0.20886076 0.20886076 0.20253165 0.20253165 0.25949367 0.28481013\n",
      " 0.24050633 0.12025316 0.17088608 0.21518987 0.20886076 0.2278481\n",
      " 0.1835443  0.19620253 0.1835443  0.17721519 0.19620253 0.15189873\n",
      " 0.2278481  0.29746835 0.25316456 0.13924051 0.21518987 0.20253165\n",
      " 0.31012658 0.48101266 0.49367089 0.32278481 0.26582278 0.27848101\n",
      " 0.2278481  0.35443038 0.32278481 0.10126582 0.46835443 0.37341772\n",
      " 0.29113924 0.32278481 0.25316456 0.34177215 0.36708861 0.20886076\n",
      " 0.20253165 0.20253165 0.15189873 0.26582278 0.13291139 0.3164557\n",
      " 0.24683544 0.17088608 0.17721519 0.22151899 0.17721519 0.39240506\n",
      " 0.13291139 0.06962025 0.55063291 0.37341772 0.26582278 0.22151899\n",
      " 0.0443038  0.20253165 0.27646184 0.28680924 0.28428018 0.30492967\n",
      " 0.2636925  0.30927125 0.32050979 0.26631221 0.32260683 0.27445224\n",
      " 0.30800334 0.34857452 0.30646724 0.31542441 0.34757543 0.32002127\n",
      " 0.35147491 0.31092241 0.33489215 0.34226471 0.30463639 0.33919874\n",
      " 0.3223446  0.3421227  0.34284851 0.33772272 0.34403187 0.32977843]\n",
      "28 day output [[0.32447055]]\n",
      "29 day input [0.31012658 0.2721519  0.06962025 0.         0.42405063 0.1835443\n",
      " 0.24050633 0.12025316 0.21518987 0.37341772 0.         0.16455696\n",
      " 0.38607595 0.36075949 0.25949367 0.32911392 0.32911392 0.26582278\n",
      " 0.         0.42405063 0.3164557  0.2278481  0.01898734 0.2278481\n",
      " 0.40506329 0.38607595 0.07594937 0.27848101 0.24050633 0.20253165\n",
      " 0.01898734 0.25949367 0.         0.29113924 0.26582278 0.21518987\n",
      " 0.32278481 0.35443038 0.25949367 0.24050633 0.20886076 0.20886076\n",
      " 0.20886076 0.20253165 0.20253165 0.25949367 0.28481013 0.24050633\n",
      " 0.12025316 0.17088608 0.21518987 0.20886076 0.2278481  0.1835443\n",
      " 0.19620253 0.1835443  0.17721519 0.19620253 0.15189873 0.2278481\n",
      " 0.29746835 0.25316456 0.13924051 0.21518987 0.20253165 0.31012658\n",
      " 0.48101266 0.49367089 0.32278481 0.26582278 0.27848101 0.2278481\n",
      " 0.35443038 0.32278481 0.10126582 0.46835443 0.37341772 0.29113924\n",
      " 0.32278481 0.25316456 0.34177215 0.36708861 0.20886076 0.20253165\n",
      " 0.20253165 0.15189873 0.26582278 0.13291139 0.3164557  0.24683544\n",
      " 0.17088608 0.17721519 0.22151899 0.17721519 0.39240506 0.13291139\n",
      " 0.06962025 0.55063291 0.37341772 0.26582278 0.22151899 0.0443038\n",
      " 0.20253165 0.27646184 0.28680924 0.28428018 0.30492967 0.2636925\n",
      " 0.30927125 0.32050979 0.26631221 0.32260683 0.27445224 0.30800334\n",
      " 0.34857452 0.30646724 0.31542441 0.34757543 0.32002127 0.35147491\n",
      " 0.31092241 0.33489215 0.34226471 0.30463639 0.33919874 0.3223446\n",
      " 0.3421227  0.34284851 0.33772272 0.34403187 0.32977843 0.32447055]\n",
      "29 day output [[0.3529211]]\n"
     ]
    }
   ],
   "source": [
    "# 13. Dự báo 30 ngày tiếp theo\n",
    "x_input=test_data[60:].reshape(1,-1)\n",
    "print(x_input.shape)\n",
    "\n",
    "temp_input=list(x_input)\n",
    "temp_input=temp_input[0].tolist()\n",
    "\n",
    "from numpy import array\n",
    "\n",
    "lst_output=[]\n",
    "n_steps=132\n",
    "i=0\n",
    "while(i<30):\n",
    "\n",
    "    if(len(temp_input)>132):\n",
    "        #print(temp_input)\n",
    "        x_input=np.array(temp_input[1:])\n",
    "        print(\"{} day input {}\".format(i,x_input))\n",
    "        x_input=x_input.reshape(1,-1)\n",
    "        x_input = x_input.reshape((1, n_steps, 1))\n",
    "        yhat = model.predict(x_input, verbose=0)\n",
    "        print(\"{} day output {}\".format(i,yhat))\n",
    "        temp_input.extend(yhat[0].tolist())\n",
    "        temp_input=temp_input[1:]\n",
    "        lst_output.extend(yhat.tolist())\n",
    "        i=i+1\n",
    "    else:\n",
    "        x_input = x_input.reshape((1, n_steps,1))\n",
    "        yhat = model.predict(x_input, verbose=0)\n",
    "        print(yhat[0])\n",
    "        temp_input.extend(yhat[0].tolist())\n",
    "        print(len(temp_input))\n",
    "        lst_output.extend(yhat.tolist())\n",
    "        i=i+1\n"
   ]
  },
  {
   "cell_type": "code",
   "execution_count": 21,
   "metadata": {
    "colab": {
     "base_uri": "https://localhost:8080/",
     "height": 430
    },
    "executionInfo": {
     "elapsed": 34,
     "status": "ok",
     "timestamp": 1717294705441,
     "user": {
      "displayName": "PHÚC TRẦN HOÀNG",
      "userId": "13892609718634505180"
     },
     "user_tz": -420
    },
    "id": "KSa_mX51a654",
    "outputId": "24c04f3d-afa7-452e-bb42-67c6deb96d59"
   },
   "outputs": [
    {
     "data": {
      "image/png": "[encoded data removed]",
      "text/plain": [
       "<Figure size 640x480 with 1 Axes>"
      ]
     },
     "metadata": {},
     "output_type": "display_data"
    }
   ],
   "source": [
    "# 14.Vẽ hình\n",
    "\n",
    "train_data_index = pd.RangeIndex(start=0, stop=train_size, step=1)\n",
    "plt.plot(scaler.inverse_transform(train_data))\n",
    "\n",
    "test_data_index = pd.RangeIndex(start=train_size, stop=train_size+test_size, step=1)\n",
    "plt.plot(test_data_index,scaler.inverse_transform(test_data))\n",
    "test_data_index = pd.RangeIndex(start=train_size, stop=train_size+test_size, step=1)\n",
    "plt.plot(test_data_index,y_pred)\n",
    "\n",
    "prediect_data_index = pd.RangeIndex(start=len(df1)-1, stop=len(df1)+29, step=1)\n",
    "plt.plot(prediect_data_index,scaler.inverse_transform(lst_output))\n",
    "plt.legend(['Train','Test','Predict','Predict30days'])\n",
    "plt.show()"
   ]
  },
  {
   "cell_type": "code",
   "execution_count": 22,
   "metadata": {
    "colab": {
     "base_uri": "https://localhost:8080/",
     "height": 430
    },
    "executionInfo": {
     "elapsed": 795,
     "status": "ok",
     "timestamp": 1717294706206,
     "user": {
      "displayName": "PHÚC TRẦN HOÀNG",
      "userId": "13892609718634505180"
     },
     "user_tz": -420
    },
    "id": "NX2NiaVGSweP",
    "outputId": "228c9119-f464-4a02-9998-61b19c904b42"
   },
   "outputs": [
    {
     "data": {
      "image/png": "[encoded data removed]",
      "text/plain": [
       "<Figure size 640x480 with 1 Axes>"
      ]
     },
     "metadata": {},
     "output_type": "display_data"
    }
   ],
   "source": [
    "# 14.Vẽ hình\n",
    "# Dự đoán 30 ngày tiếp theo\n",
    "prediect_data_index = pd.RangeIndex(start=len(df1)-1, stop=len(df1)+29, step=1)\n",
    "plt.plot(prediect_data_index,scaler.inverse_transform(lst_output))\n",
    "plt.legend(['Predict30days'])\n",
    "plt.show()"
   ]
  },
  {
   "cell_type": "code",
   "execution_count": 23,
   "metadata": {
    "colab": {
     "base_uri": "https://localhost:8080/"
    },
    "executionInfo": {
     "elapsed": 14,
     "status": "ok",
     "timestamp": 1717294706206,
     "user": {
      "displayName": "PHÚC TRẦN HOÀNG",
      "userId": "13892609718634505180"
     },
     "user_tz": -420
    },
    "id": "BkgnV07USwUl",
    "outputId": "861febfc-bb5c-4d14-a4c1-d4890ec317e0"
   },
   "outputs": [
    {
     "name": "stdout",
     "output_type": "stream",
     "text": [
      "[[48.68097067]\n",
      " [50.31585926]\n",
      " [49.91626859]\n",
      " [53.17888844]\n",
      " [46.66341472]\n",
      " [53.8648569 ]\n",
      " [55.64054704]\n",
      " [47.07732946]\n",
      " [55.97187942]\n",
      " [48.36345381]\n",
      " [53.66452712]\n",
      " [60.07477403]\n",
      " [53.42182314]\n",
      " [54.83705717]\n",
      " [59.91691732]\n",
      " [55.56336093]\n",
      " [60.53303593]\n",
      " [54.12574142]\n",
      " [57.91296029]\n",
      " [59.07782447]\n",
      " [53.13254946]\n",
      " [58.59340066]\n",
      " [55.93044698]\n",
      " [59.0553872 ]\n",
      " [59.17006451]\n",
      " [58.36018956]\n",
      " [59.35703552]\n",
      " [57.10499239]\n",
      " [56.26634687]\n",
      " [60.76153356]]\n"
     ]
    }
   ],
   "source": [
    "print(scaler.inverse_transform(lst_output))"
   ]
  },
  {
   "cell_type": "code",
   "execution_count": null,
   "metadata": {},
   "outputs": [],
   "source": []
  }
 ],
 "metadata": {
  "colab": {
   "provenance": []
  },
  "kernelspec": {
   "display_name": "Python 3 (ipykernel)",
   "language": "python",
   "name": "python3"
  },
  "language_info": {
   "codemirror_mode": {
    "name": "ipython",
    "version": 3
   },
   "file_extension": ".py",
   "mimetype": "text/x-python",
   "name": "python",
   "nbconvert_exporter": "python",
   "pygments_lexer": "ipython3",
   "version": "3.11.7"
  }
 },
 "nbformat": 4,
 "nbformat_minor": 4
}
