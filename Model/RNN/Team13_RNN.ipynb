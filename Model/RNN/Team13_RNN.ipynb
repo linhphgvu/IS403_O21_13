{
  "cells": [
    {
      "cell_type": "code",
      "execution_count": null,
      "metadata": {
        "colab": {
          "base_uri": "https://localhost:8080/"
        },
        "id": "PthVdnP_ifj-",
        "outputId": "baaada78-b33c-48af-af0a-a8b50c98c354"
      },
      "outputs": [
        {
          "name": "stdout",
          "output_type": "stream",
          "text": [
            "Mounted at /content/drive\n"
          ]
        }
      ],
      "source": [
        "from google.colab import drive\n",
        "drive.mount('/content/drive')\n",
        "import numpy as np\n",
        "import pandas as pd\n",
        "import matplotlib.pyplot as plt\n",
        "from sklearn.preprocessing import MinMaxScaler\n",
        "from keras.models import Sequential\n",
        "from keras.layers import Dense, SimpleRNN\n"
      ]
    },
    {
      "cell_type": "code",
      "execution_count": 14,
      "metadata": {
        "id": "viNrddDhirw7"
      },
      "outputs": [],
      "source": [
        "df = pd.read_csv('/content/drive/MyDrive/Data/PTDLKD_AIR_QTY/hanoi_quality.csv')\n",
        "df1 = df['pm25']"
      ]
    },
    {
      "cell_type": "code",
      "execution_count": 15,
      "metadata": {
        "id": "fyWiO_xkiteH"
      },
      "outputs": [],
      "source": [
        "scaler = MinMaxScaler(feature_range=(0, 1))\n",
        "df1_scaled = scaler.fit_transform(np.array(df1).reshape(-1, 1))\n"
      ]
    },
    {
      "cell_type": "code",
      "execution_count": 16,
      "metadata": {
        "id": "Bt115ZvXivh2"
      },
      "outputs": [],
      "source": [
        "train_size = int(0.7 * len(df1_scaled))\n",
        "test_size = len(df1_scaled) - train_size\n",
        "\n",
        "train_data = df1_scaled[:train_size]\n",
        "test_data = df1_scaled[train_size:]\n"
      ]
    },
    {
      "cell_type": "code",
      "execution_count": 17,
      "metadata": {
        "id": "xk-RqgX0ixZz"
      },
      "outputs": [],
      "source": [
        "def create_dataset(dataset, time_step=1):\n",
        "    dataX, dataY = [], []\n",
        "    for i in range(len(dataset)-time_step-1):\n",
        "        a = dataset[i:(i+time_step), 0]\n",
        "        dataX.append(a)\n",
        "        dataY.append(dataset[i + time_step, 0])\n",
        "    return np.array(dataX), np.array(dataY)\n"
      ]
    },
    {
      "cell_type": "code",
      "execution_count": 18,
      "metadata": {
        "id": "cSxx6Jsjizuk"
      },
      "outputs": [],
      "source": [
        "time_step = 100\n",
        "X_train, y_train = create_dataset(train_data, time_step)\n",
        "X_test, y_test = create_dataset(test_data, time_step)\n",
        "\n",
        "X_train = X_train.reshape(X_train.shape[0], X_train.shape[1], 1)\n",
        "X_test = X_test.reshape(X_test.shape[0], X_test.shape[1], 1)\n"
      ]
    },
    {
      "cell_type": "code",
      "execution_count": 19,
      "metadata": {
        "id": "3l6nP1_Zi2yQ"
      },
      "outputs": [],
      "source": [
        "model = Sequential()\n",
        "model.add(SimpleRNN(50, input_shape=(time_step, 1)))\n",
        "model.add(Dense(1))\n",
        "model.compile(loss='mean_squared_error', optimizer='adam')\n"
      ]
    },
    {
      "cell_type": "code",
      "execution_count": 20,
      "metadata": {
        "colab": {
          "base_uri": "https://localhost:8080/"
        },
        "id": "DsJsxwlQi5A9",
        "outputId": "a48695d2-ce8e-479c-aef4-0b7c2b64c12d"
      },
      "outputs": [
        {
          "output_type": "stream",
          "name": "stdout",
          "text": [
            "Epoch 1/100\n",
            "19/19 [==============================] - 3s 69ms/step - loss: 0.0664 - val_loss: 0.0457\n",
            "Epoch 2/100\n",
            "19/19 [==============================] - 1s 52ms/step - loss: 0.0221 - val_loss: 0.0378\n",
            "Epoch 3/100\n",
            "19/19 [==============================] - 1s 60ms/step - loss: 0.0179 - val_loss: 0.0355\n",
            "Epoch 4/100\n",
            "19/19 [==============================] - 1s 61ms/step - loss: 0.0157 - val_loss: 0.0323\n",
            "Epoch 5/100\n",
            "19/19 [==============================] - 1s 49ms/step - loss: 0.0145 - val_loss: 0.0315\n",
            "Epoch 6/100\n",
            "19/19 [==============================] - 1s 56ms/step - loss: 0.0139 - val_loss: 0.0311\n",
            "Epoch 7/100\n",
            "19/19 [==============================] - 1s 66ms/step - loss: 0.0137 - val_loss: 0.0298\n",
            "Epoch 8/100\n",
            "19/19 [==============================] - 1s 65ms/step - loss: 0.0129 - val_loss: 0.0294\n",
            "Epoch 9/100\n",
            "19/19 [==============================] - 1s 75ms/step - loss: 0.0124 - val_loss: 0.0289\n",
            "Epoch 10/100\n",
            "19/19 [==============================] - 1s 73ms/step - loss: 0.0123 - val_loss: 0.0290\n",
            "Epoch 11/100\n",
            "19/19 [==============================] - 1s 68ms/step - loss: 0.0120 - val_loss: 0.0283\n",
            "Epoch 12/100\n",
            "19/19 [==============================] - 1s 56ms/step - loss: 0.0116 - val_loss: 0.0281\n",
            "Epoch 13/100\n",
            "19/19 [==============================] - 1s 50ms/step - loss: 0.0116 - val_loss: 0.0281\n",
            "Epoch 14/100\n",
            "19/19 [==============================] - 1s 48ms/step - loss: 0.0113 - val_loss: 0.0284\n",
            "Epoch 15/100\n",
            "19/19 [==============================] - 1s 53ms/step - loss: 0.0113 - val_loss: 0.0289\n",
            "Epoch 16/100\n",
            "19/19 [==============================] - 1s 52ms/step - loss: 0.0113 - val_loss: 0.0280\n",
            "Epoch 17/100\n",
            "19/19 [==============================] - 1s 52ms/step - loss: 0.0117 - val_loss: 0.0282\n",
            "Epoch 18/100\n",
            "19/19 [==============================] - 1s 52ms/step - loss: 0.0115 - val_loss: 0.0281\n",
            "Epoch 19/100\n",
            "19/19 [==============================] - 1s 66ms/step - loss: 0.0113 - val_loss: 0.0284\n",
            "Epoch 20/100\n",
            "19/19 [==============================] - 1s 71ms/step - loss: 0.0111 - val_loss: 0.0285\n",
            "Epoch 21/100\n",
            "19/19 [==============================] - 2s 84ms/step - loss: 0.0110 - val_loss: 0.0284\n",
            "Epoch 22/100\n",
            "19/19 [==============================] - 1s 59ms/step - loss: 0.0112 - val_loss: 0.0287\n",
            "Epoch 23/100\n",
            "19/19 [==============================] - 1s 69ms/step - loss: 0.0111 - val_loss: 0.0284\n",
            "Epoch 24/100\n",
            "19/19 [==============================] - 1s 56ms/step - loss: 0.0110 - val_loss: 0.0285\n",
            "Epoch 25/100\n",
            "19/19 [==============================] - 1s 70ms/step - loss: 0.0109 - val_loss: 0.0288\n",
            "Epoch 26/100\n",
            "19/19 [==============================] - 0s 21ms/step - loss: 0.0111 - val_loss: 0.0289\n",
            "Epoch 27/100\n",
            "19/19 [==============================] - 0s 22ms/step - loss: 0.0108 - val_loss: 0.0289\n",
            "Epoch 28/100\n",
            "19/19 [==============================] - 0s 22ms/step - loss: 0.0109 - val_loss: 0.0285\n",
            "Epoch 29/100\n",
            "19/19 [==============================] - 0s 22ms/step - loss: 0.0109 - val_loss: 0.0287\n",
            "Epoch 30/100\n",
            "19/19 [==============================] - 0s 22ms/step - loss: 0.0108 - val_loss: 0.0289\n",
            "Epoch 31/100\n",
            "19/19 [==============================] - 0s 21ms/step - loss: 0.0108 - val_loss: 0.0287\n",
            "Epoch 32/100\n",
            "19/19 [==============================] - 0s 21ms/step - loss: 0.0109 - val_loss: 0.0288\n",
            "Epoch 33/100\n",
            "19/19 [==============================] - 0s 21ms/step - loss: 0.0108 - val_loss: 0.0287\n",
            "Epoch 34/100\n",
            "19/19 [==============================] - 0s 22ms/step - loss: 0.0108 - val_loss: 0.0287\n",
            "Epoch 35/100\n",
            "19/19 [==============================] - 0s 21ms/step - loss: 0.0109 - val_loss: 0.0288\n",
            "Epoch 36/100\n",
            "19/19 [==============================] - 0s 24ms/step - loss: 0.0108 - val_loss: 0.0290\n",
            "Epoch 37/100\n",
            "19/19 [==============================] - 0s 24ms/step - loss: 0.0108 - val_loss: 0.0285\n",
            "Epoch 38/100\n",
            "19/19 [==============================] - 0s 22ms/step - loss: 0.0108 - val_loss: 0.0290\n",
            "Epoch 39/100\n",
            "19/19 [==============================] - 0s 21ms/step - loss: 0.0107 - val_loss: 0.0294\n",
            "Epoch 40/100\n",
            "19/19 [==============================] - 0s 20ms/step - loss: 0.0110 - val_loss: 0.0293\n",
            "Epoch 41/100\n",
            "19/19 [==============================] - 0s 21ms/step - loss: 0.0107 - val_loss: 0.0291\n",
            "Epoch 42/100\n",
            "19/19 [==============================] - 0s 21ms/step - loss: 0.0110 - val_loss: 0.0291\n",
            "Epoch 43/100\n",
            "19/19 [==============================] - 0s 21ms/step - loss: 0.0110 - val_loss: 0.0295\n",
            "Epoch 44/100\n",
            "19/19 [==============================] - 0s 22ms/step - loss: 0.0110 - val_loss: 0.0292\n",
            "Epoch 45/100\n",
            "19/19 [==============================] - 1s 42ms/step - loss: 0.0106 - val_loss: 0.0289\n",
            "Epoch 46/100\n",
            "19/19 [==============================] - 1s 36ms/step - loss: 0.0107 - val_loss: 0.0290\n",
            "Epoch 47/100\n",
            "19/19 [==============================] - 1s 40ms/step - loss: 0.0107 - val_loss: 0.0296\n",
            "Epoch 48/100\n",
            "19/19 [==============================] - 1s 38ms/step - loss: 0.0109 - val_loss: 0.0295\n",
            "Epoch 49/100\n",
            "19/19 [==============================] - 1s 41ms/step - loss: 0.0110 - val_loss: 0.0293\n",
            "Epoch 50/100\n",
            "19/19 [==============================] - 1s 38ms/step - loss: 0.0109 - val_loss: 0.0288\n",
            "Epoch 51/100\n",
            "19/19 [==============================] - 1s 30ms/step - loss: 0.0107 - val_loss: 0.0294\n",
            "Epoch 52/100\n",
            "19/19 [==============================] - 0s 21ms/step - loss: 0.0107 - val_loss: 0.0288\n",
            "Epoch 53/100\n",
            "19/19 [==============================] - 0s 22ms/step - loss: 0.0107 - val_loss: 0.0295\n",
            "Epoch 54/100\n",
            "19/19 [==============================] - 0s 22ms/step - loss: 0.0108 - val_loss: 0.0288\n",
            "Epoch 55/100\n",
            "19/19 [==============================] - 0s 20ms/step - loss: 0.0107 - val_loss: 0.0286\n",
            "Epoch 56/100\n",
            "19/19 [==============================] - 0s 21ms/step - loss: 0.0108 - val_loss: 0.0292\n",
            "Epoch 57/100\n",
            "19/19 [==============================] - 0s 21ms/step - loss: 0.0105 - val_loss: 0.0293\n",
            "Epoch 58/100\n",
            "19/19 [==============================] - 0s 21ms/step - loss: 0.0108 - val_loss: 0.0290\n",
            "Epoch 59/100\n",
            "19/19 [==============================] - 0s 21ms/step - loss: 0.0108 - val_loss: 0.0283\n",
            "Epoch 60/100\n",
            "19/19 [==============================] - 0s 24ms/step - loss: 0.0106 - val_loss: 0.0290\n",
            "Epoch 61/100\n",
            "19/19 [==============================] - 0s 24ms/step - loss: 0.0108 - val_loss: 0.0287\n",
            "Epoch 62/100\n",
            "19/19 [==============================] - 0s 21ms/step - loss: 0.0107 - val_loss: 0.0294\n",
            "Epoch 63/100\n",
            "19/19 [==============================] - 0s 20ms/step - loss: 0.0108 - val_loss: 0.0299\n",
            "Epoch 64/100\n",
            "19/19 [==============================] - 0s 21ms/step - loss: 0.0106 - val_loss: 0.0287\n",
            "Epoch 65/100\n",
            "19/19 [==============================] - 0s 20ms/step - loss: 0.0109 - val_loss: 0.0296\n",
            "Epoch 66/100\n",
            "19/19 [==============================] - 0s 21ms/step - loss: 0.0107 - val_loss: 0.0293\n",
            "Epoch 67/100\n",
            "19/19 [==============================] - 0s 21ms/step - loss: 0.0107 - val_loss: 0.0294\n",
            "Epoch 68/100\n",
            "19/19 [==============================] - 0s 20ms/step - loss: 0.0108 - val_loss: 0.0296\n",
            "Epoch 69/100\n",
            "19/19 [==============================] - 0s 21ms/step - loss: 0.0108 - val_loss: 0.0292\n",
            "Epoch 70/100\n",
            "19/19 [==============================] - 0s 22ms/step - loss: 0.0106 - val_loss: 0.0292\n",
            "Epoch 71/100\n",
            "19/19 [==============================] - 0s 21ms/step - loss: 0.0106 - val_loss: 0.0297\n",
            "Epoch 72/100\n",
            "19/19 [==============================] - 0s 21ms/step - loss: 0.0103 - val_loss: 0.0289\n",
            "Epoch 73/100\n",
            "19/19 [==============================] - 0s 22ms/step - loss: 0.0102 - val_loss: 0.0293\n",
            "Epoch 74/100\n",
            "19/19 [==============================] - 0s 21ms/step - loss: 0.0104 - val_loss: 0.0287\n",
            "Epoch 75/100\n",
            "19/19 [==============================] - 1s 27ms/step - loss: 0.0104 - val_loss: 0.0292\n",
            "Epoch 76/100\n",
            "19/19 [==============================] - 1s 36ms/step - loss: 0.0105 - val_loss: 0.0295\n",
            "Epoch 77/100\n",
            "19/19 [==============================] - 1s 34ms/step - loss: 0.0102 - val_loss: 0.0291\n",
            "Epoch 78/100\n",
            "19/19 [==============================] - 1s 37ms/step - loss: 0.0102 - val_loss: 0.0300\n",
            "Epoch 79/100\n",
            "19/19 [==============================] - 1s 43ms/step - loss: 0.0108 - val_loss: 0.0296\n",
            "Epoch 80/100\n",
            "19/19 [==============================] - 1s 42ms/step - loss: 0.0106 - val_loss: 0.0290\n",
            "Epoch 81/100\n",
            "19/19 [==============================] - 1s 37ms/step - loss: 0.0103 - val_loss: 0.0288\n",
            "Epoch 82/100\n",
            "19/19 [==============================] - 1s 41ms/step - loss: 0.0103 - val_loss: 0.0291\n",
            "Epoch 83/100\n",
            "19/19 [==============================] - 0s 23ms/step - loss: 0.0101 - val_loss: 0.0292\n",
            "Epoch 84/100\n",
            "19/19 [==============================] - 0s 21ms/step - loss: 0.0104 - val_loss: 0.0293\n",
            "Epoch 85/100\n",
            "19/19 [==============================] - 0s 20ms/step - loss: 0.0106 - val_loss: 0.0300\n",
            "Epoch 86/100\n",
            "19/19 [==============================] - 0s 22ms/step - loss: 0.0105 - val_loss: 0.0298\n",
            "Epoch 87/100\n",
            "19/19 [==============================] - 0s 21ms/step - loss: 0.0102 - val_loss: 0.0292\n",
            "Epoch 88/100\n",
            "19/19 [==============================] - 0s 21ms/step - loss: 0.0101 - val_loss: 0.0295\n",
            "Epoch 89/100\n",
            "19/19 [==============================] - 0s 23ms/step - loss: 0.0101 - val_loss: 0.0289\n",
            "Epoch 90/100\n",
            "19/19 [==============================] - 0s 21ms/step - loss: 0.0100 - val_loss: 0.0295\n",
            "Epoch 91/100\n",
            "19/19 [==============================] - 0s 22ms/step - loss: 0.0098 - val_loss: 0.0309\n",
            "Epoch 92/100\n",
            "19/19 [==============================] - 0s 21ms/step - loss: 0.0103 - val_loss: 0.0300\n",
            "Epoch 93/100\n",
            "19/19 [==============================] - 0s 21ms/step - loss: 0.0100 - val_loss: 0.0308\n",
            "Epoch 94/100\n",
            "19/19 [==============================] - 0s 22ms/step - loss: 0.0101 - val_loss: 0.0294\n",
            "Epoch 95/100\n",
            "19/19 [==============================] - 0s 20ms/step - loss: 0.0098 - val_loss: 0.0305\n",
            "Epoch 96/100\n",
            "19/19 [==============================] - 0s 22ms/step - loss: 0.0095 - val_loss: 0.0311\n",
            "Epoch 97/100\n",
            "19/19 [==============================] - 0s 20ms/step - loss: 0.0105 - val_loss: 0.0313\n",
            "Epoch 98/100\n",
            "19/19 [==============================] - 0s 21ms/step - loss: 0.0106 - val_loss: 0.0307\n",
            "Epoch 99/100\n",
            "19/19 [==============================] - 0s 25ms/step - loss: 0.0102 - val_loss: 0.0303\n",
            "Epoch 100/100\n",
            "19/19 [==============================] - 0s 20ms/step - loss: 0.0097 - val_loss: 0.0311\n"
          ]
        },
        {
          "output_type": "execute_result",
          "data": {
            "text/plain": [
              "<keras.src.callbacks.History at 0x7dca1037a470>"
            ]
          },
          "metadata": {},
          "execution_count": 20
        }
      ],
      "source": [
        "model.fit(X_train, y_train, validation_data=(X_test, y_test), epochs=100, batch_size=64, verbose=1)\n"
      ]
    },
    {
      "cell_type": "code",
      "execution_count": 21,
      "metadata": {
        "colab": {
          "base_uri": "https://localhost:8080/"
        },
        "id": "mr8Q83_li71H",
        "outputId": "cd998a6b-60e0-43a7-dc4f-3681ee7e2447"
      },
      "outputs": [
        {
          "output_type": "stream",
          "name": "stdout",
          "text": [
            "37/37 [==============================] - 0s 6ms/step\n",
            "14/14 [==============================] - 0s 6ms/step\n"
          ]
        }
      ],
      "source": [
        "train_predict = model.predict(X_train)\n",
        "y_pred = model.predict(X_test)\n"
      ]
    },
    {
      "cell_type": "code",
      "execution_count": 22,
      "metadata": {
        "id": "xU6g8eSZi_ih"
      },
      "outputs": [],
      "source": [
        "train_predict = scaler.inverse_transform(train_predict)\n",
        "y_pred = scaler.inverse_transform(y_pred)\n"
      ]
    },
    {
      "cell_type": "code",
      "execution_count": 23,
      "metadata": {
        "colab": {
          "base_uri": "https://localhost:8080/"
        },
        "id": "wDLwfD3xjAJp",
        "outputId": "c8677ff3-8d67-465c-814a-4dfad8761423"
      },
      "outputs": [
        {
          "output_type": "stream",
          "name": "stdout",
          "text": [
            "Testing RMSE: 71.18387297887165\n"
          ]
        }
      ],
      "source": [
        "test_rmse = np.sqrt(np.mean((y_pred - y_test)**2))\n",
        "print('Testing RMSE:', test_rmse)\n"
      ]
    },
    {
      "cell_type": "code",
      "execution_count": 24,
      "metadata": {
        "id": "OJSwgS1IjCuN"
      },
      "outputs": [],
      "source": [
        "x_input = test_data[-time_step:].reshape(1, -1)\n",
        "temp_input = list(x_input[0])\n",
        "\n",
        "lst_output = []\n",
        "i = 0\n",
        "while(i < 30):\n",
        "    if len(temp_input) > time_step:\n",
        "        x_input = np.array(temp_input[1:])\n",
        "        x_input = x_input.reshape((1, time_step, 1))\n",
        "        yhat = model.predict(x_input, verbose=0)\n",
        "        temp_input.extend(yhat[0].tolist())\n",
        "        temp_input = temp_input[1:]\n",
        "        lst_output.extend(yhat.tolist())\n",
        "        i += 1\n",
        "    else:\n",
        "        x_input = x_input.reshape((1, time_step, 1))\n",
        "        yhat = model.predict(x_input, verbose=0)\n",
        "        temp_input.extend(yhat[0].tolist())\n",
        "        lst_output.extend(yhat.tolist())\n",
        "        i += 1\n"
      ]
    },
    {
      "cell_type": "code",
      "source": [
        "# Adjust plotting indices and make sure dimensions match\n",
        "plt.plot(scaler.inverse_transform(train_data), label='Train Data')\n",
        "plt.plot(np.arange(train_size, train_size+len(test_data)), scaler.inverse_transform(test_data), label='Test Data')\n",
        "\n",
        "# Adjust the plotting range for test predictions\n",
        "plt.plot(np.arange(train_size+time_step, train_size+len(test_data)-1), y_pred, label='Test Predictions')\n",
        "\n",
        "# Forecast next 30 days\n",
        "plt.plot(np.arange(len(df1_scaled), len(df1_scaled)+30), scaler.inverse_transform(lst_output), label='30 Days Forecast')\n",
        "\n",
        "plt.legend()\n",
        "plt.show()\n"
      ],
      "metadata": {
        "id": "0ODH3Grpj5Iq",
        "outputId": "438a48a0-7934-4b87-b100-1645b213790b",
        "colab": {
          "base_uri": "https://localhost:8080/",
          "height": 430
        }
      },
      "execution_count": 26,
      "outputs": [
        {
          "output_type": "display_data",
          "data": {
            "text/plain": [
              "<Figure size 640x480 with 1 Axes>"
            ],
            "image/png": "[encoded data removed]"
          },
          "metadata": {}
        }
      ]
    }
  ],
  "metadata": {
    "colab": {
      "provenance": []
    },
    "kernelspec": {
      "display_name": "Python 3",
      "name": "python3"
    },
    "language_info": {
      "name": "python"
    }
  },
  "nbformat": 4,
  "nbformat_minor": 0
}