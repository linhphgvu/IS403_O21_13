{
  "cells": [
    {
      "cell_type": "code",
      "execution_count": 1,
      "metadata": {
        "id": "cMI2jgcMM_W_"
      },
      "outputs": [],
      "source": [
        "import pandas as pd\n",
        "import numpy as np\n",
        "import tensorflow as tf\n",
        "from sklearn.preprocessing import MinMaxScaler\n",
        "from sklearn.model_selection import train_test_split\n",
        "import matplotlib.pyplot as plt"
      ]
    },
    {
      "cell_type": "code",
      "execution_count": 2,
      "metadata": {
        "colab": {
          "base_uri": "https://localhost:8080/"
        },
        "id": "2j48UWKBM_XA",
        "outputId": "79195183-d843-4c81-dc82-5a91cc067fb1"
      },
      "outputs": [
        {
          "output_type": "stream",
          "name": "stdout",
          "text": [
            "Mounted at /content/drive\n"
          ]
        }
      ],
      "source": [
        "from google.colab import drive\n",
        "drive.mount('/content/drive')"
      ]
    },
    {
      "cell_type": "code",
      "source": [
        "data = pd.read_csv('/content/drive/My Drive/data/viettri_quality.csv', index_col='date')"
      ],
      "metadata": {
        "id": "ox2tZuRDNJeI"
      },
      "execution_count": 3,
      "outputs": []
    },
    {
      "cell_type": "code",
      "execution_count": 4,
      "metadata": {
        "id": "if_BKQTSM_XA"
      },
      "outputs": [],
      "source": [
        "data.fillna(method='ffill', inplace=True)\n",
        "scaler = MinMaxScaler()\n",
        "data['pm25'] = scaler.fit_transform(data[['pm25']])"
      ]
    },
    {
      "cell_type": "code",
      "execution_count": 21,
      "metadata": {
        "id": "3mQKtGAaM_XA"
      },
      "outputs": [],
      "source": [
        "def create_sequences(data, seq_length=30):\n",
        "    xs, ys = [], []\n",
        "    for i in range(len(data) - seq_length):\n",
        "        x = data[i:i+seq_length]\n",
        "        y = data[i+seq_length]\n",
        "        xs.append(x)\n",
        "        ys.append(y)\n",
        "    return np.array(xs), np.array(ys)\n",
        "\n",
        "seq_length = 30\n",
        "X, y = create_sequences(data['pm25'].values, seq_length)\n",
        "X = X.reshape((X.shape[0], X.shape[1], 1))\n",
        "\n",
        "X_train, X_test, y_train, y_test = train_test_split(X, y, test_size=0.1, shuffle=False)"
      ]
    },
    {
      "cell_type": "code",
      "execution_count": 22,
      "metadata": {
        "id": "xZKJEUs5M_XA"
      },
      "outputs": [],
      "source": [
        "model = tf.keras.Sequential([\n",
        "    tf.keras.layers.Flatten(input_shape=(seq_length, 1)),\n",
        "    tf.keras.layers.Dense(128, activation='relu'),\n",
        "    tf.keras.layers.Dense(64, activation='relu'),\n",
        "    tf.keras.layers.Dense(1)\n",
        "])"
      ]
    },
    {
      "cell_type": "code",
      "execution_count": 23,
      "metadata": {
        "colab": {
          "base_uri": "https://localhost:8080/"
        },
        "id": "YYbxYrggM_XB",
        "outputId": "e22d01bf-30f7-42cb-d439-9a8af85d5633"
      },
      "outputs": [
        {
          "output_type": "stream",
          "name": "stdout",
          "text": [
            "Model: \"sequential_3\"\n",
            "_________________________________________________________________\n",
            " Layer (type)                Output Shape              Param #   \n",
            "=================================================================\n",
            " flatten_3 (Flatten)         (None, 30)                0         \n",
            "                                                                 \n",
            " dense_9 (Dense)             (None, 128)               3968      \n",
            "                                                                 \n",
            " dense_10 (Dense)            (None, 64)                8256      \n",
            "                                                                 \n",
            " dense_11 (Dense)            (None, 1)                 65        \n",
            "                                                                 \n",
            "=================================================================\n",
            "Total params: 12289 (48.00 KB)\n",
            "Trainable params: 12289 (48.00 KB)\n",
            "Non-trainable params: 0 (0.00 Byte)\n",
            "_________________________________________________________________\n"
          ]
        }
      ],
      "source": [
        "model.compile(optimizer='adam', loss='mean_squared_error')\n",
        "model.summary()"
      ]
    },
    {
      "cell_type": "code",
      "execution_count": 24,
      "metadata": {
        "colab": {
          "base_uri": "https://localhost:8080/"
        },
        "id": "ckBLK4K6M_XB",
        "outputId": "f7dbe73f-364c-46c2-eda8-d73ac36dc3f2"
      },
      "outputs": [
        {
          "output_type": "stream",
          "name": "stdout",
          "text": [
            "Epoch 1/100\n",
            "54/54 [==============================] - 2s 8ms/step - loss: 0.0267 - val_loss: 0.0137\n",
            "Epoch 2/100\n",
            "54/54 [==============================] - 0s 4ms/step - loss: 0.0208 - val_loss: 0.0141\n",
            "Epoch 3/100\n",
            "54/54 [==============================] - 0s 4ms/step - loss: 0.0198 - val_loss: 0.0133\n",
            "Epoch 4/100\n",
            "54/54 [==============================] - 0s 4ms/step - loss: 0.0189 - val_loss: 0.0153\n",
            "Epoch 5/100\n",
            "54/54 [==============================] - 0s 4ms/step - loss: 0.0180 - val_loss: 0.0133\n",
            "Epoch 6/100\n",
            "54/54 [==============================] - 0s 5ms/step - loss: 0.0176 - val_loss: 0.0132\n",
            "Epoch 7/100\n",
            "54/54 [==============================] - 0s 4ms/step - loss: 0.0159 - val_loss: 0.0132\n",
            "Epoch 8/100\n",
            "54/54 [==============================] - 0s 4ms/step - loss: 0.0153 - val_loss: 0.0170\n",
            "Epoch 9/100\n",
            "54/54 [==============================] - 0s 4ms/step - loss: 0.0144 - val_loss: 0.0132\n",
            "Epoch 10/100\n",
            "54/54 [==============================] - 0s 4ms/step - loss: 0.0138 - val_loss: 0.0140\n",
            "Epoch 11/100\n",
            "54/54 [==============================] - 0s 4ms/step - loss: 0.0125 - val_loss: 0.0138\n",
            "Epoch 12/100\n",
            "54/54 [==============================] - 0s 4ms/step - loss: 0.0121 - val_loss: 0.0140\n",
            "Epoch 13/100\n",
            "54/54 [==============================] - 0s 4ms/step - loss: 0.0113 - val_loss: 0.0144\n",
            "Epoch 14/100\n",
            "54/54 [==============================] - 0s 3ms/step - loss: 0.0107 - val_loss: 0.0139\n",
            "Epoch 15/100\n",
            "54/54 [==============================] - 0s 7ms/step - loss: 0.0100 - val_loss: 0.0149\n",
            "Epoch 16/100\n",
            "54/54 [==============================] - 0s 6ms/step - loss: 0.0095 - val_loss: 0.0141\n",
            "Epoch 17/100\n",
            "54/54 [==============================] - 0s 5ms/step - loss: 0.0092 - val_loss: 0.0143\n",
            "Epoch 18/100\n",
            "54/54 [==============================] - 0s 8ms/step - loss: 0.0089 - val_loss: 0.0157\n",
            "Epoch 19/100\n",
            "54/54 [==============================] - 0s 5ms/step - loss: 0.0086 - val_loss: 0.0148\n",
            "Epoch 20/100\n",
            "54/54 [==============================] - 0s 5ms/step - loss: 0.0078 - val_loss: 0.0147\n",
            "Epoch 21/100\n",
            "54/54 [==============================] - 0s 7ms/step - loss: 0.0070 - val_loss: 0.0141\n",
            "Epoch 22/100\n",
            "54/54 [==============================] - 1s 10ms/step - loss: 0.0068 - val_loss: 0.0153\n",
            "Epoch 23/100\n",
            "54/54 [==============================] - 0s 3ms/step - loss: 0.0064 - val_loss: 0.0156\n",
            "Epoch 24/100\n",
            "54/54 [==============================] - 0s 3ms/step - loss: 0.0066 - val_loss: 0.0155\n",
            "Epoch 25/100\n",
            "54/54 [==============================] - 0s 3ms/step - loss: 0.0062 - val_loss: 0.0150\n",
            "Epoch 26/100\n",
            "54/54 [==============================] - 0s 2ms/step - loss: 0.0054 - val_loss: 0.0150\n",
            "Epoch 27/100\n",
            "54/54 [==============================] - 0s 2ms/step - loss: 0.0052 - val_loss: 0.0151\n",
            "Epoch 28/100\n",
            "54/54 [==============================] - 0s 3ms/step - loss: 0.0052 - val_loss: 0.0179\n",
            "Epoch 29/100\n",
            "54/54 [==============================] - 0s 3ms/step - loss: 0.0058 - val_loss: 0.0146\n",
            "Epoch 30/100\n",
            "54/54 [==============================] - 0s 3ms/step - loss: 0.0046 - val_loss: 0.0153\n",
            "Epoch 31/100\n",
            "54/54 [==============================] - 0s 3ms/step - loss: 0.0043 - val_loss: 0.0145\n",
            "Epoch 32/100\n",
            "54/54 [==============================] - 0s 2ms/step - loss: 0.0043 - val_loss: 0.0148\n",
            "Epoch 33/100\n",
            "54/54 [==============================] - 0s 3ms/step - loss: 0.0043 - val_loss: 0.0153\n",
            "Epoch 34/100\n",
            "54/54 [==============================] - 0s 3ms/step - loss: 0.0040 - val_loss: 0.0179\n",
            "Epoch 35/100\n",
            "54/54 [==============================] - 0s 3ms/step - loss: 0.0039 - val_loss: 0.0155\n",
            "Epoch 36/100\n",
            "54/54 [==============================] - 0s 2ms/step - loss: 0.0038 - val_loss: 0.0155\n",
            "Epoch 37/100\n",
            "54/54 [==============================] - 0s 3ms/step - loss: 0.0033 - val_loss: 0.0156\n",
            "Epoch 38/100\n",
            "54/54 [==============================] - 0s 3ms/step - loss: 0.0033 - val_loss: 0.0169\n",
            "Epoch 39/100\n",
            "54/54 [==============================] - 0s 3ms/step - loss: 0.0031 - val_loss: 0.0156\n",
            "Epoch 40/100\n",
            "54/54 [==============================] - 0s 3ms/step - loss: 0.0032 - val_loss: 0.0160\n",
            "Epoch 41/100\n",
            "54/54 [==============================] - 0s 2ms/step - loss: 0.0033 - val_loss: 0.0163\n",
            "Epoch 42/100\n",
            "54/54 [==============================] - 0s 2ms/step - loss: 0.0033 - val_loss: 0.0159\n",
            "Epoch 43/100\n",
            "54/54 [==============================] - 0s 3ms/step - loss: 0.0029 - val_loss: 0.0167\n",
            "Epoch 44/100\n",
            "54/54 [==============================] - 0s 2ms/step - loss: 0.0027 - val_loss: 0.0177\n",
            "Epoch 45/100\n",
            "54/54 [==============================] - 0s 3ms/step - loss: 0.0029 - val_loss: 0.0162\n",
            "Epoch 46/100\n",
            "54/54 [==============================] - 0s 3ms/step - loss: 0.0028 - val_loss: 0.0160\n",
            "Epoch 47/100\n",
            "54/54 [==============================] - 0s 3ms/step - loss: 0.0026 - val_loss: 0.0160\n",
            "Epoch 48/100\n",
            "54/54 [==============================] - 0s 3ms/step - loss: 0.0028 - val_loss: 0.0158\n",
            "Epoch 49/100\n",
            "54/54 [==============================] - 0s 2ms/step - loss: 0.0028 - val_loss: 0.0165\n",
            "Epoch 50/100\n",
            "54/54 [==============================] - 0s 2ms/step - loss: 0.0026 - val_loss: 0.0158\n",
            "Epoch 51/100\n",
            "54/54 [==============================] - 0s 2ms/step - loss: 0.0027 - val_loss: 0.0166\n",
            "Epoch 52/100\n",
            "54/54 [==============================] - 0s 3ms/step - loss: 0.0035 - val_loss: 0.0163\n",
            "Epoch 53/100\n",
            "54/54 [==============================] - 0s 3ms/step - loss: 0.0028 - val_loss: 0.0158\n",
            "Epoch 54/100\n",
            "54/54 [==============================] - 0s 3ms/step - loss: 0.0026 - val_loss: 0.0210\n",
            "Epoch 55/100\n",
            "54/54 [==============================] - 0s 3ms/step - loss: 0.0027 - val_loss: 0.0161\n",
            "Epoch 56/100\n",
            "54/54 [==============================] - 0s 3ms/step - loss: 0.0034 - val_loss: 0.0170\n",
            "Epoch 57/100\n",
            "54/54 [==============================] - 0s 2ms/step - loss: 0.0027 - val_loss: 0.0160\n",
            "Epoch 58/100\n",
            "54/54 [==============================] - 0s 3ms/step - loss: 0.0020 - val_loss: 0.0167\n",
            "Epoch 59/100\n",
            "54/54 [==============================] - 0s 3ms/step - loss: 0.0019 - val_loss: 0.0163\n",
            "Epoch 60/100\n",
            "54/54 [==============================] - 0s 3ms/step - loss: 0.0019 - val_loss: 0.0177\n",
            "Epoch 61/100\n",
            "54/54 [==============================] - 0s 3ms/step - loss: 0.0022 - val_loss: 0.0161\n",
            "Epoch 62/100\n",
            "54/54 [==============================] - 0s 3ms/step - loss: 0.0024 - val_loss: 0.0164\n",
            "Epoch 63/100\n",
            "54/54 [==============================] - 0s 3ms/step - loss: 0.0020 - val_loss: 0.0161\n",
            "Epoch 64/100\n",
            "54/54 [==============================] - 0s 2ms/step - loss: 0.0020 - val_loss: 0.0165\n",
            "Epoch 65/100\n",
            "54/54 [==============================] - 0s 3ms/step - loss: 0.0020 - val_loss: 0.0160\n",
            "Epoch 66/100\n",
            "54/54 [==============================] - 0s 3ms/step - loss: 0.0018 - val_loss: 0.0167\n",
            "Epoch 67/100\n",
            "54/54 [==============================] - 0s 3ms/step - loss: 0.0023 - val_loss: 0.0168\n",
            "Epoch 68/100\n",
            "54/54 [==============================] - 0s 4ms/step - loss: 0.0021 - val_loss: 0.0158\n",
            "Epoch 69/100\n",
            "54/54 [==============================] - 0s 4ms/step - loss: 0.0021 - val_loss: 0.0176\n",
            "Epoch 70/100\n",
            "54/54 [==============================] - 0s 4ms/step - loss: 0.0022 - val_loss: 0.0178\n",
            "Epoch 71/100\n",
            "54/54 [==============================] - 0s 4ms/step - loss: 0.0045 - val_loss: 0.0171\n",
            "Epoch 72/100\n",
            "54/54 [==============================] - 0s 4ms/step - loss: 0.0029 - val_loss: 0.0167\n",
            "Epoch 73/100\n",
            "54/54 [==============================] - 0s 4ms/step - loss: 0.0022 - val_loss: 0.0166\n",
            "Epoch 74/100\n",
            "54/54 [==============================] - 0s 3ms/step - loss: 0.0018 - val_loss: 0.0165\n",
            "Epoch 75/100\n",
            "54/54 [==============================] - 0s 4ms/step - loss: 0.0015 - val_loss: 0.0161\n",
            "Epoch 76/100\n",
            "54/54 [==============================] - 0s 3ms/step - loss: 0.0017 - val_loss: 0.0168\n",
            "Epoch 77/100\n",
            "54/54 [==============================] - 0s 4ms/step - loss: 0.0022 - val_loss: 0.0165\n",
            "Epoch 78/100\n",
            "54/54 [==============================] - 0s 4ms/step - loss: 0.0017 - val_loss: 0.0166\n",
            "Epoch 79/100\n",
            "54/54 [==============================] - 0s 4ms/step - loss: 0.0015 - val_loss: 0.0170\n",
            "Epoch 80/100\n",
            "54/54 [==============================] - 0s 5ms/step - loss: 0.0015 - val_loss: 0.0165\n",
            "Epoch 81/100\n",
            "54/54 [==============================] - 0s 5ms/step - loss: 0.0017 - val_loss: 0.0161\n",
            "Epoch 82/100\n",
            "54/54 [==============================] - 0s 4ms/step - loss: 0.0017 - val_loss: 0.0166\n",
            "Epoch 83/100\n",
            "54/54 [==============================] - 0s 4ms/step - loss: 0.0020 - val_loss: 0.0162\n",
            "Epoch 84/100\n",
            "54/54 [==============================] - 0s 5ms/step - loss: 0.0016 - val_loss: 0.0169\n",
            "Epoch 85/100\n",
            "54/54 [==============================] - 0s 4ms/step - loss: 0.0014 - val_loss: 0.0172\n",
            "Epoch 86/100\n",
            "54/54 [==============================] - 0s 5ms/step - loss: 0.0016 - val_loss: 0.0157\n",
            "Epoch 87/100\n",
            "54/54 [==============================] - 0s 4ms/step - loss: 0.0018 - val_loss: 0.0162\n",
            "Epoch 88/100\n",
            "54/54 [==============================] - 0s 5ms/step - loss: 0.0015 - val_loss: 0.0162\n",
            "Epoch 89/100\n",
            "54/54 [==============================] - 0s 2ms/step - loss: 0.0015 - val_loss: 0.0160\n",
            "Epoch 90/100\n",
            "54/54 [==============================] - 0s 3ms/step - loss: 0.0014 - val_loss: 0.0156\n",
            "Epoch 91/100\n",
            "54/54 [==============================] - 0s 3ms/step - loss: 0.0014 - val_loss: 0.0158\n",
            "Epoch 92/100\n",
            "54/54 [==============================] - 0s 2ms/step - loss: 0.0012 - val_loss: 0.0176\n",
            "Epoch 93/100\n",
            "54/54 [==============================] - 0s 3ms/step - loss: 0.0012 - val_loss: 0.0167\n",
            "Epoch 94/100\n",
            "54/54 [==============================] - 0s 2ms/step - loss: 0.0011 - val_loss: 0.0167\n",
            "Epoch 95/100\n",
            "54/54 [==============================] - 0s 3ms/step - loss: 0.0011 - val_loss: 0.0168\n",
            "Epoch 96/100\n",
            "54/54 [==============================] - 0s 3ms/step - loss: 0.0011 - val_loss: 0.0164\n",
            "Epoch 97/100\n",
            "54/54 [==============================] - 0s 3ms/step - loss: 9.6417e-04 - val_loss: 0.0164\n",
            "Epoch 98/100\n",
            "54/54 [==============================] - 0s 2ms/step - loss: 0.0013 - val_loss: 0.0163\n",
            "Epoch 99/100\n",
            "54/54 [==============================] - 0s 3ms/step - loss: 0.0019 - val_loss: 0.0163\n",
            "Epoch 100/100\n",
            "54/54 [==============================] - 0s 3ms/step - loss: 0.0017 - val_loss: 0.0169\n"
          ]
        }
      ],
      "source": [
        "history = model.fit(X_train, y_train, epochs=100, validation_data=(X_test, y_test), batch_size=32)"
      ]
    },
    {
      "cell_type": "code",
      "execution_count": 25,
      "metadata": {
        "colab": {
          "base_uri": "https://localhost:8080/"
        },
        "id": "DrkOqgunM_XB",
        "outputId": "cc6c31a0-5ae0-432b-a3c6-094d6c335df8"
      },
      "outputs": [
        {
          "output_type": "stream",
          "name": "stdout",
          "text": [
            "1/1 [==============================] - 0s 62ms/step\n",
            "1/1 [==============================] - 0s 19ms/step\n",
            "1/1 [==============================] - 0s 22ms/step\n",
            "1/1 [==============================] - 0s 20ms/step\n",
            "1/1 [==============================] - 0s 21ms/step\n",
            "1/1 [==============================] - 0s 20ms/step\n",
            "1/1 [==============================] - 0s 24ms/step\n",
            "1/1 [==============================] - 0s 20ms/step\n",
            "1/1 [==============================] - 0s 27ms/step\n",
            "1/1 [==============================] - 0s 20ms/step\n",
            "1/1 [==============================] - 0s 20ms/step\n",
            "1/1 [==============================] - 0s 20ms/step\n",
            "1/1 [==============================] - 0s 22ms/step\n",
            "1/1 [==============================] - 0s 20ms/step\n",
            "1/1 [==============================] - 0s 20ms/step\n",
            "1/1 [==============================] - 0s 21ms/step\n",
            "1/1 [==============================] - 0s 21ms/step\n",
            "1/1 [==============================] - 0s 20ms/step\n",
            "1/1 [==============================] - 0s 21ms/step\n",
            "1/1 [==============================] - 0s 20ms/step\n",
            "1/1 [==============================] - 0s 21ms/step\n",
            "1/1 [==============================] - 0s 32ms/step\n",
            "1/1 [==============================] - 0s 21ms/step\n",
            "1/1 [==============================] - 0s 26ms/step\n",
            "1/1 [==============================] - 0s 21ms/step\n",
            "1/1 [==============================] - 0s 21ms/step\n",
            "1/1 [==============================] - 0s 20ms/step\n",
            "1/1 [==============================] - 0s 21ms/step\n",
            "1/1 [==============================] - 0s 20ms/step\n",
            "1/1 [==============================] - 0s 21ms/step\n",
            "Next 30 days PM2.5 predictions: [17.767124 29.82477  32.53962  35.431435 33.41329  29.108152 32.611675\n",
            " 28.249865 25.985228 32.195168 31.297092 37.79561  40.696743 32.21136\n",
            " 23.768171 20.45569  29.217556 40.577938 45.345898 33.94833  19.119284\n",
            " 26.21479  34.475063 35.81022  40.062115 28.111721 29.435652 35.091843\n",
            " 28.553291 27.974724]\n"
          ]
        }
      ],
      "source": [
        "# Predict the next 30 days PM2.5 values\n",
        "last_sequence = X_test[-1]\n",
        "predictions = []\n",
        "current_sequence = last_sequence\n",
        "\n",
        "for _ in range(30):\n",
        "    next_value = model.predict(current_sequence[np.newaxis, :, :])[0, 0]\n",
        "    predictions.append(next_value)\n",
        "    current_sequence = np.append(current_sequence[1:], [[next_value]], axis=0)\n",
        "\n",
        "predictions = scaler.inverse_transform(np.array(predictions).reshape(-1, 1))\n",
        "print(\"Next 30 days PM2.5 predictions:\", predictions.flatten())"
      ]
    },
    {
      "cell_type": "code",
      "execution_count": 26,
      "metadata": {
        "colab": {
          "base_uri": "https://localhost:8080/",
          "height": 487
        },
        "id": "1lxpezLDM_XB",
        "outputId": "41326bd9-0d62-4f7b-e0eb-f1b87f625ca7"
      },
      "outputs": [
        {
          "output_type": "display_data",
          "data": {
            "text/plain": [
              "<Figure size 1000x500 with 1 Axes>"
            ],
            "image/png": "[encoded data removed]"
          },
          "metadata": {}
        }
      ],
      "source": [
        "# Plot the predictions in the original scale\n",
        "plt.figure(figsize=(10, 5))\n",
        "plt.plot(predictions)\n",
        "plt.title('Predicted PM2.5 Values for the Next 30 Days')\n",
        "plt.xlabel('Days')\n",
        "plt.ylabel('Predicted PM2.5 Value')\n",
        "plt.show()"
      ]
    }
  ],
  "metadata": {
    "kernelspec": {
      "display_name": "base",
      "language": "python",
      "name": "python3"
    },
    "language_info": {
      "codemirror_mode": {
        "name": "ipython",
        "version": 3
      },
      "file_extension": ".py",
      "mimetype": "text/x-python",
      "name": "python",
      "nbconvert_exporter": "python",
      "pygments_lexer": "ipython3",
      "version": "3.11.7"
    },
    "colab": {
      "provenance": []
    }
  },
  "nbformat": 4,
  "nbformat_minor": 0
}