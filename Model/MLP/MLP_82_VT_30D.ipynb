{
  "cells": [
    {
      "cell_type": "code",
      "execution_count": 1,
      "metadata": {
        "id": "cMI2jgcMM_W_"
      },
      "outputs": [],
      "source": [
        "import pandas as pd\n",
        "import numpy as np\n",
        "import tensorflow as tf\n",
        "from sklearn.preprocessing import MinMaxScaler\n",
        "from sklearn.model_selection import train_test_split\n",
        "import matplotlib.pyplot as plt"
      ]
    },
    {
      "cell_type": "code",
      "execution_count": 2,
      "metadata": {
        "colab": {
          "base_uri": "https://localhost:8080/"
        },
        "id": "2j48UWKBM_XA",
        "outputId": "79195183-d843-4c81-dc82-5a91cc067fb1"
      },
      "outputs": [
        {
          "output_type": "stream",
          "name": "stdout",
          "text": [
            "Mounted at /content/drive\n"
          ]
        }
      ],
      "source": [
        "from google.colab import drive\n",
        "drive.mount('/content/drive')"
      ]
    },
    {
      "cell_type": "code",
      "source": [
        "data = pd.read_csv('/content/drive/My Drive/data/viettri_quality.csv', index_col='date')"
      ],
      "metadata": {
        "id": "ox2tZuRDNJeI"
      },
      "execution_count": 3,
      "outputs": []
    },
    {
      "cell_type": "code",
      "execution_count": 4,
      "metadata": {
        "id": "if_BKQTSM_XA"
      },
      "outputs": [],
      "source": [
        "data.fillna(method='ffill', inplace=True)\n",
        "scaler = MinMaxScaler()\n",
        "data['pm25'] = scaler.fit_transform(data[['pm25']])"
      ]
    },
    {
      "cell_type": "code",
      "execution_count": 7,
      "metadata": {
        "id": "3mQKtGAaM_XA"
      },
      "outputs": [],
      "source": [
        "def create_sequences(data, seq_length=30):\n",
        "    xs, ys = [], []\n",
        "    for i in range(len(data) - seq_length):\n",
        "        x = data[i:i+seq_length]\n",
        "        y = data[i+seq_length]\n",
        "        xs.append(x)\n",
        "        ys.append(y)\n",
        "    return np.array(xs), np.array(ys)\n",
        "\n",
        "seq_length = 30\n",
        "X, y = create_sequences(data['pm25'].values, seq_length)\n",
        "X = X.reshape((X.shape[0], X.shape[1], 1))\n",
        "\n",
        "X_train, X_test, y_train, y_test = train_test_split(X, y, test_size=0.2, shuffle=False)"
      ]
    },
    {
      "cell_type": "code",
      "execution_count": 8,
      "metadata": {
        "id": "xZKJEUs5M_XA"
      },
      "outputs": [],
      "source": [
        "model = tf.keras.Sequential([\n",
        "    tf.keras.layers.Flatten(input_shape=(seq_length, 1)),\n",
        "    tf.keras.layers.Dense(128, activation='relu'),\n",
        "    tf.keras.layers.Dense(64, activation='relu'),\n",
        "    tf.keras.layers.Dense(1)\n",
        "])"
      ]
    },
    {
      "cell_type": "code",
      "execution_count": 9,
      "metadata": {
        "colab": {
          "base_uri": "https://localhost:8080/"
        },
        "id": "YYbxYrggM_XB",
        "outputId": "1c59d635-0865-43fe-a80d-0e784a393cc4"
      },
      "outputs": [
        {
          "output_type": "stream",
          "name": "stdout",
          "text": [
            "Model: \"sequential_1\"\n",
            "_________________________________________________________________\n",
            " Layer (type)                Output Shape              Param #   \n",
            "=================================================================\n",
            " flatten_1 (Flatten)         (None, 30)                0         \n",
            "                                                                 \n",
            " dense_3 (Dense)             (None, 128)               3968      \n",
            "                                                                 \n",
            " dense_4 (Dense)             (None, 64)                8256      \n",
            "                                                                 \n",
            " dense_5 (Dense)             (None, 1)                 65        \n",
            "                                                                 \n",
            "=================================================================\n",
            "Total params: 12289 (48.00 KB)\n",
            "Trainable params: 12289 (48.00 KB)\n",
            "Non-trainable params: 0 (0.00 Byte)\n",
            "_________________________________________________________________\n"
          ]
        }
      ],
      "source": [
        "model.compile(optimizer='adam', loss='mean_squared_error')\n",
        "model.summary()"
      ]
    },
    {
      "cell_type": "code",
      "execution_count": 11,
      "metadata": {
        "colab": {
          "base_uri": "https://localhost:8080/"
        },
        "id": "ckBLK4K6M_XB",
        "outputId": "19ac7f8a-98f3-430e-8469-37d49ad16538"
      },
      "outputs": [
        {
          "output_type": "stream",
          "name": "stdout",
          "text": [
            "Epoch 1/100\n",
            "48/48 [==============================] - 1s 11ms/step - loss: 0.0026 - val_loss: 0.0116\n",
            "Epoch 2/100\n",
            "48/48 [==============================] - 0s 6ms/step - loss: 0.0025 - val_loss: 0.0115\n",
            "Epoch 3/100\n",
            "48/48 [==============================] - 0s 6ms/step - loss: 0.0025 - val_loss: 0.0121\n",
            "Epoch 4/100\n",
            "48/48 [==============================] - 1s 14ms/step - loss: 0.0024 - val_loss: 0.0124\n",
            "Epoch 5/100\n",
            "48/48 [==============================] - 0s 9ms/step - loss: 0.0023 - val_loss: 0.0119\n",
            "Epoch 6/100\n",
            "48/48 [==============================] - 0s 5ms/step - loss: 0.0027 - val_loss: 0.0124\n",
            "Epoch 7/100\n",
            "48/48 [==============================] - 0s 5ms/step - loss: 0.0025 - val_loss: 0.0116\n",
            "Epoch 8/100\n",
            "48/48 [==============================] - 0s 10ms/step - loss: 0.0024 - val_loss: 0.0122\n",
            "Epoch 9/100\n",
            "48/48 [==============================] - 0s 3ms/step - loss: 0.0022 - val_loss: 0.0118\n",
            "Epoch 10/100\n",
            "48/48 [==============================] - 0s 3ms/step - loss: 0.0019 - val_loss: 0.0120\n",
            "Epoch 11/100\n",
            "48/48 [==============================] - 0s 3ms/step - loss: 0.0020 - val_loss: 0.0122\n",
            "Epoch 12/100\n",
            "48/48 [==============================] - 0s 3ms/step - loss: 0.0020 - val_loss: 0.0126\n",
            "Epoch 13/100\n",
            "48/48 [==============================] - 0s 3ms/step - loss: 0.0024 - val_loss: 0.0123\n",
            "Epoch 14/100\n",
            "48/48 [==============================] - 0s 4ms/step - loss: 0.0026 - val_loss: 0.0119\n",
            "Epoch 15/100\n",
            "48/48 [==============================] - 0s 5ms/step - loss: 0.0021 - val_loss: 0.0121\n",
            "Epoch 16/100\n",
            "48/48 [==============================] - 0s 5ms/step - loss: 0.0020 - val_loss: 0.0120\n",
            "Epoch 17/100\n",
            "48/48 [==============================] - 0s 4ms/step - loss: 0.0021 - val_loss: 0.0120\n",
            "Epoch 18/100\n",
            "48/48 [==============================] - 0s 4ms/step - loss: 0.0016 - val_loss: 0.0120\n",
            "Epoch 19/100\n",
            "48/48 [==============================] - 0s 4ms/step - loss: 0.0016 - val_loss: 0.0123\n",
            "Epoch 20/100\n",
            "48/48 [==============================] - 0s 5ms/step - loss: 0.0015 - val_loss: 0.0125\n",
            "Epoch 21/100\n",
            "48/48 [==============================] - 0s 6ms/step - loss: 0.0019 - val_loss: 0.0121\n",
            "Epoch 22/100\n",
            "48/48 [==============================] - 0s 5ms/step - loss: 0.0016 - val_loss: 0.0128\n",
            "Epoch 23/100\n",
            "48/48 [==============================] - 0s 5ms/step - loss: 0.0015 - val_loss: 0.0122\n",
            "Epoch 24/100\n",
            "48/48 [==============================] - 0s 4ms/step - loss: 0.0018 - val_loss: 0.0125\n",
            "Epoch 25/100\n",
            "48/48 [==============================] - 0s 5ms/step - loss: 0.0018 - val_loss: 0.0123\n",
            "Epoch 26/100\n",
            "48/48 [==============================] - 0s 6ms/step - loss: 0.0016 - val_loss: 0.0121\n",
            "Epoch 27/100\n",
            "48/48 [==============================] - 0s 5ms/step - loss: 0.0017 - val_loss: 0.0119\n",
            "Epoch 28/100\n",
            "48/48 [==============================] - 0s 5ms/step - loss: 0.0014 - val_loss: 0.0121\n",
            "Epoch 29/100\n",
            "48/48 [==============================] - 0s 4ms/step - loss: 0.0015 - val_loss: 0.0121\n",
            "Epoch 30/100\n",
            "48/48 [==============================] - 0s 5ms/step - loss: 0.0014 - val_loss: 0.0125\n",
            "Epoch 31/100\n",
            "48/48 [==============================] - 0s 4ms/step - loss: 0.0017 - val_loss: 0.0131\n",
            "Epoch 32/100\n",
            "48/48 [==============================] - 0s 4ms/step - loss: 0.0019 - val_loss: 0.0135\n",
            "Epoch 33/100\n",
            "48/48 [==============================] - 0s 4ms/step - loss: 0.0024 - val_loss: 0.0125\n",
            "Epoch 34/100\n",
            "48/48 [==============================] - 0s 3ms/step - loss: 0.0017 - val_loss: 0.0120\n",
            "Epoch 35/100\n",
            "48/48 [==============================] - 0s 3ms/step - loss: 0.0016 - val_loss: 0.0143\n",
            "Epoch 36/100\n",
            "48/48 [==============================] - 0s 3ms/step - loss: 0.0016 - val_loss: 0.0126\n",
            "Epoch 37/100\n",
            "48/48 [==============================] - 0s 3ms/step - loss: 0.0013 - val_loss: 0.0126\n",
            "Epoch 38/100\n",
            "48/48 [==============================] - 0s 3ms/step - loss: 0.0012 - val_loss: 0.0128\n",
            "Epoch 39/100\n",
            "48/48 [==============================] - 0s 3ms/step - loss: 0.0013 - val_loss: 0.0126\n",
            "Epoch 40/100\n",
            "48/48 [==============================] - 0s 3ms/step - loss: 0.0013 - val_loss: 0.0127\n",
            "Epoch 41/100\n",
            "48/48 [==============================] - 0s 3ms/step - loss: 0.0013 - val_loss: 0.0123\n",
            "Epoch 42/100\n",
            "48/48 [==============================] - 0s 3ms/step - loss: 0.0012 - val_loss: 0.0123\n",
            "Epoch 43/100\n",
            "48/48 [==============================] - 0s 3ms/step - loss: 0.0011 - val_loss: 0.0131\n",
            "Epoch 44/100\n",
            "48/48 [==============================] - 0s 3ms/step - loss: 0.0011 - val_loss: 0.0131\n",
            "Epoch 45/100\n",
            "48/48 [==============================] - 0s 3ms/step - loss: 0.0010 - val_loss: 0.0127\n",
            "Epoch 46/100\n",
            "48/48 [==============================] - 0s 3ms/step - loss: 0.0011 - val_loss: 0.0127\n",
            "Epoch 47/100\n",
            "48/48 [==============================] - 0s 3ms/step - loss: 0.0013 - val_loss: 0.0124\n",
            "Epoch 48/100\n",
            "48/48 [==============================] - 0s 3ms/step - loss: 0.0014 - val_loss: 0.0135\n",
            "Epoch 49/100\n",
            "48/48 [==============================] - 0s 3ms/step - loss: 0.0019 - val_loss: 0.0128\n",
            "Epoch 50/100\n",
            "48/48 [==============================] - 0s 3ms/step - loss: 0.0014 - val_loss: 0.0131\n",
            "Epoch 51/100\n",
            "48/48 [==============================] - 0s 3ms/step - loss: 0.0013 - val_loss: 0.0127\n",
            "Epoch 52/100\n",
            "48/48 [==============================] - 0s 3ms/step - loss: 0.0015 - val_loss: 0.0132\n",
            "Epoch 53/100\n",
            "48/48 [==============================] - 0s 3ms/step - loss: 0.0014 - val_loss: 0.0126\n",
            "Epoch 54/100\n",
            "48/48 [==============================] - 0s 3ms/step - loss: 0.0010 - val_loss: 0.0127\n",
            "Epoch 55/100\n",
            "48/48 [==============================] - 0s 3ms/step - loss: 9.3766e-04 - val_loss: 0.0123\n",
            "Epoch 56/100\n",
            "48/48 [==============================] - 0s 3ms/step - loss: 9.4852e-04 - val_loss: 0.0126\n",
            "Epoch 57/100\n",
            "48/48 [==============================] - 0s 3ms/step - loss: 9.8382e-04 - val_loss: 0.0128\n",
            "Epoch 58/100\n",
            "48/48 [==============================] - 0s 3ms/step - loss: 0.0011 - val_loss: 0.0125\n",
            "Epoch 59/100\n",
            "48/48 [==============================] - 0s 3ms/step - loss: 0.0011 - val_loss: 0.0127\n",
            "Epoch 60/100\n",
            "48/48 [==============================] - 0s 3ms/step - loss: 9.9893e-04 - val_loss: 0.0129\n",
            "Epoch 61/100\n",
            "48/48 [==============================] - 0s 3ms/step - loss: 0.0013 - val_loss: 0.0130\n",
            "Epoch 62/100\n",
            "48/48 [==============================] - 0s 3ms/step - loss: 0.0020 - val_loss: 0.0136\n",
            "Epoch 63/100\n",
            "48/48 [==============================] - 0s 3ms/step - loss: 0.0018 - val_loss: 0.0126\n",
            "Epoch 64/100\n",
            "48/48 [==============================] - 0s 3ms/step - loss: 0.0020 - val_loss: 0.0126\n",
            "Epoch 65/100\n",
            "48/48 [==============================] - 0s 3ms/step - loss: 0.0016 - val_loss: 0.0133\n",
            "Epoch 66/100\n",
            "48/48 [==============================] - 0s 3ms/step - loss: 0.0018 - val_loss: 0.0123\n",
            "Epoch 67/100\n",
            "48/48 [==============================] - 0s 3ms/step - loss: 0.0012 - val_loss: 0.0131\n",
            "Epoch 68/100\n",
            "48/48 [==============================] - 0s 3ms/step - loss: 9.4687e-04 - val_loss: 0.0126\n",
            "Epoch 69/100\n",
            "48/48 [==============================] - 0s 3ms/step - loss: 8.3544e-04 - val_loss: 0.0130\n",
            "Epoch 70/100\n",
            "48/48 [==============================] - 0s 3ms/step - loss: 8.7482e-04 - val_loss: 0.0129\n",
            "Epoch 71/100\n",
            "48/48 [==============================] - 0s 3ms/step - loss: 8.0893e-04 - val_loss: 0.0129\n",
            "Epoch 72/100\n",
            "48/48 [==============================] - 0s 3ms/step - loss: 8.9747e-04 - val_loss: 0.0128\n",
            "Epoch 73/100\n",
            "48/48 [==============================] - 0s 3ms/step - loss: 9.6571e-04 - val_loss: 0.0129\n",
            "Epoch 74/100\n",
            "48/48 [==============================] - 0s 3ms/step - loss: 0.0010 - val_loss: 0.0123\n",
            "Epoch 75/100\n",
            "48/48 [==============================] - 0s 3ms/step - loss: 0.0010 - val_loss: 0.0132\n",
            "Epoch 76/100\n",
            "48/48 [==============================] - 0s 3ms/step - loss: 0.0015 - val_loss: 0.0134\n",
            "Epoch 77/100\n",
            "48/48 [==============================] - 0s 3ms/step - loss: 0.0014 - val_loss: 0.0132\n",
            "Epoch 78/100\n",
            "48/48 [==============================] - 0s 3ms/step - loss: 0.0011 - val_loss: 0.0133\n",
            "Epoch 79/100\n",
            "48/48 [==============================] - 0s 3ms/step - loss: 9.0270e-04 - val_loss: 0.0127\n",
            "Epoch 80/100\n",
            "48/48 [==============================] - 0s 3ms/step - loss: 8.6443e-04 - val_loss: 0.0142\n",
            "Epoch 81/100\n",
            "48/48 [==============================] - 0s 3ms/step - loss: 8.8330e-04 - val_loss: 0.0129\n",
            "Epoch 82/100\n",
            "48/48 [==============================] - 0s 3ms/step - loss: 7.4052e-04 - val_loss: 0.0132\n",
            "Epoch 83/100\n",
            "48/48 [==============================] - 0s 3ms/step - loss: 8.7142e-04 - val_loss: 0.0130\n",
            "Epoch 84/100\n",
            "48/48 [==============================] - 0s 3ms/step - loss: 9.8109e-04 - val_loss: 0.0131\n",
            "Epoch 85/100\n",
            "48/48 [==============================] - 0s 3ms/step - loss: 9.2691e-04 - val_loss: 0.0127\n",
            "Epoch 86/100\n",
            "48/48 [==============================] - 0s 3ms/step - loss: 7.4986e-04 - val_loss: 0.0130\n",
            "Epoch 87/100\n",
            "48/48 [==============================] - 0s 3ms/step - loss: 7.2393e-04 - val_loss: 0.0134\n",
            "Epoch 88/100\n",
            "48/48 [==============================] - 0s 3ms/step - loss: 7.2888e-04 - val_loss: 0.0132\n",
            "Epoch 89/100\n",
            "48/48 [==============================] - 0s 3ms/step - loss: 6.9809e-04 - val_loss: 0.0136\n",
            "Epoch 90/100\n",
            "48/48 [==============================] - 0s 3ms/step - loss: 9.6145e-04 - val_loss: 0.0135\n",
            "Epoch 91/100\n",
            "48/48 [==============================] - 0s 3ms/step - loss: 0.0011 - val_loss: 0.0132\n",
            "Epoch 92/100\n",
            "48/48 [==============================] - 0s 4ms/step - loss: 9.4227e-04 - val_loss: 0.0131\n",
            "Epoch 93/100\n",
            "48/48 [==============================] - 0s 3ms/step - loss: 9.2170e-04 - val_loss: 0.0129\n",
            "Epoch 94/100\n",
            "48/48 [==============================] - 0s 3ms/step - loss: 7.8092e-04 - val_loss: 0.0131\n",
            "Epoch 95/100\n",
            "48/48 [==============================] - 0s 3ms/step - loss: 9.0308e-04 - val_loss: 0.0131\n",
            "Epoch 96/100\n",
            "48/48 [==============================] - 0s 3ms/step - loss: 0.0011 - val_loss: 0.0133\n",
            "Epoch 97/100\n",
            "48/48 [==============================] - 0s 3ms/step - loss: 8.6830e-04 - val_loss: 0.0136\n",
            "Epoch 98/100\n",
            "48/48 [==============================] - 0s 3ms/step - loss: 8.3822e-04 - val_loss: 0.0132\n",
            "Epoch 99/100\n",
            "48/48 [==============================] - 0s 3ms/step - loss: 8.4647e-04 - val_loss: 0.0129\n",
            "Epoch 100/100\n",
            "48/48 [==============================] - 0s 3ms/step - loss: 8.1589e-04 - val_loss: 0.0130\n"
          ]
        }
      ],
      "source": [
        "history = model.fit(X_train, y_train, epochs=100, validation_data=(X_test, y_test), batch_size=32)"
      ]
    },
    {
      "cell_type": "code",
      "execution_count": 12,
      "metadata": {
        "colab": {
          "base_uri": "https://localhost:8080/"
        },
        "id": "DrkOqgunM_XB",
        "outputId": "1a376057-f7da-4952-e69e-d8615c4481e3"
      },
      "outputs": [
        {
          "output_type": "stream",
          "name": "stdout",
          "text": [
            "1/1 [==============================] - 0s 91ms/step\n",
            "1/1 [==============================] - 0s 20ms/step\n",
            "1/1 [==============================] - 0s 22ms/step\n",
            "1/1 [==============================] - 0s 21ms/step\n",
            "1/1 [==============================] - 0s 20ms/step\n",
            "1/1 [==============================] - 0s 21ms/step\n",
            "1/1 [==============================] - 0s 21ms/step\n",
            "1/1 [==============================] - 0s 20ms/step\n",
            "1/1 [==============================] - 0s 21ms/step\n",
            "1/1 [==============================] - 0s 21ms/step\n",
            "1/1 [==============================] - 0s 21ms/step\n",
            "1/1 [==============================] - 0s 20ms/step\n",
            "1/1 [==============================] - 0s 21ms/step\n",
            "1/1 [==============================] - 0s 20ms/step\n",
            "1/1 [==============================] - 0s 23ms/step\n",
            "1/1 [==============================] - 0s 20ms/step\n",
            "1/1 [==============================] - 0s 21ms/step\n",
            "1/1 [==============================] - 0s 21ms/step\n",
            "1/1 [==============================] - 0s 19ms/step\n",
            "1/1 [==============================] - 0s 20ms/step\n",
            "1/1 [==============================] - 0s 21ms/step\n",
            "1/1 [==============================] - 0s 21ms/step\n",
            "1/1 [==============================] - 0s 21ms/step\n",
            "1/1 [==============================] - 0s 21ms/step\n",
            "1/1 [==============================] - 0s 23ms/step\n",
            "1/1 [==============================] - 0s 26ms/step\n",
            "1/1 [==============================] - 0s 20ms/step\n",
            "1/1 [==============================] - 0s 19ms/step\n",
            "1/1 [==============================] - 0s 20ms/step\n",
            "1/1 [==============================] - 0s 20ms/step\n",
            "Next 30 days PM2.5 predictions: [14.896108 37.11249  46.266422 33.80849  31.2159   18.842295 27.411207\n",
            " 24.415974 25.159092 32.345707 32.96991  26.65731  21.869194 24.84372\n",
            " 15.886307 18.334173 29.616297 29.560772 33.924793 34.121044 28.762278\n",
            " 49.259953 46.2159   34.6099   26.247953 22.125551 32.115814 43.460068\n",
            " 43.620148 42.11472 ]\n"
          ]
        }
      ],
      "source": [
        "# Predict the next 30 days PM2.5 values\n",
        "last_sequence = X_test[-1]\n",
        "predictions = []\n",
        "current_sequence = last_sequence\n",
        "\n",
        "for _ in range(30):\n",
        "    next_value = model.predict(current_sequence[np.newaxis, :, :])[0, 0]\n",
        "    predictions.append(next_value)\n",
        "    current_sequence = np.append(current_sequence[1:], [[next_value]], axis=0)\n",
        "\n",
        "predictions = scaler.inverse_transform(np.array(predictions).reshape(-1, 1))\n",
        "print(\"Next 30 days PM2.5 predictions:\", predictions.flatten())"
      ]
    },
    {
      "cell_type": "code",
      "execution_count": 14,
      "metadata": {
        "colab": {
          "base_uri": "https://localhost:8080/",
          "height": 487
        },
        "id": "1lxpezLDM_XB",
        "outputId": "8759a5e1-5781-4048-f141-fd3cdabb081f"
      },
      "outputs": [
        {
          "output_type": "display_data",
          "data": {
            "text/plain": [
              "<Figure size 1000x500 with 1 Axes>"
            ],
            "image/png": "[encoded data removed]"
          },
          "metadata": {}
        }
      ],
      "source": [
        "# Plot the predictions in the original scale\n",
        "plt.figure(figsize=(10, 5))\n",
        "plt.plot(predictions)\n",
        "plt.title('Predicted PM2.5 Values for the Next 30 Days')\n",
        "plt.xlabel('Days')\n",
        "plt.ylabel('Predicted PM2.5 Value')\n",
        "plt.show()"
      ]
    },
    {
      "cell_type": "code",
      "source": [],
      "metadata": {
        "id": "J-tD4nq5OTO6"
      },
      "execution_count": null,
      "outputs": []
    }
  ],
  "metadata": {
    "kernelspec": {
      "display_name": "base",
      "language": "python",
      "name": "python3"
    },
    "language_info": {
      "codemirror_mode": {
        "name": "ipython",
        "version": 3
      },
      "file_extension": ".py",
      "mimetype": "text/x-python",
      "name": "python",
      "nbconvert_exporter": "python",
      "pygments_lexer": "ipython3",
      "version": "3.11.7"
    },
    "colab": {
      "provenance": []
    }
  },
  "nbformat": 4,
  "nbformat_minor": 0
}