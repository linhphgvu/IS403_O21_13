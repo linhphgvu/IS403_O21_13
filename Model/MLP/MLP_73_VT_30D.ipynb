{
  "cells": [
    {
      "cell_type": "code",
      "execution_count": 1,
      "metadata": {
        "id": "cMI2jgcMM_W_"
      },
      "outputs": [],
      "source": [
        "import pandas as pd\n",
        "import numpy as np\n",
        "import tensorflow as tf\n",
        "from sklearn.preprocessing import MinMaxScaler\n",
        "from sklearn.model_selection import train_test_split\n",
        "import matplotlib.pyplot as plt"
      ]
    },
    {
      "cell_type": "code",
      "execution_count": 2,
      "metadata": {
        "colab": {
          "base_uri": "https://localhost:8080/"
        },
        "id": "2j48UWKBM_XA",
        "outputId": "79195183-d843-4c81-dc82-5a91cc067fb1"
      },
      "outputs": [
        {
          "output_type": "stream",
          "name": "stdout",
          "text": [
            "Mounted at /content/drive\n"
          ]
        }
      ],
      "source": [
        "from google.colab import drive\n",
        "drive.mount('/content/drive')"
      ]
    },
    {
      "cell_type": "code",
      "source": [
        "data = pd.read_csv('/content/drive/My Drive/data/viettri_quality.csv', index_col='date')"
      ],
      "metadata": {
        "id": "ox2tZuRDNJeI"
      },
      "execution_count": 3,
      "outputs": []
    },
    {
      "cell_type": "code",
      "execution_count": 4,
      "metadata": {
        "id": "if_BKQTSM_XA"
      },
      "outputs": [],
      "source": [
        "data.fillna(method='ffill', inplace=True)\n",
        "scaler = MinMaxScaler()\n",
        "data['pm25'] = scaler.fit_transform(data[['pm25']])"
      ]
    },
    {
      "cell_type": "code",
      "execution_count": 15,
      "metadata": {
        "id": "3mQKtGAaM_XA"
      },
      "outputs": [],
      "source": [
        "def create_sequences(data, seq_length=30):\n",
        "    xs, ys = [], []\n",
        "    for i in range(len(data) - seq_length):\n",
        "        x = data[i:i+seq_length]\n",
        "        y = data[i+seq_length]\n",
        "        xs.append(x)\n",
        "        ys.append(y)\n",
        "    return np.array(xs), np.array(ys)\n",
        "\n",
        "seq_length = 30\n",
        "X, y = create_sequences(data['pm25'].values, seq_length)\n",
        "X = X.reshape((X.shape[0], X.shape[1], 1))\n",
        "\n",
        "X_train, X_test, y_train, y_test = train_test_split(X, y, test_size=0.3, shuffle=False)"
      ]
    },
    {
      "cell_type": "code",
      "execution_count": 16,
      "metadata": {
        "id": "xZKJEUs5M_XA"
      },
      "outputs": [],
      "source": [
        "model = tf.keras.Sequential([\n",
        "    tf.keras.layers.Flatten(input_shape=(seq_length, 1)),\n",
        "    tf.keras.layers.Dense(128, activation='relu'),\n",
        "    tf.keras.layers.Dense(64, activation='relu'),\n",
        "    tf.keras.layers.Dense(1)\n",
        "])"
      ]
    },
    {
      "cell_type": "code",
      "execution_count": 17,
      "metadata": {
        "colab": {
          "base_uri": "https://localhost:8080/"
        },
        "id": "YYbxYrggM_XB",
        "outputId": "d3296e55-0214-4147-f390-db45c93f1a67"
      },
      "outputs": [
        {
          "output_type": "stream",
          "name": "stdout",
          "text": [
            "Model: \"sequential_2\"\n",
            "_________________________________________________________________\n",
            " Layer (type)                Output Shape              Param #   \n",
            "=================================================================\n",
            " flatten_2 (Flatten)         (None, 30)                0         \n",
            "                                                                 \n",
            " dense_6 (Dense)             (None, 128)               3968      \n",
            "                                                                 \n",
            " dense_7 (Dense)             (None, 64)                8256      \n",
            "                                                                 \n",
            " dense_8 (Dense)             (None, 1)                 65        \n",
            "                                                                 \n",
            "=================================================================\n",
            "Total params: 12289 (48.00 KB)\n",
            "Trainable params: 12289 (48.00 KB)\n",
            "Non-trainable params: 0 (0.00 Byte)\n",
            "_________________________________________________________________\n"
          ]
        }
      ],
      "source": [
        "model.compile(optimizer='adam', loss='mean_squared_error')\n",
        "model.summary()"
      ]
    },
    {
      "cell_type": "code",
      "execution_count": 18,
      "metadata": {
        "colab": {
          "base_uri": "https://localhost:8080/"
        },
        "id": "ckBLK4K6M_XB",
        "outputId": "584c3b8b-05e5-4dc2-e6a1-25629d96c93b"
      },
      "outputs": [
        {
          "output_type": "stream",
          "name": "stdout",
          "text": [
            "Epoch 1/100\n",
            "42/42 [==============================] - 1s 6ms/step - loss: 0.0310 - val_loss: 0.0177\n",
            "Epoch 2/100\n",
            "42/42 [==============================] - 0s 4ms/step - loss: 0.0216 - val_loss: 0.0193\n",
            "Epoch 3/100\n",
            "42/42 [==============================] - 0s 3ms/step - loss: 0.0211 - val_loss: 0.0173\n",
            "Epoch 4/100\n",
            "42/42 [==============================] - 0s 4ms/step - loss: 0.0192 - val_loss: 0.0170\n",
            "Epoch 5/100\n",
            "42/42 [==============================] - 0s 3ms/step - loss: 0.0188 - val_loss: 0.0178\n",
            "Epoch 6/100\n",
            "42/42 [==============================] - 0s 4ms/step - loss: 0.0175 - val_loss: 0.0178\n",
            "Epoch 7/100\n",
            "42/42 [==============================] - 0s 6ms/step - loss: 0.0173 - val_loss: 0.0175\n",
            "Epoch 8/100\n",
            "42/42 [==============================] - 0s 6ms/step - loss: 0.0155 - val_loss: 0.0206\n",
            "Epoch 9/100\n",
            "42/42 [==============================] - 0s 5ms/step - loss: 0.0150 - val_loss: 0.0172\n",
            "Epoch 10/100\n",
            "42/42 [==============================] - 0s 5ms/step - loss: 0.0139 - val_loss: 0.0197\n",
            "Epoch 11/100\n",
            "42/42 [==============================] - 0s 4ms/step - loss: 0.0134 - val_loss: 0.0180\n",
            "Epoch 12/100\n",
            "42/42 [==============================] - 0s 5ms/step - loss: 0.0127 - val_loss: 0.0180\n",
            "Epoch 13/100\n",
            "42/42 [==============================] - 0s 5ms/step - loss: 0.0119 - val_loss: 0.0186\n",
            "Epoch 14/100\n",
            "42/42 [==============================] - 0s 5ms/step - loss: 0.0109 - val_loss: 0.0179\n",
            "Epoch 15/100\n",
            "42/42 [==============================] - 0s 5ms/step - loss: 0.0102 - val_loss: 0.0182\n",
            "Epoch 16/100\n",
            "42/42 [==============================] - 0s 4ms/step - loss: 0.0098 - val_loss: 0.0188\n",
            "Epoch 17/100\n",
            "42/42 [==============================] - 0s 5ms/step - loss: 0.0096 - val_loss: 0.0190\n",
            "Epoch 18/100\n",
            "42/42 [==============================] - 0s 5ms/step - loss: 0.0094 - val_loss: 0.0191\n",
            "Epoch 19/100\n",
            "42/42 [==============================] - 0s 5ms/step - loss: 0.0084 - val_loss: 0.0194\n",
            "Epoch 20/100\n",
            "42/42 [==============================] - 0s 6ms/step - loss: 0.0077 - val_loss: 0.0201\n",
            "Epoch 21/100\n",
            "42/42 [==============================] - 0s 5ms/step - loss: 0.0072 - val_loss: 0.0198\n",
            "Epoch 22/100\n",
            "42/42 [==============================] - 0s 5ms/step - loss: 0.0069 - val_loss: 0.0195\n",
            "Epoch 23/100\n",
            "42/42 [==============================] - 0s 5ms/step - loss: 0.0067 - val_loss: 0.0197\n",
            "Epoch 24/100\n",
            "42/42 [==============================] - 0s 6ms/step - loss: 0.0062 - val_loss: 0.0218\n",
            "Epoch 25/100\n",
            "42/42 [==============================] - 0s 6ms/step - loss: 0.0059 - val_loss: 0.0221\n",
            "Epoch 26/100\n",
            "42/42 [==============================] - 0s 5ms/step - loss: 0.0055 - val_loss: 0.0202\n",
            "Epoch 27/100\n",
            "42/42 [==============================] - 0s 5ms/step - loss: 0.0050 - val_loss: 0.0206\n",
            "Epoch 28/100\n",
            "42/42 [==============================] - 0s 3ms/step - loss: 0.0048 - val_loss: 0.0195\n",
            "Epoch 29/100\n",
            "42/42 [==============================] - 0s 4ms/step - loss: 0.0047 - val_loss: 0.0196\n",
            "Epoch 30/100\n",
            "42/42 [==============================] - 0s 3ms/step - loss: 0.0044 - val_loss: 0.0204\n",
            "Epoch 31/100\n",
            "42/42 [==============================] - 0s 3ms/step - loss: 0.0042 - val_loss: 0.0205\n",
            "Epoch 32/100\n",
            "42/42 [==============================] - 0s 3ms/step - loss: 0.0040 - val_loss: 0.0205\n",
            "Epoch 33/100\n",
            "42/42 [==============================] - 0s 3ms/step - loss: 0.0038 - val_loss: 0.0204\n",
            "Epoch 34/100\n",
            "42/42 [==============================] - 0s 3ms/step - loss: 0.0037 - val_loss: 0.0204\n",
            "Epoch 35/100\n",
            "42/42 [==============================] - 0s 3ms/step - loss: 0.0038 - val_loss: 0.0211\n",
            "Epoch 36/100\n",
            "42/42 [==============================] - 0s 3ms/step - loss: 0.0036 - val_loss: 0.0217\n",
            "Epoch 37/100\n",
            "42/42 [==============================] - 0s 3ms/step - loss: 0.0038 - val_loss: 0.0208\n",
            "Epoch 38/100\n",
            "42/42 [==============================] - 0s 3ms/step - loss: 0.0035 - val_loss: 0.0203\n",
            "Epoch 39/100\n",
            "42/42 [==============================] - 0s 5ms/step - loss: 0.0032 - val_loss: 0.0204\n",
            "Epoch 40/100\n",
            "42/42 [==============================] - 0s 3ms/step - loss: 0.0030 - val_loss: 0.0209\n",
            "Epoch 41/100\n",
            "42/42 [==============================] - 0s 4ms/step - loss: 0.0028 - val_loss: 0.0211\n",
            "Epoch 42/100\n",
            "42/42 [==============================] - 0s 3ms/step - loss: 0.0028 - val_loss: 0.0210\n",
            "Epoch 43/100\n",
            "42/42 [==============================] - 0s 4ms/step - loss: 0.0028 - val_loss: 0.0214\n",
            "Epoch 44/100\n",
            "42/42 [==============================] - 0s 3ms/step - loss: 0.0031 - val_loss: 0.0211\n",
            "Epoch 45/100\n",
            "42/42 [==============================] - 0s 3ms/step - loss: 0.0025 - val_loss: 0.0209\n",
            "Epoch 46/100\n",
            "42/42 [==============================] - 0s 4ms/step - loss: 0.0025 - val_loss: 0.0208\n",
            "Epoch 47/100\n",
            "42/42 [==============================] - 0s 3ms/step - loss: 0.0023 - val_loss: 0.0208\n",
            "Epoch 48/100\n",
            "42/42 [==============================] - 0s 4ms/step - loss: 0.0025 - val_loss: 0.0209\n",
            "Epoch 49/100\n",
            "42/42 [==============================] - 0s 4ms/step - loss: 0.0024 - val_loss: 0.0212\n",
            "Epoch 50/100\n",
            "42/42 [==============================] - 0s 3ms/step - loss: 0.0025 - val_loss: 0.0217\n",
            "Epoch 51/100\n",
            "42/42 [==============================] - 0s 3ms/step - loss: 0.0024 - val_loss: 0.0214\n",
            "Epoch 52/100\n",
            "42/42 [==============================] - 0s 4ms/step - loss: 0.0025 - val_loss: 0.0226\n",
            "Epoch 53/100\n",
            "42/42 [==============================] - 0s 4ms/step - loss: 0.0024 - val_loss: 0.0210\n",
            "Epoch 54/100\n",
            "42/42 [==============================] - 0s 3ms/step - loss: 0.0021 - val_loss: 0.0206\n",
            "Epoch 55/100\n",
            "42/42 [==============================] - 0s 3ms/step - loss: 0.0019 - val_loss: 0.0213\n",
            "Epoch 56/100\n",
            "42/42 [==============================] - 0s 3ms/step - loss: 0.0019 - val_loss: 0.0215\n",
            "Epoch 57/100\n",
            "42/42 [==============================] - 0s 4ms/step - loss: 0.0018 - val_loss: 0.0217\n",
            "Epoch 58/100\n",
            "42/42 [==============================] - 0s 3ms/step - loss: 0.0018 - val_loss: 0.0213\n",
            "Epoch 59/100\n",
            "42/42 [==============================] - 0s 3ms/step - loss: 0.0020 - val_loss: 0.0210\n",
            "Epoch 60/100\n",
            "42/42 [==============================] - 0s 3ms/step - loss: 0.0018 - val_loss: 0.0211\n",
            "Epoch 61/100\n",
            "42/42 [==============================] - 0s 3ms/step - loss: 0.0019 - val_loss: 0.0212\n",
            "Epoch 62/100\n",
            "42/42 [==============================] - 0s 4ms/step - loss: 0.0017 - val_loss: 0.0215\n",
            "Epoch 63/100\n",
            "42/42 [==============================] - 0s 3ms/step - loss: 0.0020 - val_loss: 0.0211\n",
            "Epoch 64/100\n",
            "42/42 [==============================] - 0s 4ms/step - loss: 0.0019 - val_loss: 0.0213\n",
            "Epoch 65/100\n",
            "42/42 [==============================] - 0s 4ms/step - loss: 0.0021 - val_loss: 0.0215\n",
            "Epoch 66/100\n",
            "42/42 [==============================] - 0s 4ms/step - loss: 0.0020 - val_loss: 0.0217\n",
            "Epoch 67/100\n",
            "42/42 [==============================] - 0s 3ms/step - loss: 0.0017 - val_loss: 0.0211\n",
            "Epoch 68/100\n",
            "42/42 [==============================] - 0s 3ms/step - loss: 0.0017 - val_loss: 0.0215\n",
            "Epoch 69/100\n",
            "42/42 [==============================] - 0s 3ms/step - loss: 0.0017 - val_loss: 0.0225\n",
            "Epoch 70/100\n",
            "42/42 [==============================] - 0s 4ms/step - loss: 0.0019 - val_loss: 0.0211\n",
            "Epoch 71/100\n",
            "42/42 [==============================] - 0s 4ms/step - loss: 0.0016 - val_loss: 0.0223\n",
            "Epoch 72/100\n",
            "42/42 [==============================] - 0s 4ms/step - loss: 0.0018 - val_loss: 0.0220\n",
            "Epoch 73/100\n",
            "42/42 [==============================] - 0s 4ms/step - loss: 0.0022 - val_loss: 0.0216\n",
            "Epoch 74/100\n",
            "42/42 [==============================] - 0s 4ms/step - loss: 0.0022 - val_loss: 0.0212\n",
            "Epoch 75/100\n",
            "42/42 [==============================] - 0s 4ms/step - loss: 0.0017 - val_loss: 0.0216\n",
            "Epoch 76/100\n",
            "42/42 [==============================] - 0s 3ms/step - loss: 0.0015 - val_loss: 0.0222\n",
            "Epoch 77/100\n",
            "42/42 [==============================] - 0s 4ms/step - loss: 0.0015 - val_loss: 0.0216\n",
            "Epoch 78/100\n",
            "42/42 [==============================] - 0s 3ms/step - loss: 0.0014 - val_loss: 0.0216\n",
            "Epoch 79/100\n",
            "42/42 [==============================] - 0s 4ms/step - loss: 0.0013 - val_loss: 0.0217\n",
            "Epoch 80/100\n",
            "42/42 [==============================] - 0s 3ms/step - loss: 0.0013 - val_loss: 0.0223\n",
            "Epoch 81/100\n",
            "42/42 [==============================] - 0s 4ms/step - loss: 0.0018 - val_loss: 0.0228\n",
            "Epoch 82/100\n",
            "42/42 [==============================] - 0s 4ms/step - loss: 0.0017 - val_loss: 0.0217\n",
            "Epoch 83/100\n",
            "42/42 [==============================] - 0s 4ms/step - loss: 0.0016 - val_loss: 0.0220\n",
            "Epoch 84/100\n",
            "42/42 [==============================] - 0s 3ms/step - loss: 0.0014 - val_loss: 0.0216\n",
            "Epoch 85/100\n",
            "42/42 [==============================] - 0s 4ms/step - loss: 0.0014 - val_loss: 0.0221\n",
            "Epoch 86/100\n",
            "42/42 [==============================] - 0s 4ms/step - loss: 0.0012 - val_loss: 0.0216\n",
            "Epoch 87/100\n",
            "42/42 [==============================] - 0s 3ms/step - loss: 0.0016 - val_loss: 0.0224\n",
            "Epoch 88/100\n",
            "42/42 [==============================] - 0s 3ms/step - loss: 0.0016 - val_loss: 0.0219\n",
            "Epoch 89/100\n",
            "42/42 [==============================] - 0s 3ms/step - loss: 0.0013 - val_loss: 0.0212\n",
            "Epoch 90/100\n",
            "42/42 [==============================] - 0s 3ms/step - loss: 0.0013 - val_loss: 0.0222\n",
            "Epoch 91/100\n",
            "42/42 [==============================] - 0s 4ms/step - loss: 0.0014 - val_loss: 0.0218\n",
            "Epoch 92/100\n",
            "42/42 [==============================] - 0s 6ms/step - loss: 0.0012 - val_loss: 0.0219\n",
            "Epoch 93/100\n",
            "42/42 [==============================] - 0s 5ms/step - loss: 0.0012 - val_loss: 0.0219\n",
            "Epoch 94/100\n",
            "42/42 [==============================] - 0s 5ms/step - loss: 0.0011 - val_loss: 0.0219\n",
            "Epoch 95/100\n",
            "42/42 [==============================] - 0s 5ms/step - loss: 0.0011 - val_loss: 0.0218\n",
            "Epoch 96/100\n",
            "42/42 [==============================] - 0s 5ms/step - loss: 0.0011 - val_loss: 0.0227\n",
            "Epoch 97/100\n",
            "42/42 [==============================] - 0s 4ms/step - loss: 0.0018 - val_loss: 0.0226\n",
            "Epoch 98/100\n",
            "42/42 [==============================] - 0s 6ms/step - loss: 0.0020 - val_loss: 0.0219\n",
            "Epoch 99/100\n",
            "42/42 [==============================] - 0s 5ms/step - loss: 0.0015 - val_loss: 0.0220\n",
            "Epoch 100/100\n",
            "42/42 [==============================] - 0s 5ms/step - loss: 0.0012 - val_loss: 0.0214\n"
          ]
        }
      ],
      "source": [
        "history = model.fit(X_train, y_train, epochs=100, validation_data=(X_test, y_test), batch_size=32)"
      ]
    },
    {
      "cell_type": "code",
      "execution_count": 19,
      "metadata": {
        "colab": {
          "base_uri": "https://localhost:8080/"
        },
        "id": "DrkOqgunM_XB",
        "outputId": "84b40a80-1762-4284-cd65-fce79c29d871"
      },
      "outputs": [
        {
          "output_type": "stream",
          "name": "stdout",
          "text": [
            "1/1 [==============================] - 0s 84ms/step\n",
            "1/1 [==============================] - 0s 41ms/step\n",
            "1/1 [==============================] - 0s 30ms/step\n",
            "1/1 [==============================] - 0s 34ms/step\n",
            "1/1 [==============================] - 0s 36ms/step\n",
            "1/1 [==============================] - 0s 30ms/step\n",
            "1/1 [==============================] - 0s 33ms/step\n",
            "1/1 [==============================] - 0s 35ms/step\n",
            "1/1 [==============================] - 0s 31ms/step\n",
            "1/1 [==============================] - 0s 42ms/step\n",
            "1/1 [==============================] - 0s 43ms/step\n",
            "1/1 [==============================] - 0s 31ms/step\n",
            "1/1 [==============================] - 0s 36ms/step\n",
            "1/1 [==============================] - 0s 32ms/step\n",
            "1/1 [==============================] - 0s 35ms/step\n",
            "1/1 [==============================] - 0s 55ms/step\n",
            "1/1 [==============================] - 0s 30ms/step\n",
            "1/1 [==============================] - 0s 33ms/step\n",
            "1/1 [==============================] - 0s 37ms/step\n",
            "1/1 [==============================] - 0s 38ms/step\n",
            "1/1 [==============================] - 0s 32ms/step\n",
            "1/1 [==============================] - 0s 21ms/step\n",
            "1/1 [==============================] - 0s 24ms/step\n",
            "1/1 [==============================] - 0s 21ms/step\n",
            "1/1 [==============================] - 0s 20ms/step\n",
            "1/1 [==============================] - 0s 21ms/step\n",
            "1/1 [==============================] - 0s 20ms/step\n",
            "1/1 [==============================] - 0s 20ms/step\n",
            "1/1 [==============================] - 0s 22ms/step\n",
            "1/1 [==============================] - 0s 21ms/step\n",
            "Next 30 days PM2.5 predictions: [18.967646 32.641396 31.9694   34.246956 31.993612 30.62664  27.779343\n",
            " 26.37589  24.56249  32.524242 31.914885 38.294025 28.181797 24.303234\n",
            " 22.2825   25.725525 34.651264 35.29022  40.338264 31.79342  29.946762\n",
            " 36.018093 40.4791   47.24177  53.57063  45.021973 44.93712  45.378372\n",
            " 45.58081  42.1542  ]\n"
          ]
        }
      ],
      "source": [
        "# Predict the next 30 days PM2.5 values\n",
        "last_sequence = X_test[-1]\n",
        "predictions = []\n",
        "current_sequence = last_sequence\n",
        "\n",
        "for _ in range(30):\n",
        "    next_value = model.predict(current_sequence[np.newaxis, :, :])[0, 0]\n",
        "    predictions.append(next_value)\n",
        "    current_sequence = np.append(current_sequence[1:], [[next_value]], axis=0)\n",
        "\n",
        "predictions = scaler.inverse_transform(np.array(predictions).reshape(-1, 1))\n",
        "print(\"Next 30 days PM2.5 predictions:\", predictions.flatten())"
      ]
    },
    {
      "cell_type": "code",
      "execution_count": 20,
      "metadata": {
        "colab": {
          "base_uri": "https://localhost:8080/",
          "height": 487
        },
        "id": "1lxpezLDM_XB",
        "outputId": "8fa4087d-c708-4f3c-c2df-e9ebb65873af"
      },
      "outputs": [
        {
          "output_type": "display_data",
          "data": {
            "text/plain": [
              "<Figure size 1000x500 with 1 Axes>"
            ],
            "image/png": "[encoded data removed]"
          },
          "metadata": {}
        }
      ],
      "source": [
        "# Plot the predictions in the original scale\n",
        "plt.figure(figsize=(10, 5))\n",
        "plt.plot(predictions)\n",
        "plt.title('Predicted PM2.5 Values for the Next 30 Days')\n",
        "plt.xlabel('Days')\n",
        "plt.ylabel('Predicted PM2.5 Value')\n",
        "plt.show()"
      ]
    },
    {
      "cell_type": "code",
      "source": [],
      "metadata": {
        "id": "J-tD4nq5OTO6"
      },
      "execution_count": null,
      "outputs": []
    }
  ],
  "metadata": {
    "kernelspec": {
      "display_name": "base",
      "language": "python",
      "name": "python3"
    },
    "language_info": {
      "codemirror_mode": {
        "name": "ipython",
        "version": 3
      },
      "file_extension": ".py",
      "mimetype": "text/x-python",
      "name": "python",
      "nbconvert_exporter": "python",
      "pygments_lexer": "ipython3",
      "version": "3.11.7"
    },
    "colab": {
      "provenance": []
    }
  },
  "nbformat": 4,
  "nbformat_minor": 0
}