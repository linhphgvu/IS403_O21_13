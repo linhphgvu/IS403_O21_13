{
  "cells": [
    {
      "cell_type": "code",
      "execution_count": 1,
      "metadata": {
        "id": "cxghRs5b0-h2"
      },
      "outputs": [
        {
          "name": "stderr",
          "output_type": "stream",
          "text": [
            "c:\\Users\\21521\\AppData\\Local\\Programs\\Python\\Python39\\lib\\site-packages\\tqdm\\auto.py:21: TqdmWarning: IProgress not found. Please update jupyter and ipywidgets. See https://ipywidgets.readthedocs.io/en/stable/user_install.html\n",
            "  from .autonotebook import tqdm as notebook_tqdm\n"
          ]
        }
      ],
      "source": [
        "import pandas as pd\n",
        "import torch\n",
        "from darts import TimeSeries\n",
        "from darts.models import TiDEModel\n",
        "from darts.metrics import mae, rmse, mape\n",
        "import matplotlib.pyplot as plt"
      ]
    },
    {
      "cell_type": "code",
      "execution_count": 2,
      "metadata": {
        "id": "s01hzx380_8V"
      },
      "outputs": [],
      "source": [
        "# Đọc dữ liệu từ file CSV và đảo ngược dữ liệu\n",
        "data = pd.read_csv('viettri_quality.csv')"
      ]
    },
    {
      "cell_type": "code",
      "execution_count": 3,
      "metadata": {},
      "outputs": [],
      "source": [
        "# Tạo cột index mới là số thứ tự của dòng bắt đầu từ 0\n",
        "data['index'] = data.index"
      ]
    },
    {
      "cell_type": "code",
      "execution_count": 4,
      "metadata": {},
      "outputs": [],
      "source": [
        "smo = data['pm25']"
      ]
    },
    {
      "cell_type": "code",
      "execution_count": 5,
      "metadata": {},
      "outputs": [],
      "source": [
        "def smoothed(data):\n",
        "    # Apply moving average filter to smooth the forecasted values\n",
        "    window_size = 5  # You can adjust the window size as needed\n",
        "    series_smoothed = data.rolling(window=window_size).mean()\n",
        "\n",
        "    # Interpolate NaN values resulting from the moving average\n",
        "    series_smoothed_interpolated = series_smoothed.interpolate()\n",
        "\n",
        "    # Fill remaining NaN values\n",
        "    series_smoothed_filled = series_smoothed_interpolated.fillna(method='bfill')  # or 'ffill', or use fillna(value=0)\n",
        "    \n",
        "    return series_smoothed_filled"
      ]
    },
    {
      "cell_type": "code",
      "execution_count": 6,
      "metadata": {},
      "outputs": [
        {
          "name": "stderr",
          "output_type": "stream",
          "text": [
            "C:\\Users\\21521\\AppData\\Local\\Temp\\ipykernel_3612\\3312313537.py:10: FutureWarning: Series.fillna with 'method' is deprecated and will raise in a future version. Use obj.ffill() or obj.bfill() instead.\n",
            "  series_smoothed_filled = series_smoothed_interpolated.fillna(method='bfill')  # or 'ffill', or use fillna(value=0)\n"
          ]
        }
      ],
      "source": [
        "smo = smoothed(smo)"
      ]
    },
    {
      "cell_type": "code",
      "execution_count": 7,
      "metadata": {},
      "outputs": [],
      "source": [
        "data['pm25'] = smo"
      ]
    },
    {
      "cell_type": "code",
      "execution_count": 8,
      "metadata": {
        "id": "TfMrdMZg1CfP"
      },
      "outputs": [],
      "source": [
        "# Chuyển đổi DataFrame thành TimeSeries của Darts\n",
        "series = TimeSeries.from_dataframe(data, 'index', 'pm25')"
      ]
    },
    {
      "cell_type": "code",
      "execution_count": 9,
      "metadata": {
        "id": "fmYZ85-a1Dja"
      },
      "outputs": [],
      "source": [
        "# Chia dữ liệu thành tập huấn luyện và tập kiểm tra theo tỷ lệ 70:30\n",
        "train, test = series.split_after(0.8)\n"
      ]
    },
    {
      "cell_type": "code",
      "execution_count": 10,
      "metadata": {
        "id": "BsQtTfrs1HYN"
      },
      "outputs": [],
      "source": [
        "# Thiết lập tham số cho mô hình\n",
        "optimizer_kwargs = {\n",
        "    \"lr\": 1e-3,\n",
        "}\n",
        "\n",
        "pl_trainer_kwargs = {\n",
        "    \"gradient_clip_val\": 1,\n",
        "    \"max_epochs\": 200,\n",
        "    \"accelerator\": \"auto\",\n",
        "}\n",
        "\n",
        "lr_scheduler_cls = torch.optim.lr_scheduler.ExponentialLR\n",
        "lr_scheduler_kwargs = {\n",
        "    \"gamma\": 0.999,\n",
        "}\n",
        "\n",
        "common_model_args = {\n",
        "    \"input_chunk_length\": 30,\n",
        "    \"output_chunk_length\": 30,\n",
        "    \"optimizer_cls\": torch.optim.Adam,  # Sử dụng Adam optimizer\n",
        "    \"optimizer_kwargs\": optimizer_kwargs,\n",
        "    \"pl_trainer_kwargs\": pl_trainer_kwargs,\n",
        "    \"lr_scheduler_cls\": lr_scheduler_cls,\n",
        "    \"lr_scheduler_kwargs\": lr_scheduler_kwargs,\n",
        "    \"likelihood\": None,\n",
        "    \"save_checkpoints\": True,\n",
        "    \"force_reset\": True,\n",
        "    \"batch_size\": 256,\n",
        "    \"random_state\": 42,\n",
        "}\n"
      ]
    },
    {
      "cell_type": "code",
      "execution_count": 11,
      "metadata": {
        "colab": {
          "base_uri": "https://localhost:8080/"
        },
        "id": "ECtLhcS31Kh5",
        "outputId": "db3e7443-2be2-46df-977e-8be3b2100f85"
      },
      "outputs": [
        {
          "name": "stderr",
          "output_type": "stream",
          "text": [
            "GPU available: True (cuda), used: True\n",
            "TPU available: False, using: 0 TPU cores\n",
            "HPU available: False, using: 0 HPUs\n",
            "c:\\Users\\21521\\AppData\\Local\\Programs\\Python\\Python39\\lib\\site-packages\\pytorch_lightning\\callbacks\\model_checkpoint.py:652: Checkpoint directory C:\\Users\\21521\\OneDrive\\Desktop\\PT\\darts_logs\\tide\\checkpoints exists and is not empty.\n",
            "LOCAL_RANK: 0 - CUDA_VISIBLE_DEVICES: [0]\n",
            "c:\\Users\\21521\\AppData\\Local\\Programs\\Python\\Python39\\lib\\site-packages\\pytorch_lightning\\callbacks\\model_checkpoint.py:382: `ModelCheckpoint(monitor='val_loss')` could not find the monitored key in the returned metrics: ['train_loss', 'epoch', 'step']. HINT: Did you call `log('val_loss', value)` in the `LightningModule`?\n",
            "`Trainer.fit` stopped: `max_epochs=200` reached.\n"
          ]
        },
        {
          "data": {
            "text/plain": [
              "TiDEModel(output_chunk_shift=0, num_encoder_layers=1, num_decoder_layers=1, decoder_output_dim=16, hidden_size=128, temporal_width_past=4, temporal_width_future=4, temporal_decoder_hidden=32, use_layer_norm=False, dropout=0.1, use_static_covariates=True, input_chunk_length=30, output_chunk_length=30, optimizer_cls=<class 'torch.optim.adam.Adam'>, optimizer_kwargs={'lr': 0.001}, pl_trainer_kwargs={'gradient_clip_val': 1, 'max_epochs': 200, 'accelerator': 'auto'}, lr_scheduler_cls=<class 'torch.optim.lr_scheduler.ExponentialLR'>, lr_scheduler_kwargs={'gamma': 0.999}, likelihood=None, save_checkpoints=True, force_reset=True, batch_size=256, random_state=42, use_reversible_instance_norm=False, model_name=tide)"
            ]
          },
          "execution_count": 11,
          "metadata": {},
          "output_type": "execute_result"
        }
      ],
      "source": [
        "# Tạo và huấn luyện mô hình TiDE\n",
        "model_tide = TiDEModel(\n",
        "    **common_model_args, use_reversible_instance_norm=False, model_name=\"tide\"\n",
        ")\n",
        "\n",
        "model_tide.fit(series=train, verbose=False)"
      ]
    },
    {
      "cell_type": "code",
      "execution_count": 12,
      "metadata": {
        "colab": {
          "base_uri": "https://localhost:8080/",
          "height": 220,
          "referenced_widgets": [
            "21637ec8f18944af84a8b98832baa1dc",
            "4ce74ef83ae7485da553d5ada5660163",
            "3486347f91f34042af571ebf391f3e24",
            "389bc8ac10014835b6746bdfd6afcf54",
            "4efa3b3cf0924320b6982f2e1da3af14",
            "47b2b0c3c10546eb90de15ee74bbec41",
            "0700a85c4cad440d8c4a911bea3cd189",
            "2bb83548344b497aaf05df46cae62a38",
            "53c46a7f479e4212bccb5563683d6b90",
            "27ae52ca976242c29a0ff08d1c8968c2",
            "5838f3ef907c4adaaba5618e218b3733",
            "42837fbe710f4a339eda3f5d1eb73842",
            "dc8ccace8ce54ad5bdfc508de73f5670",
            "3a39cc26745f4cc9a92840a232cdebfd",
            "bc8dd337cef14e0bafc99ab31ca7c116",
            "d572f474cb644d2c95dd320d00f7956a",
            "d4b3a98cbce24093b346fc7638abc7e1",
            "c5a38f38fa104abeaf86bda79ee29b44",
            "6a49a923d9d042f5a92dcafd2d90f85f",
            "a5490517b7524b8a8042e399c327e6f5",
            "c5b2377d503646ea8b9835756fbbab8d",
            "4170ab434a674c8e858518ed7bba6106"
          ]
        },
        "id": "64PrKBWO1KXX",
        "outputId": "5149fb70-8c06-497b-e6b3-0dfc21032230"
      },
      "outputs": [
        {
          "name": "stderr",
          "output_type": "stream",
          "text": [
            "GPU available: True (cuda), used: True\n",
            "TPU available: False, using: 0 TPU cores\n",
            "HPU available: False, using: 0 HPUs\n",
            "LOCAL_RANK: 0 - CUDA_VISIBLE_DEVICES: [0]\n"
          ]
        },
        {
          "name": "stdout",
          "output_type": "stream",
          "text": [
            "Predicting DataLoader 0: 100%|██████████| 1/1 [00:00<00:00, 31.25it/s]"
          ]
        },
        {
          "name": "stderr",
          "output_type": "stream",
          "text": [
            "GPU available: True (cuda), used: True\n",
            "TPU available: False, using: 0 TPU cores\n",
            "HPU available: False, using: 0 HPUs\n",
            "LOCAL_RANK: 0 - CUDA_VISIBLE_DEVICES: [0]\n"
          ]
        },
        {
          "name": "stdout",
          "output_type": "stream",
          "text": [
            "\n",
            "Predicting DataLoader 0: 100%|██████████| 1/1 [00:00<00:00, 90.76it/s] \n"
          ]
        }
      ],
      "source": [
        "# Dự đoán và đánh giá mô hình\n",
        "pred_steps = len(test)\n",
        "pred_input = train\n",
        "# Dự đoán\n",
        "pred_series = model_tide.predict(n=pred_steps, series=pred_input)\n",
        "# Dự đoán 90 ngày tiếp theo\n",
        "last_index = data.index[-1]\n",
        "future = TimeSeries.from_dataframe(pd.DataFrame({'index': range(last_index + 1, last_index + 91)}), 'index')\n",
        "pred_future = model_tide.predict(n=90, series=series)"
      ]
    },
    {
      "cell_type": "code",
      "execution_count": 13,
      "metadata": {},
      "outputs": [],
      "source": [
        "pred = pred_series.pd_dataframe()"
      ]
    },
    {
      "cell_type": "code",
      "execution_count": 14,
      "metadata": {},
      "outputs": [
        {
          "name": "stderr",
          "output_type": "stream",
          "text": [
            "C:\\Users\\21521\\AppData\\Local\\Temp\\ipykernel_3612\\3312313537.py:10: FutureWarning: DataFrame.fillna with 'method' is deprecated and will raise in a future version. Use obj.ffill() or obj.bfill() instead.\n",
            "  series_smoothed_filled = series_smoothed_interpolated.fillna(method='bfill')  # or 'ffill', or use fillna(value=0)\n"
          ]
        }
      ],
      "source": [
        "pred = smoothed(pred)"
      ]
    },
    {
      "cell_type": "code",
      "execution_count": 15,
      "metadata": {},
      "outputs": [],
      "source": [
        "pred = TimeSeries.from_dataframe(pred, None, 'pm25')"
      ]
    },
    {
      "cell_type": "code",
      "execution_count": 16,
      "metadata": {},
      "outputs": [],
      "source": [
        "# Tách dữ liệu dự đoán thành 3 phần\n",
        "pred_future_1_30 = pred_future[:30]\n",
        "pred_future_31_60 = pred_future[30:60]\n",
        "pred_future_61_90 = pred_future[60:]"
      ]
    },
    {
      "cell_type": "code",
      "execution_count": 17,
      "metadata": {
        "colab": {
          "base_uri": "https://localhost:8080/"
        },
        "id": "IYw7LwhHr4wL",
        "outputId": "02be7857-e655-43bd-ee52-6a118c6c6082"
      },
      "outputs": [
        {
          "name": "stdout",
          "output_type": "stream",
          "text": [
            "MAE: 24.66518705437721\n",
            "RMSE: 30.239362739878988\n",
            "MAPE: 60.67256389922934\n"
          ]
        }
      ],
      "source": [
        "# Tính toán các chỉ số lỗi\n",
        "mae_value = mae(test, pred)\n",
        "rmse_value = rmse(test, pred)\n",
        "mape_value = mape(test, pred)\n",
        "\n",
        "# Hiển thị kết quả\n",
        "print(f\"MAE: {mae_value}\")\n",
        "print(f\"RMSE: {rmse_value}\")\n",
        "print(f\"MAPE: {mape_value}\")"
      ]
    },
    {
      "cell_type": "code",
      "execution_count": 18,
      "metadata": {},
      "outputs": [
        {
          "data": {
            "image/png": "[encoded data removed]",
            "text/plain": [
              "<Figure size 1000x600 with 1 Axes>"
            ]
          },
          "metadata": {},
          "output_type": "display_data"
        }
      ],
      "source": [
        "# Vẽ biểu đồ\n",
        "fig, ax = plt.subplots(figsize=(10, 6))\n",
        "\n",
        "# Vẽ tập huấn luyện\n",
        "train.plot(label='Train', ax=ax, lw=1, color='blue')\n",
        "\n",
        "# Vẽ tập kiểm tra\n",
        "test.plot(label='Test', ax=ax, lw=1, color='orange')\n",
        "\n",
        "# Vẽ giá trị dự đoán\n",
        "pred.plot(label='Predictions', ax=ax, lw=1, color='green')\n",
        "\n",
        "# Vẽ giá trị dự đoán cho 90 ngày tiếp theo với 3 màu khác nhau\n",
        "pred_future_1_30.plot(label='Next 1-30 Days', ax=ax, lw=1, color='red')\n",
        "pred_future_31_60.plot(label='Next 31-60 Days', ax=ax, lw=1, color='purple')\n",
        "pred_future_61_90.plot(label='Next 61-90 Days', ax=ax, lw=1, color='brown')\n",
        "\n",
        "# Đặt nhãn cho trục x là các index\n",
        "ax.set_xlabel(\"Days\")\n",
        "ax.set_ylabel(\"PM2.5\")\n",
        "ax.legend()\n",
        "\n",
        "# Hiển thị các nhãn index trên trục x cho dễ đọc\n",
        "plt.xticks(rotation=45)\n",
        "plt.title('TiDE Model PM2.5 Forecast: Viet Tri - 8:2')\n",
        "plt.show()"
      ]
    },
    {
      "cell_type": "code",
      "execution_count": 19,
      "metadata": {
        "colab": {
          "base_uri": "https://localhost:8080/",
          "height": 410
        },
        "id": "aMZHYGJl51-N",
        "outputId": "8f5c8bbb-3a2b-4de8-a164-85af2b54ea11"
      },
      "outputs": [
        {
          "data": {
            "image/png": "[encoded data removed]",
            "text/plain": [
              "<Figure size 1000x500 with 1 Axes>"
            ]
          },
          "metadata": {},
          "output_type": "display_data"
        }
      ],
      "source": [
        "# Vẽ biểu đồ dự đoán 90 ngày tiếp theo\n",
        "fig, ax = plt.subplots(figsize=(10, 5))\n",
        "\n",
        "# Vẽ giá trị dự đoán cho 90 ngày tiếp theo với 3 màu khác nhau\n",
        "pred_future_1_30.plot(label='Next 1-30 Days', ax=ax, lw=1, color='red')\n",
        "pred_future_31_60.plot(label='Next 31-60 Days', ax=ax, lw=1, color='purple')\n",
        "pred_future_61_90.plot(label='Next 61-90 Days', ax=ax, lw=1, color='brown')\n",
        "\n",
        "ax.set_xlabel(\"Days\")\n",
        "ax.set_ylabel(\"PM2.5\")\n",
        "ax.legend()\n",
        "\n",
        "plt.xticks(rotation=45)\n",
        "plt.title('TiDE Model PM2.5 Forecast for Next 90 Days: Viet Tri- 8:2')\n",
        "plt.show()"
      ]
    }
  ],
  "metadata": {
    "colab": {
      "provenance": []
    },
    "kernelspec": {
      "display_name": "Python 3",
      "name": "python3"
    },
    "language_info": {
      "codemirror_mode": {
        "name": "ipython",
        "version": 3
      },
      "file_extension": ".py",
      "mimetype": "text/x-python",
      "name": "python",
      "nbconvert_exporter": "python",
      "pygments_lexer": "ipython3",
      "version": "3.9.2rc1"
    },
    "widgets": {
      "application/vnd.jupyter.widget-state+json": {
        "0700a85c4cad440d8c4a911bea3cd189": {
          "model_module": "@jupyter-widgets/controls",
          "model_module_version": "1.5.0",
          "model_name": "DescriptionStyleModel",
          "state": {
            "_model_module": "@jupyter-widgets/controls",
            "_model_module_version": "1.5.0",
            "_model_name": "DescriptionStyleModel",
            "_view_count": null,
            "_view_module": "@jupyter-widgets/base",
            "_view_module_version": "1.2.0",
            "_view_name": "StyleView",
            "description_width": ""
          }
        },
        "21637ec8f18944af84a8b98832baa1dc": {
          "model_module": "@jupyter-widgets/controls",
          "model_module_version": "1.5.0",
          "model_name": "HBoxModel",
          "state": {
            "_dom_classes": [],
            "_model_module": "@jupyter-widgets/controls",
            "_model_module_version": "1.5.0",
            "_model_name": "HBoxModel",
            "_view_count": null,
            "_view_module": "@jupyter-widgets/controls",
            "_view_module_version": "1.5.0",
            "_view_name": "HBoxView",
            "box_style": "",
            "children": [
              "IPY_MODEL_4ce74ef83ae7485da553d5ada5660163",
              "IPY_MODEL_3486347f91f34042af571ebf391f3e24",
              "IPY_MODEL_389bc8ac10014835b6746bdfd6afcf54"
            ],
            "layout": "IPY_MODEL_4efa3b3cf0924320b6982f2e1da3af14"
          }
        },
        "27ae52ca976242c29a0ff08d1c8968c2": {
          "model_module": "@jupyter-widgets/base",
          "model_module_version": "1.2.0",
          "model_name": "LayoutModel",
          "state": {
            "_model_module": "@jupyter-widgets/base",
            "_model_module_version": "1.2.0",
            "_model_name": "LayoutModel",
            "_view_count": null,
            "_view_module": "@jupyter-widgets/base",
            "_view_module_version": "1.2.0",
            "_view_name": "LayoutView",
            "align_content": null,
            "align_items": null,
            "align_self": null,
            "border": null,
            "bottom": null,
            "display": null,
            "flex": null,
            "flex_flow": null,
            "grid_area": null,
            "grid_auto_columns": null,
            "grid_auto_flow": null,
            "grid_auto_rows": null,
            "grid_column": null,
            "grid_gap": null,
            "grid_row": null,
            "grid_template_areas": null,
            "grid_template_columns": null,
            "grid_template_rows": null,
            "height": null,
            "justify_content": null,
            "justify_items": null,
            "left": null,
            "margin": null,
            "max_height": null,
            "max_width": null,
            "min_height": null,
            "min_width": null,
            "object_fit": null,
            "object_position": null,
            "order": null,
            "overflow": null,
            "overflow_x": null,
            "overflow_y": null,
            "padding": null,
            "right": null,
            "top": null,
            "visibility": null,
            "width": null
          }
        },
        "2bb83548344b497aaf05df46cae62a38": {
          "model_module": "@jupyter-widgets/base",
          "model_module_version": "1.2.0",
          "model_name": "LayoutModel",
          "state": {
            "_model_module": "@jupyter-widgets/base",
            "_model_module_version": "1.2.0",
            "_model_name": "LayoutModel",
            "_view_count": null,
            "_view_module": "@jupyter-widgets/base",
            "_view_module_version": "1.2.0",
            "_view_name": "LayoutView",
            "align_content": null,
            "align_items": null,
            "align_self": null,
            "border": null,
            "bottom": null,
            "display": null,
            "flex": "2",
            "flex_flow": null,
            "grid_area": null,
            "grid_auto_columns": null,
            "grid_auto_flow": null,
            "grid_auto_rows": null,
            "grid_column": null,
            "grid_gap": null,
            "grid_row": null,
            "grid_template_areas": null,
            "grid_template_columns": null,
            "grid_template_rows": null,
            "height": null,
            "justify_content": null,
            "justify_items": null,
            "left": null,
            "margin": null,
            "max_height": null,
            "max_width": null,
            "min_height": null,
            "min_width": null,
            "object_fit": null,
            "object_position": null,
            "order": null,
            "overflow": null,
            "overflow_x": null,
            "overflow_y": null,
            "padding": null,
            "right": null,
            "top": null,
            "visibility": null,
            "width": null
          }
        },
        "3486347f91f34042af571ebf391f3e24": {
          "model_module": "@jupyter-widgets/controls",
          "model_module_version": "1.5.0",
          "model_name": "FloatProgressModel",
          "state": {
            "_dom_classes": [],
            "_model_module": "@jupyter-widgets/controls",
            "_model_module_version": "1.5.0",
            "_model_name": "FloatProgressModel",
            "_view_count": null,
            "_view_module": "@jupyter-widgets/controls",
            "_view_module_version": "1.5.0",
            "_view_name": "ProgressView",
            "bar_style": "success",
            "description": "",
            "description_tooltip": null,
            "layout": "IPY_MODEL_2bb83548344b497aaf05df46cae62a38",
            "max": 1,
            "min": 0,
            "orientation": "horizontal",
            "style": "IPY_MODEL_53c46a7f479e4212bccb5563683d6b90",
            "value": 1
          }
        },
        "389bc8ac10014835b6746bdfd6afcf54": {
          "model_module": "@jupyter-widgets/controls",
          "model_module_version": "1.5.0",
          "model_name": "HTMLModel",
          "state": {
            "_dom_classes": [],
            "_model_module": "@jupyter-widgets/controls",
            "_model_module_version": "1.5.0",
            "_model_name": "HTMLModel",
            "_view_count": null,
            "_view_module": "@jupyter-widgets/controls",
            "_view_module_version": "1.5.0",
            "_view_name": "HTMLView",
            "description": "",
            "description_tooltip": null,
            "layout": "IPY_MODEL_27ae52ca976242c29a0ff08d1c8968c2",
            "placeholder": "​",
            "style": "IPY_MODEL_5838f3ef907c4adaaba5618e218b3733",
            "value": " 1/1 [00:00&lt;00:00, 65.97it/s]"
          }
        },
        "3a39cc26745f4cc9a92840a232cdebfd": {
          "model_module": "@jupyter-widgets/controls",
          "model_module_version": "1.5.0",
          "model_name": "FloatProgressModel",
          "state": {
            "_dom_classes": [],
            "_model_module": "@jupyter-widgets/controls",
            "_model_module_version": "1.5.0",
            "_model_name": "FloatProgressModel",
            "_view_count": null,
            "_view_module": "@jupyter-widgets/controls",
            "_view_module_version": "1.5.0",
            "_view_name": "ProgressView",
            "bar_style": "success",
            "description": "",
            "description_tooltip": null,
            "layout": "IPY_MODEL_6a49a923d9d042f5a92dcafd2d90f85f",
            "max": 1,
            "min": 0,
            "orientation": "horizontal",
            "style": "IPY_MODEL_a5490517b7524b8a8042e399c327e6f5",
            "value": 1
          }
        },
        "4170ab434a674c8e858518ed7bba6106": {
          "model_module": "@jupyter-widgets/controls",
          "model_module_version": "1.5.0",
          "model_name": "DescriptionStyleModel",
          "state": {
            "_model_module": "@jupyter-widgets/controls",
            "_model_module_version": "1.5.0",
            "_model_name": "DescriptionStyleModel",
            "_view_count": null,
            "_view_module": "@jupyter-widgets/base",
            "_view_module_version": "1.2.0",
            "_view_name": "StyleView",
            "description_width": ""
          }
        },
        "42837fbe710f4a339eda3f5d1eb73842": {
          "model_module": "@jupyter-widgets/controls",
          "model_module_version": "1.5.0",
          "model_name": "HBoxModel",
          "state": {
            "_dom_classes": [],
            "_model_module": "@jupyter-widgets/controls",
            "_model_module_version": "1.5.0",
            "_model_name": "HBoxModel",
            "_view_count": null,
            "_view_module": "@jupyter-widgets/controls",
            "_view_module_version": "1.5.0",
            "_view_name": "HBoxView",
            "box_style": "",
            "children": [
              "IPY_MODEL_dc8ccace8ce54ad5bdfc508de73f5670",
              "IPY_MODEL_3a39cc26745f4cc9a92840a232cdebfd",
              "IPY_MODEL_bc8dd337cef14e0bafc99ab31ca7c116"
            ],
            "layout": "IPY_MODEL_d572f474cb644d2c95dd320d00f7956a"
          }
        },
        "47b2b0c3c10546eb90de15ee74bbec41": {
          "model_module": "@jupyter-widgets/base",
          "model_module_version": "1.2.0",
          "model_name": "LayoutModel",
          "state": {
            "_model_module": "@jupyter-widgets/base",
            "_model_module_version": "1.2.0",
            "_model_name": "LayoutModel",
            "_view_count": null,
            "_view_module": "@jupyter-widgets/base",
            "_view_module_version": "1.2.0",
            "_view_name": "LayoutView",
            "align_content": null,
            "align_items": null,
            "align_self": null,
            "border": null,
            "bottom": null,
            "display": null,
            "flex": null,
            "flex_flow": null,
            "grid_area": null,
            "grid_auto_columns": null,
            "grid_auto_flow": null,
            "grid_auto_rows": null,
            "grid_column": null,
            "grid_gap": null,
            "grid_row": null,
            "grid_template_areas": null,
            "grid_template_columns": null,
            "grid_template_rows": null,
            "height": null,
            "justify_content": null,
            "justify_items": null,
            "left": null,
            "margin": null,
            "max_height": null,
            "max_width": null,
            "min_height": null,
            "min_width": null,
            "object_fit": null,
            "object_position": null,
            "order": null,
            "overflow": null,
            "overflow_x": null,
            "overflow_y": null,
            "padding": null,
            "right": null,
            "top": null,
            "visibility": null,
            "width": null
          }
        },
        "4ce74ef83ae7485da553d5ada5660163": {
          "model_module": "@jupyter-widgets/controls",
          "model_module_version": "1.5.0",
          "model_name": "HTMLModel",
          "state": {
            "_dom_classes": [],
            "_model_module": "@jupyter-widgets/controls",
            "_model_module_version": "1.5.0",
            "_model_name": "HTMLModel",
            "_view_count": null,
            "_view_module": "@jupyter-widgets/controls",
            "_view_module_version": "1.5.0",
            "_view_name": "HTMLView",
            "description": "",
            "description_tooltip": null,
            "layout": "IPY_MODEL_47b2b0c3c10546eb90de15ee74bbec41",
            "placeholder": "​",
            "style": "IPY_MODEL_0700a85c4cad440d8c4a911bea3cd189",
            "value": "Predicting DataLoader 0: 100%"
          }
        },
        "4efa3b3cf0924320b6982f2e1da3af14": {
          "model_module": "@jupyter-widgets/base",
          "model_module_version": "1.2.0",
          "model_name": "LayoutModel",
          "state": {
            "_model_module": "@jupyter-widgets/base",
            "_model_module_version": "1.2.0",
            "_model_name": "LayoutModel",
            "_view_count": null,
            "_view_module": "@jupyter-widgets/base",
            "_view_module_version": "1.2.0",
            "_view_name": "LayoutView",
            "align_content": null,
            "align_items": null,
            "align_self": null,
            "border": null,
            "bottom": null,
            "display": "inline-flex",
            "flex": null,
            "flex_flow": "row wrap",
            "grid_area": null,
            "grid_auto_columns": null,
            "grid_auto_flow": null,
            "grid_auto_rows": null,
            "grid_column": null,
            "grid_gap": null,
            "grid_row": null,
            "grid_template_areas": null,
            "grid_template_columns": null,
            "grid_template_rows": null,
            "height": null,
            "justify_content": null,
            "justify_items": null,
            "left": null,
            "margin": null,
            "max_height": null,
            "max_width": null,
            "min_height": null,
            "min_width": null,
            "object_fit": null,
            "object_position": null,
            "order": null,
            "overflow": null,
            "overflow_x": null,
            "overflow_y": null,
            "padding": null,
            "right": null,
            "top": null,
            "visibility": null,
            "width": "100%"
          }
        },
        "53c46a7f479e4212bccb5563683d6b90": {
          "model_module": "@jupyter-widgets/controls",
          "model_module_version": "1.5.0",
          "model_name": "ProgressStyleModel",
          "state": {
            "_model_module": "@jupyter-widgets/controls",
            "_model_module_version": "1.5.0",
            "_model_name": "ProgressStyleModel",
            "_view_count": null,
            "_view_module": "@jupyter-widgets/base",
            "_view_module_version": "1.2.0",
            "_view_name": "StyleView",
            "bar_color": null,
            "description_width": ""
          }
        },
        "5838f3ef907c4adaaba5618e218b3733": {
          "model_module": "@jupyter-widgets/controls",
          "model_module_version": "1.5.0",
          "model_name": "DescriptionStyleModel",
          "state": {
            "_model_module": "@jupyter-widgets/controls",
            "_model_module_version": "1.5.0",
            "_model_name": "DescriptionStyleModel",
            "_view_count": null,
            "_view_module": "@jupyter-widgets/base",
            "_view_module_version": "1.2.0",
            "_view_name": "StyleView",
            "description_width": ""
          }
        },
        "6a49a923d9d042f5a92dcafd2d90f85f": {
          "model_module": "@jupyter-widgets/base",
          "model_module_version": "1.2.0",
          "model_name": "LayoutModel",
          "state": {
            "_model_module": "@jupyter-widgets/base",
            "_model_module_version": "1.2.0",
            "_model_name": "LayoutModel",
            "_view_count": null,
            "_view_module": "@jupyter-widgets/base",
            "_view_module_version": "1.2.0",
            "_view_name": "LayoutView",
            "align_content": null,
            "align_items": null,
            "align_self": null,
            "border": null,
            "bottom": null,
            "display": null,
            "flex": "2",
            "flex_flow": null,
            "grid_area": null,
            "grid_auto_columns": null,
            "grid_auto_flow": null,
            "grid_auto_rows": null,
            "grid_column": null,
            "grid_gap": null,
            "grid_row": null,
            "grid_template_areas": null,
            "grid_template_columns": null,
            "grid_template_rows": null,
            "height": null,
            "justify_content": null,
            "justify_items": null,
            "left": null,
            "margin": null,
            "max_height": null,
            "max_width": null,
            "min_height": null,
            "min_width": null,
            "object_fit": null,
            "object_position": null,
            "order": null,
            "overflow": null,
            "overflow_x": null,
            "overflow_y": null,
            "padding": null,
            "right": null,
            "top": null,
            "visibility": null,
            "width": null
          }
        },
        "a5490517b7524b8a8042e399c327e6f5": {
          "model_module": "@jupyter-widgets/controls",
          "model_module_version": "1.5.0",
          "model_name": "ProgressStyleModel",
          "state": {
            "_model_module": "@jupyter-widgets/controls",
            "_model_module_version": "1.5.0",
            "_model_name": "ProgressStyleModel",
            "_view_count": null,
            "_view_module": "@jupyter-widgets/base",
            "_view_module_version": "1.2.0",
            "_view_name": "StyleView",
            "bar_color": null,
            "description_width": ""
          }
        },
        "bc8dd337cef14e0bafc99ab31ca7c116": {
          "model_module": "@jupyter-widgets/controls",
          "model_module_version": "1.5.0",
          "model_name": "HTMLModel",
          "state": {
            "_dom_classes": [],
            "_model_module": "@jupyter-widgets/controls",
            "_model_module_version": "1.5.0",
            "_model_name": "HTMLModel",
            "_view_count": null,
            "_view_module": "@jupyter-widgets/controls",
            "_view_module_version": "1.5.0",
            "_view_name": "HTMLView",
            "description": "",
            "description_tooltip": null,
            "layout": "IPY_MODEL_c5b2377d503646ea8b9835756fbbab8d",
            "placeholder": "​",
            "style": "IPY_MODEL_4170ab434a674c8e858518ed7bba6106",
            "value": " 1/1 [00:00&lt;00:00, 66.78it/s]"
          }
        },
        "c5a38f38fa104abeaf86bda79ee29b44": {
          "model_module": "@jupyter-widgets/controls",
          "model_module_version": "1.5.0",
          "model_name": "DescriptionStyleModel",
          "state": {
            "_model_module": "@jupyter-widgets/controls",
            "_model_module_version": "1.5.0",
            "_model_name": "DescriptionStyleModel",
            "_view_count": null,
            "_view_module": "@jupyter-widgets/base",
            "_view_module_version": "1.2.0",
            "_view_name": "StyleView",
            "description_width": ""
          }
        },
        "c5b2377d503646ea8b9835756fbbab8d": {
          "model_module": "@jupyter-widgets/base",
          "model_module_version": "1.2.0",
          "model_name": "LayoutModel",
          "state": {
            "_model_module": "@jupyter-widgets/base",
            "_model_module_version": "1.2.0",
            "_model_name": "LayoutModel",
            "_view_count": null,
            "_view_module": "@jupyter-widgets/base",
            "_view_module_version": "1.2.0",
            "_view_name": "LayoutView",
            "align_content": null,
            "align_items": null,
            "align_self": null,
            "border": null,
            "bottom": null,
            "display": null,
            "flex": null,
            "flex_flow": null,
            "grid_area": null,
            "grid_auto_columns": null,
            "grid_auto_flow": null,
            "grid_auto_rows": null,
            "grid_column": null,
            "grid_gap": null,
            "grid_row": null,
            "grid_template_areas": null,
            "grid_template_columns": null,
            "grid_template_rows": null,
            "height": null,
            "justify_content": null,
            "justify_items": null,
            "left": null,
            "margin": null,
            "max_height": null,
            "max_width": null,
            "min_height": null,
            "min_width": null,
            "object_fit": null,
            "object_position": null,
            "order": null,
            "overflow": null,
            "overflow_x": null,
            "overflow_y": null,
            "padding": null,
            "right": null,
            "top": null,
            "visibility": null,
            "width": null
          }
        },
        "d4b3a98cbce24093b346fc7638abc7e1": {
          "model_module": "@jupyter-widgets/base",
          "model_module_version": "1.2.0",
          "model_name": "LayoutModel",
          "state": {
            "_model_module": "@jupyter-widgets/base",
            "_model_module_version": "1.2.0",
            "_model_name": "LayoutModel",
            "_view_count": null,
            "_view_module": "@jupyter-widgets/base",
            "_view_module_version": "1.2.0",
            "_view_name": "LayoutView",
            "align_content": null,
            "align_items": null,
            "align_self": null,
            "border": null,
            "bottom": null,
            "display": null,
            "flex": null,
            "flex_flow": null,
            "grid_area": null,
            "grid_auto_columns": null,
            "grid_auto_flow": null,
            "grid_auto_rows": null,
            "grid_column": null,
            "grid_gap": null,
            "grid_row": null,
            "grid_template_areas": null,
            "grid_template_columns": null,
            "grid_template_rows": null,
            "height": null,
            "justify_content": null,
            "justify_items": null,
            "left": null,
            "margin": null,
            "max_height": null,
            "max_width": null,
            "min_height": null,
            "min_width": null,
            "object_fit": null,
            "object_position": null,
            "order": null,
            "overflow": null,
            "overflow_x": null,
            "overflow_y": null,
            "padding": null,
            "right": null,
            "top": null,
            "visibility": null,
            "width": null
          }
        },
        "d572f474cb644d2c95dd320d00f7956a": {
          "model_module": "@jupyter-widgets/base",
          "model_module_version": "1.2.0",
          "model_name": "LayoutModel",
          "state": {
            "_model_module": "@jupyter-widgets/base",
            "_model_module_version": "1.2.0",
            "_model_name": "LayoutModel",
            "_view_count": null,
            "_view_module": "@jupyter-widgets/base",
            "_view_module_version": "1.2.0",
            "_view_name": "LayoutView",
            "align_content": null,
            "align_items": null,
            "align_self": null,
            "border": null,
            "bottom": null,
            "display": "inline-flex",
            "flex": null,
            "flex_flow": "row wrap",
            "grid_area": null,
            "grid_auto_columns": null,
            "grid_auto_flow": null,
            "grid_auto_rows": null,
            "grid_column": null,
            "grid_gap": null,
            "grid_row": null,
            "grid_template_areas": null,
            "grid_template_columns": null,
            "grid_template_rows": null,
            "height": null,
            "justify_content": null,
            "justify_items": null,
            "left": null,
            "margin": null,
            "max_height": null,
            "max_width": null,
            "min_height": null,
            "min_width": null,
            "object_fit": null,
            "object_position": null,
            "order": null,
            "overflow": null,
            "overflow_x": null,
            "overflow_y": null,
            "padding": null,
            "right": null,
            "top": null,
            "visibility": null,
            "width": "100%"
          }
        },
        "dc8ccace8ce54ad5bdfc508de73f5670": {
          "model_module": "@jupyter-widgets/controls",
          "model_module_version": "1.5.0",
          "model_name": "HTMLModel",
          "state": {
            "_dom_classes": [],
            "_model_module": "@jupyter-widgets/controls",
            "_model_module_version": "1.5.0",
            "_model_name": "HTMLModel",
            "_view_count": null,
            "_view_module": "@jupyter-widgets/controls",
            "_view_module_version": "1.5.0",
            "_view_name": "HTMLView",
            "description": "",
            "description_tooltip": null,
            "layout": "IPY_MODEL_d4b3a98cbce24093b346fc7638abc7e1",
            "placeholder": "​",
            "style": "IPY_MODEL_c5a38f38fa104abeaf86bda79ee29b44",
            "value": "Predicting DataLoader 0: 100%"
          }
        }
      }
    }
  },
  "nbformat": 4,
  "nbformat_minor": 0
}
