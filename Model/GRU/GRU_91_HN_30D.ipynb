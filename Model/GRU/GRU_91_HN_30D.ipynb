{
  "cells": [
    {
      "cell_type": "code",
      "execution_count": 15,
      "metadata": {
        "id": "k-xN0PdsC-Ji"
      },
      "outputs": [],
      "source": [
        "import pandas as pd\n",
        "import numpy as np\n",
        "import tensorflow as tf\n",
        "from sklearn.preprocessing import MinMaxScaler\n",
        "from tensorflow.keras.models import Sequential\n",
        "from tensorflow.keras.layers import GRU, Dense\n",
        "from tensorflow.keras.callbacks import EarlyStopping"
      ]
    },
    {
      "cell_type": "code",
      "execution_count": 16,
      "metadata": {
        "colab": {
          "base_uri": "https://localhost:8080/"
        },
        "id": "xL4flBl1DAg-",
        "outputId": "a1e160f1-c916-4304-fd9f-a85949c7136c"
      },
      "outputs": [
        {
          "name": "stdout",
          "output_type": "stream",
          "text": [
            "Drive already mounted at /content/drive; to attempt to forcibly remount, call drive.mount(\"/content/drive\", force_remount=True).\n"
          ]
        }
      ],
      "source": [
        "from google.colab import drive\n",
        "drive.mount('/content/drive')"
      ]
    },
    {
      "cell_type": "code",
      "execution_count": 35,
      "metadata": {
        "id": "oaMzbG30C-Jj"
      },
      "outputs": [],
      "source": [
        "data = pd.read_csv('/content/drive/My Drive/data/hanoi_quality.csv', index_col='date')"
      ]
    },
    {
      "cell_type": "code",
      "execution_count": 39,
      "metadata": {
        "id": "4-XHxJj4C-Jj"
      },
      "outputs": [],
      "source": [
        "scaler = MinMaxScaler(feature_range=(0, 1))\n",
        "data['pm25'] = scaler.fit_transform(data[['pm25']])"
      ]
    },
    {
      "cell_type": "code",
      "execution_count": 40,
      "metadata": {
        "id": "GkcAdQPiC-Jj"
      },
      "outputs": [],
      "source": [
        "def create_sequences(data, seq_length):\n",
        "    xs = []\n",
        "    ys = []\n",
        "    for i in range(len(data) - seq_length):\n",
        "        x = data[i:i+seq_length]\n",
        "        y = data[i+seq_length]\n",
        "        xs.append(x)\n",
        "        ys.append(y)\n",
        "    return np.array(xs), np.array(ys)\n",
        "\n",
        "SEQ_LENGTH = 30\n",
        "X, y = create_sequences(data['pm25'].values, SEQ_LENGTH)"
      ]
    },
    {
      "cell_type": "code",
      "execution_count": 41,
      "metadata": {
        "id": "c-d14KLWC-Jk"
      },
      "outputs": [],
      "source": [
        "split = int(len(X) * 0.9)\n",
        "X_train, X_test = X[:split], X[split:]\n",
        "y_train, y_test = y[:split], y[split:]"
      ]
    },
    {
      "cell_type": "code",
      "execution_count": 42,
      "metadata": {
        "id": "NpCEgtZnC-Jk"
      },
      "outputs": [],
      "source": [
        "model = Sequential()\n",
        "model.add(GRU(50, return_sequences=False, input_shape=(SEQ_LENGTH, 1)))\n",
        "model.add(Dense(1))\n",
        "\n",
        "model.compile(optimizer='adam', loss='mean_squared_error')"
      ]
    },
    {
      "cell_type": "code",
      "execution_count": 43,
      "metadata": {
        "colab": {
          "base_uri": "https://localhost:8080/"
        },
        "id": "Mku6-sfuC-Jk",
        "outputId": "dc49e4be-4e6c-427b-891a-52d20c4db8aa"
      },
      "outputs": [
        {
          "name": "stdout",
          "output_type": "stream",
          "text": [
            "Epoch 1/100\n",
            "43/43 [==============================] - 3s 29ms/step - loss: 0.0228 - val_loss: 0.0221\n",
            "Epoch 2/100\n",
            "43/43 [==============================] - 1s 18ms/step - loss: 0.0160 - val_loss: 0.0196\n",
            "Epoch 3/100\n",
            "43/43 [==============================] - 1s 19ms/step - loss: 0.0153 - val_loss: 0.0185\n",
            "Epoch 4/100\n",
            "43/43 [==============================] - 1s 25ms/step - loss: 0.0149 - val_loss: 0.0203\n",
            "Epoch 5/100\n",
            "43/43 [==============================] - 1s 24ms/step - loss: 0.0149 - val_loss: 0.0172\n",
            "Epoch 6/100\n",
            "43/43 [==============================] - 1s 27ms/step - loss: 0.0144 - val_loss: 0.0168\n",
            "Epoch 7/100\n",
            "43/43 [==============================] - 1s 28ms/step - loss: 0.0143 - val_loss: 0.0172\n",
            "Epoch 8/100\n",
            "43/43 [==============================] - 1s 32ms/step - loss: 0.0140 - val_loss: 0.0164\n",
            "Epoch 9/100\n",
            "43/43 [==============================] - 1s 25ms/step - loss: 0.0137 - val_loss: 0.0166\n",
            "Epoch 10/100\n",
            "43/43 [==============================] - 1s 25ms/step - loss: 0.0141 - val_loss: 0.0203\n",
            "Epoch 11/100\n",
            "43/43 [==============================] - 1s 26ms/step - loss: 0.0137 - val_loss: 0.0166\n",
            "Epoch 12/100\n",
            "43/43 [==============================] - 1s 21ms/step - loss: 0.0136 - val_loss: 0.0168\n",
            "Epoch 13/100\n",
            "43/43 [==============================] - 1s 17ms/step - loss: 0.0136 - val_loss: 0.0164\n",
            "Epoch 14/100\n",
            "43/43 [==============================] - 1s 18ms/step - loss: 0.0138 - val_loss: 0.0172\n",
            "Epoch 15/100\n",
            "43/43 [==============================] - 1s 18ms/step - loss: 0.0137 - val_loss: 0.0185\n",
            "Epoch 16/100\n",
            "43/43 [==============================] - 1s 18ms/step - loss: 0.0137 - val_loss: 0.0181\n",
            "Epoch 17/100\n",
            "43/43 [==============================] - 1s 18ms/step - loss: 0.0135 - val_loss: 0.0169\n",
            "Epoch 18/100\n",
            "43/43 [==============================] - 1s 18ms/step - loss: 0.0134 - val_loss: 0.0174\n"
          ]
        }
      ],
      "source": [
        "early_stopping = EarlyStopping(monitor='val_loss', patience=10, restore_best_weights=True)\n",
        "\n",
        "history = model.fit(X_train, y_train, epochs=100, batch_size=32, validation_split=0.2, callbacks=[early_stopping])\n"
      ]
    },
    {
      "cell_type": "code",
      "execution_count": 44,
      "metadata": {
        "colab": {
          "base_uri": "https://localhost:8080/"
        },
        "id": "KXqwNufMC-Jl",
        "outputId": "3310a845-facc-4f51-dc10-9c62b0c49ca0"
      },
      "outputs": [
        {
          "name": "stdout",
          "output_type": "stream",
          "text": [
            "6/6 [==============================] - 0s 6ms/step\n"
          ]
        }
      ],
      "source": [
        "y_pred = model.predict(X_test)"
      ]
    },
    {
      "cell_type": "code",
      "execution_count": 45,
      "metadata": {
        "id": "To71rTWfC-Jl"
      },
      "outputs": [],
      "source": [
        "y_pred_inverse = scaler.inverse_transform(y_pred)\n",
        "y_test_inverse = scaler.inverse_transform(y_test.reshape(-1, 1))"
      ]
    },
    {
      "cell_type": "code",
      "execution_count": 46,
      "metadata": {
        "colab": {
          "base_uri": "https://localhost:8080/"
        },
        "id": "Ni7Ujl2GC-Jl",
        "outputId": "85335b39-0f36-4c2e-f930-f8d2c5d67b9c"
      },
      "outputs": [
        {
          "name": "stdout",
          "output_type": "stream",
          "text": [
            "Mean Squared Error: 0.025495939608901775\n"
          ]
        }
      ],
      "source": [
        "mse = np.mean((y_pred_inverse - y_test_inverse) ** 2)\n",
        "print('Mean Squared Error:', mse)"
      ]
    },
    {
      "cell_type": "code",
      "execution_count": 47,
      "metadata": {
        "colab": {
          "base_uri": "https://localhost:8080/"
        },
        "id": "RrvEvHTaC-Jl",
        "outputId": "695b2bd3-c479-4562-8699-d62413a19943"
      },
      "outputs": [
        {
          "name": "stdout",
          "output_type": "stream",
          "text": [
            "Predicting with input shape: (1, 30)\n",
            "1/1 [==============================] - 0s 23ms/step\n",
            "Predicting with input shape: (1, 30)\n",
            "1/1 [==============================] - 0s 23ms/step\n",
            "Predicting with input shape: (1, 30)\n",
            "1/1 [==============================] - 0s 22ms/step\n",
            "Predicting with input shape: (1, 30)\n",
            "1/1 [==============================] - 0s 23ms/step\n",
            "Predicting with input shape: (1, 30)\n",
            "1/1 [==============================] - 0s 22ms/step\n",
            "Predicting with input shape: (1, 30)\n",
            "1/1 [==============================] - 0s 25ms/step\n",
            "Predicting with input shape: (1, 30)\n",
            "1/1 [==============================] - 0s 23ms/step\n",
            "Predicting with input shape: (1, 30)\n",
            "1/1 [==============================] - 0s 22ms/step\n",
            "Predicting with input shape: (1, 30)\n",
            "1/1 [==============================] - 0s 22ms/step\n",
            "Predicting with input shape: (1, 30)\n",
            "1/1 [==============================] - 0s 26ms/step\n",
            "Predicting with input shape: (1, 30)\n",
            "1/1 [==============================] - 0s 24ms/step\n",
            "Predicting with input shape: (1, 30)\n",
            "1/1 [==============================] - 0s 38ms/step\n",
            "Predicting with input shape: (1, 30)\n",
            "1/1 [==============================] - 0s 23ms/step\n",
            "Predicting with input shape: (1, 30)\n",
            "1/1 [==============================] - 0s 25ms/step\n",
            "Predicting with input shape: (1, 30)\n",
            "1/1 [==============================] - 0s 23ms/step\n",
            "Predicting with input shape: (1, 30)\n",
            "1/1 [==============================] - 0s 21ms/step\n",
            "Predicting with input shape: (1, 30)\n",
            "1/1 [==============================] - 0s 22ms/step\n",
            "Predicting with input shape: (1, 30)\n",
            "1/1 [==============================] - 0s 25ms/step\n",
            "Predicting with input shape: (1, 30)\n",
            "1/1 [==============================] - 0s 22ms/step\n",
            "Predicting with input shape: (1, 30)\n",
            "1/1 [==============================] - 0s 22ms/step\n",
            "Predicting with input shape: (1, 30)\n",
            "1/1 [==============================] - 0s 28ms/step\n",
            "Predicting with input shape: (1, 30)\n",
            "1/1 [==============================] - 0s 31ms/step\n",
            "Predicting with input shape: (1, 30)\n",
            "1/1 [==============================] - 0s 23ms/step\n",
            "Predicting with input shape: (1, 30)\n",
            "1/1 [==============================] - 0s 22ms/step\n",
            "Predicting with input shape: (1, 30)\n",
            "1/1 [==============================] - 0s 25ms/step\n",
            "Predicting with input shape: (1, 30)\n",
            "1/1 [==============================] - 0s 23ms/step\n",
            "Predicting with input shape: (1, 30)\n",
            "1/1 [==============================] - 0s 23ms/step\n",
            "Predicting with input shape: (1, 30)\n",
            "1/1 [==============================] - 0s 24ms/step\n",
            "Predicting with input shape: (1, 30)\n",
            "1/1 [==============================] - 0s 25ms/step\n",
            "Predicting with input shape: (1, 30)\n",
            "1/1 [==============================] - 0s 22ms/step\n"
          ]
        }
      ],
      "source": [
        "last_sequence = data['pm25'].values[-SEQ_LENGTH:]\n",
        "next_30_days = []\n",
        "\n",
        "for _ in range(30):\n",
        "    last_sequence_reshaped = last_sequence.reshape(1, SEQ_LENGTH)\n",
        "    print(f'Predicting with input shape: {last_sequence_reshaped.shape}')\n",
        "    pred = model.predict(last_sequence_reshaped)\n",
        "    next_30_days.append(pred[0, 0])\n",
        "    last_sequence = np.append(last_sequence[1:], pred)"
      ]
    },
    {
      "cell_type": "code",
      "execution_count": 48,
      "metadata": {
        "colab": {
          "base_uri": "https://localhost:8080/",
          "height": 487
        },
        "id": "NbVMA--pC-Jm",
        "outputId": "9f028ad5-f5e7-4e62-acaf-daa11a9d685f"
      },
      "outputs": [
        {
          "data": {
            "image/png": "[encoded data removed]",
            "text/plain": [
              "<Figure size 1000x500 with 1 Axes>"
            ]
          },
          "metadata": {},
          "output_type": "display_data"
        }
      ],
      "source": [
        "import matplotlib.pyplot as plt\n",
        "# Convert the predictions back to the original scale\n",
        "scaler.fit(data['pm25'].values.reshape(-1, 1))\n",
        "next_30_days_original_scale = scaler.inverse_transform(np.array(next_30_days).reshape(-1, 1))\n",
        "\n",
        "# Plot the predictions in the original scale\n",
        "plt.figure(figsize=(10, 5))\n",
        "plt.plot(next_30_days_original_scale)\n",
        "plt.title('Predicted PM2.5 Values for the Next 30 Days (Original Scale)')\n",
        "plt.xlabel('Days')\n",
        "plt.ylabel('Predicted PM2.5 Value')\n",
        "plt.show()"
      ]
    },
    {
      "cell_type": "code",
      "execution_count": null,
      "metadata": {
        "id": "L5AOactSC-Jm"
      },
      "outputs": [],
      "source": []
    }
  ],
  "metadata": {
    "colab": {
      "provenance": []
    },
    "kernelspec": {
      "display_name": "base",
      "language": "python",
      "name": "python3"
    },
    "language_info": {
      "codemirror_mode": {
        "name": "ipython",
        "version": 3
      },
      "file_extension": ".py",
      "mimetype": "text/x-python",
      "name": "python",
      "nbconvert_exporter": "python",
      "pygments_lexer": "ipython3",
      "version": "3.11.7"
    }
  },
  "nbformat": 4,
  "nbformat_minor": 0
}
