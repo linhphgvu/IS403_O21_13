{
  "cells": [
    {
      "cell_type": "code",
      "execution_count": 15,
      "metadata": {
        "id": "k-xN0PdsC-Ji"
      },
      "outputs": [],
      "source": [
        "import pandas as pd\n",
        "import numpy as np\n",
        "import tensorflow as tf\n",
        "from sklearn.preprocessing import MinMaxScaler\n",
        "from tensorflow.keras.models import Sequential\n",
        "from tensorflow.keras.layers import GRU, Dense\n",
        "from tensorflow.keras.callbacks import EarlyStopping"
      ]
    },
    {
      "cell_type": "code",
      "source": [
        "from google.colab import drive\n",
        "drive.mount('/content/drive')"
      ],
      "metadata": {
        "colab": {
          "base_uri": "https://localhost:8080/"
        },
        "id": "xL4flBl1DAg-",
        "outputId": "a1e160f1-c916-4304-fd9f-a85949c7136c"
      },
      "execution_count": 16,
      "outputs": [
        {
          "output_type": "stream",
          "name": "stdout",
          "text": [
            "Drive already mounted at /content/drive; to attempt to forcibly remount, call drive.mount(\"/content/drive\", force_remount=True).\n"
          ]
        }
      ]
    },
    {
      "cell_type": "code",
      "execution_count": 35,
      "metadata": {
        "id": "oaMzbG30C-Jj"
      },
      "outputs": [],
      "source": [
        "data = pd.read_csv('/content/drive/My Drive/data/hanoi_quality.csv', index_col='date')"
      ]
    },
    {
      "cell_type": "code",
      "source": [
        "data.head()"
      ],
      "metadata": {
        "colab": {
          "base_uri": "https://localhost:8080/",
          "height": 238
        },
        "id": "YjxMcG3eGRTQ",
        "outputId": "a4e0fa49-acad-4c0b-b671-2735c731318e"
      },
      "execution_count": 38,
      "outputs": [
        {
          "output_type": "execute_result",
          "data": {
            "text/plain": [
              "              pm25  pm10  o3  no2  so2  co\n",
              "date                                      \n",
              "3/1/2019  0.344186     1  15   36    7   7\n",
              "3/2/2019  0.534884    64   4   28    3   5\n",
              "3/3/2019  0.037209    64   1   22   16   5\n",
              "3/4/2019  0.539535    56  13   22   14   6\n",
              "3/5/2019  0.000000    34  15   21    6   6"
            ],
            "text/html": [
              "\n",
              "  <div id=\"df-3299f69b-cd51-413b-82b9-0153c5100ba9\" class=\"colab-df-container\">\n",
              "    <div>\n",
              "<style scoped>\n",
              "    .dataframe tbody tr th:only-of-type {\n",
              "        vertical-align: middle;\n",
              "    }\n",
              "\n",
              "    .dataframe tbody tr th {\n",
              "        vertical-align: top;\n",
              "    }\n",
              "\n",
              "    .dataframe thead th {\n",
              "        text-align: right;\n",
              "    }\n",
              "</style>\n",
              "<table border=\"1\" class=\"dataframe\">\n",
              "  <thead>\n",
              "    <tr style=\"text-align: right;\">\n",
              "      <th></th>\n",
              "      <th>pm25</th>\n",
              "      <th>pm10</th>\n",
              "      <th>o3</th>\n",
              "      <th>no2</th>\n",
              "      <th>so2</th>\n",
              "      <th>co</th>\n",
              "    </tr>\n",
              "    <tr>\n",
              "      <th>date</th>\n",
              "      <th></th>\n",
              "      <th></th>\n",
              "      <th></th>\n",
              "      <th></th>\n",
              "      <th></th>\n",
              "      <th></th>\n",
              "    </tr>\n",
              "  </thead>\n",
              "  <tbody>\n",
              "    <tr>\n",
              "      <th>3/1/2019</th>\n",
              "      <td>0.344186</td>\n",
              "      <td>1</td>\n",
              "      <td>15</td>\n",
              "      <td>36</td>\n",
              "      <td>7</td>\n",
              "      <td>7</td>\n",
              "    </tr>\n",
              "    <tr>\n",
              "      <th>3/2/2019</th>\n",
              "      <td>0.534884</td>\n",
              "      <td>64</td>\n",
              "      <td>4</td>\n",
              "      <td>28</td>\n",
              "      <td>3</td>\n",
              "      <td>5</td>\n",
              "    </tr>\n",
              "    <tr>\n",
              "      <th>3/3/2019</th>\n",
              "      <td>0.037209</td>\n",
              "      <td>64</td>\n",
              "      <td>1</td>\n",
              "      <td>22</td>\n",
              "      <td>16</td>\n",
              "      <td>5</td>\n",
              "    </tr>\n",
              "    <tr>\n",
              "      <th>3/4/2019</th>\n",
              "      <td>0.539535</td>\n",
              "      <td>56</td>\n",
              "      <td>13</td>\n",
              "      <td>22</td>\n",
              "      <td>14</td>\n",
              "      <td>6</td>\n",
              "    </tr>\n",
              "    <tr>\n",
              "      <th>3/5/2019</th>\n",
              "      <td>0.000000</td>\n",
              "      <td>34</td>\n",
              "      <td>15</td>\n",
              "      <td>21</td>\n",
              "      <td>6</td>\n",
              "      <td>6</td>\n",
              "    </tr>\n",
              "  </tbody>\n",
              "</table>\n",
              "</div>\n",
              "    <div class=\"colab-df-buttons\">\n",
              "\n",
              "  <div class=\"colab-df-container\">\n",
              "    <button class=\"colab-df-convert\" onclick=\"convertToInteractive('df-3299f69b-cd51-413b-82b9-0153c5100ba9')\"\n",
              "            title=\"Convert this dataframe to an interactive table.\"\n",
              "            style=\"display:none;\">\n",
              "\n",
              "  <svg xmlns=\"http://www.w3.org/2000/svg\" height=\"24px\" viewBox=\"0 -960 960 960\">\n",
              "    <path d=\"M120-120v-720h720v720H120Zm60-500h600v-160H180v160Zm220 220h160v-160H400v160Zm0 220h160v-160H400v160ZM180-400h160v-160H180v160Zm440 0h160v-160H620v160ZM180-180h160v-160H180v160Zm440 0h160v-160H620v160Z\"/>\n",
              "  </svg>\n",
              "    </button>\n",
              "\n",
              "  <style>\n",
              "    .colab-df-container {\n",
              "      display:flex;\n",
              "      gap: 12px;\n",
              "    }\n",
              "\n",
              "    .colab-df-convert {\n",
              "      background-color: #E8F0FE;\n",
              "      border: none;\n",
              "      border-radius: 50%;\n",
              "      cursor: pointer;\n",
              "      display: none;\n",
              "      fill: #1967D2;\n",
              "      height: 32px;\n",
              "      padding: 0 0 0 0;\n",
              "      width: 32px;\n",
              "    }\n",
              "\n",
              "    .colab-df-convert:hover {\n",
              "      background-color: #E2EBFA;\n",
              "      box-shadow: 0px 1px 2px rgba(60, 64, 67, 0.3), 0px 1px 3px 1px rgba(60, 64, 67, 0.15);\n",
              "      fill: #174EA6;\n",
              "    }\n",
              "\n",
              "    .colab-df-buttons div {\n",
              "      margin-bottom: 4px;\n",
              "    }\n",
              "\n",
              "    [theme=dark] .colab-df-convert {\n",
              "      background-color: #3B4455;\n",
              "      fill: #D2E3FC;\n",
              "    }\n",
              "\n",
              "    [theme=dark] .colab-df-convert:hover {\n",
              "      background-color: #434B5C;\n",
              "      box-shadow: 0px 1px 3px 1px rgba(0, 0, 0, 0.15);\n",
              "      filter: drop-shadow(0px 1px 2px rgba(0, 0, 0, 0.3));\n",
              "      fill: #FFFFFF;\n",
              "    }\n",
              "  </style>\n",
              "\n",
              "    <script>\n",
              "      const buttonEl =\n",
              "        document.querySelector('#df-3299f69b-cd51-413b-82b9-0153c5100ba9 button.colab-df-convert');\n",
              "      buttonEl.style.display =\n",
              "        google.colab.kernel.accessAllowed ? 'block' : 'none';\n",
              "\n",
              "      async function convertToInteractive(key) {\n",
              "        const element = document.querySelector('#df-3299f69b-cd51-413b-82b9-0153c5100ba9');\n",
              "        const dataTable =\n",
              "          await google.colab.kernel.invokeFunction('convertToInteractive',\n",
              "                                                    [key], {});\n",
              "        if (!dataTable) return;\n",
              "\n",
              "        const docLinkHtml = 'Like what you see? Visit the ' +\n",
              "          '<a target=\"_blank\" href=https://colab.research.google.com/notebooks/data_table.ipynb>data table notebook</a>'\n",
              "          + ' to learn more about interactive tables.';\n",
              "        element.innerHTML = '';\n",
              "        dataTable['output_type'] = 'display_data';\n",
              "        await google.colab.output.renderOutput(dataTable, element);\n",
              "        const docLink = document.createElement('div');\n",
              "        docLink.innerHTML = docLinkHtml;\n",
              "        element.appendChild(docLink);\n",
              "      }\n",
              "    </script>\n",
              "  </div>\n",
              "\n",
              "\n",
              "<div id=\"df-985d01f9-aa6e-4b3e-ad0b-abb8892c6bd4\">\n",
              "  <button class=\"colab-df-quickchart\" onclick=\"quickchart('df-985d01f9-aa6e-4b3e-ad0b-abb8892c6bd4')\"\n",
              "            title=\"Suggest charts\"\n",
              "            style=\"display:none;\">\n",
              "\n",
              "<svg xmlns=\"http://www.w3.org/2000/svg\" height=\"24px\"viewBox=\"0 0 24 24\"\n",
              "     width=\"24px\">\n",
              "    <g>\n",
              "        <path d=\"M19 3H5c-1.1 0-2 .9-2 2v14c0 1.1.9 2 2 2h14c1.1 0 2-.9 2-2V5c0-1.1-.9-2-2-2zM9 17H7v-7h2v7zm4 0h-2V7h2v10zm4 0h-2v-4h2v4z\"/>\n",
              "    </g>\n",
              "</svg>\n",
              "  </button>\n",
              "\n",
              "<style>\n",
              "  .colab-df-quickchart {\n",
              "      --bg-color: #E8F0FE;\n",
              "      --fill-color: #1967D2;\n",
              "      --hover-bg-color: #E2EBFA;\n",
              "      --hover-fill-color: #174EA6;\n",
              "      --disabled-fill-color: #AAA;\n",
              "      --disabled-bg-color: #DDD;\n",
              "  }\n",
              "\n",
              "  [theme=dark] .colab-df-quickchart {\n",
              "      --bg-color: #3B4455;\n",
              "      --fill-color: #D2E3FC;\n",
              "      --hover-bg-color: #434B5C;\n",
              "      --hover-fill-color: #FFFFFF;\n",
              "      --disabled-bg-color: #3B4455;\n",
              "      --disabled-fill-color: #666;\n",
              "  }\n",
              "\n",
              "  .colab-df-quickchart {\n",
              "    background-color: var(--bg-color);\n",
              "    border: none;\n",
              "    border-radius: 50%;\n",
              "    cursor: pointer;\n",
              "    display: none;\n",
              "    fill: var(--fill-color);\n",
              "    height: 32px;\n",
              "    padding: 0;\n",
              "    width: 32px;\n",
              "  }\n",
              "\n",
              "  .colab-df-quickchart:hover {\n",
              "    background-color: var(--hover-bg-color);\n",
              "    box-shadow: 0 1px 2px rgba(60, 64, 67, 0.3), 0 1px 3px 1px rgba(60, 64, 67, 0.15);\n",
              "    fill: var(--button-hover-fill-color);\n",
              "  }\n",
              "\n",
              "  .colab-df-quickchart-complete:disabled,\n",
              "  .colab-df-quickchart-complete:disabled:hover {\n",
              "    background-color: var(--disabled-bg-color);\n",
              "    fill: var(--disabled-fill-color);\n",
              "    box-shadow: none;\n",
              "  }\n",
              "\n",
              "  .colab-df-spinner {\n",
              "    border: 2px solid var(--fill-color);\n",
              "    border-color: transparent;\n",
              "    border-bottom-color: var(--fill-color);\n",
              "    animation:\n",
              "      spin 1s steps(1) infinite;\n",
              "  }\n",
              "\n",
              "  @keyframes spin {\n",
              "    0% {\n",
              "      border-color: transparent;\n",
              "      border-bottom-color: var(--fill-color);\n",
              "      border-left-color: var(--fill-color);\n",
              "    }\n",
              "    20% {\n",
              "      border-color: transparent;\n",
              "      border-left-color: var(--fill-color);\n",
              "      border-top-color: var(--fill-color);\n",
              "    }\n",
              "    30% {\n",
              "      border-color: transparent;\n",
              "      border-left-color: var(--fill-color);\n",
              "      border-top-color: var(--fill-color);\n",
              "      border-right-color: var(--fill-color);\n",
              "    }\n",
              "    40% {\n",
              "      border-color: transparent;\n",
              "      border-right-color: var(--fill-color);\n",
              "      border-top-color: var(--fill-color);\n",
              "    }\n",
              "    60% {\n",
              "      border-color: transparent;\n",
              "      border-right-color: var(--fill-color);\n",
              "    }\n",
              "    80% {\n",
              "      border-color: transparent;\n",
              "      border-right-color: var(--fill-color);\n",
              "      border-bottom-color: var(--fill-color);\n",
              "    }\n",
              "    90% {\n",
              "      border-color: transparent;\n",
              "      border-bottom-color: var(--fill-color);\n",
              "    }\n",
              "  }\n",
              "</style>\n",
              "\n",
              "  <script>\n",
              "    async function quickchart(key) {\n",
              "      const quickchartButtonEl =\n",
              "        document.querySelector('#' + key + ' button');\n",
              "      quickchartButtonEl.disabled = true;  // To prevent multiple clicks.\n",
              "      quickchartButtonEl.classList.add('colab-df-spinner');\n",
              "      try {\n",
              "        const charts = await google.colab.kernel.invokeFunction(\n",
              "            'suggestCharts', [key], {});\n",
              "      } catch (error) {\n",
              "        console.error('Error during call to suggestCharts:', error);\n",
              "      }\n",
              "      quickchartButtonEl.classList.remove('colab-df-spinner');\n",
              "      quickchartButtonEl.classList.add('colab-df-quickchart-complete');\n",
              "    }\n",
              "    (() => {\n",
              "      let quickchartButtonEl =\n",
              "        document.querySelector('#df-985d01f9-aa6e-4b3e-ad0b-abb8892c6bd4 button');\n",
              "      quickchartButtonEl.style.display =\n",
              "        google.colab.kernel.accessAllowed ? 'block' : 'none';\n",
              "    })();\n",
              "  </script>\n",
              "</div>\n",
              "\n",
              "    </div>\n",
              "  </div>\n"
            ],
            "application/vnd.google.colaboratory.intrinsic+json": {
              "type": "dataframe",
              "variable_name": "data",
              "summary": "{\n  \"name\": \"data\",\n  \"rows\": 1920,\n  \"fields\": [\n    {\n      \"column\": \"date\",\n      \"properties\": {\n        \"dtype\": \"object\",\n        \"num_unique_values\": 1920,\n        \"samples\": [\n          \"11/23/2021\",\n          \"8/8/2023\",\n          \"11/1/2020\"\n        ],\n        \"semantic_type\": \"\",\n        \"description\": \"\"\n      }\n    },\n    {\n      \"column\": \"pm25\",\n      \"properties\": {\n        \"dtype\": \"number\",\n        \"std\": 0.18725680555031385,\n        \"min\": 0.0,\n        \"max\": 1.0,\n        \"num_unique_values\": 181,\n        \"samples\": [\n          0.25116279069767444,\n          0.05581395348837209,\n          0.5023255813953489\n        ],\n        \"semantic_type\": \"\",\n        \"description\": \"\"\n      }\n    },\n    {\n      \"column\": \"pm10\",\n      \"properties\": {\n        \"dtype\": \"number\",\n        \"std\": 21,\n        \"min\": 1,\n        \"max\": 121,\n        \"num_unique_values\": 110,\n        \"samples\": [\n          61,\n          52,\n          20\n        ],\n        \"semantic_type\": \"\",\n        \"description\": \"\"\n      }\n    },\n    {\n      \"column\": \"o3\",\n      \"properties\": {\n        \"dtype\": \"number\",\n        \"std\": 16,\n        \"min\": 1,\n        \"max\": 441,\n        \"num_unique_values\": 77,\n        \"samples\": [\n          31,\n          37,\n          20\n        ],\n        \"semantic_type\": \"\",\n        \"description\": \"\"\n      }\n    },\n    {\n      \"column\": \"no2\",\n      \"properties\": {\n        \"dtype\": \"number\",\n        \"std\": 10,\n        \"min\": 1,\n        \"max\": 53,\n        \"num_unique_values\": 51,\n        \"samples\": [\n          42,\n          38,\n          43\n        ],\n        \"semantic_type\": \"\",\n        \"description\": \"\"\n      }\n    },\n    {\n      \"column\": \"so2\",\n      \"properties\": {\n        \"dtype\": \"number\",\n        \"std\": 6,\n        \"min\": 1,\n        \"max\": 43,\n        \"num_unique_values\": 39,\n        \"samples\": [\n          40,\n          37,\n          6\n        ],\n        \"semantic_type\": \"\",\n        \"description\": \"\"\n      }\n    },\n    {\n      \"column\": \"co\",\n      \"properties\": {\n        \"dtype\": \"number\",\n        \"std\": 2,\n        \"min\": 1,\n        \"max\": 21,\n        \"num_unique_values\": 20,\n        \"samples\": [\n          7,\n          20,\n          17\n        ],\n        \"semantic_type\": \"\",\n        \"description\": \"\"\n      }\n    }\n  ]\n}"
            }
          },
          "metadata": {},
          "execution_count": 38
        }
      ]
    },
    {
      "cell_type": "code",
      "execution_count": 39,
      "metadata": {
        "id": "4-XHxJj4C-Jj"
      },
      "outputs": [],
      "source": [
        "scaler = MinMaxScaler(feature_range=(0, 1))\n",
        "data['pm25'] = scaler.fit_transform(data[['pm25']])"
      ]
    },
    {
      "cell_type": "code",
      "execution_count": 40,
      "metadata": {
        "id": "GkcAdQPiC-Jj"
      },
      "outputs": [],
      "source": [
        "def create_sequences(data, seq_length):\n",
        "    xs = []\n",
        "    ys = []\n",
        "    for i in range(len(data) - seq_length):\n",
        "        x = data[i:i+seq_length]\n",
        "        y = data[i+seq_length]\n",
        "        xs.append(x)\n",
        "        ys.append(y)\n",
        "    return np.array(xs), np.array(ys)\n",
        "\n",
        "SEQ_LENGTH = 30\n",
        "X, y = create_sequences(data['pm25'].values, SEQ_LENGTH)"
      ]
    },
    {
      "cell_type": "code",
      "execution_count": 49,
      "metadata": {
        "id": "c-d14KLWC-Jk"
      },
      "outputs": [],
      "source": [
        "split = int(len(X) * 0.8)\n",
        "X_train, X_test = X[:split], X[split:]\n",
        "y_train, y_test = y[:split], y[split:]"
      ]
    },
    {
      "cell_type": "code",
      "execution_count": 50,
      "metadata": {
        "id": "NpCEgtZnC-Jk"
      },
      "outputs": [],
      "source": [
        "model = Sequential()\n",
        "model.add(GRU(50, return_sequences=False, input_shape=(SEQ_LENGTH, 1)))\n",
        "model.add(Dense(1))\n",
        "\n",
        "model.compile(optimizer='adam', loss='mean_squared_error')"
      ]
    },
    {
      "cell_type": "code",
      "execution_count": 51,
      "metadata": {
        "colab": {
          "base_uri": "https://localhost:8080/"
        },
        "id": "Mku6-sfuC-Jk",
        "outputId": "3521cd37-d25b-4c90-f991-21506b4fe236"
      },
      "outputs": [
        {
          "output_type": "stream",
          "name": "stdout",
          "text": [
            "Epoch 1/100\n",
            "38/38 [==============================] - 4s 44ms/step - loss: 0.0206 - val_loss: 0.0158\n",
            "Epoch 2/100\n",
            "38/38 [==============================] - 1s 24ms/step - loss: 0.0167 - val_loss: 0.0138\n",
            "Epoch 3/100\n",
            "38/38 [==============================] - 1s 21ms/step - loss: 0.0161 - val_loss: 0.0144\n",
            "Epoch 4/100\n",
            "38/38 [==============================] - 1s 17ms/step - loss: 0.0159 - val_loss: 0.0141\n",
            "Epoch 5/100\n",
            "38/38 [==============================] - 1s 17ms/step - loss: 0.0156 - val_loss: 0.0126\n",
            "Epoch 6/100\n",
            "38/38 [==============================] - 1s 27ms/step - loss: 0.0152 - val_loss: 0.0132\n",
            "Epoch 7/100\n",
            "38/38 [==============================] - 1s 33ms/step - loss: 0.0152 - val_loss: 0.0118\n",
            "Epoch 8/100\n",
            "38/38 [==============================] - 1s 17ms/step - loss: 0.0149 - val_loss: 0.0116\n",
            "Epoch 9/100\n",
            "38/38 [==============================] - 1s 17ms/step - loss: 0.0149 - val_loss: 0.0120\n",
            "Epoch 10/100\n",
            "38/38 [==============================] - 1s 16ms/step - loss: 0.0150 - val_loss: 0.0129\n",
            "Epoch 11/100\n",
            "38/38 [==============================] - 1s 17ms/step - loss: 0.0147 - val_loss: 0.0114\n",
            "Epoch 12/100\n",
            "38/38 [==============================] - 1s 17ms/step - loss: 0.0147 - val_loss: 0.0129\n",
            "Epoch 13/100\n",
            "38/38 [==============================] - 1s 16ms/step - loss: 0.0151 - val_loss: 0.0123\n",
            "Epoch 14/100\n",
            "38/38 [==============================] - 1s 17ms/step - loss: 0.0149 - val_loss: 0.0113\n",
            "Epoch 15/100\n",
            "38/38 [==============================] - 1s 17ms/step - loss: 0.0146 - val_loss: 0.0116\n",
            "Epoch 16/100\n",
            "38/38 [==============================] - 1s 16ms/step - loss: 0.0148 - val_loss: 0.0117\n",
            "Epoch 17/100\n",
            "38/38 [==============================] - 1s 21ms/step - loss: 0.0146 - val_loss: 0.0118\n",
            "Epoch 18/100\n",
            "38/38 [==============================] - 1s 23ms/step - loss: 0.0147 - val_loss: 0.0126\n",
            "Epoch 19/100\n",
            "38/38 [==============================] - 1s 24ms/step - loss: 0.0147 - val_loss: 0.0114\n",
            "Epoch 20/100\n",
            "38/38 [==============================] - 1s 25ms/step - loss: 0.0147 - val_loss: 0.0123\n",
            "Epoch 21/100\n",
            "38/38 [==============================] - 1s 27ms/step - loss: 0.0147 - val_loss: 0.0113\n",
            "Epoch 22/100\n",
            "38/38 [==============================] - 1s 22ms/step - loss: 0.0146 - val_loss: 0.0150\n",
            "Epoch 23/100\n",
            "38/38 [==============================] - 1s 17ms/step - loss: 0.0149 - val_loss: 0.0117\n",
            "Epoch 24/100\n",
            "38/38 [==============================] - 1s 18ms/step - loss: 0.0146 - val_loss: 0.0116\n",
            "Epoch 25/100\n",
            "38/38 [==============================] - 1s 18ms/step - loss: 0.0146 - val_loss: 0.0124\n",
            "Epoch 26/100\n",
            "38/38 [==============================] - 1s 17ms/step - loss: 0.0144 - val_loss: 0.0116\n",
            "Epoch 27/100\n",
            "38/38 [==============================] - 1s 17ms/step - loss: 0.0146 - val_loss: 0.0114\n",
            "Epoch 28/100\n",
            "38/38 [==============================] - 1s 17ms/step - loss: 0.0145 - val_loss: 0.0119\n",
            "Epoch 29/100\n",
            "38/38 [==============================] - 1s 17ms/step - loss: 0.0144 - val_loss: 0.0117\n",
            "Epoch 30/100\n",
            "38/38 [==============================] - 1s 17ms/step - loss: 0.0147 - val_loss: 0.0114\n",
            "Epoch 31/100\n",
            "38/38 [==============================] - 1s 17ms/step - loss: 0.0146 - val_loss: 0.0133\n"
          ]
        }
      ],
      "source": [
        "early_stopping = EarlyStopping(monitor='val_loss', patience=10, restore_best_weights=True)\n",
        "\n",
        "history = model.fit(X_train, y_train, epochs=100, batch_size=32, validation_split=0.2, callbacks=[early_stopping])\n"
      ]
    },
    {
      "cell_type": "code",
      "execution_count": 52,
      "metadata": {
        "colab": {
          "base_uri": "https://localhost:8080/"
        },
        "id": "KXqwNufMC-Jl",
        "outputId": "c8d980f0-5959-4a7f-f66d-715728b82765"
      },
      "outputs": [
        {
          "output_type": "stream",
          "name": "stdout",
          "text": [
            "12/12 [==============================] - 1s 7ms/step\n"
          ]
        }
      ],
      "source": [
        "y_pred = model.predict(X_test)"
      ]
    },
    {
      "cell_type": "code",
      "execution_count": 53,
      "metadata": {
        "id": "To71rTWfC-Jl"
      },
      "outputs": [],
      "source": [
        "y_pred_inverse = scaler.inverse_transform(y_pred)\n",
        "y_test_inverse = scaler.inverse_transform(y_test.reshape(-1, 1))"
      ]
    },
    {
      "cell_type": "code",
      "execution_count": 54,
      "metadata": {
        "colab": {
          "base_uri": "https://localhost:8080/"
        },
        "id": "Ni7Ujl2GC-Jl",
        "outputId": "99a8011e-2282-4de6-def8-651db31b7259"
      },
      "outputs": [
        {
          "output_type": "stream",
          "name": "stdout",
          "text": [
            "Mean Squared Error: 0.020889885870346032\n"
          ]
        }
      ],
      "source": [
        "mse = np.mean((y_pred_inverse - y_test_inverse) ** 2)\n",
        "print('Mean Squared Error:', mse)"
      ]
    },
    {
      "cell_type": "code",
      "execution_count": 55,
      "metadata": {
        "colab": {
          "base_uri": "https://localhost:8080/"
        },
        "id": "RrvEvHTaC-Jl",
        "outputId": "1bf4a6d9-1e9b-40cf-d0fa-9c092326901f"
      },
      "outputs": [
        {
          "output_type": "stream",
          "name": "stdout",
          "text": [
            "Predicting with input shape: (1, 30)\n",
            "1/1 [==============================] - 0s 24ms/step\n",
            "Predicting with input shape: (1, 30)\n",
            "1/1 [==============================] - 0s 22ms/step\n",
            "Predicting with input shape: (1, 30)\n",
            "1/1 [==============================] - 0s 24ms/step\n",
            "Predicting with input shape: (1, 30)\n",
            "1/1 [==============================] - 0s 23ms/step\n",
            "Predicting with input shape: (1, 30)\n",
            "1/1 [==============================] - 0s 23ms/step\n",
            "Predicting with input shape: (1, 30)\n",
            "1/1 [==============================] - 0s 22ms/step\n",
            "Predicting with input shape: (1, 30)\n",
            "1/1 [==============================] - 0s 25ms/step\n",
            "Predicting with input shape: (1, 30)\n",
            "1/1 [==============================] - 0s 22ms/step\n",
            "Predicting with input shape: (1, 30)\n",
            "1/1 [==============================] - 0s 21ms/step\n",
            "Predicting with input shape: (1, 30)\n",
            "1/1 [==============================] - 0s 24ms/step\n",
            "Predicting with input shape: (1, 30)\n",
            "1/1 [==============================] - 0s 24ms/step\n",
            "Predicting with input shape: (1, 30)\n",
            "1/1 [==============================] - 0s 23ms/step\n",
            "Predicting with input shape: (1, 30)\n",
            "1/1 [==============================] - 0s 22ms/step\n",
            "Predicting with input shape: (1, 30)\n",
            "1/1 [==============================] - 0s 22ms/step\n",
            "Predicting with input shape: (1, 30)\n",
            "1/1 [==============================] - 0s 23ms/step\n",
            "Predicting with input shape: (1, 30)\n",
            "1/1 [==============================] - 0s 23ms/step\n",
            "Predicting with input shape: (1, 30)\n",
            "1/1 [==============================] - 0s 23ms/step\n",
            "Predicting with input shape: (1, 30)\n",
            "1/1 [==============================] - 0s 22ms/step\n",
            "Predicting with input shape: (1, 30)\n",
            "1/1 [==============================] - 0s 21ms/step\n",
            "Predicting with input shape: (1, 30)\n",
            "1/1 [==============================] - 0s 26ms/step\n",
            "Predicting with input shape: (1, 30)\n",
            "1/1 [==============================] - 0s 23ms/step\n",
            "Predicting with input shape: (1, 30)\n",
            "1/1 [==============================] - 0s 25ms/step\n",
            "Predicting with input shape: (1, 30)\n",
            "1/1 [==============================] - 0s 24ms/step\n",
            "Predicting with input shape: (1, 30)\n",
            "1/1 [==============================] - 0s 24ms/step\n",
            "Predicting with input shape: (1, 30)\n",
            "1/1 [==============================] - 0s 22ms/step\n",
            "Predicting with input shape: (1, 30)\n",
            "1/1 [==============================] - 0s 23ms/step\n",
            "Predicting with input shape: (1, 30)\n",
            "1/1 [==============================] - 0s 21ms/step\n",
            "Predicting with input shape: (1, 30)\n",
            "1/1 [==============================] - 0s 22ms/step\n",
            "Predicting with input shape: (1, 30)\n",
            "1/1 [==============================] - 0s 23ms/step\n",
            "Predicting with input shape: (1, 30)\n",
            "1/1 [==============================] - 0s 23ms/step\n"
          ]
        }
      ],
      "source": [
        "last_sequence = data['pm25'].values[-SEQ_LENGTH:]\n",
        "next_30_days = []\n",
        "\n",
        "for _ in range(30):\n",
        "    last_sequence_reshaped = last_sequence.reshape(1, SEQ_LENGTH)\n",
        "    print(f'Predicting with input shape: {last_sequence_reshaped.shape}')\n",
        "    pred = model.predict(last_sequence_reshaped)\n",
        "    next_30_days.append(pred[0, 0])\n",
        "    last_sequence = np.append(last_sequence[1:], pred)"
      ]
    },
    {
      "cell_type": "code",
      "execution_count": 56,
      "metadata": {
        "colab": {
          "base_uri": "https://localhost:8080/",
          "height": 487
        },
        "id": "NbVMA--pC-Jm",
        "outputId": "579d28f7-1318-4109-8436-0952516f954d"
      },
      "outputs": [
        {
          "output_type": "display_data",
          "data": {
            "text/plain": [
              "<Figure size 1000x500 with 1 Axes>"
            ],
            "image/png": "[encoded data removed]"
          },
          "metadata": {}
        }
      ],
      "source": [
        "import matplotlib.pyplot as plt\n",
        "# Convert the predictions back to the original scale\n",
        "scaler.fit(data['pm25'].values.reshape(-1, 1))\n",
        "next_30_days_original_scale = scaler.inverse_transform(np.array(next_30_days).reshape(-1, 1))\n",
        "\n",
        "# Plot the predictions in the original scale\n",
        "plt.figure(figsize=(10, 5))\n",
        "plt.plot(next_30_days_original_scale)\n",
        "plt.title('Predicted PM2.5 Values for the Next 30 Days (Original Scale)')\n",
        "plt.xlabel('Days')\n",
        "plt.ylabel('Predicted PM2.5 Value')\n",
        "plt.show()"
      ]
    },
    {
      "cell_type": "code",
      "execution_count": null,
      "metadata": {
        "id": "L5AOactSC-Jm"
      },
      "outputs": [],
      "source": []
    }
  ],
  "metadata": {
    "kernelspec": {
      "display_name": "base",
      "language": "python",
      "name": "python3"
    },
    "language_info": {
      "codemirror_mode": {
        "name": "ipython",
        "version": 3
      },
      "file_extension": ".py",
      "mimetype": "text/x-python",
      "name": "python",
      "nbconvert_exporter": "python",
      "pygments_lexer": "ipython3",
      "version": "3.11.7"
    },
    "colab": {
      "provenance": []
    }
  },
  "nbformat": 4,
  "nbformat_minor": 0
}