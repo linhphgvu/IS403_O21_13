{
  "cells": [
    {
      "cell_type": "code",
      "execution_count": 15,
      "metadata": {
        "id": "k-xN0PdsC-Ji"
      },
      "outputs": [],
      "source": [
        "import pandas as pd\n",
        "import numpy as np\n",
        "import tensorflow as tf\n",
        "from sklearn.preprocessing import MinMaxScaler\n",
        "from tensorflow.keras.models import Sequential\n",
        "from tensorflow.keras.layers import GRU, Dense\n",
        "from tensorflow.keras.callbacks import EarlyStopping"
      ]
    },
    {
      "cell_type": "code",
      "source": [
        "from google.colab import drive\n",
        "drive.mount('/content/drive')"
      ],
      "metadata": {
        "colab": {
          "base_uri": "https://localhost:8080/"
        },
        "id": "xL4flBl1DAg-",
        "outputId": "a1e160f1-c916-4304-fd9f-a85949c7136c"
      },
      "execution_count": 16,
      "outputs": [
        {
          "output_type": "stream",
          "name": "stdout",
          "text": [
            "Drive already mounted at /content/drive; to attempt to forcibly remount, call drive.mount(\"/content/drive\", force_remount=True).\n"
          ]
        }
      ]
    },
    {
      "cell_type": "code",
      "execution_count": 3,
      "metadata": {
        "id": "oaMzbG30C-Jj"
      },
      "outputs": [],
      "source": [
        "data = pd.read_csv('/content/drive/My Drive/data/viettri_quality.csv', index_col='date')"
      ]
    },
    {
      "cell_type": "code",
      "execution_count": 17,
      "metadata": {
        "id": "4-XHxJj4C-Jj"
      },
      "outputs": [],
      "source": [
        "scaler = MinMaxScaler(feature_range=(0, 1))\n",
        "data['pm25'] = scaler.fit_transform(data[['pm25']])"
      ]
    },
    {
      "cell_type": "code",
      "execution_count": 18,
      "metadata": {
        "id": "GkcAdQPiC-Jj"
      },
      "outputs": [],
      "source": [
        "def create_sequences(data, seq_length):\n",
        "    xs = []\n",
        "    ys = []\n",
        "    for i in range(len(data) - seq_length):\n",
        "        x = data[i:i+seq_length]\n",
        "        y = data[i+seq_length]\n",
        "        xs.append(x)\n",
        "        ys.append(y)\n",
        "    return np.array(xs), np.array(ys)\n",
        "\n",
        "SEQ_LENGTH = 30\n",
        "X, y = create_sequences(data['pm25'].values, SEQ_LENGTH)"
      ]
    },
    {
      "cell_type": "code",
      "execution_count": 27,
      "metadata": {
        "id": "c-d14KLWC-Jk"
      },
      "outputs": [],
      "source": [
        "split = int(len(X) * 0.9)\n",
        "X_train, X_test = X[:split], X[split:]\n",
        "y_train, y_test = y[:split], y[split:]"
      ]
    },
    {
      "cell_type": "code",
      "execution_count": 28,
      "metadata": {
        "id": "NpCEgtZnC-Jk"
      },
      "outputs": [],
      "source": [
        "model = Sequential()\n",
        "model.add(GRU(50, return_sequences=False, input_shape=(SEQ_LENGTH, 1)))\n",
        "model.add(Dense(1))\n",
        "\n",
        "model.compile(optimizer='adam', loss='mean_squared_error')"
      ]
    },
    {
      "cell_type": "code",
      "execution_count": 29,
      "metadata": {
        "colab": {
          "base_uri": "https://localhost:8080/"
        },
        "id": "Mku6-sfuC-Jk",
        "outputId": "2c7fdb93-090a-4151-c2a5-88ab6eff559b"
      },
      "outputs": [
        {
          "output_type": "stream",
          "name": "stdout",
          "text": [
            "Epoch 1/100\n",
            "43/43 [==============================] - 3s 29ms/step - loss: 0.0253 - val_loss: 0.0178\n",
            "Epoch 2/100\n",
            "43/43 [==============================] - 1s 17ms/step - loss: 0.0222 - val_loss: 0.0176\n",
            "Epoch 3/100\n",
            "43/43 [==============================] - 1s 17ms/step - loss: 0.0221 - val_loss: 0.0174\n",
            "Epoch 4/100\n",
            "43/43 [==============================] - 1s 17ms/step - loss: 0.0221 - val_loss: 0.0173\n",
            "Epoch 5/100\n",
            "43/43 [==============================] - 1s 17ms/step - loss: 0.0219 - val_loss: 0.0172\n",
            "Epoch 6/100\n",
            "43/43 [==============================] - 1s 17ms/step - loss: 0.0219 - val_loss: 0.0172\n",
            "Epoch 7/100\n",
            "43/43 [==============================] - 1s 17ms/step - loss: 0.0218 - val_loss: 0.0171\n",
            "Epoch 8/100\n",
            "43/43 [==============================] - 1s 16ms/step - loss: 0.0218 - val_loss: 0.0169\n",
            "Epoch 9/100\n",
            "43/43 [==============================] - 1s 17ms/step - loss: 0.0218 - val_loss: 0.0170\n",
            "Epoch 10/100\n",
            "43/43 [==============================] - 1s 17ms/step - loss: 0.0218 - val_loss: 0.0168\n",
            "Epoch 11/100\n",
            "43/43 [==============================] - 1s 24ms/step - loss: 0.0220 - val_loss: 0.0184\n",
            "Epoch 12/100\n",
            "43/43 [==============================] - 1s 25ms/step - loss: 0.0218 - val_loss: 0.0169\n",
            "Epoch 13/100\n",
            "43/43 [==============================] - 1s 27ms/step - loss: 0.0218 - val_loss: 0.0169\n",
            "Epoch 14/100\n",
            "43/43 [==============================] - 1s 26ms/step - loss: 0.0217 - val_loss: 0.0168\n",
            "Epoch 15/100\n",
            "43/43 [==============================] - 1s 23ms/step - loss: 0.0216 - val_loss: 0.0167\n",
            "Epoch 16/100\n",
            "43/43 [==============================] - 1s 17ms/step - loss: 0.0217 - val_loss: 0.0169\n",
            "Epoch 17/100\n",
            "43/43 [==============================] - 1s 17ms/step - loss: 0.0217 - val_loss: 0.0171\n",
            "Epoch 18/100\n",
            "43/43 [==============================] - 1s 17ms/step - loss: 0.0219 - val_loss: 0.0167\n",
            "Epoch 19/100\n",
            "43/43 [==============================] - 1s 17ms/step - loss: 0.0217 - val_loss: 0.0167\n",
            "Epoch 20/100\n",
            "43/43 [==============================] - 1s 17ms/step - loss: 0.0216 - val_loss: 0.0167\n",
            "Epoch 21/100\n",
            "43/43 [==============================] - 1s 17ms/step - loss: 0.0216 - val_loss: 0.0167\n",
            "Epoch 22/100\n",
            "43/43 [==============================] - 1s 17ms/step - loss: 0.0215 - val_loss: 0.0166\n",
            "Epoch 23/100\n",
            "43/43 [==============================] - 1s 17ms/step - loss: 0.0216 - val_loss: 0.0167\n",
            "Epoch 24/100\n",
            "43/43 [==============================] - 1s 17ms/step - loss: 0.0220 - val_loss: 0.0168\n",
            "Epoch 25/100\n",
            "43/43 [==============================] - 1s 17ms/step - loss: 0.0215 - val_loss: 0.0171\n",
            "Epoch 26/100\n",
            "43/43 [==============================] - 1s 17ms/step - loss: 0.0214 - val_loss: 0.0166\n",
            "Epoch 27/100\n",
            "43/43 [==============================] - 1s 17ms/step - loss: 0.0218 - val_loss: 0.0177\n",
            "Epoch 28/100\n",
            "43/43 [==============================] - 1s 17ms/step - loss: 0.0215 - val_loss: 0.0169\n",
            "Epoch 29/100\n",
            "43/43 [==============================] - 1s 23ms/step - loss: 0.0216 - val_loss: 0.0167\n",
            "Epoch 30/100\n",
            "43/43 [==============================] - 1s 26ms/step - loss: 0.0216 - val_loss: 0.0167\n",
            "Epoch 31/100\n",
            "43/43 [==============================] - 1s 25ms/step - loss: 0.0216 - val_loss: 0.0168\n",
            "Epoch 32/100\n",
            "43/43 [==============================] - 1s 27ms/step - loss: 0.0215 - val_loss: 0.0167\n",
            "Epoch 33/100\n",
            "43/43 [==============================] - 1s 23ms/step - loss: 0.0218 - val_loss: 0.0167\n",
            "Epoch 34/100\n",
            "43/43 [==============================] - 1s 17ms/step - loss: 0.0215 - val_loss: 0.0166\n",
            "Epoch 35/100\n",
            "43/43 [==============================] - 1s 17ms/step - loss: 0.0214 - val_loss: 0.0168\n",
            "Epoch 36/100\n",
            "43/43 [==============================] - 1s 17ms/step - loss: 0.0219 - val_loss: 0.0175\n"
          ]
        }
      ],
      "source": [
        "early_stopping = EarlyStopping(monitor='val_loss', patience=10, restore_best_weights=True)\n",
        "\n",
        "history = model.fit(X_train, y_train, epochs=100, batch_size=32, validation_split=0.2, callbacks=[early_stopping])\n"
      ]
    },
    {
      "cell_type": "code",
      "execution_count": 30,
      "metadata": {
        "colab": {
          "base_uri": "https://localhost:8080/"
        },
        "id": "KXqwNufMC-Jl",
        "outputId": "a50dedde-8438-48dc-cadf-49643d723892"
      },
      "outputs": [
        {
          "output_type": "stream",
          "name": "stdout",
          "text": [
            "6/6 [==============================] - 0s 6ms/step\n"
          ]
        }
      ],
      "source": [
        "y_pred = model.predict(X_test)"
      ]
    },
    {
      "cell_type": "code",
      "execution_count": 31,
      "metadata": {
        "id": "To71rTWfC-Jl"
      },
      "outputs": [],
      "source": [
        "y_pred_inverse = scaler.inverse_transform(y_pred)\n",
        "y_test_inverse = scaler.inverse_transform(y_test.reshape(-1, 1))"
      ]
    },
    {
      "cell_type": "code",
      "execution_count": 32,
      "metadata": {
        "colab": {
          "base_uri": "https://localhost:8080/"
        },
        "id": "Ni7Ujl2GC-Jl",
        "outputId": "3497abae-54fa-4020-8b3d-ff3e0f3d3973"
      },
      "outputs": [
        {
          "output_type": "stream",
          "name": "stdout",
          "text": [
            "Mean Squared Error: 0.01330108634719002\n"
          ]
        }
      ],
      "source": [
        "mse = np.mean((y_pred_inverse - y_test_inverse) ** 2)\n",
        "print('Mean Squared Error:', mse)"
      ]
    },
    {
      "cell_type": "code",
      "execution_count": 33,
      "metadata": {
        "colab": {
          "base_uri": "https://localhost:8080/"
        },
        "id": "RrvEvHTaC-Jl",
        "outputId": "1feea1e8-8500-41bd-c0b5-c5ab098f49e5"
      },
      "outputs": [
        {
          "output_type": "stream",
          "name": "stdout",
          "text": [
            "Predicting with input shape: (1, 30)\n",
            "1/1 [==============================] - 0s 24ms/step\n",
            "Predicting with input shape: (1, 30)\n",
            "1/1 [==============================] - 0s 22ms/step\n",
            "Predicting with input shape: (1, 30)\n",
            "1/1 [==============================] - 0s 23ms/step\n",
            "Predicting with input shape: (1, 30)\n",
            "1/1 [==============================] - 0s 36ms/step\n",
            "Predicting with input shape: (1, 30)\n",
            "1/1 [==============================] - 0s 35ms/step\n",
            "Predicting with input shape: (1, 30)\n",
            "1/1 [==============================] - 0s 32ms/step\n",
            "Predicting with input shape: (1, 30)\n",
            "1/1 [==============================] - 0s 31ms/step\n",
            "Predicting with input shape: (1, 30)\n",
            "1/1 [==============================] - 0s 38ms/step\n",
            "Predicting with input shape: (1, 30)\n",
            "1/1 [==============================] - 0s 34ms/step\n",
            "Predicting with input shape: (1, 30)\n",
            "1/1 [==============================] - 0s 37ms/step\n",
            "Predicting with input shape: (1, 30)\n",
            "1/1 [==============================] - 0s 42ms/step\n",
            "Predicting with input shape: (1, 30)\n",
            "1/1 [==============================] - 0s 38ms/step\n",
            "Predicting with input shape: (1, 30)\n",
            "1/1 [==============================] - 0s 39ms/step\n",
            "Predicting with input shape: (1, 30)\n",
            "1/1 [==============================] - 0s 32ms/step\n",
            "Predicting with input shape: (1, 30)\n",
            "1/1 [==============================] - 0s 42ms/step\n",
            "Predicting with input shape: (1, 30)\n",
            "1/1 [==============================] - 0s 34ms/step\n",
            "Predicting with input shape: (1, 30)\n",
            "1/1 [==============================] - 0s 31ms/step\n",
            "Predicting with input shape: (1, 30)\n",
            "1/1 [==============================] - 0s 34ms/step\n",
            "Predicting with input shape: (1, 30)\n",
            "1/1 [==============================] - 0s 36ms/step\n",
            "Predicting with input shape: (1, 30)\n",
            "1/1 [==============================] - 0s 33ms/step\n",
            "Predicting with input shape: (1, 30)\n",
            "1/1 [==============================] - 0s 32ms/step\n",
            "Predicting with input shape: (1, 30)\n",
            "1/1 [==============================] - 0s 39ms/step\n",
            "Predicting with input shape: (1, 30)\n",
            "1/1 [==============================] - 0s 34ms/step\n",
            "Predicting with input shape: (1, 30)\n",
            "1/1 [==============================] - 0s 36ms/step\n",
            "Predicting with input shape: (1, 30)\n",
            "1/1 [==============================] - 0s 32ms/step\n",
            "Predicting with input shape: (1, 30)\n",
            "1/1 [==============================] - 0s 43ms/step\n",
            "Predicting with input shape: (1, 30)\n",
            "1/1 [==============================] - 0s 40ms/step\n",
            "Predicting with input shape: (1, 30)\n",
            "1/1 [==============================] - 0s 36ms/step\n",
            "Predicting with input shape: (1, 30)\n",
            "1/1 [==============================] - 0s 41ms/step\n",
            "Predicting with input shape: (1, 30)\n",
            "1/1 [==============================] - 0s 38ms/step\n"
          ]
        }
      ],
      "source": [
        "last_sequence = data['pm25'].values[-SEQ_LENGTH:]\n",
        "next_30_days = []\n",
        "\n",
        "for _ in range(30):\n",
        "    last_sequence_reshaped = last_sequence.reshape(1, SEQ_LENGTH)\n",
        "    print(f'Predicting with input shape: {last_sequence_reshaped.shape}')\n",
        "    pred = model.predict(last_sequence_reshaped)\n",
        "    next_30_days.append(pred[0, 0])\n",
        "    last_sequence = np.append(last_sequence[1:], pred)"
      ]
    },
    {
      "cell_type": "code",
      "execution_count": 34,
      "metadata": {
        "colab": {
          "base_uri": "https://localhost:8080/",
          "height": 487
        },
        "id": "NbVMA--pC-Jm",
        "outputId": "81277ed6-c656-41f4-9923-2b214ea9e5f8"
      },
      "outputs": [
        {
          "output_type": "display_data",
          "data": {
            "text/plain": [
              "<Figure size 1000x500 with 1 Axes>"
            ],
            "image/png": "[encoded data removed]"
          },
          "metadata": {}
        }
      ],
      "source": [
        "import matplotlib.pyplot as plt\n",
        "# Convert the predictions back to the original scale\n",
        "scaler.fit(data['pm25'].values.reshape(-1, 1))\n",
        "next_30_days_original_scale = scaler.inverse_transform(np.array(next_30_days).reshape(-1, 1))\n",
        "\n",
        "# Plot the predictions in the original scale\n",
        "plt.figure(figsize=(10, 5))\n",
        "plt.plot(next_30_days_original_scale)\n",
        "plt.title('Predicted PM2.5 Values for the Next 30 Days (Original Scale)')\n",
        "plt.xlabel('Days')\n",
        "plt.ylabel('Predicted PM2.5 Value')\n",
        "plt.show()"
      ]
    },
    {
      "cell_type": "code",
      "execution_count": null,
      "metadata": {
        "id": "L5AOactSC-Jm"
      },
      "outputs": [],
      "source": []
    }
  ],
  "metadata": {
    "kernelspec": {
      "display_name": "base",
      "language": "python",
      "name": "python3"
    },
    "language_info": {
      "codemirror_mode": {
        "name": "ipython",
        "version": 3
      },
      "file_extension": ".py",
      "mimetype": "text/x-python",
      "name": "python",
      "nbconvert_exporter": "python",
      "pygments_lexer": "ipython3",
      "version": "3.11.7"
    },
    "colab": {
      "provenance": []
    }
  },
  "nbformat": 4,
  "nbformat_minor": 0
}