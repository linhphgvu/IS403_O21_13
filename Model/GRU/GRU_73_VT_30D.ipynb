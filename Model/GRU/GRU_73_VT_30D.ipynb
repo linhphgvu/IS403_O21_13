{
  "cells": [
    {
      "cell_type": "code",
      "execution_count": 15,
      "metadata": {
        "id": "k-xN0PdsC-Ji"
      },
      "outputs": [],
      "source": [
        "import pandas as pd\n",
        "import numpy as np\n",
        "import tensorflow as tf\n",
        "from sklearn.preprocessing import MinMaxScaler\n",
        "from tensorflow.keras.models import Sequential\n",
        "from tensorflow.keras.layers import GRU, Dense\n",
        "from tensorflow.keras.callbacks import EarlyStopping"
      ]
    },
    {
      "cell_type": "code",
      "source": [
        "from google.colab import drive\n",
        "drive.mount('/content/drive')"
      ],
      "metadata": {
        "colab": {
          "base_uri": "https://localhost:8080/"
        },
        "id": "xL4flBl1DAg-",
        "outputId": "a1e160f1-c916-4304-fd9f-a85949c7136c"
      },
      "execution_count": 16,
      "outputs": [
        {
          "output_type": "stream",
          "name": "stdout",
          "text": [
            "Drive already mounted at /content/drive; to attempt to forcibly remount, call drive.mount(\"/content/drive\", force_remount=True).\n"
          ]
        }
      ]
    },
    {
      "cell_type": "code",
      "execution_count": 3,
      "metadata": {
        "id": "oaMzbG30C-Jj"
      },
      "outputs": [],
      "source": [
        "data = pd.read_csv('/content/drive/My Drive/data/viettri_quality.csv', index_col='date')"
      ]
    },
    {
      "cell_type": "code",
      "execution_count": 17,
      "metadata": {
        "id": "4-XHxJj4C-Jj"
      },
      "outputs": [],
      "source": [
        "scaler = MinMaxScaler(feature_range=(0, 1))\n",
        "data['pm25'] = scaler.fit_transform(data[['pm25']])"
      ]
    },
    {
      "cell_type": "code",
      "execution_count": 18,
      "metadata": {
        "id": "GkcAdQPiC-Jj"
      },
      "outputs": [],
      "source": [
        "def create_sequences(data, seq_length):\n",
        "    xs = []\n",
        "    ys = []\n",
        "    for i in range(len(data) - seq_length):\n",
        "        x = data[i:i+seq_length]\n",
        "        y = data[i+seq_length]\n",
        "        xs.append(x)\n",
        "        ys.append(y)\n",
        "    return np.array(xs), np.array(ys)\n",
        "\n",
        "SEQ_LENGTH = 30\n",
        "X, y = create_sequences(data['pm25'].values, SEQ_LENGTH)"
      ]
    },
    {
      "cell_type": "code",
      "execution_count": 19,
      "metadata": {
        "id": "c-d14KLWC-Jk"
      },
      "outputs": [],
      "source": [
        "split = int(len(X) * 0.7)\n",
        "X_train, X_test = X[:split], X[split:]\n",
        "y_train, y_test = y[:split], y[split:]"
      ]
    },
    {
      "cell_type": "code",
      "execution_count": 20,
      "metadata": {
        "id": "NpCEgtZnC-Jk"
      },
      "outputs": [],
      "source": [
        "model = Sequential()\n",
        "model.add(GRU(50, return_sequences=False, input_shape=(SEQ_LENGTH, 1)))\n",
        "model.add(Dense(1))\n",
        "\n",
        "model.compile(optimizer='adam', loss='mean_squared_error')"
      ]
    },
    {
      "cell_type": "code",
      "execution_count": 21,
      "metadata": {
        "colab": {
          "base_uri": "https://localhost:8080/"
        },
        "id": "Mku6-sfuC-Jk",
        "outputId": "02ed0796-19dd-47d9-8951-688f90e9689a"
      },
      "outputs": [
        {
          "output_type": "stream",
          "name": "stdout",
          "text": [
            "Epoch 1/100\n",
            "34/34 [==============================] - 3s 31ms/step - loss: 0.0301 - val_loss: 0.0405\n",
            "Epoch 2/100\n",
            "34/34 [==============================] - 1s 17ms/step - loss: 0.0192 - val_loss: 0.0391\n",
            "Epoch 3/100\n",
            "34/34 [==============================] - 1s 17ms/step - loss: 0.0179 - val_loss: 0.0393\n",
            "Epoch 4/100\n",
            "34/34 [==============================] - 1s 17ms/step - loss: 0.0175 - val_loss: 0.0402\n",
            "Epoch 5/100\n",
            "34/34 [==============================] - 1s 22ms/step - loss: 0.0175 - val_loss: 0.0400\n",
            "Epoch 6/100\n",
            "34/34 [==============================] - 1s 24ms/step - loss: 0.0173 - val_loss: 0.0398\n",
            "Epoch 7/100\n",
            "34/34 [==============================] - 1s 24ms/step - loss: 0.0175 - val_loss: 0.0400\n",
            "Epoch 8/100\n",
            "34/34 [==============================] - 1s 24ms/step - loss: 0.0176 - val_loss: 0.0401\n",
            "Epoch 9/100\n",
            "34/34 [==============================] - 1s 26ms/step - loss: 0.0170 - val_loss: 0.0405\n",
            "Epoch 10/100\n",
            "34/34 [==============================] - 1s 24ms/step - loss: 0.0169 - val_loss: 0.0403\n",
            "Epoch 11/100\n",
            "34/34 [==============================] - 1s 23ms/step - loss: 0.0168 - val_loss: 0.0412\n",
            "Epoch 12/100\n",
            "34/34 [==============================] - 1s 17ms/step - loss: 0.0173 - val_loss: 0.0405\n"
          ]
        }
      ],
      "source": [
        "early_stopping = EarlyStopping(monitor='val_loss', patience=10, restore_best_weights=True)\n",
        "\n",
        "history = model.fit(X_train, y_train, epochs=100, batch_size=32, validation_split=0.2, callbacks=[early_stopping])\n"
      ]
    },
    {
      "cell_type": "code",
      "execution_count": 22,
      "metadata": {
        "colab": {
          "base_uri": "https://localhost:8080/"
        },
        "id": "KXqwNufMC-Jl",
        "outputId": "692fbe35-8c7d-4d80-f0bb-3fee5d791d44"
      },
      "outputs": [
        {
          "output_type": "stream",
          "name": "stdout",
          "text": [
            "18/18 [==============================] - 1s 8ms/step\n"
          ]
        }
      ],
      "source": [
        "y_pred = model.predict(X_test)"
      ]
    },
    {
      "cell_type": "code",
      "execution_count": 23,
      "metadata": {
        "id": "To71rTWfC-Jl"
      },
      "outputs": [],
      "source": [
        "y_pred_inverse = scaler.inverse_transform(y_pred)\n",
        "y_test_inverse = scaler.inverse_transform(y_test.reshape(-1, 1))"
      ]
    },
    {
      "cell_type": "code",
      "execution_count": 24,
      "metadata": {
        "colab": {
          "base_uri": "https://localhost:8080/"
        },
        "id": "Ni7Ujl2GC-Jl",
        "outputId": "af9c197b-11e1-4688-f358-808f54f5b3d6"
      },
      "outputs": [
        {
          "output_type": "stream",
          "name": "stdout",
          "text": [
            "Mean Squared Error: 0.018154925213879663\n"
          ]
        }
      ],
      "source": [
        "mse = np.mean((y_pred_inverse - y_test_inverse) ** 2)\n",
        "print('Mean Squared Error:', mse)"
      ]
    },
    {
      "cell_type": "code",
      "execution_count": 25,
      "metadata": {
        "colab": {
          "base_uri": "https://localhost:8080/"
        },
        "id": "RrvEvHTaC-Jl",
        "outputId": "9dd094d4-6322-4d4a-9d1b-c50433cd3c94"
      },
      "outputs": [
        {
          "output_type": "stream",
          "name": "stdout",
          "text": [
            "Predicting with input shape: (1, 30)\n",
            "1/1 [==============================] - 0s 29ms/step\n",
            "Predicting with input shape: (1, 30)\n",
            "1/1 [==============================] - 0s 34ms/step\n",
            "Predicting with input shape: (1, 30)\n",
            "1/1 [==============================] - 0s 21ms/step\n",
            "Predicting with input shape: (1, 30)\n",
            "1/1 [==============================] - 0s 27ms/step\n",
            "Predicting with input shape: (1, 30)\n",
            "1/1 [==============================] - 0s 22ms/step\n",
            "Predicting with input shape: (1, 30)\n",
            "1/1 [==============================] - 0s 29ms/step\n",
            "Predicting with input shape: (1, 30)\n",
            "1/1 [==============================] - 0s 21ms/step\n",
            "Predicting with input shape: (1, 30)\n",
            "1/1 [==============================] - 0s 21ms/step\n",
            "Predicting with input shape: (1, 30)\n",
            "1/1 [==============================] - 0s 22ms/step\n",
            "Predicting with input shape: (1, 30)\n",
            "1/1 [==============================] - 0s 23ms/step\n",
            "Predicting with input shape: (1, 30)\n",
            "1/1 [==============================] - 0s 22ms/step\n",
            "Predicting with input shape: (1, 30)\n",
            "1/1 [==============================] - 0s 22ms/step\n",
            "Predicting with input shape: (1, 30)\n",
            "1/1 [==============================] - 0s 22ms/step\n",
            "Predicting with input shape: (1, 30)\n",
            "1/1 [==============================] - 0s 23ms/step\n",
            "Predicting with input shape: (1, 30)\n",
            "1/1 [==============================] - 0s 22ms/step\n",
            "Predicting with input shape: (1, 30)\n",
            "1/1 [==============================] - 0s 26ms/step\n",
            "Predicting with input shape: (1, 30)\n",
            "1/1 [==============================] - 0s 23ms/step\n",
            "Predicting with input shape: (1, 30)\n",
            "1/1 [==============================] - 0s 23ms/step\n",
            "Predicting with input shape: (1, 30)\n",
            "1/1 [==============================] - 0s 26ms/step\n",
            "Predicting with input shape: (1, 30)\n",
            "1/1 [==============================] - 0s 22ms/step\n",
            "Predicting with input shape: (1, 30)\n",
            "1/1 [==============================] - 0s 22ms/step\n",
            "Predicting with input shape: (1, 30)\n",
            "1/1 [==============================] - 0s 25ms/step\n",
            "Predicting with input shape: (1, 30)\n",
            "1/1 [==============================] - 0s 22ms/step\n",
            "Predicting with input shape: (1, 30)\n",
            "1/1 [==============================] - 0s 25ms/step\n",
            "Predicting with input shape: (1, 30)\n",
            "1/1 [==============================] - 0s 22ms/step\n",
            "Predicting with input shape: (1, 30)\n",
            "1/1 [==============================] - 0s 23ms/step\n",
            "Predicting with input shape: (1, 30)\n",
            "1/1 [==============================] - 0s 23ms/step\n",
            "Predicting with input shape: (1, 30)\n",
            "1/1 [==============================] - 0s 23ms/step\n",
            "Predicting with input shape: (1, 30)\n",
            "1/1 [==============================] - 0s 26ms/step\n",
            "Predicting with input shape: (1, 30)\n",
            "1/1 [==============================] - 0s 22ms/step\n"
          ]
        }
      ],
      "source": [
        "last_sequence = data['pm25'].values[-SEQ_LENGTH:]\n",
        "next_30_days = []\n",
        "\n",
        "for _ in range(30):\n",
        "    last_sequence_reshaped = last_sequence.reshape(1, SEQ_LENGTH)\n",
        "    print(f'Predicting with input shape: {last_sequence_reshaped.shape}')\n",
        "    pred = model.predict(last_sequence_reshaped)\n",
        "    next_30_days.append(pred[0, 0])\n",
        "    last_sequence = np.append(last_sequence[1:], pred)"
      ]
    },
    {
      "cell_type": "code",
      "execution_count": 26,
      "metadata": {
        "colab": {
          "base_uri": "https://localhost:8080/",
          "height": 487
        },
        "id": "NbVMA--pC-Jm",
        "outputId": "b1fe22ff-28ed-4b67-dd89-024e3f954b2d"
      },
      "outputs": [
        {
          "output_type": "display_data",
          "data": {
            "text/plain": [
              "<Figure size 1000x500 with 1 Axes>"
            ],
            "image/png": "[encoded data removed]"
          },
          "metadata": {}
        }
      ],
      "source": [
        "import matplotlib.pyplot as plt\n",
        "# Convert the predictions back to the original scale\n",
        "scaler.fit(data['pm25'].values.reshape(-1, 1))\n",
        "next_30_days_original_scale = scaler.inverse_transform(np.array(next_30_days).reshape(-1, 1))\n",
        "\n",
        "# Plot the predictions in the original scale\n",
        "plt.figure(figsize=(10, 5))\n",
        "plt.plot(next_30_days_original_scale)\n",
        "plt.title('Predicted PM2.5 Values for the Next 30 Days (Original Scale)')\n",
        "plt.xlabel('Days')\n",
        "plt.ylabel('Predicted PM2.5 Value')\n",
        "plt.show()"
      ]
    },
    {
      "cell_type": "code",
      "execution_count": null,
      "metadata": {
        "id": "L5AOactSC-Jm"
      },
      "outputs": [],
      "source": []
    }
  ],
  "metadata": {
    "kernelspec": {
      "display_name": "base",
      "language": "python",
      "name": "python3"
    },
    "language_info": {
      "codemirror_mode": {
        "name": "ipython",
        "version": 3
      },
      "file_extension": ".py",
      "mimetype": "text/x-python",
      "name": "python",
      "nbconvert_exporter": "python",
      "pygments_lexer": "ipython3",
      "version": "3.11.7"
    },
    "colab": {
      "provenance": []
    }
  },
  "nbformat": 4,
  "nbformat_minor": 0
}